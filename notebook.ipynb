{
 "cells": [
  {
   "cell_type": "code",
   "execution_count": 1,
   "metadata": {},
   "outputs": [],
   "source": [
    "import pandas as pd\n",
    "import matplotlib.pyplot as plt\n",
    "import numpy as np\n",
    "import tensorflow as tf\n",
    "import optuna\n",
    "import lightgbm as lgb\n",
    "\n",
    "from tensorflow.keras.models import Sequential\n",
    "from tensorflow.keras.layers import Dense\n",
    "from tensorflow.keras.initializers import GlorotUniform\n",
    "\n",
    "\n",
    "from sklearn.preprocessing import StandardScaler\n",
    "from sklearn.decomposition import PCA\n",
    "from sklearn.linear_model import LinearRegression\n",
    "from sklearn.tree import DecisionTreeRegressor\n",
    "from sklearn.ensemble import RandomForestRegressor\n",
    "from sklearn.model_selection import train_test_split, cross_val_score\n",
    "\n",
    "from sklearn.metrics import (\n",
    "    mean_absolute_error,\n",
    "    mean_squared_error,\n",
    "    r2_score,\n",
    ")"
   ]
  },
  {
   "cell_type": "code",
   "execution_count": 2,
   "metadata": {},
   "outputs": [],
   "source": [
    "def load_data(file_path):\n",
    "    with open(file_path) as f:\n",
    "        df = pd.read_csv(f)\n",
    "        return df\n",
    "\n",
    "\n",
    "train_df, val_df = train_test_split(\n",
    "    load_data(\"train.csv\"), test_size=0.2, random_state=42\n",
    ")\n",
    "\n",
    "test_df = load_data(\"test.csv\")"
   ]
  },
  {
   "cell_type": "code",
   "execution_count": 3,
   "metadata": {},
   "outputs": [
    {
     "name": "stdout",
     "output_type": "stream",
     "text": [
      "Numerical features length: 38\n",
      "Categorical features lenght: 43\n"
     ]
    }
   ],
   "source": [
    "numerical_features = train_df.select_dtypes(include=[\"int64\", \"float64\"]).columns\n",
    "categorical_features = train_df.select_dtypes(include=[\"object\"]).columns\n",
    "\n",
    "print(f\"Numerical features length: {len(numerical_features)}\")\n",
    "print(f\"Categorical features lenght: {len(categorical_features)}\")"
   ]
  },
  {
   "cell_type": "markdown",
   "metadata": {},
   "source": [
    "# Problem\n",
    "\n",
    "We havea a dataset with real estate data, and our goal is to create a model which predicts the Sale Price of a house based on its characteristics. A secondary objective is to determine which characteristics most significantly influence it.\n"
   ]
  },
  {
   "cell_type": "markdown",
   "metadata": {},
   "source": [
    "## Variables\n"
   ]
  },
  {
   "cell_type": "markdown",
   "metadata": {},
   "source": [
    "We have 80 variables, with a mix of variable types.\n",
    "\n",
    "Our **Target Variable** is `SalePrice` which is a continuous variable\n"
   ]
  },
  {
   "cell_type": "markdown",
   "metadata": {},
   "source": [
    "### Recap\n"
   ]
  },
  {
   "cell_type": "markdown",
   "metadata": {},
   "source": [
    "#### Variable types\n",
    "\n",
    "- Ordinal Variables\n",
    "\n",
    "  - OverallQual (overall material and finish of the house)\n",
    "  - OverallCond (overall condition of the house)\n",
    "\n",
    "- Categorical Variables:\n",
    "\n",
    "  - MSZoning (zone)\n",
    "  - Street (type of road access)\n",
    "  - SaleCondition (condition of sale)\n",
    "  - Alley (type of alley access to the house, if any)\n",
    "\n",
    "- Numerical Variables\n",
    "\n",
    "  - Discrete:\n",
    "\n",
    "    - BedroomAbvGr (number of bedrooms above ground level)\n",
    "    - FullBath (number of bathrooms)\n",
    "    - GarageCars (size of garage in car capacity.)\n",
    "\n",
    "  - Continuous:\n",
    "    - LotFrontage (linear feet of street connected to the property)\n",
    "    - LotArea (lot size in square feet)\n",
    "    - SalePrice (sale price of the property)\n"
   ]
  },
  {
   "cell_type": "markdown",
   "metadata": {},
   "source": [
    "# Evaluating and Preparing the dataset\n"
   ]
  },
  {
   "cell_type": "code",
   "execution_count": 4,
   "metadata": {},
   "outputs": [
    {
     "name": "stdout",
     "output_type": "stream",
     "text": [
      "        Id  MSSubClass MSZoning  LotFrontage  LotArea Street Alley LotShape  \\\n",
      "254    255          20       RL         70.0     8400   Pave   NaN      Reg   \n",
      "1066  1067          60       RL         59.0     7837   Pave   NaN      IR1   \n",
      "638    639          30       RL         67.0     8777   Pave   NaN      Reg   \n",
      "799    800          50       RL         60.0     7200   Pave   NaN      Reg   \n",
      "380    381          50       RL         50.0     5000   Pave  Pave      Reg   \n",
      "\n",
      "     LandContour Utilities  ... PoolArea PoolQC  Fence MiscFeature MiscVal  \\\n",
      "254          Lvl    AllPub  ...        0    NaN    NaN         NaN       0   \n",
      "1066         Lvl    AllPub  ...        0    NaN    NaN         NaN       0   \n",
      "638          Lvl    AllPub  ...        0    NaN  MnPrv         NaN       0   \n",
      "799          Lvl    AllPub  ...        0    NaN  MnPrv         NaN       0   \n",
      "380          Lvl    AllPub  ...        0    NaN    NaN         NaN       0   \n",
      "\n",
      "     MoSold YrSold  SaleType  SaleCondition  SalePrice  \n",
      "254       6   2010        WD         Normal     145000  \n",
      "1066      5   2009        WD         Normal     178000  \n",
      "638       5   2008        WD         Normal      85000  \n",
      "799       6   2007        WD         Normal     175000  \n",
      "380       5   2010        WD         Normal     127000  \n",
      "\n",
      "[5 rows x 81 columns]\n"
     ]
    }
   ],
   "source": [
    "print(train_df.head())"
   ]
  },
  {
   "cell_type": "markdown",
   "metadata": {},
   "source": [
    "### Check for missing values\n"
   ]
  },
  {
   "cell_type": "code",
   "execution_count": 5,
   "metadata": {},
   "outputs": [
    {
     "name": "stdout",
     "output_type": "stream",
     "text": [
      "Data Shape: (1168, 81)\n",
      "\n",
      "Missing Values:\n",
      " PoolQC          1162\n",
      "MiscFeature     1122\n",
      "Alley           1094\n",
      "Fence            935\n",
      "FireplaceQu      547\n",
      "LotFrontage      217\n",
      "GarageYrBlt       64\n",
      "GarageCond        64\n",
      "GarageType        64\n",
      "GarageFinish      64\n",
      "GarageQual        64\n",
      "BsmtQual          28\n",
      "BsmtCond          28\n",
      "BsmtFinType2      28\n",
      "BsmtFinType1      28\n",
      "BsmtExposure      28\n",
      "MasVnrArea         6\n",
      "MasVnrType         6\n",
      "Electrical         1\n",
      "Id                 0\n",
      "dtype: int64\n",
      "\n",
      "Basic Statistics:\n",
      "                 Id   MSSubClass  LotFrontage        LotArea  OverallQual  \\\n",
      "count  1168.000000  1168.000000   951.000000    1168.000000  1168.000000   \n",
      "mean    730.904966    56.849315    70.343849   10689.642123     6.121575   \n",
      "std     425.369088    42.531862    24.897021   10759.366198     1.367619   \n",
      "min       1.000000    20.000000    21.000000    1300.000000     1.000000   \n",
      "25%     360.750000    20.000000    59.000000    7587.250000     5.000000   \n",
      "50%     732.500000    50.000000    70.000000    9600.000000     6.000000   \n",
      "75%    1101.750000    70.000000    80.000000   11700.000000     7.000000   \n",
      "max    1460.000000   190.000000   313.000000  215245.000000    10.000000   \n",
      "\n",
      "       OverallCond    YearBuilt  YearRemodAdd   MasVnrArea   BsmtFinSF1  ...  \\\n",
      "count  1168.000000  1168.000000   1168.000000  1162.000000  1168.000000  ...   \n",
      "mean      5.584760  1970.965753   1984.897260   103.771945   446.023973  ...   \n",
      "std       1.116062    30.675495     20.733955   173.032238   459.070977  ...   \n",
      "min       1.000000  1872.000000   1950.000000     0.000000     0.000000  ...   \n",
      "25%       5.000000  1953.000000   1966.000000     0.000000     0.000000  ...   \n",
      "50%       5.000000  1972.000000   1994.000000     0.000000   384.500000  ...   \n",
      "75%       6.000000  2001.000000   2004.000000   166.000000   721.000000  ...   \n",
      "max       9.000000  2010.000000   2010.000000  1378.000000  5644.000000  ...   \n",
      "\n",
      "        WoodDeckSF  OpenPorchSF  EnclosedPorch    3SsnPorch  ScreenPorch  \\\n",
      "count  1168.000000  1168.000000    1168.000000  1168.000000  1168.000000   \n",
      "mean     95.946918    49.578767      21.839041     3.812500    15.407534   \n",
      "std     129.685939    69.433580      62.083227    31.519664    55.881148   \n",
      "min       0.000000     0.000000       0.000000     0.000000     0.000000   \n",
      "25%       0.000000     0.000000       0.000000     0.000000     0.000000   \n",
      "50%       0.000000    27.000000       0.000000     0.000000     0.000000   \n",
      "75%     168.000000    74.000000       0.000000     0.000000     0.000000   \n",
      "max     857.000000   547.000000     552.000000   508.000000   480.000000   \n",
      "\n",
      "          PoolArea       MiscVal       MoSold       YrSold      SalePrice  \n",
      "count  1168.000000   1168.000000  1168.000000  1168.000000    1168.000000  \n",
      "mean      2.955479     51.267123     6.356164  2007.818493  181441.541952  \n",
      "std      41.648504    553.039684     2.670707     1.322639   77263.583862  \n",
      "min       0.000000      0.000000     1.000000  2006.000000   34900.000000  \n",
      "25%       0.000000      0.000000     5.000000  2007.000000  130000.000000  \n",
      "50%       0.000000      0.000000     6.000000  2008.000000  165000.000000  \n",
      "75%       0.000000      0.000000     8.000000  2009.000000  214925.000000  \n",
      "max     738.000000  15500.000000    12.000000  2010.000000  745000.000000  \n",
      "\n",
      "[8 rows x 38 columns]\n"
     ]
    }
   ],
   "source": [
    "def summarize_data(df):\n",
    "    print(\"Data Shape:\", df.shape)\n",
    "    # print the first 20 value missing values in descending order\n",
    "    print(\"\\nMissing Values:\\n\", df.isnull().sum().sort_values(ascending=False)[:20])\n",
    "    print(\"\\nBasic Statistics:\\n\", df.describe())\n",
    "\n",
    "\n",
    "summarize_data(train_df)\n",
    "# summarize_data(test_df)"
   ]
  },
  {
   "cell_type": "code",
   "execution_count": 6,
   "metadata": {},
   "outputs": [
    {
     "data": {
      "text/plain": [
       "array([[<Axes: title={'center': 'Id'}>,\n",
       "        <Axes: title={'center': 'MSSubClass'}>,\n",
       "        <Axes: title={'center': 'LotFrontage'}>,\n",
       "        <Axes: title={'center': 'LotArea'}>,\n",
       "        <Axes: title={'center': 'OverallQual'}>,\n",
       "        <Axes: title={'center': 'OverallCond'}>],\n",
       "       [<Axes: title={'center': 'YearBuilt'}>,\n",
       "        <Axes: title={'center': 'YearRemodAdd'}>,\n",
       "        <Axes: title={'center': 'MasVnrArea'}>,\n",
       "        <Axes: title={'center': 'BsmtFinSF1'}>,\n",
       "        <Axes: title={'center': 'BsmtFinSF2'}>,\n",
       "        <Axes: title={'center': 'BsmtUnfSF'}>],\n",
       "       [<Axes: title={'center': 'TotalBsmtSF'}>,\n",
       "        <Axes: title={'center': '1stFlrSF'}>,\n",
       "        <Axes: title={'center': '2ndFlrSF'}>,\n",
       "        <Axes: title={'center': 'LowQualFinSF'}>,\n",
       "        <Axes: title={'center': 'GrLivArea'}>,\n",
       "        <Axes: title={'center': 'BsmtFullBath'}>],\n",
       "       [<Axes: title={'center': 'BsmtHalfBath'}>,\n",
       "        <Axes: title={'center': 'FullBath'}>,\n",
       "        <Axes: title={'center': 'HalfBath'}>,\n",
       "        <Axes: title={'center': 'BedroomAbvGr'}>,\n",
       "        <Axes: title={'center': 'KitchenAbvGr'}>,\n",
       "        <Axes: title={'center': 'TotRmsAbvGrd'}>],\n",
       "       [<Axes: title={'center': 'Fireplaces'}>,\n",
       "        <Axes: title={'center': 'GarageYrBlt'}>,\n",
       "        <Axes: title={'center': 'GarageCars'}>,\n",
       "        <Axes: title={'center': 'GarageArea'}>,\n",
       "        <Axes: title={'center': 'WoodDeckSF'}>,\n",
       "        <Axes: title={'center': 'OpenPorchSF'}>],\n",
       "       [<Axes: title={'center': 'EnclosedPorch'}>,\n",
       "        <Axes: title={'center': '3SsnPorch'}>,\n",
       "        <Axes: title={'center': 'ScreenPorch'}>,\n",
       "        <Axes: title={'center': 'PoolArea'}>,\n",
       "        <Axes: title={'center': 'MiscVal'}>,\n",
       "        <Axes: title={'center': 'MoSold'}>],\n",
       "       [<Axes: title={'center': 'YrSold'}>,\n",
       "        <Axes: title={'center': 'SalePrice'}>, <Axes: >, <Axes: >,\n",
       "        <Axes: >, <Axes: >]], dtype=object)"
      ]
     },
     "execution_count": 6,
     "metadata": {},
     "output_type": "execute_result"
    },
    {
     "data": {
      "image/png": "[encoded data removed]",
      "text/plain": [
       "<Figure size 2000x1500 with 42 Axes>"
      ]
     },
     "metadata": {},
     "output_type": "display_data"
    }
   ],
   "source": [
    "train_df.hist(figsize=(20, 15))"
   ]
  },
  {
   "cell_type": "markdown",
   "metadata": {},
   "source": [
    "## Principal Component Analysis (PCA)\n"
   ]
  },
  {
   "cell_type": "markdown",
   "metadata": {},
   "source": [
    "For the Numerical:\n",
    "\n",
    "- We will remove the rows with missing values in the `MasVnrArea` column. Additionally, we will drop the columns `LotFrontage` and `GarageYrBlt`\n",
    "\n",
    "For the Categorical:\n",
    "\n",
    "- We will drop the columns `Alley`, `PoolQC`, `Fence`, `MiscFeature`, `FireplaceQu`, `GarageType`, `GarageFinish`, `GarageQual`, and `GarageCond` as they have more than 50% of missing values\n"
   ]
  },
  {
   "cell_type": "code",
   "execution_count": 7,
   "metadata": {},
   "outputs": [
    {
     "name": "stdout",
     "output_type": "stream",
     "text": [
      "(1133, 69)\n"
     ]
    }
   ],
   "source": [
    "def handle_missing_data(df, columns_to_drop, threshold=0.5):\n",
    "    df = df.drop(columns=columns_to_drop)\n",
    "    threshold_value = threshold * len(df)\n",
    "    df = df.dropna(thresh=threshold_value, axis=1)\n",
    "\n",
    "    df = df.dropna()\n",
    "    return df\n",
    "\n",
    "\n",
    "missing_values_columns = [\n",
    "    \"Alley\",\n",
    "    \"PoolQC\",\n",
    "    \"Fence\",\n",
    "    \"MiscFeature\",\n",
    "    \"LotFrontage\",\n",
    "    \"GarageYrBlt\",\n",
    "    \"FireplaceQu\",\n",
    "    \"GarageType\",\n",
    "    \"GarageFinish\",\n",
    "    \"GarageQual\",\n",
    "    \"GarageCond\",\n",
    "]\n",
    "\n",
    "train_df = handle_missing_data(train_df, columns_to_drop=missing_values_columns)\n",
    "train_target = train_df[\"SalePrice\"]\n",
    "train_df.drop(columns=[\"SalePrice\"], inplace=True)\n",
    "\n",
    "val_df = handle_missing_data(val_df, columns_to_drop=missing_values_columns)\n",
    "val_target = val_df[\"SalePrice\"]\n",
    "val_df.drop(columns=[\"SalePrice\"], inplace=True)\n",
    "\n",
    "print(train_df.shape)"
   ]
  },
  {
   "cell_type": "markdown",
   "metadata": {},
   "source": [
    "### Numerical Feature Scaling\n"
   ]
  },
  {
   "cell_type": "code",
   "execution_count": 8,
   "metadata": {},
   "outputs": [
    {
     "name": "stdout",
     "output_type": "stream",
     "text": [
      "Index(['Id', 'MSSubClass', 'LotArea', 'OverallQual', 'OverallCond',\n",
      "       'YearBuilt', 'YearRemodAdd', 'MasVnrArea', 'BsmtFinSF1', 'BsmtFinSF2',\n",
      "       'BsmtUnfSF', 'TotalBsmtSF', '1stFlrSF', '2ndFlrSF', 'LowQualFinSF',\n",
      "       'GrLivArea', 'BsmtFullBath', 'BsmtHalfBath', 'FullBath', 'HalfBath',\n",
      "       'BedroomAbvGr', 'KitchenAbvGr', 'TotRmsAbvGrd', 'Fireplaces',\n",
      "       'GarageCars', 'GarageArea', 'WoodDeckSF', 'OpenPorchSF',\n",
      "       'EnclosedPorch', '3SsnPorch', 'ScreenPorch', 'PoolArea', 'MiscVal',\n",
      "       'MoSold', 'YrSold'],\n",
      "      dtype='object')\n",
      "(1133, 69)\n",
      "Index(['Id', 'MSSubClass', 'LotArea', 'OverallQual', 'OverallCond',\n",
      "       'YearBuilt', 'YearRemodAdd', 'MasVnrArea', 'BsmtFinSF1', 'BsmtFinSF2',\n",
      "       'BsmtUnfSF', 'TotalBsmtSF', '1stFlrSF', '2ndFlrSF', 'LowQualFinSF',\n",
      "       'GrLivArea', 'BsmtFullBath', 'BsmtHalfBath', 'FullBath', 'HalfBath',\n",
      "       'BedroomAbvGr', 'KitchenAbvGr', 'TotRmsAbvGrd', 'Fireplaces',\n",
      "       'GarageCars', 'GarageArea', 'WoodDeckSF', 'OpenPorchSF',\n",
      "       'EnclosedPorch', '3SsnPorch', 'ScreenPorch', 'PoolArea', 'MiscVal',\n",
      "       'MoSold', 'YrSold'],\n",
      "      dtype='object')\n",
      "(279, 69)\n",
      "Int64Index([ 254, 1066,  638,  799,  380,  303,   86, 1385,  265,  793,\n",
      "            ...\n",
      "             330, 1238,  466,  121, 1044, 1095, 1130, 1294,  860, 1126],\n",
      "           dtype='int64', length=1133)\n"
     ]
    }
   ],
   "source": [
    "def scale_numerical_features(df):\n",
    "    numerical_cols = df.select_dtypes(include=[\"int64\", \"float64\"]).columns\n",
    "    print(numerical_cols)\n",
    "    scaler = StandardScaler()\n",
    "    df[numerical_cols] = scaler.fit_transform(df[numerical_cols])\n",
    "    print(df.shape)\n",
    "    return df[numerical_cols]\n",
    "\n",
    "\n",
    "scaled_numerical_train_df = scale_numerical_features(train_df)\n",
    "scaled_numerical_val_df = scale_numerical_features(val_df)\n",
    "\n",
    "print(scaled_numerical_train_df.index)"
   ]
  },
  {
   "cell_type": "code",
   "execution_count": 9,
   "metadata": {},
   "outputs": [
    {
     "data": {
      "image/png": "[encoded data removed]",
      "text/plain": [
       "<Figure size 640x480 with 1 Axes>"
      ]
     },
     "metadata": {},
     "output_type": "display_data"
    },
    {
     "name": "stdout",
     "output_type": "stream",
     "text": [
      "Number of Principal Components selected: 25 \n",
      "\n",
      "[0.18730746 0.27985984 0.34481704 0.40181326 0.44341231 0.47795664\n",
      " 0.51130148 0.54335273 0.57454868 0.60542596 0.63587405 0.66475799\n",
      " 0.6935129  0.72154317 0.7488317  0.774383   0.79916683 0.82251619\n",
      " 0.84504526 0.86624826 0.88692869 0.905441   0.92275268 0.93820044\n",
      " 0.95029551] \n",
      "\n",
      "[6.5615525  3.24219469 2.27551047 1.99662992 1.45725312 1.21011968\n",
      " 1.16810032 1.12278448 1.09282279 1.08165957 1.06662469 1.01183086\n",
      " 1.00731097 0.98192598 0.95594249 0.89508555 0.86820024 0.81794942\n",
      " 0.78921424 0.74276051 0.72445421 0.6485035  0.606444   0.54114926\n",
      " 0.42370118] \n",
      "\n",
      "[[-3.88828368e-04 -1.13760166e-02  1.15761460e-01  3.07211293e-01\n",
      "  -8.87404966e-02  2.24151073e-01  1.99663502e-01  2.09215125e-01\n",
      "   1.28785199e-01 -1.04618252e-02  1.25067924e-01  2.72965528e-01\n",
      "   2.74956894e-01  1.44174227e-01 -7.12215096e-03  3.22333246e-01\n",
      "   6.27029499e-02 -2.43388527e-02  2.79388540e-01  1.25273688e-01\n",
      "   1.21746757e-01  5.18841312e-03  2.61386697e-01  1.92866241e-01\n",
      "   2.92466828e-01  2.87369830e-01  1.42154994e-01  1.50812126e-01\n",
      "  -8.09516999e-02  1.67582982e-02  3.92441063e-02  6.61755892e-02\n",
      "  -5.80890576e-03  2.30681673e-02 -1.08072478e-02]\n",
      " [ 2.10236722e-02  1.96768396e-01 -6.64479098e-02 -1.66709949e-02\n",
      "   6.63255889e-02 -1.82344896e-01 -6.22001375e-02 -5.28896735e-02\n",
      "  -3.14633542e-01 -8.49450428e-02  1.19106117e-01 -2.54999933e-01\n",
      "  -2.11113224e-01  4.33530121e-01  1.12889663e-01  2.18117876e-01\n",
      "  -2.93731965e-01 -4.10268813e-03  1.39265222e-01  2.31478254e-01\n",
      "   3.35357017e-01  1.71002804e-01  3.00351209e-01 -1.67106964e-02\n",
      "  -6.87508212e-02 -1.03183855e-01 -7.66400141e-02  4.43234225e-02\n",
      "   1.04485550e-01 -3.66367574e-02  5.97302387e-03  4.26882937e-03\n",
      "   2.07092844e-02  4.55154092e-02 -6.38734545e-02]\n",
      " [ 1.56512371e-02 -3.78583482e-02  2.68400239e-01 -1.46323288e-01\n",
      "   1.65918613e-01 -3.33488686e-01 -2.69631211e-01 -1.14212244e-02\n",
      "   3.27984975e-01  2.09953336e-01 -3.45240327e-01  7.61802435e-02\n",
      "   1.39309467e-01  7.87142150e-02  1.26577713e-01  1.80094082e-01\n",
      "   2.79585338e-01  9.21799983e-02 -1.32774702e-01  2.37518593e-03\n",
      "   1.85311594e-01  1.00417637e-01  1.59573826e-01  2.03441356e-01\n",
      "  -1.37005803e-01 -7.22710270e-02  5.97226213e-02 -3.83119417e-03\n",
      "   1.67003447e-01 -3.11024403e-02  1.55702550e-01  2.05645582e-01\n",
      "   6.30739542e-02 -6.69136227e-03  4.94352457e-03]\n",
      " [ 1.16253611e-02 -2.96270000e-01  7.28208038e-02 -6.23271156e-02\n",
      "  -1.95060797e-02 -2.10006575e-01 -1.76669806e-01 -1.43828682e-02\n",
      "  -2.16505077e-01  2.39522709e-02  4.75622417e-01  2.78075065e-01\n",
      "   3.15352878e-01 -2.57145512e-01  7.27625865e-02  2.34164106e-02\n",
      "  -2.58304592e-01  3.86408062e-03  1.02679534e-02 -3.66046241e-01\n",
      "   1.34706010e-01  1.60059928e-01  9.01877098e-02 -4.83326232e-03\n",
      "  -5.19872555e-02 -2.13395548e-02 -9.99389643e-02 -4.25068110e-02\n",
      "   1.79304832e-01  3.43522637e-02  1.70395861e-02  8.89904020e-03\n",
      "   1.71432881e-02  3.14826146e-02 -4.36278707e-02]\n",
      " [ 1.79334219e-02  3.56830728e-01 -1.01864818e-01 -1.01955648e-01\n",
      "  -3.56444014e-01  3.17368353e-02 -9.58873854e-02  3.01719902e-02\n",
      "   1.77576326e-01 -1.77080723e-01 -3.83986094e-02  8.74666007e-02\n",
      "   5.32303214e-02 -4.29543153e-02  1.75873550e-02  4.82056398e-03\n",
      "   2.56394806e-01 -2.55643949e-01  1.04404431e-01 -1.42771933e-01\n",
      "   5.29519418e-02  5.37262246e-01  7.97683511e-02 -2.34027093e-01\n",
      "  -5.07263322e-03  9.49131014e-04 -5.11809745e-02 -1.54803801e-01\n",
      "   5.43033750e-02 -5.45006546e-02 -2.77617523e-01 -1.64334838e-02\n",
      "  -6.46390431e-02 -7.45960662e-02  4.25588924e-02]\n",
      " [-8.59098999e-03  6.43745752e-02  6.27389479e-02 -7.50072188e-02\n",
      "   4.04104639e-02  4.90239143e-02  7.05215431e-03  2.43466122e-02\n",
      "   9.92675104e-02 -3.70952632e-02 -1.00348676e-01 -1.15616063e-02\n",
      "   1.36537134e-02 -4.26226498e-02 -1.75439962e-01 -4.18627277e-02\n",
      "  -6.75047980e-02  4.88958122e-01  7.43925668e-02 -1.10728955e-01\n",
      "   9.36805180e-02  1.77278692e-01  1.21906325e-02 -7.45816922e-02\n",
      "  -9.65209779e-03 -2.62636830e-02  1.08348851e-01 -2.53662161e-02\n",
      "  -2.13620066e-01  1.66753314e-01 -1.51571709e-01 -8.01143302e-02\n",
      "  -2.70596646e-02  5.67134127e-01 -4.24091967e-01]\n",
      " [ 1.34929809e-02 -5.17139812e-03  8.88592696e-02  3.02205426e-02\n",
      "   4.51410859e-01 -5.68233816e-02  3.47207170e-01 -1.65512684e-01\n",
      "  -3.01574102e-02  5.32061370e-02 -2.03405119e-02 -3.46433140e-02\n",
      "   1.74219156e-02  1.18279975e-02  6.20569360e-02  2.84574611e-02\n",
      "   1.39098980e-02  1.49412643e-01  1.39665381e-01 -1.84366635e-01\n",
      "   1.92403579e-02  5.95058796e-02  5.88854969e-02 -1.65075752e-01\n",
      "   1.60108609e-02  2.25251212e-02  3.41368508e-01 -1.66735946e-01\n",
      "   1.03305595e-01  7.69820561e-02 -4.44091128e-01 -2.28284504e-02\n",
      "   1.76666357e-01 -1.65186906e-01  3.11449146e-01]\n",
      " [ 3.64538992e-01  3.08423781e-02 -1.57153704e-01  8.50951558e-02\n",
      "   2.27215084e-02  4.86975577e-03  1.18869159e-01 -2.10450501e-01\n",
      "   2.75083178e-02 -3.96176735e-02 -1.66552789e-02 -2.64530482e-03\n",
      "   7.80673165e-04 -2.23691463e-03  1.92375211e-01  1.64869269e-02\n",
      "   2.28321774e-02 -7.24894902e-02  2.20868802e-02 -1.02488173e-01\n",
      "  -1.08100093e-01 -1.69550545e-01 -6.77631027e-02 -1.14556802e-01\n",
      "   4.34494843e-02  7.76177264e-02 -6.26470902e-04  1.59992300e-01\n",
      "   2.93004673e-01 -2.09392658e-01 -1.66580077e-01  5.18107326e-01\n",
      "  -3.92646945e-02  6.58364282e-02 -4.41794756e-01]\n",
      " [-3.83270199e-01 -9.29963728e-02 -5.51452320e-04  6.83402645e-02\n",
      "   3.07356572e-02 -7.46483272e-02 -4.27344105e-04  1.13410786e-01\n",
      "   1.76086268e-01 -4.77942949e-01 -9.22189467e-03  3.06485138e-04\n",
      "  -8.10282975e-03  5.13033798e-02  2.79179307e-01  6.28055490e-02\n",
      "   1.03483091e-03 -3.36087746e-02 -7.47814948e-02  4.83321428e-02\n",
      "  -5.48976080e-02 -1.81089688e-01 -1.38845564e-02  3.91781886e-02\n",
      "  -4.73584759e-02 -1.64330445e-02 -1.79100839e-01 -5.19691736e-02\n",
      "   1.67977356e-01  5.43778372e-01 -2.09408373e-01  7.91936945e-02\n",
      "  -4.21589201e-02 -4.04961821e-02 -1.22330172e-01]\n",
      " [-4.01007729e-01  2.68781638e-01 -8.45166730e-02  3.60309281e-02\n",
      "   2.50087648e-02  5.76447734e-02  2.25907154e-01 -2.28516544e-01\n",
      "  -5.02590807e-02  2.42200226e-01  2.29388050e-02  6.27081626e-02\n",
      "   4.59264941e-02 -9.17530415e-02  4.67807438e-01  2.12727905e-04\n",
      "   3.46569222e-02  8.53163700e-02  1.24439267e-01 -1.38426809e-01\n",
      "  -1.07734029e-01  1.61639142e-01 -2.82077773e-02 -6.19745912e-02\n",
      "  -1.12503797e-01 -1.18978207e-01 -9.54745597e-02  2.82953154e-01\n",
      "  -2.35010779e-01  4.64136837e-02  2.83446644e-01  1.17296821e-01\n",
      "   5.60238348e-02  1.20003221e-02  5.72843393e-03]\n",
      " [ 3.41655532e-01 -3.36398889e-03 -1.70853828e-01  2.22152805e-02\n",
      "   3.37165280e-01 -6.53627332e-02  1.18651834e-01 -4.06518450e-02\n",
      "   1.30461572e-01 -2.93339290e-01 -8.08847412e-03  2.24624858e-02\n",
      "   4.00470927e-02 -2.13730935e-02 -1.79498239e-01 -5.02922098e-03\n",
      "   7.61158447e-02 -2.11071728e-01  1.72704094e-02 -6.62187328e-02\n",
      "  -2.39878502e-02  1.63242281e-01  2.62599174e-02 -1.54799575e-02\n",
      "  -1.23063187e-02  1.01151101e-02 -2.98324842e-01  1.54280106e-01\n",
      "  -1.29024298e-01  1.93410484e-01  2.72696483e-01 -3.89790494e-02\n",
      "   4.79040708e-01  1.41778788e-01  7.87084834e-02]\n",
      " [-2.48699773e-02  2.41231276e-01 -9.86790661e-02  5.02914794e-02\n",
      "  -4.60104806e-02  2.03785098e-02 -7.07989215e-02  1.59112543e-01\n",
      "  -4.43402808e-02  2.00988882e-01 -5.07651353e-02 -2.56360051e-02\n",
      "  -3.16559464e-02 -3.55396874e-03 -1.03541511e-01 -3.58365498e-02\n",
      "  -1.61512793e-01  4.06204750e-01 -1.32270294e-02  1.59799422e-03\n",
      "  -1.41997140e-01  1.40889985e-01 -7.81281487e-02  8.31282030e-03\n",
      "   2.72724005e-01  2.66299483e-01 -2.33985622e-01 -2.96230673e-01\n",
      "   2.58567739e-01  1.59659257e-01  1.62642701e-01  1.81991318e-01\n",
      "   2.74354318e-01 -2.85534470e-01 -5.89379154e-02]\n",
      " [-3.35303895e-01 -2.86538981e-02  2.07115434e-01 -2.02175532e-02\n",
      "  -1.71658368e-01  1.07126331e-01 -1.39030378e-02 -1.12854698e-02\n",
      "  -1.06926728e-02 -9.57339958e-02  7.35903946e-02  2.97768041e-02\n",
      "  -2.30708311e-02  9.34254049e-03 -1.59912737e-01 -2.39343368e-02\n",
      "  -5.30176988e-02 -1.30083197e-01 -6.79992847e-03  7.69977331e-02\n",
      "  -1.92413721e-02 -3.45841206e-02 -2.24853666e-02  8.65733104e-02\n",
      "  -1.51061251e-01 -1.66129840e-01  1.82176161e-01 -4.86351174e-02\n",
      "  -3.26672270e-02 -2.70135594e-01 -1.21189787e-01  1.37873937e-01\n",
      "   6.82824076e-01 -6.17288414e-02 -2.46562886e-01]\n",
      " [ 2.27317192e-01  4.03108011e-02 -8.10464239e-02 -5.00890133e-02\n",
      "  -8.76612027e-03  6.39703930e-02 -3.96679872e-02  2.08927540e-01\n",
      "   1.26853457e-01 -3.73924154e-01  6.06055561e-02  6.07460371e-02\n",
      "   4.24369143e-02 -4.02491112e-02  9.24579631e-02  6.06723103e-03\n",
      "  -1.61934938e-01  3.58234079e-01  1.11631724e-02 -3.67310593e-02\n",
      "   1.11858670e-01 -4.85994893e-02  5.07546756e-03 -7.49576463e-03\n",
      "  -2.13316020e-01 -1.99492200e-01  1.03911152e-01 -7.29337330e-02\n",
      "  -4.05213842e-01 -1.40588975e-01  8.76468334e-02  3.17305893e-01\n",
      "  -8.70501733e-02 -3.54330858e-01  1.22849150e-01]\n",
      " [ 1.99716577e-01 -2.05563449e-01  1.16601359e-01 -1.50583993e-01\n",
      "  -3.00803792e-01  1.68524231e-01 -3.84220338e-02 -1.66090726e-01\n",
      "  -7.27197891e-02  3.24104071e-01 -2.51212293e-02  1.80682832e-02\n",
      "  -3.54200698e-02  3.58149139e-02 -1.26702489e-01 -7.78387098e-03\n",
      "   2.90229939e-02 -3.08792036e-02  6.20747585e-02  1.43405934e-01\n",
      "   1.89019208e-01 -4.48921408e-02  3.78035926e-02 -2.21275591e-01\n",
      "  -8.67735632e-02 -7.29709647e-02 -7.95881891e-02  1.74436500e-01\n",
      "  -1.64206293e-01  5.29163486e-01 -1.59230143e-01  2.68768560e-01\n",
      "   1.01271221e-01 -1.39794288e-01  7.32512033e-02]\n",
      " [ 1.46390259e-01 -2.31835279e-01  1.86300996e-02 -1.18575919e-01\n",
      "  -9.06859666e-02  3.75470000e-02 -9.01058148e-02  1.36504863e-02\n",
      "  -4.39751580e-03 -1.84238435e-02 -7.32268007e-02 -9.04528773e-02\n",
      "  -7.85617333e-02 -4.29731639e-02  5.83693133e-01 -3.98122414e-02\n",
      "   3.61026375e-02 -5.04204933e-02 -1.10271939e-01  3.51001612e-02\n",
      "   1.56908255e-01 -6.26547394e-02  7.96015951e-02 -2.43322544e-01\n",
      "   2.55711857e-01  2.83884435e-01  9.42300715e-02 -2.60332791e-01\n",
      "  -2.43932067e-01 -5.65803199e-02  9.00195232e-02 -2.08670059e-01\n",
      "   2.53815975e-01  3.43087136e-02 -1.19851142e-01]\n",
      " [ 2.30639121e-01  2.97308673e-01  1.47179723e-01  5.23898359e-02\n",
      "  -7.70324268e-02 -2.04552839e-02 -6.00385069e-02 -7.67280842e-02\n",
      "  -1.56579611e-01  1.18031256e-02  1.00851254e-01 -6.13936606e-02\n",
      "   1.67968196e-02 -3.04870606e-03  1.11318090e-01  2.00958234e-02\n",
      "  -5.86221528e-02 -2.59466541e-01  2.73385351e-02 -5.74083279e-02\n",
      "  -2.20051825e-01 -1.80502622e-02 -8.51351916e-02  3.46980423e-01\n",
      "  -3.11762616e-02 -9.12006635e-02  3.52214453e-01 -4.01063258e-01\n",
      "  -1.00971233e-01  3.28476640e-01  1.50436157e-01  1.71899983e-01\n",
      "  -1.55390555e-02  2.19352878e-01  4.95779098e-02]\n",
      " [ 1.05734792e-01  1.78664687e-01  5.05031692e-01 -6.79407761e-02\n",
      "   1.94177220e-01 -7.08562723e-02  8.96980530e-03 -1.01267266e-01\n",
      "  -6.48631097e-02 -6.70838911e-02  4.40296677e-02 -5.09498756e-02\n",
      "  -2.76365817e-02 -2.20199651e-02 -5.86998272e-02 -4.41952811e-02\n",
      "   5.34336895e-03 -1.00230565e-01  5.30292178e-03 -7.83033744e-02\n",
      "  -7.23625984e-02  8.54136005e-02 -2.10958807e-02  6.76859383e-02\n",
      "   9.34598452e-02  9.34778704e-02 -7.78568191e-02  1.56214098e-01\n",
      "  -2.02211415e-01  7.23643572e-02 -1.50855501e-02 -2.17420568e-01\n",
      "  -1.51817104e-01 -4.75724865e-01 -4.46719009e-01]\n",
      " [-3.26230070e-01 -1.99890579e-01 -2.42845986e-01 -5.02858415e-02\n",
      "   2.53315178e-01  2.12257496e-02  8.31884585e-02 -1.22558547e-01\n",
      "  -1.17864949e-02  3.43729998e-02 -2.86107955e-02 -3.03962960e-02\n",
      "  -7.14049907e-03  9.93752851e-03 -2.92971681e-01 -2.40183858e-02\n",
      "   7.27090706e-02 -2.64314193e-01  3.24052051e-02 -4.50583960e-02\n",
      "   2.26287473e-01  6.84033769e-02  8.98546604e-02 -1.31239510e-01\n",
      "   8.67979555e-02  7.04278844e-02  8.94657382e-02 -3.75172005e-01\n",
      "  -1.77555805e-01  2.40788939e-02  2.45333173e-01  2.98537822e-01\n",
      "  -2.28151857e-01 -1.01082385e-01 -2.27110321e-01]\n",
      " [-1.16757107e-01 -7.14901607e-02  4.91488482e-01 -1.07339591e-01\n",
      "  -1.19926383e-01  2.83268293e-02  2.69694482e-02 -3.28227641e-01\n",
      "   2.34081393e-02 -3.17138600e-01 -8.92949368e-03 -1.06619396e-01\n",
      "  -1.24708176e-01  5.09935909e-02 -6.84447100e-02 -5.53750549e-02\n",
      "  -6.82586269e-02  8.71847584e-02  9.20004018e-02 -8.60654205e-02\n",
      "   2.98611765e-04  3.54273106e-02 -7.71472212e-02 -6.63679698e-02\n",
      "   2.12149349e-01  2.09309277e-01 -1.95745706e-01 -1.36474083e-02\n",
      "   1.73941085e-02 -1.62141639e-01  1.32243249e-01  2.84511585e-01\n",
      "  -8.74348214e-02  2.15047993e-01  3.46512856e-01]\n",
      " [-1.20800646e-01  3.41965647e-02 -3.83306828e-02 -1.40443953e-01\n",
      "   1.56860232e-01 -1.94307746e-01 -2.08482501e-01  2.60088511e-01\n",
      "  -8.99680265e-02 -2.90321651e-02  1.11724845e-01  8.41601753e-03\n",
      "  -2.34020963e-02 -2.60609076e-03 -3.22790266e-02 -2.23824398e-02\n",
      "  -9.72894684e-02 -9.40128567e-02 -2.98234270e-01  1.83351016e-01\n",
      "  -2.11620206e-01  2.41791608e-01 -1.01355515e-01 -1.96562503e-01\n",
      "   1.61612188e-01  2.48293012e-01  3.65353753e-01  3.87830762e-01\n",
      "  -1.17066919e-01  6.11304546e-02 -6.42398142e-02  2.54771242e-01\n",
      "  -4.62092962e-03  7.15324273e-02  9.84111199e-02]\n",
      " [ 2.04960236e-02  6.85504582e-02  3.12196498e-01  1.07241740e-01\n",
      "   2.28756074e-01  4.51082765e-02  1.33823718e-01  5.08893584e-01\n",
      "  -8.12975594e-02  2.40933956e-01  1.94547211e-02  2.39992082e-02\n",
      "  -1.17998132e-02 -7.43612152e-03  8.89212598e-02 -6.68590729e-03\n",
      "  -9.77239830e-03 -1.90810001e-01 -5.97606132e-02  4.96786609e-02\n",
      "  -1.35220560e-02 -2.45301779e-02 -2.80629387e-02 -1.82201198e-01\n",
      "  -1.05868344e-01 -9.65790042e-02 -4.20752205e-01 -2.13000348e-01\n",
      "  -1.53757840e-01 -1.33210818e-01 -1.83614367e-01  2.04661054e-01\n",
      "  -4.50940396e-02  2.01947390e-01  2.92504616e-02]\n",
      " [ 4.49564773e-03 -9.47430873e-02 -1.71640231e-01 -7.04751604e-03\n",
      "   6.99493627e-02 -1.01392032e-02 -1.50620478e-02 -3.67838059e-01\n",
      "   2.22970194e-02  5.44468602e-02  3.95621307e-02  8.82685503e-02\n",
      "   1.10848426e-01 -6.03301311e-02  5.93623216e-02  3.65218496e-02\n",
      "  -8.15584672e-02  5.53626091e-02 -2.50649687e-01  3.35625454e-01\n",
      "  -1.20659422e-01  2.14552439e-01  5.82765524e-02  4.19396791e-01\n",
      "   8.77726899e-02  6.74661494e-02 -2.73664248e-01 -1.32511264e-01\n",
      "  -2.95179223e-01 -1.12633840e-01 -3.90528337e-01  5.95300943e-02\n",
      "  -2.60641641e-02  9.49043129e-03  3.07488305e-02]\n",
      " [ 1.01451207e-01 -5.22773147e-02  1.77680678e-01  6.07147068e-04\n",
      "  -1.66884668e-02  8.81009020e-02  3.35365326e-01 -1.13420448e-01\n",
      "   1.11431155e-02 -9.87581809e-02  1.81132755e-01  1.68030283e-01\n",
      "   9.37592812e-02 -5.62133695e-02  2.01670353e-02  2.37731713e-02\n",
      "   9.14175549e-02  1.32954620e-01 -2.66885341e-01  5.09969824e-01\n",
      "  -1.02393939e-01  2.16684273e-01  4.83340312e-03 -2.80655894e-01\n",
      "  -1.42050821e-01 -1.53980429e-01  1.02097202e-01 -1.58679672e-01\n",
      "   2.65682434e-01  2.40357288e-02  2.70309508e-01 -8.10030098e-02\n",
      "  -8.51096296e-02  4.42037302e-03 -8.41385584e-02]\n",
      " [-4.96157527e-02  3.15153929e-01  6.65736186e-03  1.93084120e-01\n",
      "   4.61141935e-02 -1.49769531e-01 -3.11955491e-01 -2.95963617e-01\n",
      "   1.59708046e-01  3.55128025e-02  3.46084557e-02  2.28292323e-01\n",
      "   2.08864169e-01  1.02571910e-01 -1.31751035e-01  2.27355730e-01\n",
      "  -1.67961912e-01 -2.17056740e-02 -6.38152602e-02  5.03762721e-02\n",
      "  -1.02913334e-01 -3.78384748e-01  3.35162986e-02 -4.44929780e-01\n",
      "  -2.79497220e-02  4.29134495e-02 -4.42164547e-02 -1.17593033e-01\n",
      "  -1.60037281e-01 -2.39758191e-02 -1.42809126e-02 -1.08436300e-01\n",
      "   3.12310511e-02  3.29771339e-02  3.71847367e-02]]\n"
     ]
    }
   ],
   "source": [
    "def pca_analysis(pca, plot=True):\n",
    "    # Cumulative explained variance\n",
    "    cumulative_variance = np.cumsum(pca.explained_variance_ratio_)\n",
    "\n",
    "    # Eigenvalues\n",
    "    eigenvalues = pca.explained_variance_\n",
    "\n",
    "    # Loadings\n",
    "    loadings = pca.components_\n",
    "\n",
    "    # Number of principal components selected\n",
    "    num_components_selected = len(pca.explained_variance_ratio_)\n",
    "\n",
    "    # Scree plot\n",
    "    if plot:\n",
    "        plt.figure()\n",
    "        plt.plot(cumulative_variance)\n",
    "        plt.xlabel(\"Number of Components\")\n",
    "        plt.ylabel(\"Variance (%)\")\n",
    "        plt.title(\"Dataset Explained Variance\")\n",
    "        plt.show()\n",
    "\n",
    "    return {\n",
    "        \"num_components\": num_components_selected,\n",
    "        \"cumulative_variance\": cumulative_variance,\n",
    "        \"eigenvalues\": eigenvalues,\n",
    "        \"loadings\": loadings,\n",
    "    }\n",
    "\n",
    "\n",
    "def apply_pca(df, n_components=0.95):\n",
    "    pca = PCA(n_components=n_components)\n",
    "    original_index = df.index\n",
    "    principal_components = pca.fit_transform(df)\n",
    "    col_names = [f\"PC{i+1}\" for i in range(principal_components.shape[1])]\n",
    "    pca_df = pd.DataFrame(principal_components, columns=col_names)\n",
    "    pca_df.index = original_index\n",
    "    return pca_df, pca\n",
    "\n",
    "\n",
    "# Applying PCA to train and test dataframes\n",
    "pca_train_df, pca_train = apply_pca(scaled_numerical_train_df)\n",
    "pca_val_df = pca_train.transform(scaled_numerical_val_df)\n",
    "\n",
    "# Now use the trained PCA object for analysis\n",
    "pca_metrics = pca_analysis(pca_train)\n",
    "print(f\"Number of Principal Components selected: {pca_metrics['num_components']} \\n\")\n",
    "print(f\"{pca_metrics['cumulative_variance']} \\n\")\n",
    "print(f\"{pca_metrics['eigenvalues']} \\n\")\n",
    "print(pca_metrics[\"loadings\"])"
   ]
  },
  {
   "cell_type": "markdown",
   "metadata": {},
   "source": [
    "### Categorical Feature Scaling\n"
   ]
  },
  {
   "cell_type": "code",
   "execution_count": 10,
   "metadata": {},
   "outputs": [
    {
     "name": "stdout",
     "output_type": "stream",
     "text": [
      "(279, 146)\n",
      "Int64Index([ 892, 1105,  413,  522, 1036,  614,  218, 1160,  649,  887,\n",
      "            ...\n",
      "             989,  677,  478, 1271, 1410,  479, 1361,  802,  651,  722],\n",
      "           dtype='int64', length=279)\n"
     ]
    }
   ],
   "source": [
    "def one_hot_encode(df, drop_first=True):\n",
    "    categorical_cols = df.select_dtypes(include=[\"object\"]).columns\n",
    "    categorical_df = pd.get_dummies(df[categorical_cols], drop_first=drop_first)\n",
    "    return categorical_df\n",
    "\n",
    "\n",
    "categorical_df_train = one_hot_encode(train_df)\n",
    "categorical_df_val = one_hot_encode(val_df)\n",
    "\n",
    "print(categorical_df_val.shape)\n",
    "print(categorical_df_val.index)"
   ]
  },
  {
   "cell_type": "code",
   "execution_count": 11,
   "metadata": {},
   "outputs": [
    {
     "data": {
      "text/html": [
       "<div>\n",
       "<style scoped>\n",
       "    .dataframe tbody tr th:only-of-type {\n",
       "        vertical-align: middle;\n",
       "    }\n",
       "\n",
       "    .dataframe tbody tr th {\n",
       "        vertical-align: top;\n",
       "    }\n",
       "\n",
       "    .dataframe thead th {\n",
       "        text-align: right;\n",
       "    }\n",
       "</style>\n",
       "<table border=\"1\" class=\"dataframe\">\n",
       "  <thead>\n",
       "    <tr style=\"text-align: right;\">\n",
       "      <th></th>\n",
       "      <th>PC1</th>\n",
       "      <th>PC2</th>\n",
       "      <th>PC3</th>\n",
       "      <th>PC4</th>\n",
       "      <th>PC5</th>\n",
       "      <th>PC6</th>\n",
       "      <th>PC7</th>\n",
       "      <th>PC8</th>\n",
       "      <th>PC9</th>\n",
       "      <th>PC10</th>\n",
       "      <th>...</th>\n",
       "      <th>SaleType_ConLI</th>\n",
       "      <th>SaleType_ConLw</th>\n",
       "      <th>SaleType_New</th>\n",
       "      <th>SaleType_Oth</th>\n",
       "      <th>SaleType_WD</th>\n",
       "      <th>SaleCondition_AdjLand</th>\n",
       "      <th>SaleCondition_Alloca</th>\n",
       "      <th>SaleCondition_Family</th>\n",
       "      <th>SaleCondition_Normal</th>\n",
       "      <th>SaleCondition_Partial</th>\n",
       "    </tr>\n",
       "  </thead>\n",
       "  <tbody>\n",
       "    <tr>\n",
       "      <th>254</th>\n",
       "      <td>-2.004940</td>\n",
       "      <td>-1.969061</td>\n",
       "      <td>1.279698</td>\n",
       "      <td>0.382698</td>\n",
       "      <td>0.705067</td>\n",
       "      <td>-0.439107</td>\n",
       "      <td>0.825323</td>\n",
       "      <td>-1.228508</td>\n",
       "      <td>0.327161</td>\n",
       "      <td>-0.111389</td>\n",
       "      <td>...</td>\n",
       "      <td>0</td>\n",
       "      <td>0</td>\n",
       "      <td>0</td>\n",
       "      <td>0</td>\n",
       "      <td>1</td>\n",
       "      <td>0</td>\n",
       "      <td>0</td>\n",
       "      <td>0</td>\n",
       "      <td>1</td>\n",
       "      <td>0</td>\n",
       "    </tr>\n",
       "    <tr>\n",
       "      <th>1066</th>\n",
       "      <td>-0.095856</td>\n",
       "      <td>1.884242</td>\n",
       "      <td>-1.200215</td>\n",
       "      <td>-0.843018</td>\n",
       "      <td>-0.946184</td>\n",
       "      <td>-0.931341</td>\n",
       "      <td>0.712817</td>\n",
       "      <td>-0.232444</td>\n",
       "      <td>-0.381402</td>\n",
       "      <td>-0.384022</td>\n",
       "      <td>...</td>\n",
       "      <td>0</td>\n",
       "      <td>0</td>\n",
       "      <td>0</td>\n",
       "      <td>0</td>\n",
       "      <td>1</td>\n",
       "      <td>0</td>\n",
       "      <td>0</td>\n",
       "      <td>0</td>\n",
       "      <td>1</td>\n",
       "      <td>0</td>\n",
       "    </tr>\n",
       "    <tr>\n",
       "      <th>638</th>\n",
       "      <td>-5.023612</td>\n",
       "      <td>0.083955</td>\n",
       "      <td>0.502387</td>\n",
       "      <td>1.602325</td>\n",
       "      <td>-0.636812</td>\n",
       "      <td>-0.740043</td>\n",
       "      <td>1.173862</td>\n",
       "      <td>0.373158</td>\n",
       "      <td>0.387228</td>\n",
       "      <td>-0.859035</td>\n",
       "      <td>...</td>\n",
       "      <td>0</td>\n",
       "      <td>0</td>\n",
       "      <td>0</td>\n",
       "      <td>0</td>\n",
       "      <td>1</td>\n",
       "      <td>0</td>\n",
       "      <td>0</td>\n",
       "      <td>0</td>\n",
       "      <td>1</td>\n",
       "      <td>0</td>\n",
       "    </tr>\n",
       "    <tr>\n",
       "      <th>799</th>\n",
       "      <td>-1.758107</td>\n",
       "      <td>1.558404</td>\n",
       "      <td>3.118459</td>\n",
       "      <td>-0.420086</td>\n",
       "      <td>-0.310257</td>\n",
       "      <td>-1.090482</td>\n",
       "      <td>-0.706323</td>\n",
       "      <td>0.534387</td>\n",
       "      <td>1.572585</td>\n",
       "      <td>-2.416216</td>\n",
       "      <td>...</td>\n",
       "      <td>0</td>\n",
       "      <td>0</td>\n",
       "      <td>0</td>\n",
       "      <td>0</td>\n",
       "      <td>1</td>\n",
       "      <td>0</td>\n",
       "      <td>0</td>\n",
       "      <td>0</td>\n",
       "      <td>1</td>\n",
       "      <td>0</td>\n",
       "    </tr>\n",
       "    <tr>\n",
       "      <th>380</th>\n",
       "      <td>-2.107909</td>\n",
       "      <td>1.663698</td>\n",
       "      <td>1.057856</td>\n",
       "      <td>1.857066</td>\n",
       "      <td>0.246435</td>\n",
       "      <td>-1.910081</td>\n",
       "      <td>0.638237</td>\n",
       "      <td>-0.243300</td>\n",
       "      <td>1.003140</td>\n",
       "      <td>-0.968574</td>\n",
       "      <td>...</td>\n",
       "      <td>0</td>\n",
       "      <td>0</td>\n",
       "      <td>0</td>\n",
       "      <td>0</td>\n",
       "      <td>1</td>\n",
       "      <td>0</td>\n",
       "      <td>0</td>\n",
       "      <td>0</td>\n",
       "      <td>1</td>\n",
       "      <td>0</td>\n",
       "    </tr>\n",
       "    <tr>\n",
       "      <th>...</th>\n",
       "      <td>...</td>\n",
       "      <td>...</td>\n",
       "      <td>...</td>\n",
       "      <td>...</td>\n",
       "      <td>...</td>\n",
       "      <td>...</td>\n",
       "      <td>...</td>\n",
       "      <td>...</td>\n",
       "      <td>...</td>\n",
       "      <td>...</td>\n",
       "      <td>...</td>\n",
       "      <td>...</td>\n",
       "      <td>...</td>\n",
       "      <td>...</td>\n",
       "      <td>...</td>\n",
       "      <td>...</td>\n",
       "      <td>...</td>\n",
       "      <td>...</td>\n",
       "      <td>...</td>\n",
       "      <td>...</td>\n",
       "      <td>...</td>\n",
       "    </tr>\n",
       "    <tr>\n",
       "      <th>1095</th>\n",
       "      <td>0.372652</td>\n",
       "      <td>-0.518971</td>\n",
       "      <td>-2.161429</td>\n",
       "      <td>1.733377</td>\n",
       "      <td>-0.211678</td>\n",
       "      <td>-0.609505</td>\n",
       "      <td>0.053255</td>\n",
       "      <td>0.595282</td>\n",
       "      <td>-0.402895</td>\n",
       "      <td>-0.072663</td>\n",
       "      <td>...</td>\n",
       "      <td>0</td>\n",
       "      <td>0</td>\n",
       "      <td>0</td>\n",
       "      <td>0</td>\n",
       "      <td>1</td>\n",
       "      <td>0</td>\n",
       "      <td>0</td>\n",
       "      <td>0</td>\n",
       "      <td>1</td>\n",
       "      <td>0</td>\n",
       "    </tr>\n",
       "    <tr>\n",
       "      <th>1130</th>\n",
       "      <td>0.886430</td>\n",
       "      <td>0.347105</td>\n",
       "      <td>1.953325</td>\n",
       "      <td>0.461941</td>\n",
       "      <td>1.074213</td>\n",
       "      <td>0.998613</td>\n",
       "      <td>-0.718700</td>\n",
       "      <td>-0.410995</td>\n",
       "      <td>-1.019799</td>\n",
       "      <td>-1.471926</td>\n",
       "      <td>...</td>\n",
       "      <td>0</td>\n",
       "      <td>0</td>\n",
       "      <td>0</td>\n",
       "      <td>0</td>\n",
       "      <td>1</td>\n",
       "      <td>0</td>\n",
       "      <td>0</td>\n",
       "      <td>0</td>\n",
       "      <td>1</td>\n",
       "      <td>0</td>\n",
       "    </tr>\n",
       "    <tr>\n",
       "      <th>1294</th>\n",
       "      <td>-2.431624</td>\n",
       "      <td>-1.353853</td>\n",
       "      <td>-0.766398</td>\n",
       "      <td>0.146881</td>\n",
       "      <td>-0.252238</td>\n",
       "      <td>-0.131335</td>\n",
       "      <td>0.408691</td>\n",
       "      <td>1.393184</td>\n",
       "      <td>-0.192519</td>\n",
       "      <td>-0.749475</td>\n",
       "      <td>...</td>\n",
       "      <td>0</td>\n",
       "      <td>0</td>\n",
       "      <td>0</td>\n",
       "      <td>0</td>\n",
       "      <td>1</td>\n",
       "      <td>0</td>\n",
       "      <td>0</td>\n",
       "      <td>0</td>\n",
       "      <td>1</td>\n",
       "      <td>0</td>\n",
       "    </tr>\n",
       "    <tr>\n",
       "      <th>860</th>\n",
       "      <td>-1.114858</td>\n",
       "      <td>2.052534</td>\n",
       "      <td>-0.062047</td>\n",
       "      <td>0.091398</td>\n",
       "      <td>-2.196402</td>\n",
       "      <td>-0.391619</td>\n",
       "      <td>0.010450</td>\n",
       "      <td>0.664780</td>\n",
       "      <td>0.269019</td>\n",
       "      <td>0.616765</td>\n",
       "      <td>...</td>\n",
       "      <td>0</td>\n",
       "      <td>0</td>\n",
       "      <td>0</td>\n",
       "      <td>0</td>\n",
       "      <td>1</td>\n",
       "      <td>0</td>\n",
       "      <td>0</td>\n",
       "      <td>0</td>\n",
       "      <td>1</td>\n",
       "      <td>0</td>\n",
       "    </tr>\n",
       "    <tr>\n",
       "      <th>1126</th>\n",
       "      <td>1.933182</td>\n",
       "      <td>-0.675472</td>\n",
       "      <td>-2.760920</td>\n",
       "      <td>0.928532</td>\n",
       "      <td>0.563990</td>\n",
       "      <td>-0.599579</td>\n",
       "      <td>0.648963</td>\n",
       "      <td>0.325383</td>\n",
       "      <td>-0.949873</td>\n",
       "      <td>0.238122</td>\n",
       "      <td>...</td>\n",
       "      <td>0</td>\n",
       "      <td>0</td>\n",
       "      <td>0</td>\n",
       "      <td>0</td>\n",
       "      <td>1</td>\n",
       "      <td>0</td>\n",
       "      <td>0</td>\n",
       "      <td>0</td>\n",
       "      <td>1</td>\n",
       "      <td>0</td>\n",
       "    </tr>\n",
       "  </tbody>\n",
       "</table>\n",
       "<p>1133 rows × 200 columns</p>\n",
       "</div>"
      ],
      "text/plain": [
       "           PC1       PC2       PC3       PC4       PC5       PC6       PC7  \\\n",
       "254  -2.004940 -1.969061  1.279698  0.382698  0.705067 -0.439107  0.825323   \n",
       "1066 -0.095856  1.884242 -1.200215 -0.843018 -0.946184 -0.931341  0.712817   \n",
       "638  -5.023612  0.083955  0.502387  1.602325 -0.636812 -0.740043  1.173862   \n",
       "799  -1.758107  1.558404  3.118459 -0.420086 -0.310257 -1.090482 -0.706323   \n",
       "380  -2.107909  1.663698  1.057856  1.857066  0.246435 -1.910081  0.638237   \n",
       "...        ...       ...       ...       ...       ...       ...       ...   \n",
       "1095  0.372652 -0.518971 -2.161429  1.733377 -0.211678 -0.609505  0.053255   \n",
       "1130  0.886430  0.347105  1.953325  0.461941  1.074213  0.998613 -0.718700   \n",
       "1294 -2.431624 -1.353853 -0.766398  0.146881 -0.252238 -0.131335  0.408691   \n",
       "860  -1.114858  2.052534 -0.062047  0.091398 -2.196402 -0.391619  0.010450   \n",
       "1126  1.933182 -0.675472 -2.760920  0.928532  0.563990 -0.599579  0.648963   \n",
       "\n",
       "           PC8       PC9      PC10  ...  SaleType_ConLI  SaleType_ConLw  \\\n",
       "254  -1.228508  0.327161 -0.111389  ...               0               0   \n",
       "1066 -0.232444 -0.381402 -0.384022  ...               0               0   \n",
       "638   0.373158  0.387228 -0.859035  ...               0               0   \n",
       "799   0.534387  1.572585 -2.416216  ...               0               0   \n",
       "380  -0.243300  1.003140 -0.968574  ...               0               0   \n",
       "...        ...       ...       ...  ...             ...             ...   \n",
       "1095  0.595282 -0.402895 -0.072663  ...               0               0   \n",
       "1130 -0.410995 -1.019799 -1.471926  ...               0               0   \n",
       "1294  1.393184 -0.192519 -0.749475  ...               0               0   \n",
       "860   0.664780  0.269019  0.616765  ...               0               0   \n",
       "1126  0.325383 -0.949873  0.238122  ...               0               0   \n",
       "\n",
       "      SaleType_New  SaleType_Oth  SaleType_WD  SaleCondition_AdjLand  \\\n",
       "254              0             0            1                      0   \n",
       "1066             0             0            1                      0   \n",
       "638              0             0            1                      0   \n",
       "799              0             0            1                      0   \n",
       "380              0             0            1                      0   \n",
       "...            ...           ...          ...                    ...   \n",
       "1095             0             0            1                      0   \n",
       "1130             0             0            1                      0   \n",
       "1294             0             0            1                      0   \n",
       "860              0             0            1                      0   \n",
       "1126             0             0            1                      0   \n",
       "\n",
       "      SaleCondition_Alloca  SaleCondition_Family  SaleCondition_Normal  \\\n",
       "254                      0                     0                     1   \n",
       "1066                     0                     0                     1   \n",
       "638                      0                     0                     1   \n",
       "799                      0                     0                     1   \n",
       "380                      0                     0                     1   \n",
       "...                    ...                   ...                   ...   \n",
       "1095                     0                     0                     1   \n",
       "1130                     0                     0                     1   \n",
       "1294                     0                     0                     1   \n",
       "860                      0                     0                     1   \n",
       "1126                     0                     0                     1   \n",
       "\n",
       "      SaleCondition_Partial  \n",
       "254                       0  \n",
       "1066                      0  \n",
       "638                       0  \n",
       "799                       0  \n",
       "380                       0  \n",
       "...                     ...  \n",
       "1095                      0  \n",
       "1130                      0  \n",
       "1294                      0  \n",
       "860                       0  \n",
       "1126                      0  \n",
       "\n",
       "[1133 rows x 200 columns]"
      ]
     },
     "execution_count": 11,
     "metadata": {},
     "output_type": "execute_result"
    }
   ],
   "source": [
    "# Transorm the numpy array to dataframe\n",
    "pca_val_df = pd.DataFrame(pca_val_df, index=val_df.index)\n",
    "\n",
    "merged_train_df = pd.concat([pca_train_df, categorical_df_train], axis=1)\n",
    "merged_val_df = pd.concat([pca_val_df, categorical_df_val], axis=1)\n",
    "# change the name of the int column names to PCs, just the int if string no\n",
    "merged_val_df.columns = [\n",
    "    f\"PC{i+1}\" if isinstance(i, int) else i for i in merged_val_df.columns\n",
    "]\n",
    "\n",
    "merged_train_df"
   ]
  },
  {
   "cell_type": "markdown",
   "metadata": {},
   "source": [
    "# Selection of the appropriate model\n",
    "\n",
    "I will try a few:\n",
    "\n",
    "- Linear Regression\n",
    "- Decision Tree\n",
    "- Random Forest Tree\n",
    "- LightGBM Regressor\n",
    "- Neural Network\n"
   ]
  },
  {
   "cell_type": "markdown",
   "metadata": {},
   "source": [
    "ensure the two dfs have the same columns\n"
   ]
  },
  {
   "cell_type": "code",
   "execution_count": 41,
   "metadata": {},
   "outputs": [
    {
     "name": "stdout",
     "output_type": "stream",
     "text": [
      "True\n"
     ]
    },
    {
     "name": "stderr",
     "output_type": "stream",
     "text": [
      "/var/folders/3g/5z5sh5l968zfhsm0b7025f_h0000gn/T/ipykernel_2829/1627650064.py:2: FutureWarning: Passing a set as an indexer is deprecated and will raise in a future version. Use a list instead.\n",
      "  merged_train_df = merged_train_df[common_cols]\n",
      "/var/folders/3g/5z5sh5l968zfhsm0b7025f_h0000gn/T/ipykernel_2829/1627650064.py:3: FutureWarning: Passing a set as an indexer is deprecated and will raise in a future version. Use a list instead.\n",
      "  merged_val_df = merged_val_df[common_cols]\n"
     ]
    }
   ],
   "source": [
    "common_cols = set(merged_train_df.columns).intersection(set(merged_val_df.columns))\n",
    "merged_train_df = merged_train_df[common_cols]\n",
    "merged_val_df = merged_val_df[common_cols]\n",
    "print(merged_train_df.columns.equals(merged_val_df.columns))"
   ]
  },
  {
   "cell_type": "code",
   "execution_count": 13,
   "metadata": {},
   "outputs": [],
   "source": [
    "def evaluate_model(model, X_test, y_test):\n",
    "    predictions = model.predict(X_test)\n",
    "    print(\"MAE:\", round(mean_absolute_error(y_test, predictions)))\n",
    "    print(\"RMSE:\", round(np.sqrt(mean_squared_error(y_test, predictions))))\n",
    "    print(\"R2 Score:\", format(r2_score(y_test, predictions), \".2f\"))\n",
    "\n",
    "    return predictions\n",
    "\n",
    "\n",
    "def plot_actual_vs_predicted(train_target, predicted_values):\n",
    "    plt.scatter(train_target, predicted_values)\n",
    "    plt.xlabel(\"Actual Values\")\n",
    "    plt.ylabel(\"Predicted Values\")\n",
    "    plt.title(\"Actual vs Predicted Values\")\n",
    "    plt.show()"
   ]
  },
  {
   "cell_type": "markdown",
   "metadata": {},
   "source": [
    "## Linear Regression\n"
   ]
  },
  {
   "cell_type": "markdown",
   "metadata": {},
   "source": [
    "#### Train model\n"
   ]
  },
  {
   "cell_type": "code",
   "execution_count": 14,
   "metadata": {},
   "outputs": [
    {
     "name": "stdout",
     "output_type": "stream",
     "text": [
      "MAE: 16245\n",
      "RMSE: 25375\n",
      "R2 Score: 0.89\n"
     ]
    }
   ],
   "source": [
    "linear_regression_model = LinearRegression()\n",
    "linear_regression_model.fit(merged_train_df, train_target)\n",
    "\n",
    "\n",
    "l_regression_predictions_train = evaluate_model(\n",
    "    linear_regression_model, merged_train_df, train_target\n",
    ")"
   ]
  },
  {
   "cell_type": "code",
   "execution_count": 15,
   "metadata": {},
   "outputs": [
    {
     "data": {
      "image/png": "[encoded data removed]",
      "text/plain": [
       "<Figure size 640x480 with 1 Axes>"
      ]
     },
     "metadata": {},
     "output_type": "display_data"
    }
   ],
   "source": [
    "plot_actual_vs_predicted(train_target, l_regression_predictions_train)"
   ]
  },
  {
   "cell_type": "markdown",
   "metadata": {},
   "source": [
    "#### Test the model\n"
   ]
  },
  {
   "cell_type": "code",
   "execution_count": 16,
   "metadata": {},
   "outputs": [
    {
     "name": "stdout",
     "output_type": "stream",
     "text": [
      "MAE: 21993\n",
      "RMSE: 32469\n",
      "R2 Score: 0.86\n"
     ]
    },
    {
     "data": {
      "image/png": "[encoded data removed]",
      "text/plain": [
       "<Figure size 640x480 with 1 Axes>"
      ]
     },
     "metadata": {},
     "output_type": "display_data"
    }
   ],
   "source": [
    "l_regression_val_predictions = evaluate_model(\n",
    "    linear_regression_model, merged_val_df, val_target\n",
    ")\n",
    "\n",
    "plot_actual_vs_predicted(val_target, l_regression_val_predictions)"
   ]
  },
  {
   "cell_type": "markdown",
   "metadata": {},
   "source": [
    "## Decision Trees\n"
   ]
  },
  {
   "cell_type": "markdown",
   "metadata": {},
   "source": [
    "### Train\n"
   ]
  },
  {
   "cell_type": "code",
   "execution_count": 17,
   "metadata": {},
   "outputs": [
    {
     "name": "stdout",
     "output_type": "stream",
     "text": [
      "MAE: 6197\n",
      "RMSE: 9914\n",
      "R2 Score: 0.98\n"
     ]
    }
   ],
   "source": [
    "dt_regressor_model = DecisionTreeRegressor(\n",
    "    max_depth=10,\n",
    "    min_samples_split=2,\n",
    "    min_samples_leaf=1,\n",
    ")\n",
    "\n",
    "dt_regressor_model.fit(merged_train_df, train_target)\n",
    "dt_predictions_train = evaluate_model(dt_regressor_model, merged_train_df, train_target)"
   ]
  },
  {
   "cell_type": "code",
   "execution_count": 18,
   "metadata": {},
   "outputs": [
    {
     "data": {
      "image/png": "[encoded data removed]",
      "text/plain": [
       "<Figure size 640x480 with 1 Axes>"
      ]
     },
     "metadata": {},
     "output_type": "display_data"
    }
   ],
   "source": [
    "plot_actual_vs_predicted(train_target, dt_predictions_train)"
   ]
  },
  {
   "cell_type": "markdown",
   "metadata": {},
   "source": [
    "### Test\n"
   ]
  },
  {
   "cell_type": "code",
   "execution_count": 19,
   "metadata": {},
   "outputs": [
    {
     "name": "stdout",
     "output_type": "stream",
     "text": [
      "MAE: 26836\n",
      "RMSE: 41141\n",
      "R2 Score: 0.78\n"
     ]
    }
   ],
   "source": [
    "dt_predictions_val = evaluate_model(dt_regressor_model, merged_val_df, val_target)"
   ]
  },
  {
   "cell_type": "code",
   "execution_count": 20,
   "metadata": {},
   "outputs": [
    {
     "data": {
      "image/png": "[encoded data removed]",
      "text/plain": [
       "<Figure size 640x480 with 1 Axes>"
      ]
     },
     "metadata": {},
     "output_type": "display_data"
    }
   ],
   "source": [
    "plot_actual_vs_predicted(val_target, dt_predictions_val)"
   ]
  },
  {
   "cell_type": "markdown",
   "metadata": {},
   "source": [
    "### Hyperparameters Optimization"
   ]
  },
  {
   "cell_type": "code",
   "execution_count": 21,
   "metadata": {},
   "outputs": [
    {
     "name": "stderr",
     "output_type": "stream",
     "text": [
      "[I 2024-02-28 09:49:46,380] A new study created in memory with name: no-name-0ed545e5-03e7-4cf9-ac61-3f96fd3f43ca\n",
      "[I 2024-02-28 09:49:46,385] Trial 0 finished with value: 4823938203.630312 and parameters: {'max_depth': 3, 'min_samples_split': 116, 'min_samples_leaf': 40, 'max_features': 'log2', 'criterion': 'squared_error'}. Best is trial 0 with value: 4823938203.630312.\n",
      "[I 2024-02-28 09:49:46,390] Trial 1 finished with value: 3403839030.127295 and parameters: {'max_depth': 3, 'min_samples_split': 28, 'min_samples_leaf': 18, 'max_features': 'sqrt', 'criterion': 'poisson'}. Best is trial 1 with value: 3403839030.127295.\n",
      "[I 2024-02-28 09:49:46,406] Trial 2 finished with value: 4228030729.2947927 and parameters: {'max_depth': 3, 'min_samples_split': 141, 'min_samples_leaf': 57, 'max_features': 'log2', 'criterion': 'absolute_error'}. Best is trial 1 with value: 3403839030.127295.\n",
      "[I 2024-02-28 09:49:46,409] Trial 3 finished with value: 3922575806.206759 and parameters: {'max_depth': 4, 'min_samples_split': 51, 'min_samples_leaf': 33, 'max_features': 'log2', 'criterion': 'friedman_mse'}. Best is trial 1 with value: 3403839030.127295.\n",
      "[I 2024-02-28 09:49:46,413] Trial 4 finished with value: 3512507367.6780396 and parameters: {'max_depth': 4, 'min_samples_split': 53, 'min_samples_leaf': 28, 'max_features': 'sqrt', 'criterion': 'friedman_mse'}. Best is trial 1 with value: 3403839030.127295.\n",
      "[I 2024-02-28 09:49:46,417] Trial 5 finished with value: 2428909916.3074217 and parameters: {'max_depth': 8, 'min_samples_split': 49, 'min_samples_leaf': 7, 'max_features': 'log2', 'criterion': 'poisson'}. Best is trial 5 with value: 2428909916.3074217.\n",
      "[I 2024-02-28 09:49:46,420] Trial 6 finished with value: 4807516651.1942425 and parameters: {'max_depth': 2, 'min_samples_split': 64, 'min_samples_leaf': 40, 'max_features': 'log2', 'criterion': 'friedman_mse'}. Best is trial 5 with value: 2428909916.3074217.\n",
      "[I 2024-02-28 09:49:46,452] Trial 7 finished with value: 3419239368.3027363 and parameters: {'max_depth': 9, 'min_samples_split': 94, 'min_samples_leaf': 12, 'max_features': 'sqrt', 'criterion': 'absolute_error'}. Best is trial 5 with value: 2428909916.3074217.\n",
      "[I 2024-02-28 09:49:46,456] Trial 8 finished with value: 3629348844.480685 and parameters: {'max_depth': 7, 'min_samples_split': 90, 'min_samples_leaf': 52, 'max_features': 'sqrt', 'criterion': 'poisson'}. Best is trial 5 with value: 2428909916.3074217.\n",
      "[I 2024-02-28 09:49:46,460] Trial 9 finished with value: 4675987690.368832 and parameters: {'max_depth': 2, 'min_samples_split': 3, 'min_samples_leaf': 7, 'max_features': 'sqrt', 'criterion': 'poisson'}. Best is trial 5 with value: 2428909916.3074217.\n",
      "[I 2024-02-28 09:49:46,471] Trial 10 finished with value: 1978765552.0794377 and parameters: {'max_depth': 10, 'min_samples_split': 22, 'min_samples_leaf': 4, 'max_features': 'log2', 'criterion': 'squared_error'}. Best is trial 10 with value: 1978765552.0794377.\n",
      "[I 2024-02-28 09:49:46,481] Trial 11 finished with value: 1532361275.6900172 and parameters: {'max_depth': 10, 'min_samples_split': 19, 'min_samples_leaf': 1, 'max_features': 'log2', 'criterion': 'squared_error'}. Best is trial 11 with value: 1532361275.6900172.\n",
      "[I 2024-02-28 09:49:46,492] Trial 12 finished with value: 1088649310.3378446 and parameters: {'max_depth': 10, 'min_samples_split': 8, 'min_samples_leaf': 1, 'max_features': 'log2', 'criterion': 'squared_error'}. Best is trial 12 with value: 1088649310.3378446.\n",
      "[I 2024-02-28 09:49:46,501] Trial 13 finished with value: 2930650800.6670213 and parameters: {'max_depth': 10, 'min_samples_split': 3, 'min_samples_leaf': 20, 'max_features': 'log2', 'criterion': 'squared_error'}. Best is trial 12 with value: 1088649310.3378446.\n",
      "[I 2024-02-28 09:49:46,511] Trial 14 finished with value: 3670209045.4426813 and parameters: {'max_depth': 6, 'min_samples_split': 27, 'min_samples_leaf': 2, 'max_features': 'log2', 'criterion': 'squared_error'}. Best is trial 12 with value: 1088649310.3378446.\n",
      "[I 2024-02-28 09:49:46,521] Trial 15 finished with value: 2985509278.019548 and parameters: {'max_depth': 8, 'min_samples_split': 20, 'min_samples_leaf': 15, 'max_features': 'log2', 'criterion': 'squared_error'}. Best is trial 12 with value: 1088649310.3378446.\n",
      "[I 2024-02-28 09:49:46,532] Trial 16 finished with value: 3706895569.3020344 and parameters: {'max_depth': 9, 'min_samples_split': 39, 'min_samples_leaf': 22, 'max_features': 'log2', 'criterion': 'squared_error'}. Best is trial 12 with value: 1088649310.3378446.\n",
      "[I 2024-02-28 09:49:46,542] Trial 17 finished with value: 2139846066.1035001 and parameters: {'max_depth': 6, 'min_samples_split': 71, 'min_samples_leaf': 10, 'max_features': 'log2', 'criterion': 'squared_error'}. Best is trial 12 with value: 1088649310.3378446.\n",
      "[I 2024-02-28 09:49:46,553] Trial 18 finished with value: 3386123248.8551197 and parameters: {'max_depth': 10, 'min_samples_split': 3, 'min_samples_leaf': 25, 'max_features': 'log2', 'criterion': 'squared_error'}. Best is trial 12 with value: 1088649310.3378446.\n",
      "[I 2024-02-28 09:49:46,579] Trial 19 finished with value: 3459291646.854369 and parameters: {'max_depth': 8, 'min_samples_split': 85, 'min_samples_leaf': 3, 'max_features': 'log2', 'criterion': 'absolute_error'}. Best is trial 12 with value: 1088649310.3378446.\n",
      "[I 2024-02-28 09:49:46,588] Trial 20 finished with value: 3480137191.708942 and parameters: {'max_depth': 9, 'min_samples_split': 110, 'min_samples_leaf': 34, 'max_features': 'log2', 'criterion': 'squared_error'}. Best is trial 12 with value: 1088649310.3378446.\n",
      "[I 2024-02-28 09:49:46,599] Trial 21 finished with value: 1278456159.6455936 and parameters: {'max_depth': 10, 'min_samples_split': 20, 'min_samples_leaf': 1, 'max_features': 'log2', 'criterion': 'squared_error'}. Best is trial 12 with value: 1088649310.3378446.\n",
      "[I 2024-02-28 09:49:46,609] Trial 22 finished with value: 1240205759.270049 and parameters: {'max_depth': 10, 'min_samples_split': 14, 'min_samples_leaf': 1, 'max_features': 'log2', 'criterion': 'squared_error'}. Best is trial 12 with value: 1088649310.3378446.\n",
      "[I 2024-02-28 09:49:46,619] Trial 23 finished with value: 3127740356.1805925 and parameters: {'max_depth': 9, 'min_samples_split': 38, 'min_samples_leaf': 13, 'max_features': 'log2', 'criterion': 'squared_error'}. Best is trial 12 with value: 1088649310.3378446.\n",
      "[I 2024-02-28 09:49:46,629] Trial 24 finished with value: 3701715513.4638352 and parameters: {'max_depth': 7, 'min_samples_split': 17, 'min_samples_leaf': 8, 'max_features': 'log2', 'criterion': 'squared_error'}. Best is trial 12 with value: 1088649310.3378446.\n",
      "[I 2024-02-28 09:49:46,640] Trial 25 finished with value: 1437526477.1579466 and parameters: {'max_depth': 10, 'min_samples_split': 11, 'min_samples_leaf': 1, 'max_features': 'log2', 'criterion': 'squared_error'}. Best is trial 12 with value: 1088649310.3378446.\n",
      "[I 2024-02-28 09:49:46,651] Trial 26 finished with value: 2655890794.0203724 and parameters: {'max_depth': 7, 'min_samples_split': 35, 'min_samples_leaf': 16, 'max_features': 'sqrt', 'criterion': 'squared_error'}. Best is trial 12 with value: 1088649310.3378446.\n",
      "[I 2024-02-28 09:49:46,671] Trial 27 finished with value: 3279537545.744925 and parameters: {'max_depth': 9, 'min_samples_split': 61, 'min_samples_leaf': 7, 'max_features': 'log2', 'criterion': 'absolute_error'}. Best is trial 12 with value: 1088649310.3378446.\n",
      "[I 2024-02-28 09:49:46,683] Trial 28 finished with value: 3519255515.3532915 and parameters: {'max_depth': 8, 'min_samples_split': 41, 'min_samples_leaf': 47, 'max_features': 'log2', 'criterion': 'friedman_mse'}. Best is trial 12 with value: 1088649310.3378446.\n",
      "[I 2024-02-28 09:49:46,693] Trial 29 finished with value: 2760952486.205156 and parameters: {'max_depth': 5, 'min_samples_split': 141, 'min_samples_leaf': 12, 'max_features': 'log2', 'criterion': 'squared_error'}. Best is trial 12 with value: 1088649310.3378446.\n",
      "[I 2024-02-28 09:49:46,704] Trial 30 finished with value: 3560653479.1713767 and parameters: {'max_depth': 10, 'min_samples_split': 10, 'min_samples_leaf': 40, 'max_features': 'log2', 'criterion': 'squared_error'}. Best is trial 12 with value: 1088649310.3378446.\n",
      "[I 2024-02-28 09:49:46,714] Trial 31 finished with value: 1522725358.974626 and parameters: {'max_depth': 10, 'min_samples_split': 12, 'min_samples_leaf': 4, 'max_features': 'log2', 'criterion': 'squared_error'}. Best is trial 12 with value: 1088649310.3378446.\n",
      "[I 2024-02-28 09:49:46,726] Trial 32 finished with value: 2156507726.5130787 and parameters: {'max_depth': 9, 'min_samples_split': 29, 'min_samples_leaf': 2, 'max_features': 'log2', 'criterion': 'squared_error'}. Best is trial 12 with value: 1088649310.3378446.\n",
      "[I 2024-02-28 09:49:46,737] Trial 33 finished with value: 1798960222.7683423 and parameters: {'max_depth': 10, 'min_samples_split': 9, 'min_samples_leaf': 1, 'max_features': 'log2', 'criterion': 'squared_error'}. Best is trial 12 with value: 1088649310.3378446.\n",
      "[I 2024-02-28 09:49:46,749] Trial 34 finished with value: 3318382225.76729 and parameters: {'max_depth': 9, 'min_samples_split': 27, 'min_samples_leaf': 6, 'max_features': 'log2', 'criterion': 'squared_error'}. Best is trial 12 with value: 1088649310.3378446.\n",
      "[I 2024-02-28 09:49:46,761] Trial 35 finished with value: 2061486210.454418 and parameters: {'max_depth': 10, 'min_samples_split': 13, 'min_samples_leaf': 11, 'max_features': 'sqrt', 'criterion': 'poisson'}. Best is trial 12 with value: 1088649310.3378446.\n",
      "[I 2024-02-28 09:49:46,772] Trial 36 finished with value: 3974425794.147431 and parameters: {'max_depth': 8, 'min_samples_split': 120, 'min_samples_leaf': 18, 'max_features': 'log2', 'criterion': 'friedman_mse'}. Best is trial 12 with value: 1088649310.3378446.\n",
      "[I 2024-02-28 09:49:46,798] Trial 37 finished with value: 2775973443.2674317 and parameters: {'max_depth': 9, 'min_samples_split': 48, 'min_samples_leaf': 9, 'max_features': 'log2', 'criterion': 'absolute_error'}. Best is trial 12 with value: 1088649310.3378446.\n",
      "[I 2024-02-28 09:49:46,810] Trial 38 finished with value: 1433425176.9520593 and parameters: {'max_depth': 10, 'min_samples_split': 24, 'min_samples_leaf': 1, 'max_features': 'sqrt', 'criterion': 'squared_error'}. Best is trial 12 with value: 1088649310.3378446.\n",
      "[I 2024-02-28 09:49:46,822] Trial 39 finished with value: 3465045430.607197 and parameters: {'max_depth': 4, 'min_samples_split': 31, 'min_samples_leaf': 5, 'max_features': 'sqrt', 'criterion': 'friedman_mse'}. Best is trial 12 with value: 1088649310.3378446.\n",
      "[I 2024-02-28 09:49:46,834] Trial 40 finished with value: 2998133709.661058 and parameters: {'max_depth': 8, 'min_samples_split': 46, 'min_samples_leaf': 58, 'max_features': 'sqrt', 'criterion': 'poisson'}. Best is trial 12 with value: 1088649310.3378446.\n",
      "[I 2024-02-28 09:49:46,846] Trial 41 finished with value: 1686000373.2445621 and parameters: {'max_depth': 10, 'min_samples_split': 23, 'min_samples_leaf': 1, 'max_features': 'sqrt', 'criterion': 'squared_error'}. Best is trial 12 with value: 1088649310.3378446.\n",
      "[I 2024-02-28 09:49:46,859] Trial 42 finished with value: 1240349760.7996435 and parameters: {'max_depth': 10, 'min_samples_split': 10, 'min_samples_leaf': 6, 'max_features': 'sqrt', 'criterion': 'squared_error'}. Best is trial 12 with value: 1088649310.3378446.\n",
      "[I 2024-02-28 09:49:46,871] Trial 43 finished with value: 2041429865.9346526 and parameters: {'max_depth': 9, 'min_samples_split': 16, 'min_samples_leaf': 5, 'max_features': 'sqrt', 'criterion': 'squared_error'}. Best is trial 12 with value: 1088649310.3378446.\n",
      "[I 2024-02-28 09:49:46,882] Trial 44 finished with value: 2680963581.6549497 and parameters: {'max_depth': 10, 'min_samples_split': 55, 'min_samples_leaf': 9, 'max_features': 'sqrt', 'criterion': 'squared_error'}. Best is trial 12 with value: 1088649310.3378446.\n",
      "[I 2024-02-28 09:49:46,893] Trial 45 finished with value: 1972925839.5686562 and parameters: {'max_depth': 10, 'min_samples_split': 149, 'min_samples_leaf': 5, 'max_features': 'sqrt', 'criterion': 'squared_error'}. Best is trial 12 with value: 1088649310.3378446.\n",
      "[I 2024-02-28 09:49:46,906] Trial 46 finished with value: 1940897694.923645 and parameters: {'max_depth': 9, 'min_samples_split': 2, 'min_samples_leaf': 15, 'max_features': 'sqrt', 'criterion': 'squared_error'}. Best is trial 12 with value: 1088649310.3378446.\n",
      "[I 2024-02-28 09:49:46,917] Trial 47 finished with value: 2714579409.2256446 and parameters: {'max_depth': 10, 'min_samples_split': 21, 'min_samples_leaf': 34, 'max_features': 'sqrt', 'criterion': 'poisson'}. Best is trial 12 with value: 1088649310.3378446.\n",
      "[I 2024-02-28 09:49:46,955] Trial 48 finished with value: 1824961713.6460724 and parameters: {'max_depth': 9, 'min_samples_split': 32, 'min_samples_leaf': 7, 'max_features': 'sqrt', 'criterion': 'absolute_error'}. Best is trial 12 with value: 1088649310.3378446.\n",
      "[I 2024-02-28 09:49:46,967] Trial 49 finished with value: 3698184282.8808756 and parameters: {'max_depth': 3, 'min_samples_split': 6, 'min_samples_leaf': 3, 'max_features': 'sqrt', 'criterion': 'squared_error'}. Best is trial 12 with value: 1088649310.3378446.\n",
      "[I 2024-02-28 09:49:46,979] Trial 50 finished with value: 3095383750.406458 and parameters: {'max_depth': 10, 'min_samples_split': 23, 'min_samples_leaf': 31, 'max_features': 'sqrt', 'criterion': 'squared_error'}. Best is trial 12 with value: 1088649310.3378446.\n",
      "[I 2024-02-28 09:49:46,990] Trial 51 finished with value: 1907361400.9506958 and parameters: {'max_depth': 10, 'min_samples_split': 13, 'min_samples_leaf': 1, 'max_features': 'log2', 'criterion': 'squared_error'}. Best is trial 12 with value: 1088649310.3378446.\n",
      "[I 2024-02-28 09:49:47,002] Trial 52 finished with value: 1709253595.1528308 and parameters: {'max_depth': 10, 'min_samples_split': 9, 'min_samples_leaf': 3, 'max_features': 'log2', 'criterion': 'squared_error'}. Best is trial 12 with value: 1088649310.3378446.\n",
      "[I 2024-02-28 09:49:47,014] Trial 53 finished with value: 2103780756.7227294 and parameters: {'max_depth': 9, 'min_samples_split': 18, 'min_samples_leaf': 6, 'max_features': 'log2', 'criterion': 'squared_error'}. Best is trial 12 with value: 1088649310.3378446.\n",
      "[I 2024-02-28 09:49:47,025] Trial 54 finished with value: 1488633119.2036524 and parameters: {'max_depth': 10, 'min_samples_split': 27, 'min_samples_leaf': 1, 'max_features': 'log2', 'criterion': 'squared_error'}. Best is trial 12 with value: 1088649310.3378446.\n",
      "[I 2024-02-28 09:49:47,037] Trial 55 finished with value: 2196380937.866612 and parameters: {'max_depth': 10, 'min_samples_split': 7, 'min_samples_leaf': 10, 'max_features': 'log2', 'criterion': 'squared_error'}. Best is trial 12 with value: 1088649310.3378446.\n",
      "[I 2024-02-28 09:49:47,049] Trial 56 finished with value: 1725577476.7744308 and parameters: {'max_depth': 9, 'min_samples_split': 16, 'min_samples_leaf': 4, 'max_features': 'sqrt', 'criterion': 'friedman_mse'}. Best is trial 12 with value: 1088649310.3378446.\n",
      "[I 2024-02-28 09:49:47,061] Trial 57 finished with value: 2641382673.2628374 and parameters: {'max_depth': 10, 'min_samples_split': 35, 'min_samples_leaf': 8, 'max_features': 'log2', 'criterion': 'squared_error'}. Best is trial 12 with value: 1088649310.3378446.\n",
      "[I 2024-02-28 09:49:47,073] Trial 58 finished with value: 4248511214.5709243 and parameters: {'max_depth': 8, 'min_samples_split': 2, 'min_samples_leaf': 23, 'max_features': 'log2', 'criterion': 'squared_error'}. Best is trial 12 with value: 1088649310.3378446.\n",
      "[I 2024-02-28 09:49:47,085] Trial 59 finished with value: 1812355327.3527884 and parameters: {'max_depth': 9, 'min_samples_split': 44, 'min_samples_leaf': 13, 'max_features': 'sqrt', 'criterion': 'squared_error'}. Best is trial 12 with value: 1088649310.3378446.\n",
      "[I 2024-02-28 09:49:47,116] Trial 60 finished with value: 2968402605.394528 and parameters: {'max_depth': 5, 'min_samples_split': 23, 'min_samples_leaf': 3, 'max_features': 'log2', 'criterion': 'absolute_error'}. Best is trial 12 with value: 1088649310.3378446.\n",
      "[I 2024-02-28 09:49:47,128] Trial 61 finished with value: 2077005507.352093 and parameters: {'max_depth': 10, 'min_samples_split': 27, 'min_samples_leaf': 1, 'max_features': 'log2', 'criterion': 'squared_error'}. Best is trial 12 with value: 1088649310.3378446.\n",
      "[I 2024-02-28 09:49:47,140] Trial 62 finished with value: 1660441013.9217105 and parameters: {'max_depth': 10, 'min_samples_split': 17, 'min_samples_leaf': 1, 'max_features': 'log2', 'criterion': 'squared_error'}. Best is trial 12 with value: 1088649310.3378446.\n",
      "[I 2024-02-28 09:49:47,151] Trial 63 finished with value: 2361622479.472215 and parameters: {'max_depth': 10, 'min_samples_split': 12, 'min_samples_leaf': 6, 'max_features': 'log2', 'criterion': 'squared_error'}. Best is trial 12 with value: 1088649310.3378446.\n",
      "[I 2024-02-28 09:49:47,163] Trial 64 finished with value: 3285225742.292796 and parameters: {'max_depth': 9, 'min_samples_split': 76, 'min_samples_leaf': 3, 'max_features': 'log2', 'criterion': 'squared_error'}. Best is trial 12 with value: 1088649310.3378446.\n",
      "[I 2024-02-28 09:49:47,175] Trial 65 finished with value: 4253045383.9352264 and parameters: {'max_depth': 10, 'min_samples_split': 6, 'min_samples_leaf': 51, 'max_features': 'log2', 'criterion': 'squared_error'}. Best is trial 12 with value: 1088649310.3378446.\n",
      "[I 2024-02-28 09:49:47,186] Trial 66 finished with value: 2461563728.4316854 and parameters: {'max_depth': 10, 'min_samples_split': 25, 'min_samples_leaf': 8, 'max_features': 'log2', 'criterion': 'poisson'}. Best is trial 12 with value: 1088649310.3378446.\n",
      "[I 2024-02-28 09:49:47,198] Trial 67 finished with value: 3778227652.748119 and parameters: {'max_depth': 9, 'min_samples_split': 35, 'min_samples_leaf': 37, 'max_features': 'log2', 'criterion': 'squared_error'}. Best is trial 12 with value: 1088649310.3378446.\n",
      "[I 2024-02-28 09:49:47,210] Trial 68 finished with value: 1758091623.0394528 and parameters: {'max_depth': 10, 'min_samples_split': 54, 'min_samples_leaf': 4, 'max_features': 'log2', 'criterion': 'squared_error'}. Best is trial 12 with value: 1088649310.3378446.\n",
      "[I 2024-02-28 09:49:47,222] Trial 69 finished with value: 3139976038.4930634 and parameters: {'max_depth': 7, 'min_samples_split': 13, 'min_samples_leaf': 10, 'max_features': 'log2', 'criterion': 'squared_error'}. Best is trial 12 with value: 1088649310.3378446.\n",
      "[I 2024-02-28 09:49:47,234] Trial 70 finished with value: 2481611593.50402 and parameters: {'max_depth': 9, 'min_samples_split': 41, 'min_samples_leaf': 6, 'max_features': 'sqrt', 'criterion': 'friedman_mse'}. Best is trial 12 with value: 1088649310.3378446.\n",
      "[I 2024-02-28 09:49:47,246] Trial 71 finished with value: 2961310770.910407 and parameters: {'max_depth': 10, 'min_samples_split': 19, 'min_samples_leaf': 4, 'max_features': 'log2', 'criterion': 'squared_error'}. Best is trial 12 with value: 1088649310.3378446.\n",
      "[I 2024-02-28 09:49:47,259] Trial 72 finished with value: 1852821146.6324592 and parameters: {'max_depth': 10, 'min_samples_split': 10, 'min_samples_leaf': 2, 'max_features': 'log2', 'criterion': 'squared_error'}. Best is trial 12 with value: 1088649310.3378446.\n",
      "[I 2024-02-28 09:49:47,271] Trial 73 finished with value: 1728157747.81344 and parameters: {'max_depth': 10, 'min_samples_split': 13, 'min_samples_leaf': 1, 'max_features': 'log2', 'criterion': 'squared_error'}. Best is trial 12 with value: 1088649310.3378446.\n",
      "[I 2024-02-28 09:49:47,283] Trial 74 finished with value: 1182629784.4787686 and parameters: {'max_depth': 10, 'min_samples_split': 6, 'min_samples_leaf': 5, 'max_features': 'log2', 'criterion': 'squared_error'}. Best is trial 12 with value: 1088649310.3378446.\n",
      "[I 2024-02-28 09:49:47,295] Trial 75 finished with value: 2892322688.2683287 and parameters: {'max_depth': 9, 'min_samples_split': 7, 'min_samples_leaf': 7, 'max_features': 'log2', 'criterion': 'squared_error'}. Best is trial 12 with value: 1088649310.3378446.\n",
      "[I 2024-02-28 09:49:47,307] Trial 76 finished with value: 3153774173.336048 and parameters: {'max_depth': 10, 'min_samples_split': 111, 'min_samples_leaf': 12, 'max_features': 'log2', 'criterion': 'squared_error'}. Best is trial 12 with value: 1088649310.3378446.\n",
      "[I 2024-02-28 09:49:47,319] Trial 77 finished with value: 2515455451.0601997 and parameters: {'max_depth': 10, 'min_samples_split': 31, 'min_samples_leaf': 5, 'max_features': 'log2', 'criterion': 'squared_error'}. Best is trial 12 with value: 1088649310.3378446.\n",
      "[I 2024-02-28 09:49:47,361] Trial 78 finished with value: 2209024928.291262 and parameters: {'max_depth': 9, 'min_samples_split': 20, 'min_samples_leaf': 3, 'max_features': 'sqrt', 'criterion': 'absolute_error'}. Best is trial 12 with value: 1088649310.3378446.\n",
      "[I 2024-02-28 09:49:47,373] Trial 79 finished with value: 3030439019.448679 and parameters: {'max_depth': 10, 'min_samples_split': 2, 'min_samples_leaf': 43, 'max_features': 'log2', 'criterion': 'poisson'}. Best is trial 12 with value: 1088649310.3378446.\n",
      "[I 2024-02-28 09:49:47,386] Trial 80 finished with value: 3344264493.2020187 and parameters: {'max_depth': 6, 'min_samples_split': 28, 'min_samples_leaf': 28, 'max_features': 'log2', 'criterion': 'squared_error'}. Best is trial 12 with value: 1088649310.3378446.\n",
      "[I 2024-02-28 09:49:47,398] Trial 81 finished with value: 2956401698.7324204 and parameters: {'max_depth': 10, 'min_samples_split': 15, 'min_samples_leaf': 5, 'max_features': 'log2', 'criterion': 'squared_error'}. Best is trial 12 with value: 1088649310.3378446.\n",
      "[I 2024-02-28 09:49:47,410] Trial 82 finished with value: 1555910226.339302 and parameters: {'max_depth': 10, 'min_samples_split': 7, 'min_samples_leaf': 2, 'max_features': 'log2', 'criterion': 'squared_error'}. Best is trial 12 with value: 1088649310.3378446.\n",
      "[I 2024-02-28 09:49:47,422] Trial 83 finished with value: 1747594090.7034264 and parameters: {'max_depth': 10, 'min_samples_split': 10, 'min_samples_leaf': 8, 'max_features': 'log2', 'criterion': 'squared_error'}. Best is trial 12 with value: 1088649310.3378446.\n",
      "[I 2024-02-28 09:49:47,434] Trial 84 finished with value: 1965195512.7251809 and parameters: {'max_depth': 10, 'min_samples_split': 21, 'min_samples_leaf': 4, 'max_features': 'log2', 'criterion': 'squared_error'}. Best is trial 12 with value: 1088649310.3378446.\n",
      "[I 2024-02-28 09:49:47,448] Trial 85 finished with value: 1009146441.2949191 and parameters: {'max_depth': 9, 'min_samples_split': 5, 'min_samples_leaf': 1, 'max_features': 'sqrt', 'criterion': 'squared_error'}. Best is trial 85 with value: 1009146441.2949191.\n",
      "[I 2024-02-28 09:49:47,461] Trial 86 finished with value: 1085457414.630799 and parameters: {'max_depth': 9, 'min_samples_split': 5, 'min_samples_leaf': 1, 'max_features': 'sqrt', 'criterion': 'squared_error'}. Best is trial 85 with value: 1009146441.2949191.\n",
      "[I 2024-02-28 09:49:47,474] Trial 87 finished with value: 1093570627.335154 and parameters: {'max_depth': 9, 'min_samples_split': 4, 'min_samples_leaf': 2, 'max_features': 'sqrt', 'criterion': 'squared_error'}. Best is trial 85 with value: 1009146441.2949191.\n",
      "[I 2024-02-28 09:49:47,487] Trial 88 finished with value: 1612376283.751168 and parameters: {'max_depth': 8, 'min_samples_split': 4, 'min_samples_leaf': 3, 'max_features': 'sqrt', 'criterion': 'squared_error'}. Best is trial 85 with value: 1009146441.2949191.\n",
      "[I 2024-02-28 09:49:47,500] Trial 89 finished with value: 2686592237.4089117 and parameters: {'max_depth': 9, 'min_samples_split': 100, 'min_samples_leaf': 6, 'max_features': 'sqrt', 'criterion': 'friedman_mse'}. Best is trial 85 with value: 1009146441.2949191.\n",
      "[I 2024-02-28 09:49:47,514] Trial 90 finished with value: 2175346333.5521812 and parameters: {'max_depth': 9, 'min_samples_split': 5, 'min_samples_leaf': 9, 'max_features': 'sqrt', 'criterion': 'squared_error'}. Best is trial 85 with value: 1009146441.2949191.\n",
      "[I 2024-02-28 09:49:47,528] Trial 91 finished with value: 1545026531.7075245 and parameters: {'max_depth': 8, 'min_samples_split': 10, 'min_samples_leaf': 2, 'max_features': 'sqrt', 'criterion': 'squared_error'}. Best is trial 85 with value: 1009146441.2949191.\n",
      "[I 2024-02-28 09:49:47,541] Trial 92 finished with value: 1137640884.7972171 and parameters: {'max_depth': 9, 'min_samples_split': 16, 'min_samples_leaf': 1, 'max_features': 'sqrt', 'criterion': 'squared_error'}. Best is trial 85 with value: 1009146441.2949191.\n",
      "[I 2024-02-28 09:49:47,554] Trial 93 finished with value: 1232604108.896223 and parameters: {'max_depth': 9, 'min_samples_split': 16, 'min_samples_leaf': 2, 'max_features': 'sqrt', 'criterion': 'squared_error'}. Best is trial 85 with value: 1009146441.2949191.\n",
      "[I 2024-02-28 09:49:47,567] Trial 94 finished with value: 3805940016.4745398 and parameters: {'max_depth': 8, 'min_samples_split': 15, 'min_samples_leaf': 60, 'max_features': 'sqrt', 'criterion': 'squared_error'}. Best is trial 85 with value: 1009146441.2949191.\n",
      "[I 2024-02-28 09:49:47,581] Trial 95 finished with value: 953870993.2314765 and parameters: {'max_depth': 9, 'min_samples_split': 5, 'min_samples_leaf': 2, 'max_features': 'sqrt', 'criterion': 'squared_error'}. Best is trial 95 with value: 953870993.2314765.\n",
      "[I 2024-02-28 09:49:47,594] Trial 96 finished with value: 1324979479.004611 and parameters: {'max_depth': 9, 'min_samples_split': 6, 'min_samples_leaf': 5, 'max_features': 'sqrt', 'criterion': 'squared_error'}. Best is trial 95 with value: 953870993.2314765.\n",
      "[I 2024-02-28 09:49:47,608] Trial 97 finished with value: 1432469493.0785975 and parameters: {'max_depth': 8, 'min_samples_split': 2, 'min_samples_leaf': 3, 'max_features': 'sqrt', 'criterion': 'squared_error'}. Best is trial 95 with value: 953870993.2314765.\n",
      "[I 2024-02-28 09:49:47,621] Trial 98 finished with value: 1131144839.1019073 and parameters: {'max_depth': 9, 'min_samples_split': 9, 'min_samples_leaf': 7, 'max_features': 'sqrt', 'criterion': 'squared_error'}. Best is trial 95 with value: 953870993.2314765.\n",
      "[I 2024-02-28 09:49:47,662] Trial 99 finished with value: 1318078664.6288614 and parameters: {'max_depth': 9, 'min_samples_split': 8, 'min_samples_leaf': 2, 'max_features': 'sqrt', 'criterion': 'absolute_error'}. Best is trial 95 with value: 953870993.2314765.\n"
     ]
    },
    {
     "name": "stdout",
     "output_type": "stream",
     "text": [
      "Number of finished trials: 100\n",
      "Best trial: {'max_depth': 9, 'min_samples_split': 5, 'min_samples_leaf': 2, 'max_features': 'sqrt', 'criterion': 'squared_error'}\n"
     ]
    }
   ],
   "source": [
    "def objective(trial):\n",
    "    param = {\n",
    "        \"max_depth\": trial.suggest_int(\"max_depth\", 2, 10),\n",
    "        \"min_samples_split\": trial.suggest_int(\"min_samples_split\", 2, 150),\n",
    "        \"min_samples_leaf\": trial.suggest_int(\"min_samples_leaf\", 1, 60),\n",
    "        \"max_features\": trial.suggest_categorical(\"max_features\", [\"sqrt\", \"log2\"]),\n",
    "        \"criterion\": trial.suggest_categorical(\n",
    "            \"criterion\", [\"friedman_mse\", \"poisson\", \"absolute_error\", \"squared_error\"]\n",
    "        ),\n",
    "    }\n",
    "\n",
    "    model = DecisionTreeRegressor(**param)\n",
    "\n",
    "    \"\"\"\n",
    "    In case the overfit too much on the training we can use cross validation to get a better estimate of the model performance\n",
    "    \"\"\"\n",
    "    # scores = cross_val_score(\n",
    "    #     model,\n",
    "    #     merged_train_df,\n",
    "    #     train_target,\n",
    "    #     n_jobs=-1,\n",
    "    #     cv=5,\n",
    "    #     scoring=\"neg_mean_squared_error\",\n",
    "    # )\n",
    "\n",
    "    # return -scores.mean()\n",
    "\n",
    "    model.fit(merged_train_df, train_target)\n",
    "    preds = model.predict(merged_train_df)\n",
    "    mse = mean_squared_error(train_target, preds)\n",
    "\n",
    "    return mse\n",
    "\n",
    "\n",
    "study = optuna.create_study(direction=\"minimize\")\n",
    "study.optimize(objective, n_trials=100)\n",
    "\n",
    "print(\"Number of finished trials:\", len(study.trials))\n",
    "print(\"Best trial:\", study.best_trial.params)"
   ]
  },
  {
   "cell_type": "markdown",
   "metadata": {},
   "source": [
    "### Optimized Train and Test"
   ]
  },
  {
   "cell_type": "code",
   "execution_count": 22,
   "metadata": {},
   "outputs": [
    {
     "name": "stdout",
     "output_type": "stream",
     "text": [
      "\n",
      "TRAIN\n",
      "\n",
      "MAE: 28050\n",
      "RMSE: 40725\n",
      "R2 Score: 0.72\n",
      "\n",
      "TEST\n",
      "\n",
      "MAE: 39693\n",
      "RMSE: 68526\n",
      "R2 Score: 0.38\n"
     ]
    },
    {
     "data": {
      "text/plain": [
       "array([147450.1441048 , 258101.85714286, 114445.45454545, 146700.        ,\n",
       "       322034.875     ,  85625.        , 206533.33333333, 158558.23376623,\n",
       "        85625.        , 117494.68085106, 147450.1441048 , 147450.1441048 ,\n",
       "       114445.45454545, 212820.47337278, 212820.47337278, 150065.38461538,\n",
       "       212820.47337278, 147450.1441048 , 114445.45454545, 212820.47337278,\n",
       "       147450.1441048 , 212820.47337278, 212820.47337278, 147450.1441048 ,\n",
       "       212820.47337278, 146390.81481481, 212820.47337278, 124666.66666667,\n",
       "       212820.47337278, 205994.84615385, 147450.1441048 , 212820.47337278,\n",
       "       147450.1441048 ,  97500.        , 212820.47337278, 147450.1441048 ,\n",
       "       125633.33333333, 212820.47337278, 189977.94117647, 301750.        ,\n",
       "       190875.        , 147450.1441048 , 322034.875     , 147450.1441048 ,\n",
       "        86518.75      , 147450.1441048 , 147450.1441048 , 146700.        ,\n",
       "       147450.1441048 , 147450.1441048 , 224333.33333333,  85625.        ,\n",
       "       264487.5       , 135250.        , 212820.47337278, 159937.5       ,\n",
       "       212820.47337278, 117494.68085106, 114445.45454545, 150065.38461538,\n",
       "       379743.66666667, 205994.84615385, 212820.47337278, 147580.        ,\n",
       "       147450.1441048 , 322034.875     , 158558.23376623, 114445.45454545,\n",
       "       147450.1441048 , 147450.1441048 , 408172.33333333, 147580.        ,\n",
       "       212820.47337278, 258101.85714286, 147450.1441048 , 147450.1441048 ,\n",
       "       146390.81481481,  86518.75      , 147450.1441048 , 138006.66666667,\n",
       "       147450.1441048 , 189977.94117647, 194600.        , 224333.33333333,\n",
       "       135250.        , 212820.47337278, 151591.66666667, 147450.1441048 ,\n",
       "       147450.1441048 , 258101.85714286, 147450.1441048 , 212820.47337278,\n",
       "       147450.1441048 , 197177.77777778, 212820.47337278, 146700.        ,\n",
       "       158558.23376623, 212820.47337278, 240159.33333333, 138006.66666667,\n",
       "       147580.        , 147450.1441048 , 150065.38461538, 298250.        ,\n",
       "       212820.47337278, 240159.33333333,  86518.75      , 158558.23376623,\n",
       "       147450.1441048 ,  86518.75      , 212820.47337278, 146390.81481481,\n",
       "       114445.45454545, 147450.1441048 , 114445.45454545, 135250.        ,\n",
       "       212820.47337278, 146390.81481481, 147580.        , 147450.1441048 ,\n",
       "       212820.47337278, 103750.        , 153461.5625    , 158558.23376623,\n",
       "       212820.47337278, 322034.875     , 212820.47337278, 114445.45454545,\n",
       "       114445.45454545, 386253.75      , 270000.        , 124666.66666667,\n",
       "       212820.47337278, 147450.1441048 , 258125.        , 158558.23376623,\n",
       "       189977.94117647, 147450.1441048 , 147450.1441048 , 147450.1441048 ,\n",
       "       146390.81481481, 212820.47337278, 158558.23376623, 117494.68085106,\n",
       "       147450.1441048 , 125351.25      , 147450.1441048 ,  86518.75      ,\n",
       "       125633.33333333, 158558.23376623, 147450.1441048 , 117494.68085106,\n",
       "       147450.1441048 , 212820.47337278, 147450.1441048 , 327500.        ,\n",
       "       117494.68085106, 147450.1441048 , 147450.1441048 , 329333.33333333,\n",
       "       344185.75      , 281625.        , 147450.1441048 , 205994.84615385,\n",
       "       147450.1441048 , 147450.1441048 , 114445.45454545, 150065.38461538,\n",
       "       125633.33333333, 258101.85714286, 146390.81481481, 146390.81481481,\n",
       "       147580.        ,  86518.75      , 147450.1441048 , 121378.57142857,\n",
       "       212820.47337278, 138006.66666667, 217290.43478261, 246904.83333333,\n",
       "       188874.61538462,  85625.        , 114445.45454545, 147450.1441048 ,\n",
       "       147450.1441048 , 396492.5       , 205994.84615385, 117494.68085106,\n",
       "       197177.77777778,  86518.75      , 197177.77777778, 147450.1441048 ,\n",
       "       276000.        , 158558.23376623, 127376.        , 212820.47337278,\n",
       "       212820.47337278, 212820.47337278, 205994.84615385, 212820.47337278,\n",
       "       147450.1441048 , 147450.1441048 , 159937.5       , 147450.1441048 ,\n",
       "       147450.1441048 , 114445.45454545, 158558.23376623, 212820.47337278,\n",
       "       188874.61538462, 147450.1441048 , 159250.        , 147450.1441048 ,\n",
       "       189977.94117647, 171214.28571429, 114445.45454545, 212820.47337278,\n",
       "       147450.1441048 , 114445.45454545, 147450.1441048 , 146390.81481481,\n",
       "       121378.57142857, 217290.43478261, 189977.94117647, 124666.66666667,\n",
       "       264487.5       , 147450.1441048 , 212820.47337278, 147580.        ,\n",
       "       240159.33333333, 158558.23376623, 124666.66666667, 189977.94117647,\n",
       "       396492.5       , 322034.875     , 189977.94117647, 158558.23376623,\n",
       "       158558.23376623, 189977.94117647, 101666.66666667,  97500.        ,\n",
       "       212820.47337278, 197177.77777778, 147450.1441048 , 147450.1441048 ,\n",
       "       147450.1441048 , 158558.23376623, 121378.57142857, 226625.        ,\n",
       "       212820.47337278, 258125.        , 322034.875     , 158558.23376623,\n",
       "       147450.1441048 , 298250.        , 386253.75      , 212820.47337278,\n",
       "       430846.        , 188874.61538462, 147450.1441048 , 219296.5       ,\n",
       "       185500.        , 212820.47337278,  85625.        , 147450.1441048 ,\n",
       "       135250.        , 270000.        , 147450.1441048 , 147450.1441048 ,\n",
       "       101666.66666667, 212820.47337278,  61300.        , 390424.        ,\n",
       "       189977.94117647, 274500.        , 114445.45454545, 174950.        ,\n",
       "       200946.33333333, 117494.68085106, 147450.1441048 ])"
      ]
     },
     "execution_count": 22,
     "metadata": {},
     "output_type": "execute_result"
    }
   ],
   "source": [
    "optimized_dt_regressor_model = DecisionTreeRegressor(**study.best_params)\n",
    "optimized_dt_regressor_model.fit(merged_train_df, train_target)\n",
    "\n",
    "print(\"\\nTRAIN\\n\")\n",
    "evaluate_model(optimized_dt_regressor_model, merged_train_df, train_target)\n",
    "\n",
    "print(\"\\nTEST\\n\")\n",
    "evaluate_model(optimized_dt_regressor_model, merged_val_df, val_target)"
   ]
  },
  {
   "cell_type": "markdown",
   "metadata": {},
   "source": [
    "## Random Forest Regressor\n"
   ]
  },
  {
   "cell_type": "code",
   "execution_count": 23,
   "metadata": {},
   "outputs": [
    {
     "name": "stdout",
     "output_type": "stream",
     "text": [
      "MAE: 6661\n",
      "RMSE: 11830\n",
      "R2 Score: 0.98\n"
     ]
    }
   ],
   "source": [
    "random_forest_regressor = RandomForestRegressor(n_estimators=1000, random_state=50)\n",
    "\n",
    "random_forest_regressor.fit(merged_train_df, train_target)\n",
    "rf_predictions_train = evaluate_model(\n",
    "    random_forest_regressor, merged_train_df, train_target\n",
    ")"
   ]
  },
  {
   "cell_type": "code",
   "execution_count": 24,
   "metadata": {},
   "outputs": [
    {
     "data": {
      "image/png": "[encoded data removed]",
      "text/plain": [
       "<Figure size 640x480 with 1 Axes>"
      ]
     },
     "metadata": {},
     "output_type": "display_data"
    }
   ],
   "source": [
    "plot_actual_vs_predicted(train_target, rf_predictions_train)"
   ]
  },
  {
   "cell_type": "code",
   "execution_count": 25,
   "metadata": {},
   "outputs": [
    {
     "name": "stdout",
     "output_type": "stream",
     "text": [
      "MAE: 19050\n",
      "RMSE: 31826\n",
      "R2 Score: 0.87\n"
     ]
    },
    {
     "data": {
      "image/png": "[encoded data removed]",
      "text/plain": [
       "<Figure size 640x480 with 1 Axes>"
      ]
     },
     "metadata": {},
     "output_type": "display_data"
    }
   ],
   "source": [
    "rf_predictions_val = evaluate_model(\n",
    "    random_forest_regressor, merged_val_df, val_target\n",
    ")\n",
    "\n",
    "plot_actual_vs_predicted(val_target, rf_predictions_val)"
   ]
  },
  {
   "cell_type": "markdown",
   "metadata": {},
   "source": [
    "### Optimize Hyperparameters"
   ]
  },
  {
   "cell_type": "code",
   "execution_count": 26,
   "metadata": {},
   "outputs": [
    {
     "name": "stderr",
     "output_type": "stream",
     "text": [
      "[I 2024-02-28 09:50:05,970] A new study created in memory with name: no-name-7242fb52-48ea-4591-ab74-0aa5450db8ed\n",
      "[I 2024-02-28 09:50:06,825] Trial 0 finished with value: 2494712985.0084968 and parameters: {'n_estimators': 974, 'max_depth': 5, 'min_samples_split': 53, 'min_samples_leaf': 43, 'max_features': 'sqrt', 'criterion': 'friedman_mse'}. Best is trial 0 with value: 2494712985.0084968.\n",
      "[I 2024-02-28 09:50:08,886] Trial 1 finished with value: 3093697846.805481 and parameters: {'n_estimators': 351, 'max_depth': 4, 'min_samples_split': 45, 'min_samples_leaf': 17, 'max_features': 'log2', 'criterion': 'absolute_error'}. Best is trial 0 with value: 2494712985.0084968.\n",
      "[I 2024-02-28 09:50:09,988] Trial 2 finished with value: 2279648139.3074307 and parameters: {'n_estimators': 1378, 'max_depth': 15, 'min_samples_split': 62, 'min_samples_leaf': 15, 'max_features': 'log2', 'criterion': 'squared_error'}. Best is trial 2 with value: 2279648139.3074307.\n",
      "[I 2024-02-28 09:50:11,038] Trial 3 finished with value: 2972052211.9453034 and parameters: {'n_estimators': 1535, 'max_depth': 8, 'min_samples_split': 129, 'min_samples_leaf': 33, 'max_features': 'log2', 'criterion': 'friedman_mse'}. Best is trial 2 with value: 2279648139.3074307.\n",
      "[I 2024-02-28 09:50:19,194] Trial 4 finished with value: 2586168234.4154468 and parameters: {'n_estimators': 1201, 'max_depth': 7, 'min_samples_split': 13, 'min_samples_leaf': 16, 'max_features': 'log2', 'criterion': 'absolute_error'}. Best is trial 2 with value: 2279648139.3074307.\n",
      "[I 2024-02-28 09:50:20,421] Trial 5 finished with value: 2724425008.9321585 and parameters: {'n_estimators': 1470, 'max_depth': 15, 'min_samples_split': 108, 'min_samples_leaf': 57, 'max_features': 'sqrt', 'criterion': 'friedman_mse'}. Best is trial 2 with value: 2279648139.3074307.\n",
      "[I 2024-02-28 09:50:21,962] Trial 6 finished with value: 2917132075.9178014 and parameters: {'n_estimators': 247, 'max_depth': 13, 'min_samples_split': 79, 'min_samples_leaf': 20, 'max_features': 'log2', 'criterion': 'absolute_error'}. Best is trial 2 with value: 2279648139.3074307.\n",
      "[I 2024-02-28 09:50:22,651] Trial 7 finished with value: 3350840336.3667984 and parameters: {'n_estimators': 1108, 'max_depth': 5, 'min_samples_split': 4, 'min_samples_leaf': 59, 'max_features': 'log2', 'criterion': 'squared_error'}. Best is trial 2 with value: 2279648139.3074307.\n",
      "[I 2024-02-28 09:50:23,429] Trial 8 finished with value: 2200493569.687308 and parameters: {'n_estimators': 844, 'max_depth': 5, 'min_samples_split': 14, 'min_samples_leaf': 27, 'max_features': 'sqrt', 'criterion': 'friedman_mse'}. Best is trial 8 with value: 2200493569.687308.\n",
      "[I 2024-02-28 09:50:23,649] Trial 9 finished with value: 1325834024.2804751 and parameters: {'n_estimators': 172, 'max_depth': 8, 'min_samples_split': 34, 'min_samples_leaf': 2, 'max_features': 'sqrt', 'criterion': 'squared_error'}. Best is trial 9 with value: 1325834024.2804751.\n",
      "[I 2024-02-28 09:50:26,057] Trial 10 finished with value: 1723497813.8911123 and parameters: {'n_estimators': 1954, 'max_depth': 11, 'min_samples_split': 92, 'min_samples_leaf': 1, 'max_features': 'sqrt', 'criterion': 'poisson'}. Best is trial 9 with value: 1325834024.2804751.\n",
      "[I 2024-02-28 09:50:28,535] Trial 11 finished with value: 1733940892.8332531 and parameters: {'n_estimators': 1940, 'max_depth': 11, 'min_samples_split': 91, 'min_samples_leaf': 1, 'max_features': 'sqrt', 'criterion': 'poisson'}. Best is trial 9 with value: 1325834024.2804751.\n",
      "[I 2024-02-28 09:50:29,167] Trial 12 finished with value: 2123582087.8952737 and parameters: {'n_estimators': 575, 'max_depth': 10, 'min_samples_split': 141, 'min_samples_leaf': 4, 'max_features': 'sqrt', 'criterion': 'poisson'}. Best is trial 9 with value: 1325834024.2804751.\n",
      "[I 2024-02-28 09:50:30,512] Trial 13 finished with value: 3115527060.228738 and parameters: {'n_estimators': 1969, 'max_depth': 2, 'min_samples_split': 36, 'min_samples_leaf': 6, 'max_features': 'sqrt', 'criterion': 'poisson'}. Best is trial 9 with value: 1325834024.2804751.\n",
      "[I 2024-02-28 09:50:31,350] Trial 14 finished with value: 1994762803.0777712 and parameters: {'n_estimators': 679, 'max_depth': 11, 'min_samples_split': 103, 'min_samples_leaf': 9, 'max_features': 'sqrt', 'criterion': 'squared_error'}. Best is trial 9 with value: 1325834024.2804751.\n",
      "[I 2024-02-28 09:50:31,546] Trial 15 finished with value: 2313443977.033063 and parameters: {'n_estimators': 153, 'max_depth': 9, 'min_samples_split': 71, 'min_samples_leaf': 35, 'max_features': 'sqrt', 'criterion': 'poisson'}. Best is trial 9 with value: 1325834024.2804751.\n",
      "[I 2024-02-28 09:50:33,768] Trial 16 finished with value: 1532521266.274359 and parameters: {'n_estimators': 1728, 'max_depth': 13, 'min_samples_split': 35, 'min_samples_leaf': 11, 'max_features': 'sqrt', 'criterion': 'squared_error'}. Best is trial 9 with value: 1325834024.2804751.\n",
      "[I 2024-02-28 09:50:35,540] Trial 17 finished with value: 2009064420.7498522 and parameters: {'n_estimators': 1703, 'max_depth': 13, 'min_samples_split': 30, 'min_samples_leaf': 26, 'max_features': 'sqrt', 'criterion': 'squared_error'}. Best is trial 9 with value: 1325834024.2804751.\n",
      "[I 2024-02-28 09:50:36,247] Trial 18 finished with value: 1387117571.9107873 and parameters: {'n_estimators': 546, 'max_depth': 13, 'min_samples_split': 23, 'min_samples_leaf': 11, 'max_features': 'sqrt', 'criterion': 'squared_error'}. Best is trial 9 with value: 1325834024.2804751.\n",
      "[I 2024-02-28 09:50:36,717] Trial 19 finished with value: 2437248031.489794 and parameters: {'n_estimators': 499, 'max_depth': 7, 'min_samples_split': 21, 'min_samples_leaf': 40, 'max_features': 'sqrt', 'criterion': 'squared_error'}. Best is trial 9 with value: 1325834024.2804751.\n",
      "[I 2024-02-28 09:50:37,152] Trial 20 finished with value: 1980939908.103407 and parameters: {'n_estimators': 414, 'max_depth': 8, 'min_samples_split': 2, 'min_samples_leaf': 24, 'max_features': 'sqrt', 'criterion': 'squared_error'}. Best is trial 9 with value: 1325834024.2804751.\n",
      "[I 2024-02-28 09:50:37,302] Trial 21 finished with value: 1475823793.9915848 and parameters: {'n_estimators': 112, 'max_depth': 14, 'min_samples_split': 34, 'min_samples_leaf': 9, 'max_features': 'sqrt', 'criterion': 'squared_error'}. Best is trial 9 with value: 1325834024.2804751.\n",
      "[I 2024-02-28 09:50:37,436] Trial 22 finished with value: 1700591035.934156 and parameters: {'n_estimators': 108, 'max_depth': 14, 'min_samples_split': 47, 'min_samples_leaf': 11, 'max_features': 'sqrt', 'criterion': 'squared_error'}. Best is trial 9 with value: 1325834024.2804751.\n",
      "[I 2024-02-28 09:50:37,818] Trial 23 finished with value: 1369074293.747391 and parameters: {'n_estimators': 293, 'max_depth': 12, 'min_samples_split': 30, 'min_samples_leaf': 7, 'max_features': 'sqrt', 'criterion': 'squared_error'}. Best is trial 9 with value: 1325834024.2804751.\n",
      "[I 2024-02-28 09:50:38,787] Trial 24 finished with value: 1128231597.0627236 and parameters: {'n_estimators': 702, 'max_depth': 12, 'min_samples_split': 21, 'min_samples_leaf': 5, 'max_features': 'sqrt', 'criterion': 'squared_error'}. Best is trial 24 with value: 1128231597.0627236.\n",
      "[I 2024-02-28 09:50:39,678] Trial 25 finished with value: 1606577953.5024917 and parameters: {'n_estimators': 752, 'max_depth': 10, 'min_samples_split': 61, 'min_samples_leaf': 5, 'max_features': 'sqrt', 'criterion': 'squared_error'}. Best is trial 24 with value: 1128231597.0627236.\n",
      "[I 2024-02-28 09:50:40,026] Trial 26 finished with value: 2532430930.4879093 and parameters: {'n_estimators': 396, 'max_depth': 12, 'min_samples_split': 17, 'min_samples_leaf': 50, 'max_features': 'sqrt', 'criterion': 'squared_error'}. Best is trial 24 with value: 1128231597.0627236.\n",
      "[I 2024-02-28 09:50:40,363] Trial 27 finished with value: 1896161579.105682 and parameters: {'n_estimators': 302, 'max_depth': 9, 'min_samples_split': 44, 'min_samples_leaf': 22, 'max_features': 'sqrt', 'criterion': 'squared_error'}. Best is trial 24 with value: 1128231597.0627236.\n",
      "[I 2024-02-28 09:50:41,327] Trial 28 finished with value: 1211473418.0078323 and parameters: {'n_estimators': 823, 'max_depth': 7, 'min_samples_split': 26, 'min_samples_leaf': 1, 'max_features': 'sqrt', 'criterion': 'squared_error'}. Best is trial 24 with value: 1128231597.0627236.\n",
      "[I 2024-02-28 09:50:54,065] Trial 29 finished with value: 1803919960.9066532 and parameters: {'n_estimators': 962, 'max_depth': 6, 'min_samples_split': 56, 'min_samples_leaf': 1, 'max_features': 'sqrt', 'criterion': 'absolute_error'}. Best is trial 24 with value: 1128231597.0627236.\n",
      "[I 2024-02-28 09:50:54,774] Trial 30 finished with value: 2485390573.7508535 and parameters: {'n_estimators': 937, 'max_depth': 3, 'min_samples_split': 10, 'min_samples_leaf': 15, 'max_features': 'sqrt', 'criterion': 'friedman_mse'}. Best is trial 24 with value: 1128231597.0627236.\n",
      "[I 2024-02-28 09:50:55,602] Trial 31 finished with value: 1411377730.4191945 and parameters: {'n_estimators': 717, 'max_depth': 7, 'min_samples_split': 26, 'min_samples_leaf': 6, 'max_features': 'sqrt', 'criterion': 'squared_error'}. Best is trial 24 with value: 1128231597.0627236.\n",
      "[I 2024-02-28 09:50:56,351] Trial 32 finished with value: 1460267102.4762888 and parameters: {'n_estimators': 620, 'max_depth': 9, 'min_samples_split': 44, 'min_samples_leaf': 5, 'max_features': 'sqrt', 'criterion': 'squared_error'}. Best is trial 24 with value: 1128231597.0627236.\n",
      "[I 2024-02-28 09:50:56,601] Trial 33 finished with value: 1925973393.9556854 and parameters: {'n_estimators': 242, 'max_depth': 6, 'min_samples_split': 50, 'min_samples_leaf': 19, 'max_features': 'sqrt', 'criterion': 'squared_error'}. Best is trial 24 with value: 1128231597.0627236.\n",
      "[I 2024-02-28 09:50:57,281] Trial 34 finished with value: 2065620064.2165072 and parameters: {'n_estimators': 816, 'max_depth': 10, 'min_samples_split': 38, 'min_samples_leaf': 13, 'max_features': 'log2', 'criterion': 'squared_error'}. Best is trial 24 with value: 1128231597.0627236.\n",
      "[I 2024-02-28 09:50:58,343] Trial 35 finished with value: 1858738303.2891338 and parameters: {'n_estimators': 1251, 'max_depth': 8, 'min_samples_split': 27, 'min_samples_leaf': 8, 'max_features': 'log2', 'criterion': 'squared_error'}. Best is trial 24 with value: 1128231597.0627236.\n",
      "[I 2024-02-28 09:51:04,293] Trial 36 finished with value: 1847506212.7703595 and parameters: {'n_estimators': 433, 'max_depth': 12, 'min_samples_split': 65, 'min_samples_leaf': 3, 'max_features': 'sqrt', 'criterion': 'absolute_error'}. Best is trial 24 with value: 1128231597.0627236.\n",
      "[I 2024-02-28 09:51:05,070] Trial 37 finished with value: 2318077905.6344676 and parameters: {'n_estimators': 1030, 'max_depth': 6, 'min_samples_split': 10, 'min_samples_leaf': 16, 'max_features': 'log2', 'criterion': 'friedman_mse'}. Best is trial 24 with value: 1128231597.0627236.\n",
      "[I 2024-02-28 09:51:05,293] Trial 38 finished with value: 1967110586.3426502 and parameters: {'n_estimators': 245, 'max_depth': 4, 'min_samples_split': 17, 'min_samples_leaf': 8, 'max_features': 'sqrt', 'criterion': 'squared_error'}. Best is trial 24 with value: 1128231597.0627236.\n",
      "[I 2024-02-28 09:51:13,971] Trial 39 finished with value: 2508255014.891701 and parameters: {'n_estimators': 1220, 'max_depth': 12, 'min_samples_split': 53, 'min_samples_leaf': 13, 'max_features': 'log2', 'criterion': 'absolute_error'}. Best is trial 24 with value: 1128231597.0627236.\n",
      "[I 2024-02-28 09:51:14,421] Trial 40 finished with value: 2509161293.8930736 and parameters: {'n_estimators': 485, 'max_depth': 15, 'min_samples_split': 80, 'min_samples_leaf': 49, 'max_features': 'sqrt', 'criterion': 'squared_error'}. Best is trial 24 with value: 1128231597.0627236.\n",
      "[I 2024-02-28 09:51:14,908] Trial 41 finished with value: 1045580759.4052683 and parameters: {'n_estimators': 333, 'max_depth': 14, 'min_samples_split': 26, 'min_samples_leaf': 2, 'max_features': 'sqrt', 'criterion': 'squared_error'}. Best is trial 41 with value: 1045580759.4052683.\n",
      "[I 2024-02-28 09:51:15,378] Trial 42 finished with value: 916782418.4072587 and parameters: {'n_estimators': 314, 'max_depth': 14, 'min_samples_split': 26, 'min_samples_leaf': 1, 'max_features': 'sqrt', 'criterion': 'squared_error'}. Best is trial 42 with value: 916782418.4072587.\n",
      "[I 2024-02-28 09:51:15,961] Trial 43 finished with value: 689334352.6843278 and parameters: {'n_estimators': 349, 'max_depth': 15, 'min_samples_split': 8, 'min_samples_leaf': 3, 'max_features': 'sqrt', 'criterion': 'squared_error'}. Best is trial 43 with value: 689334352.6843278.\n",
      "[I 2024-02-28 09:51:17,352] Trial 44 finished with value: 651595854.3051635 and parameters: {'n_estimators': 837, 'max_depth': 15, 'min_samples_split': 7, 'min_samples_leaf': 3, 'max_features': 'sqrt', 'criterion': 'squared_error'}. Best is trial 44 with value: 651595854.3051635.\n",
      "[I 2024-02-28 09:51:18,321] Trial 45 finished with value: 772842612.5483177 and parameters: {'n_estimators': 606, 'max_depth': 15, 'min_samples_split': 7, 'min_samples_leaf': 4, 'max_features': 'sqrt', 'criterion': 'friedman_mse'}. Best is trial 44 with value: 651595854.3051635.\n",
      "[I 2024-02-28 09:51:18,938] Trial 46 finished with value: 638829188.2721338 and parameters: {'n_estimators': 367, 'max_depth': 14, 'min_samples_split': 7, 'min_samples_leaf': 3, 'max_features': 'sqrt', 'criterion': 'friedman_mse'}. Best is trial 46 with value: 638829188.2721338.\n",
      "[I 2024-02-28 09:51:19,638] Trial 47 finished with value: 1734903808.3060174 and parameters: {'n_estimators': 586, 'max_depth': 15, 'min_samples_split': 7, 'min_samples_leaf': 19, 'max_features': 'sqrt', 'criterion': 'friedman_mse'}. Best is trial 46 with value: 638829188.2721338.\n",
      "[I 2024-02-28 09:51:20,220] Trial 48 finished with value: 1139814032.7331355 and parameters: {'n_estimators': 484, 'max_depth': 15, 'min_samples_split': 2, 'min_samples_leaf': 4, 'max_features': 'log2', 'criterion': 'friedman_mse'}. Best is trial 46 with value: 638829188.2721338.\n",
      "[I 2024-02-28 09:51:20,884] Trial 49 finished with value: 2193140013.939 and parameters: {'n_estimators': 627, 'max_depth': 14, 'min_samples_split': 14, 'min_samples_leaf': 31, 'max_features': 'sqrt', 'criterion': 'friedman_mse'}. Best is trial 46 with value: 638829188.2721338.\n",
      "[I 2024-02-28 09:51:22,069] Trial 50 finished with value: 1339172893.9899423 and parameters: {'n_estimators': 904, 'max_depth': 14, 'min_samples_split': 8, 'min_samples_leaf': 10, 'max_features': 'sqrt', 'criterion': 'friedman_mse'}. Best is trial 46 with value: 638829188.2721338.\n",
      "[I 2024-02-28 09:51:22,581] Trial 51 finished with value: 845983823.7886207 and parameters: {'n_estimators': 332, 'max_depth': 14, 'min_samples_split': 15, 'min_samples_leaf': 3, 'max_features': 'sqrt', 'criterion': 'friedman_mse'}. Best is trial 46 with value: 638829188.2721338.\n",
      "[I 2024-02-28 09:51:22,899] Trial 52 finished with value: 825239409.2245606 and parameters: {'n_estimators': 200, 'max_depth': 15, 'min_samples_split': 13, 'min_samples_leaf': 3, 'max_features': 'sqrt', 'criterion': 'friedman_mse'}. Best is trial 46 with value: 638829188.2721338.\n",
      "[I 2024-02-28 09:51:23,102] Trial 53 finished with value: 2125750248.2127988 and parameters: {'n_estimators': 199, 'max_depth': 15, 'min_samples_split': 124, 'min_samples_leaf': 13, 'max_features': 'sqrt', 'criterion': 'friedman_mse'}. Best is trial 46 with value: 638829188.2721338.\n",
      "[I 2024-02-28 09:51:23,687] Trial 54 finished with value: 885912234.7845863 and parameters: {'n_estimators': 386, 'max_depth': 13, 'min_samples_split': 15, 'min_samples_leaf': 3, 'max_features': 'sqrt', 'criterion': 'friedman_mse'}. Best is trial 46 with value: 638829188.2721338.\n",
      "[I 2024-02-28 09:51:23,971] Trial 55 finished with value: 1071533071.6042045 and parameters: {'n_estimators': 197, 'max_depth': 15, 'min_samples_split': 7, 'min_samples_leaf': 7, 'max_features': 'sqrt', 'criterion': 'friedman_mse'}. Best is trial 46 with value: 638829188.2721338.\n",
      "[I 2024-02-28 09:51:24,804] Trial 56 finished with value: 782337815.3008032 and parameters: {'n_estimators': 520, 'max_depth': 15, 'min_samples_split': 2, 'min_samples_leaf': 4, 'max_features': 'sqrt', 'criterion': 'friedman_mse'}. Best is trial 46 with value: 638829188.2721338.\n",
      "[I 2024-02-28 09:51:25,290] Trial 57 finished with value: 2283791803.45503 and parameters: {'n_estimators': 509, 'max_depth': 15, 'min_samples_split': 3, 'min_samples_leaf': 37, 'max_features': 'sqrt', 'criterion': 'friedman_mse'}. Best is trial 46 with value: 638829188.2721338.\n",
      "[I 2024-02-28 09:51:26,354] Trial 58 finished with value: 1254125127.7120407 and parameters: {'n_estimators': 772, 'max_depth': 15, 'min_samples_split': 11, 'min_samples_leaf': 9, 'max_features': 'sqrt', 'criterion': 'friedman_mse'}. Best is trial 46 with value: 638829188.2721338.\n",
      "[I 2024-02-28 09:51:27,283] Trial 59 finished with value: 1174506976.0113695 and parameters: {'n_estimators': 659, 'max_depth': 13, 'min_samples_split': 21, 'min_samples_leaf': 6, 'max_features': 'sqrt', 'criterion': 'friedman_mse'}. Best is trial 46 with value: 638829188.2721338.\n",
      "[I 2024-02-28 09:51:28,799] Trial 60 finished with value: 1397618977.4403389 and parameters: {'n_estimators': 1119, 'max_depth': 14, 'min_samples_split': 6, 'min_samples_leaf': 11, 'max_features': 'sqrt', 'criterion': 'poisson'}. Best is trial 46 with value: 638829188.2721338.\n",
      "[I 2024-02-28 09:51:29,437] Trial 61 finished with value: 987351586.2546067 and parameters: {'n_estimators': 432, 'max_depth': 14, 'min_samples_split': 17, 'min_samples_leaf': 4, 'max_features': 'sqrt', 'criterion': 'friedman_mse'}. Best is trial 46 with value: 638829188.2721338.\n",
      "[I 2024-02-28 09:51:30,018] Trial 62 finished with value: 621092872.8836404 and parameters: {'n_estimators': 339, 'max_depth': 15, 'min_samples_split': 2, 'min_samples_leaf': 3, 'max_features': 'sqrt', 'criterion': 'friedman_mse'}. Best is trial 62 with value: 621092872.8836404.\n",
      "[I 2024-02-28 09:51:30,802] Trial 63 finished with value: 1115281276.1204433 and parameters: {'n_estimators': 549, 'max_depth': 15, 'min_samples_split': 4, 'min_samples_leaf': 7, 'max_features': 'sqrt', 'criterion': 'friedman_mse'}. Best is trial 62 with value: 621092872.8836404.\n",
      "[I 2024-02-28 09:51:31,411] Trial 64 finished with value: 773287929.5449104 and parameters: {'n_estimators': 381, 'max_depth': 15, 'min_samples_split': 2, 'min_samples_leaf': 4, 'max_features': 'sqrt', 'criterion': 'friedman_mse'}. Best is trial 62 with value: 621092872.8836404.\n",
      "[I 2024-02-28 09:51:32,317] Trial 65 finished with value: 252453216.42567837 and parameters: {'n_estimators': 462, 'max_depth': 13, 'min_samples_split': 2, 'min_samples_leaf': 1, 'max_features': 'sqrt', 'criterion': 'friedman_mse'}. Best is trial 65 with value: 252453216.42567837.\n",
      "[I 2024-02-28 09:51:32,713] Trial 66 finished with value: 2037915859.5966086 and parameters: {'n_estimators': 389, 'max_depth': 13, 'min_samples_split': 150, 'min_samples_leaf': 1, 'max_features': 'sqrt', 'criterion': 'friedman_mse'}. Best is trial 65 with value: 252453216.42567837.\n",
      "[I 2024-02-28 09:51:33,350] Trial 67 finished with value: 1307184659.4666903 and parameters: {'n_estimators': 449, 'max_depth': 14, 'min_samples_split': 10, 'min_samples_leaf': 9, 'max_features': 'sqrt', 'criterion': 'poisson'}. Best is trial 65 with value: 252453216.42567837.\n",
      "[I 2024-02-28 09:51:33,735] Trial 68 finished with value: 1112218684.4083455 and parameters: {'n_estimators': 274, 'max_depth': 13, 'min_samples_split': 19, 'min_samples_leaf': 6, 'max_features': 'sqrt', 'criterion': 'friedman_mse'}. Best is trial 65 with value: 252453216.42567837.\n",
      "[I 2024-02-28 09:51:34,075] Trial 69 finished with value: 1872985288.7723958 and parameters: {'n_estimators': 368, 'max_depth': 15, 'min_samples_split': 7, 'min_samples_leaf': 11, 'max_features': 'log2', 'criterion': 'friedman_mse'}. Best is trial 65 with value: 252453216.42567837.\n",
      "[I 2024-02-28 09:51:41,818] Trial 70 finished with value: 1515349861.9082766 and parameters: {'n_estimators': 583, 'max_depth': 13, 'min_samples_split': 32, 'min_samples_leaf': 5, 'max_features': 'sqrt', 'criterion': 'absolute_error'}. Best is trial 65 with value: 252453216.42567837.\n",
      "[I 2024-02-28 09:51:42,686] Trial 71 finished with value: 619154127.8457792 and parameters: {'n_estimators': 511, 'max_depth': 15, 'min_samples_split': 2, 'min_samples_leaf': 3, 'max_features': 'sqrt', 'criterion': 'friedman_mse'}. Best is trial 65 with value: 252453216.42567837.\n",
      "[I 2024-02-28 09:51:43,619] Trial 72 finished with value: 226595676.28290462 and parameters: {'n_estimators': 459, 'max_depth': 14, 'min_samples_split': 2, 'min_samples_leaf': 1, 'max_features': 'sqrt', 'criterion': 'friedman_mse'}. Best is trial 72 with value: 226595676.28290462.\n",
      "[I 2024-02-28 09:51:44,740] Trial 73 finished with value: 497338466.29329294 and parameters: {'n_estimators': 661, 'max_depth': 14, 'min_samples_split': 10, 'min_samples_leaf': 1, 'max_features': 'sqrt', 'criterion': 'friedman_mse'}. Best is trial 72 with value: 226595676.28290462.\n",
      "[I 2024-02-28 09:51:45,499] Trial 74 finished with value: 602383818.8484472 and parameters: {'n_estimators': 463, 'max_depth': 14, 'min_samples_split': 13, 'min_samples_leaf': 1, 'max_features': 'sqrt', 'criterion': 'friedman_mse'}. Best is trial 72 with value: 226595676.28290462.\n",
      "[I 2024-02-28 09:51:46,917] Trial 75 finished with value: 597597695.2135204 and parameters: {'n_estimators': 873, 'max_depth': 14, 'min_samples_split': 13, 'min_samples_leaf': 1, 'max_features': 'sqrt', 'criterion': 'friedman_mse'}. Best is trial 72 with value: 226595676.28290462.\n",
      "[I 2024-02-28 09:51:47,851] Trial 76 finished with value: 1134128432.4991314 and parameters: {'n_estimators': 686, 'max_depth': 14, 'min_samples_split': 40, 'min_samples_leaf': 1, 'max_features': 'sqrt', 'criterion': 'friedman_mse'}. Best is trial 72 with value: 226595676.28290462.\n",
      "[I 2024-02-28 09:51:48,843] Trial 77 finished with value: 1249587178.2304468 and parameters: {'n_estimators': 757, 'max_depth': 11, 'min_samples_split': 22, 'min_samples_leaf': 7, 'max_features': 'sqrt', 'criterion': 'friedman_mse'}. Best is trial 72 with value: 226595676.28290462.\n",
      "[I 2024-02-28 09:51:49,606] Trial 78 finished with value: 628227228.5081187 and parameters: {'n_estimators': 473, 'max_depth': 13, 'min_samples_split': 13, 'min_samples_leaf': 1, 'max_features': 'sqrt', 'criterion': 'friedman_mse'}. Best is trial 72 with value: 226595676.28290462.\n",
      "[I 2024-02-28 09:51:50,369] Trial 79 finished with value: 592335062.3441526 and parameters: {'n_estimators': 478, 'max_depth': 12, 'min_samples_split': 12, 'min_samples_leaf': 1, 'max_features': 'sqrt', 'criterion': 'friedman_mse'}. Best is trial 72 with value: 226595676.28290462.\n",
      "[I 2024-02-28 09:51:51,295] Trial 80 finished with value: 1046879720.254339 and parameters: {'n_estimators': 877, 'max_depth': 12, 'min_samples_split': 19, 'min_samples_leaf': 1, 'max_features': 'log2', 'criterion': 'friedman_mse'}. Best is trial 72 with value: 226595676.28290462.\n",
      "[I 2024-02-28 09:51:52,064] Trial 81 finished with value: 594046147.4555532 and parameters: {'n_estimators': 473, 'max_depth': 13, 'min_samples_split': 12, 'min_samples_leaf': 1, 'max_features': 'sqrt', 'criterion': 'friedman_mse'}. Best is trial 72 with value: 226595676.28290462.\n",
      "[I 2024-02-28 09:51:52,856] Trial 82 finished with value: 745186239.1750755 and parameters: {'n_estimators': 526, 'max_depth': 11, 'min_samples_split': 12, 'min_samples_leaf': 2, 'max_features': 'sqrt', 'criterion': 'friedman_mse'}. Best is trial 72 with value: 226595676.28290462.\n",
      "[I 2024-02-28 09:51:53,740] Trial 83 finished with value: 1062971766.7125728 and parameters: {'n_estimators': 633, 'max_depth': 12, 'min_samples_split': 17, 'min_samples_leaf': 5, 'max_features': 'sqrt', 'criterion': 'friedman_mse'}. Best is trial 72 with value: 226595676.28290462.\n",
      "[I 2024-02-28 09:51:54,485] Trial 84 finished with value: 1207695753.4801214 and parameters: {'n_estimators': 554, 'max_depth': 14, 'min_samples_split': 24, 'min_samples_leaf': 6, 'max_features': 'sqrt', 'criterion': 'friedman_mse'}. Best is trial 72 with value: 226595676.28290462.\n",
      "[I 2024-02-28 09:51:55,008] Trial 85 finished with value: 1736399452.720721 and parameters: {'n_estimators': 462, 'max_depth': 13, 'min_samples_split': 93, 'min_samples_leaf': 2, 'max_features': 'sqrt', 'criterion': 'friedman_mse'}. Best is trial 72 with value: 226595676.28290462.\n",
      "[I 2024-02-28 09:51:55,981] Trial 86 finished with value: 1198137854.7788806 and parameters: {'n_estimators': 717, 'max_depth': 13, 'min_samples_split': 11, 'min_samples_leaf': 8, 'max_features': 'sqrt', 'criterion': 'friedman_mse'}. Best is trial 72 with value: 226595676.28290462.\n",
      "[I 2024-02-28 09:51:57,230] Trial 87 finished with value: 2630400403.356328 and parameters: {'n_estimators': 1482, 'max_depth': 12, 'min_samples_split': 29, 'min_samples_leaf': 55, 'max_features': 'sqrt', 'criterion': 'friedman_mse'}. Best is trial 72 with value: 226595676.28290462.\n",
      "[I 2024-02-28 09:51:58,986] Trial 88 finished with value: 470705298.401242 and parameters: {'n_estimators': 1004, 'max_depth': 14, 'min_samples_split': 5, 'min_samples_leaf': 2, 'max_features': 'sqrt', 'criterion': 'friedman_mse'}. Best is trial 72 with value: 226595676.28290462.\n",
      "[I 2024-02-28 09:52:08,642] Trial 89 finished with value: 2369928833.74678 and parameters: {'n_estimators': 1080, 'max_depth': 14, 'min_samples_split': 19, 'min_samples_leaf': 27, 'max_features': 'sqrt', 'criterion': 'absolute_error'}. Best is trial 72 with value: 226595676.28290462.\n",
      "[I 2024-02-28 09:52:10,785] Trial 90 finished with value: 655411345.817215 and parameters: {'n_estimators': 1354, 'max_depth': 13, 'min_samples_split': 15, 'min_samples_leaf': 1, 'max_features': 'sqrt', 'criterion': 'friedman_mse'}. Best is trial 72 with value: 226595676.28290462.\n",
      "[I 2024-02-28 09:52:11,555] Trial 91 finished with value: 442663626.4073199 and parameters: {'n_estimators': 426, 'max_depth': 14, 'min_samples_split': 4, 'min_samples_leaf': 2, 'max_features': 'sqrt', 'criterion': 'friedman_mse'}. Best is trial 72 with value: 226595676.28290462.\n",
      "[I 2024-02-28 09:52:13,096] Trial 92 finished with value: 924018546.2340436 and parameters: {'n_estimators': 1038, 'max_depth': 14, 'min_samples_split': 11, 'min_samples_leaf': 5, 'max_features': 'sqrt', 'criterion': 'friedman_mse'}. Best is trial 72 with value: 226595676.28290462.\n",
      "[I 2024-02-28 09:52:13,845] Trial 93 finished with value: 495556803.03534806 and parameters: {'n_estimators': 428, 'max_depth': 14, 'min_samples_split': 6, 'min_samples_leaf': 2, 'max_features': 'sqrt', 'criterion': 'friedman_mse'}. Best is trial 72 with value: 226595676.28290462.\n",
      "[I 2024-02-28 09:52:15,570] Trial 94 finished with value: 466151646.3845005 and parameters: {'n_estimators': 982, 'max_depth': 14, 'min_samples_split': 5, 'min_samples_leaf': 2, 'max_features': 'sqrt', 'criterion': 'friedman_mse'}. Best is trial 72 with value: 226595676.28290462.\n",
      "[I 2024-02-28 09:52:17,165] Trial 95 finished with value: 918815213.1366924 and parameters: {'n_estimators': 994, 'max_depth': 13, 'min_samples_split': 6, 'min_samples_leaf': 5, 'max_features': 'sqrt', 'criterion': 'poisson'}. Best is trial 72 with value: 226595676.28290462.\n",
      "[I 2024-02-28 09:52:19,019] Trial 96 finished with value: 626766648.3544391 and parameters: {'n_estimators': 1151, 'max_depth': 13, 'min_samples_split': 9, 'min_samples_leaf': 2, 'max_features': 'sqrt', 'criterion': 'friedman_mse'}. Best is trial 72 with value: 226595676.28290462.\n",
      "[I 2024-02-28 09:52:20,355] Trial 97 finished with value: 1209311046.40373 and parameters: {'n_estimators': 980, 'max_depth': 14, 'min_samples_split': 5, 'min_samples_leaf': 8, 'max_features': 'sqrt', 'criterion': 'friedman_mse'}. Best is trial 72 with value: 226595676.28290462.\n",
      "[I 2024-02-28 09:52:21,062] Trial 98 finished with value: 2343240821.603888 and parameters: {'n_estimators': 897, 'max_depth': 12, 'min_samples_split': 118, 'min_samples_leaf': 4, 'max_features': 'log2', 'criterion': 'friedman_mse'}. Best is trial 72 with value: 226595676.28290462.\n",
      "[I 2024-02-28 09:52:22,446] Trial 99 finished with value: 967305016.3695086 and parameters: {'n_estimators': 947, 'max_depth': 14, 'min_samples_split': 23, 'min_samples_leaf': 2, 'max_features': 'sqrt', 'criterion': 'friedman_mse'}. Best is trial 72 with value: 226595676.28290462.\n"
     ]
    },
    {
     "name": "stdout",
     "output_type": "stream",
     "text": [
      "Number of finished trials: 100\n",
      "Best trial: {'n_estimators': 459, 'max_depth': 14, 'min_samples_split': 2, 'min_samples_leaf': 1, 'max_features': 'sqrt', 'criterion': 'friedman_mse'}\n"
     ]
    }
   ],
   "source": [
    "def objective(trial):\n",
    "    param = {\n",
    "        \"n_estimators\": trial.suggest_int(\"n_estimators\", 100, 2000),\n",
    "        \"max_depth\": trial.suggest_int(\"max_depth\", 2, 15),\n",
    "        \"min_samples_split\": trial.suggest_int(\"min_samples_split\", 2, 150),\n",
    "        \"min_samples_leaf\": trial.suggest_int(\"min_samples_leaf\", 1, 60),\n",
    "        \"max_features\": trial.suggest_categorical(\"max_features\", [\"sqrt\", \"log2\"]),\n",
    "        \"criterion\": trial.suggest_categorical(\n",
    "            \"criterion\", [\"squared_error\", \"absolute_error\", \"poisson\", \"friedman_mse\"]\n",
    "        ),\n",
    "    }\n",
    "\n",
    "    model = RandomForestRegressor(**param)\n",
    "    model.fit(merged_train_df, train_target)\n",
    "\n",
    "    preds = model.predict(merged_train_df)\n",
    "\n",
    "    mse = mean_squared_error(train_target, preds)\n",
    "\n",
    "    return mse\n",
    "\n",
    "\n",
    "study = optuna.create_study(direction=\"minimize\")\n",
    "study.optimize(objective, n_trials=100)\n",
    "\n",
    "print(\"Number of finished trials:\", len(study.trials))\n",
    "print(\"Best trial:\", study.best_params)"
   ]
  },
  {
   "cell_type": "markdown",
   "metadata": {},
   "source": [
    "### Optimized Train and Test"
   ]
  },
  {
   "cell_type": "code",
   "execution_count": 27,
   "metadata": {},
   "outputs": [
    {
     "name": "stdout",
     "output_type": "stream",
     "text": [
      "\n",
      "TRAIN\n",
      "\n",
      "MAE: 9539\n",
      "RMSE: 14726\n",
      "R2 Score: 0.96\n",
      "\n",
      "TEST\n",
      "\n",
      "MAE: 22576\n",
      "RMSE: 41194\n",
      "R2 Score: 0.77\n"
     ]
    },
    {
     "data": {
      "text/plain": [
       "array([143815.29722587, 292406.97483889, 113665.45698041, 142921.55195698,\n",
       "       315194.35786049, 105564.37419386, 204074.30779946, 158680.89654526,\n",
       "       107987.23116327, 143872.27034429, 141375.76858235, 128323.45327169,\n",
       "       135695.9422209 , 221918.76548082, 179808.84947518, 137622.54448701,\n",
       "       202655.3783314 , 134013.83264897, 118529.73081328, 230370.01781315,\n",
       "       158155.05733174, 199950.19999997, 201969.74366749, 136818.77648448,\n",
       "       214083.15760677, 185509.4680568 , 200074.45143663, 122358.96655761,\n",
       "       177418.11663422, 216116.71271703, 135022.35050727, 274048.17290526,\n",
       "       207492.21661926, 123587.32620863, 245147.75932975, 148000.92609083,\n",
       "       139997.85064933, 211445.54931952, 282114.3802208 , 135839.6900114 ,\n",
       "       247552.05860495, 125509.42385141, 343005.60806975, 136520.07514257,\n",
       "       141928.19310681, 129891.75405206, 131897.14522524, 325691.05771616,\n",
       "       138982.12863179, 127691.69363396, 206513.34897396, 131921.1015213 ,\n",
       "       262757.79561862, 165127.64563451, 252868.5518439 , 212340.6712863 ,\n",
       "       171601.6769266 , 144182.12314365, 105173.20586357, 162382.55505824,\n",
       "       294137.07525103, 246024.77329244, 270820.47021138, 176278.60305222,\n",
       "       118051.15102678, 306859.71419218, 132697.97547603, 185528.84934942,\n",
       "       137697.72155501, 124996.21539619, 404536.98961511, 192316.90028285,\n",
       "       279043.58082328, 322128.02455957, 131281.52452091, 129328.288517  ,\n",
       "       132409.67436708, 105495.16614912, 124014.33825446, 121434.43267127,\n",
       "       158774.73049596, 130402.41809566, 254173.08305346, 202928.96418509,\n",
       "       159156.7387246 , 192499.34043293, 137607.08008096, 163088.17408077,\n",
       "       133791.07839097, 258601.35993694, 138673.30122122, 198729.00454616,\n",
       "       164681.48232434, 202721.10910291, 216414.4119572 , 252353.67110088,\n",
       "       177999.23032893, 215637.81234342, 227590.88839645, 132253.68098244,\n",
       "       191048.70084066, 168030.77560389, 152006.50319288, 253618.78790508,\n",
       "       160218.49478731, 219515.05280101, 107379.86673153, 137639.50718038,\n",
       "       144358.61940015, 135584.02981573, 209315.11645571, 139687.48528671,\n",
       "       116154.22863888, 130200.95318128, 145431.66045929, 170901.26248413,\n",
       "       181420.73288056, 166153.62161658, 183221.03855045, 140440.28658128,\n",
       "       230525.72581917, 116624.4007305 , 168165.16529277, 183129.24444017,\n",
       "       201480.0149309 , 344169.76612256, 193540.19256577, 137608.29409195,\n",
       "       101539.48551946, 326735.42600878, 347595.00238787, 143885.90550699,\n",
       "       240220.38356092, 356543.08397934, 298679.94536963, 139149.78563382,\n",
       "       194826.82287212, 154677.6724644 , 153577.61875975, 139504.30129811,\n",
       "       208289.01137073, 204155.26526627, 142312.95476767,  95105.27402572,\n",
       "       129745.67335163, 159729.49775251, 164968.74983982, 101370.22810427,\n",
       "       157048.68691671, 160051.24336654, 142337.55745734, 127075.35847063,\n",
       "       142109.89994428, 202958.0948709 , 169585.74446362, 297641.59070277,\n",
       "       153585.60281192, 122398.20895017, 145097.6397914 , 294481.35552665,\n",
       "       301034.49142697, 325049.54063412, 184084.51523167, 318305.99097067,\n",
       "       116372.72805346, 142101.28253724, 141876.79639024, 299078.9325142 ,\n",
       "       133513.41219945, 212843.08276223, 128494.61010859, 179592.07220018,\n",
       "       175103.23689499, 118390.73259636, 132461.16996756, 141648.07834257,\n",
       "       240830.22742037, 142864.20287269, 286873.52655393, 254771.35947148,\n",
       "       211258.41088044, 110455.05292771, 125212.04221363, 124647.38017788,\n",
       "       167453.3875117 , 193858.13361902, 214680.50965187, 165262.23020958,\n",
       "       196490.33703712, 109803.54477698, 212926.66527314, 140966.79677389,\n",
       "       247340.21617232, 191920.46721409, 127799.99672394, 287917.54692095,\n",
       "       206357.14043751, 137893.44851675, 233010.8025235 , 136818.13267297,\n",
       "       149457.10744228, 127514.5436028 , 230182.63239413, 148774.66413526,\n",
       "       139059.3974514 , 177833.13366657, 207597.8886688 , 254569.13939629,\n",
       "       237330.92007989, 154483.76949475, 158076.57368609, 140914.84941095,\n",
       "       238526.31631517, 187800.49087918, 116581.00547229, 230399.9974504 ,\n",
       "       152244.32429604, 113529.38442259, 123430.40727825, 175185.8520488 ,\n",
       "       123772.98503813, 188246.06851464, 138598.1506521 , 129036.5296698 ,\n",
       "       238920.91530159, 149080.5610237 , 215177.49048937, 168742.04520795,\n",
       "       223236.25944237, 134970.95361942, 122833.88867965, 248434.92093826,\n",
       "       241203.09125229, 368132.06465333, 194450.8175548 , 153601.40552581,\n",
       "       165098.66936707, 177663.42892184, 148992.05361896, 117683.21887474,\n",
       "       196131.7521135 , 193619.01773833, 134104.01774849, 117703.02935838,\n",
       "       154066.82544637, 146380.55334804, 121160.16168489, 118703.85651367,\n",
       "       198112.06685681, 253777.22033867, 293251.99490688, 180153.76449943,\n",
       "       135798.8307927 , 269429.05376798, 331287.05125659, 242441.70465104,\n",
       "       178299.96511325, 158209.08066009, 135429.8421684 , 175830.42144858,\n",
       "       232294.62602965, 232764.78803047, 110997.79510114, 146223.50948979,\n",
       "       152719.58135044, 299717.77394364, 213668.64184736, 141366.20681632,\n",
       "       121532.00731046, 196497.42699955, 153084.30337929, 309125.57753325,\n",
       "       168973.84424403, 212824.97833553, 141717.20495278, 271143.14356755,\n",
       "       202515.96223362, 134690.84301731, 126835.89450721])"
      ]
     },
     "execution_count": 27,
     "metadata": {},
     "output_type": "execute_result"
    }
   ],
   "source": [
    "optimized_rforest = RandomForestRegressor(**study.best_params)\n",
    "optimized_rforest.fit(merged_train_df, train_target)\n",
    "\n",
    "print(\"\\nTRAIN\\n\")\n",
    "evaluate_model(optimized_rforest, merged_train_df, train_target)\n",
    "\n",
    "print(\"\\nTEST\\n\")\n",
    "evaluate_model(optimized_rforest, merged_val_df, val_target)"
   ]
  },
  {
   "cell_type": "markdown",
   "metadata": {},
   "source": [
    "## Ensemble method: LightGMB Regressor\n"
   ]
  },
  {
   "cell_type": "code",
   "execution_count": 28,
   "metadata": {},
   "outputs": [],
   "source": [
    "cat_train = train_df.columns[train_df.dtypes == \"object\"]\n",
    "cat_val = val_df.columns[val_df.dtypes == \"object\"]\n",
    "\n",
    "for id in cat_train:\n",
    "    train_df[id] = train_df[id].astype(\"category\")\n",
    "\n",
    "for id in cat_val:\n",
    "    val_df[id] = val_df[id].astype(\"category\")\n",
    "\n",
    "\n",
    "lgb_train = lgb.Dataset(train_df, train_target)\n",
    "lgb_val = lgb.Dataset(val_df, val_target)"
   ]
  },
  {
   "cell_type": "code",
   "execution_count": 29,
   "metadata": {},
   "outputs": [
    {
     "data": {
      "text/plain": [
       "Id                float64\n",
       "MSSubClass        float64\n",
       "MSZoning         category\n",
       "LotArea           float64\n",
       "Street           category\n",
       "                   ...   \n",
       "MiscVal           float64\n",
       "MoSold            float64\n",
       "YrSold            float64\n",
       "SaleType         category\n",
       "SaleCondition    category\n",
       "Length: 69, dtype: object"
      ]
     },
     "execution_count": 29,
     "metadata": {},
     "output_type": "execute_result"
    }
   ],
   "source": [
    "val_df.dtypes"
   ]
  },
  {
   "cell_type": "code",
   "execution_count": 43,
   "metadata": {},
   "outputs": [
    {
     "name": "stdout",
     "output_type": "stream",
     "text": [
      "[LightGBM] [Info] Auto-choosing row-wise multi-threading, the overhead of testing was 0.003007 seconds.\n",
      "You can set `force_row_wise=true` to remove the overhead.\n",
      "And if memory is not enough, you can set `force_col_wise=true`.\n",
      "[LightGBM] [Info] Total Bins 3186\n",
      "[LightGBM] [Info] Number of data points in the train set: 1133, number of used features: 65\n",
      "[LightGBM] [Info] Start training from score 183227.541041\n",
      "MAE: 2367\n",
      "RMSE: 5819\n",
      "R2 Score: 0.99\n"
     ]
    },
    {
     "data": {
      "image/png": "[encoded data removed]",
      "text/plain": [
       "<Figure size 640x480 with 1 Axes>"
      ]
     },
     "metadata": {},
     "output_type": "display_data"
    }
   ],
   "source": [
    "params = {\n",
    "    \"objective\": \"regression\",\n",
    "    \"metric\": \"rmse\",\n",
    "    # \"num_leaves\": 30,\n",
    "    # \"learning_rate\": 0.05,\n",
    "    # \"verbose\": 0,\n",
    "}\n",
    "\n",
    "lgb_model = lgb.train(\n",
    "    params,\n",
    "    lgb_train,\n",
    "    num_boost_round=200,\n",
    "    # valid_sets=[lgb_train, lgb_val],\n",
    "    # early_stopping_rounds=100,\n",
    "    # verbose_eval=100,\n",
    ")\n",
    "\n",
    "\n",
    "lgb_predictions_train = evaluate_model(lgb_model, train_df, train_target)\n",
    "\n",
    "plot_actual_vs_predicted(train_target, lgb_predictions_train)"
   ]
  },
  {
   "cell_type": "code",
   "execution_count": 31,
   "metadata": {},
   "outputs": [
    {
     "name": "stdout",
     "output_type": "stream",
     "text": [
      "MAE: 17210\n",
      "RMSE: 28535\n",
      "R2 Score: 0.89\n"
     ]
    },
    {
     "data": {
      "image/png": "[encoded data removed]",
      "text/plain": [
       "<Figure size 640x480 with 1 Axes>"
      ]
     },
     "metadata": {},
     "output_type": "display_data"
    }
   ],
   "source": [
    "lgb_predictions_val = evaluate_model(lgb_model, val_df, val_target)\n",
    "\n",
    "plot_actual_vs_predicted(val_target, lgb_predictions_val)"
   ]
  },
  {
   "cell_type": "markdown",
   "metadata": {},
   "source": [
    "### Optimize Hyperparameters"
   ]
  },
  {
   "cell_type": "code",
   "execution_count": 44,
   "metadata": {},
   "outputs": [
    {
     "name": "stderr",
     "output_type": "stream",
     "text": [
      "[I 2024-02-28 10:19:09,092] A new study created in memory with name: no-name-d91f4b32-d9bb-4bd5-af8a-7af0bb04ebdd\n"
     ]
    },
    {
     "name": "stdout",
     "output_type": "stream",
     "text": [
      "Training until validation scores don't improve for 100 rounds\n",
      "[100]\tvalid_0's rmse: 28475.6\n"
     ]
    },
    {
     "name": "stderr",
     "output_type": "stream",
     "text": [
      "[I 2024-02-28 10:19:10,350] Trial 0 finished with value: 791458901.7494004 and parameters: {'num_leaves': 44, 'learning_rate': 0.0951207163345817, 'max_depth': 38, 'subsample': 0.7993292420985183, 'colsample_bytree': 0.5780093202212182, 'reg_alpha': 0.15599452033620265}. Best is trial 0 with value: 791458901.7494004.\n"
     ]
    },
    {
     "name": "stdout",
     "output_type": "stream",
     "text": [
      "[200]\tvalid_0's rmse: 28197.7\n",
      "Did not meet early stopping. Best iteration is:\n",
      "[152]\tvalid_0's rmse: 28132.9\n",
      "Training until validation scores don't improve for 100 rounds\n",
      "[100]\tvalid_0's rmse: 29125.9\n"
     ]
    },
    {
     "name": "stderr",
     "output_type": "stream",
     "text": [
      "[I 2024-02-28 10:19:10,865] Trial 1 finished with value: 818556704.4651943 and parameters: {'num_leaves': 15, 'learning_rate': 0.08675143843171859, 'max_depth': 32, 'subsample': 0.8540362888980227, 'colsample_bytree': 0.5102922471479012, 'reg_alpha': 0.9699098521619943}. Best is trial 0 with value: 791458901.7494004.\n"
     ]
    },
    {
     "name": "stdout",
     "output_type": "stream",
     "text": [
      "[200]\tvalid_0's rmse: 28732.2\n",
      "Did not meet early stopping. Best iteration is:\n",
      "[176]\tvalid_0's rmse: 28610.4\n",
      "Training until validation scores don't improve for 100 rounds\n",
      "[100]\tvalid_0's rmse: 33996.5\n"
     ]
    },
    {
     "name": "stderr",
     "output_type": "stream",
     "text": [
      "[I 2024-02-28 10:19:11,803] Trial 2 finished with value: 904232079.5993665 and parameters: {'num_leaves': 85, 'learning_rate': 0.022021571957149343, 'max_depth': 13, 'subsample': 0.5917022549267169, 'colsample_bytree': 0.6521211214797689, 'reg_alpha': 0.5247564316322378}. Best is trial 0 with value: 791458901.7494004.\n"
     ]
    },
    {
     "name": "stdout",
     "output_type": "stream",
     "text": [
      "[200]\tvalid_0's rmse: 30070.5\n",
      "Did not meet early stopping. Best iteration is:\n",
      "[200]\tvalid_0's rmse: 30070.5\n",
      "Training until validation scores don't improve for 100 rounds\n",
      "[100]\tvalid_0's rmse: 31504.4\n"
     ]
    },
    {
     "name": "stderr",
     "output_type": "stream",
     "text": [
      "[I 2024-02-28 10:19:12,750] Trial 3 finished with value: 860303440.566763 and parameters: {'num_leaves': 49, 'learning_rate': 0.029831684879606152, 'max_depth': 33, 'subsample': 0.569746930326021, 'colsample_bytree': 0.6460723242676091, 'reg_alpha': 0.3663618432936917}. Best is trial 0 with value: 791458901.7494004.\n"
     ]
    },
    {
     "name": "stdout",
     "output_type": "stream",
     "text": [
      "[200]\tvalid_0's rmse: 29346.3\n",
      "Did not meet early stopping. Best iteration is:\n",
      "[197]\tvalid_0's rmse: 29330.9\n",
      "Training until validation scores don't improve for 100 rounds\n",
      "[100]\tvalid_0's rmse: 29825.4\n"
     ]
    },
    {
     "name": "stderr",
     "output_type": "stream",
     "text": [
      "[I 2024-02-28 10:19:13,509] Trial 4 finished with value: 861623910.6434879 and parameters: {'num_leaves': 51, 'learning_rate': 0.07873242017790835, 'max_depth': 14, 'subsample': 0.7571172192068059, 'colsample_bytree': 0.7962072844310213, 'reg_alpha': 0.046450412719997725}. Best is trial 0 with value: 791458901.7494004.\n"
     ]
    },
    {
     "name": "stdout",
     "output_type": "stream",
     "text": [
      "[200]\tvalid_0's rmse: 29426.1\n",
      "Did not meet early stopping. Best iteration is:\n",
      "[173]\tvalid_0's rmse: 29353.4\n",
      "Training until validation scores don't improve for 100 rounds\n",
      "[100]\tvalid_0's rmse: 36716.6\n"
     ]
    },
    {
     "name": "stderr",
     "output_type": "stream",
     "text": [
      "[I 2024-02-28 10:19:14,141] Trial 5 finished with value: 972002342.1192129 and parameters: {'num_leaves': 65, 'learning_rate': 0.017881888245041864, 'max_depth': 7, 'subsample': 0.9744427686266666, 'colsample_bytree': 0.9828160165372797, 'reg_alpha': 0.8083973481164611}. Best is trial 0 with value: 791458901.7494004.\n"
     ]
    },
    {
     "name": "stdout",
     "output_type": "stream",
     "text": [
      "[200]\tvalid_0's rmse: 31177\n",
      "Did not meet early stopping. Best iteration is:\n",
      "[200]\tvalid_0's rmse: 31177\n",
      "Training until validation scores don't improve for 100 rounds\n",
      "[100]\tvalid_0's rmse: 46767.7\n"
     ]
    },
    {
     "name": "stderr",
     "output_type": "stream",
     "text": [
      "[I 2024-02-28 10:19:15,005] Trial 6 finished with value: 1193291442.602275 and parameters: {'num_leaves': 37, 'learning_rate': 0.010669539286632005, 'max_depth': 36, 'subsample': 0.7200762468698007, 'colsample_bytree': 0.5610191174223894, 'reg_alpha': 0.4951769101112702}. Best is trial 0 with value: 791458901.7494004.\n"
     ]
    },
    {
     "name": "stdout",
     "output_type": "stream",
     "text": [
      "[200]\tvalid_0's rmse: 34544.1\n",
      "Did not meet early stopping. Best iteration is:\n",
      "[200]\tvalid_0's rmse: 34544.1\n",
      "Training until validation scores don't improve for 100 rounds\n",
      "[100]\tvalid_0's rmse: 29009.2\n"
     ]
    },
    {
     "name": "stderr",
     "output_type": "stream",
     "text": [
      "[I 2024-02-28 10:19:15,362] Trial 7 finished with value: 802934062.5845368 and parameters: {'num_leaves': 13, 'learning_rate': 0.09102271980579943, 'max_depth': 16, 'subsample': 0.831261142176991, 'colsample_bytree': 0.6558555380447055, 'reg_alpha': 0.5200680211778108}. Best is trial 0 with value: 791458901.7494004.\n"
     ]
    },
    {
     "name": "stdout",
     "output_type": "stream",
     "text": [
      "[200]\tvalid_0's rmse: 28380.4\n",
      "Did not meet early stopping. Best iteration is:\n",
      "[181]\tvalid_0's rmse: 28336.1\n",
      "Training until validation scores don't improve for 100 rounds\n",
      "[100]\tvalid_0's rmse: 35648.9\n"
     ]
    },
    {
     "name": "stderr",
     "output_type": "stream",
     "text": [
      "[I 2024-02-28 10:19:16,334] Trial 8 finished with value: 954164127.6633078 and parameters: {'num_leaves': 59, 'learning_rate': 0.01930059109702718, 'max_depth': 49, 'subsample': 0.8875664116805573, 'colsample_bytree': 0.9697494707820946, 'reg_alpha': 0.8948273504276488}. Best is trial 0 with value: 791458901.7494004.\n"
     ]
    },
    {
     "name": "stdout",
     "output_type": "stream",
     "text": [
      "[200]\tvalid_0's rmse: 30889.5\n",
      "Did not meet early stopping. Best iteration is:\n",
      "[200]\tvalid_0's rmse: 30889.5\n",
      "Training until validation scores don't improve for 100 rounds\n",
      "[100]\tvalid_0's rmse: 28592.4\n"
     ]
    },
    {
     "name": "stderr",
     "output_type": "stream",
     "text": [
      "[I 2024-02-28 10:19:16,921] Trial 9 finished with value: 800481053.3889294 and parameters: {'num_leaves': 64, 'learning_rate': 0.09226554926728857, 'max_depth': 9, 'subsample': 0.5979914312095727, 'colsample_bytree': 0.522613644455269, 'reg_alpha': 0.32533033076326434}. Best is trial 0 with value: 791458901.7494004.\n"
     ]
    },
    {
     "name": "stdout",
     "output_type": "stream",
     "text": [
      "[200]\tvalid_0's rmse: 28292.8\n",
      "Did not meet early stopping. Best iteration is:\n",
      "[200]\tvalid_0's rmse: 28292.8\n",
      "Training until validation scores don't improve for 100 rounds\n",
      "[100]\tvalid_0's rmse: 29934\n"
     ]
    },
    {
     "name": "stderr",
     "output_type": "stream",
     "text": [
      "[I 2024-02-28 10:19:17,904] Trial 10 finished with value: 836841799.5794376 and parameters: {'num_leaves': 96, 'learning_rate': 0.056326238927489294, 'max_depth': 47, 'subsample': 0.6897100010581731, 'colsample_bytree': 0.8200442512337782, 'reg_alpha': 0.038725199961183066}. Best is trial 0 with value: 791458901.7494004.\n"
     ]
    },
    {
     "name": "stdout",
     "output_type": "stream",
     "text": [
      "[200]\tvalid_0's rmse: 28962.7\n",
      "Did not meet early stopping. Best iteration is:\n",
      "[198]\tvalid_0's rmse: 28928.2\n",
      "Training until validation scores don't improve for 100 rounds\n",
      "[100]\tvalid_0's rmse: 28893.5\n"
     ]
    },
    {
     "name": "stderr",
     "output_type": "stream",
     "text": [
      "[I 2024-02-28 10:19:18,983] Trial 11 finished with value: 771973378.4269989 and parameters: {'num_leaves': 76, 'learning_rate': 0.06674817841079009, 'max_depth': 24, 'subsample': 0.5038892622502693, 'colsample_bytree': 0.504785716528254, 'reg_alpha': 0.2477745505219334}. Best is trial 11 with value: 771973378.4269989.\n"
     ]
    },
    {
     "name": "stdout",
     "output_type": "stream",
     "text": [
      "[200]\tvalid_0's rmse: 27824.3\n",
      "Did not meet early stopping. Best iteration is:\n",
      "[197]\tvalid_0's rmse: 27784.4\n",
      "Training until validation scores don't improve for 100 rounds\n",
      "[100]\tvalid_0's rmse: 29092.7\n"
     ]
    },
    {
     "name": "stderr",
     "output_type": "stream",
     "text": [
      "[I 2024-02-28 10:19:20,038] Trial 12 finished with value: 786116042.7361634 and parameters: {'num_leaves': 82, 'learning_rate': 0.06448373072656637, 'max_depth': 24, 'subsample': 0.5100211772773494, 'colsample_bytree': 0.5899060127524661, 'reg_alpha': 0.20032328918177933}. Best is trial 11 with value: 771973378.4269989.\n"
     ]
    },
    {
     "name": "stdout",
     "output_type": "stream",
     "text": [
      "[200]\tvalid_0's rmse: 28085.4\n",
      "Did not meet early stopping. Best iteration is:\n",
      "[195]\tvalid_0's rmse: 28037.8\n",
      "Training until validation scores don't improve for 100 rounds\n",
      "[100]\tvalid_0's rmse: 29493.3\n"
     ]
    },
    {
     "name": "stderr",
     "output_type": "stream",
     "text": [
      "[I 2024-02-28 10:19:21,005] Trial 13 finished with value: 830445653.9654646 and parameters: {'num_leaves': 80, 'learning_rate': 0.06493978762962087, 'max_depth': 23, 'subsample': 0.506349620507284, 'colsample_bytree': 0.7343526094439212, 'reg_alpha': 0.25727443663154115}. Best is trial 11 with value: 771973378.4269989.\n"
     ]
    },
    {
     "name": "stdout",
     "output_type": "stream",
     "text": [
      "[200]\tvalid_0's rmse: 28821.7\n",
      "Did not meet early stopping. Best iteration is:\n",
      "[196]\tvalid_0's rmse: 28817.5\n",
      "Training until validation scores don't improve for 100 rounds\n",
      "[100]\tvalid_0's rmse: 30276\n"
     ]
    },
    {
     "name": "stderr",
     "output_type": "stream",
     "text": [
      "[I 2024-02-28 10:19:22,018] Trial 14 finished with value: 831396749.31953 and parameters: {'num_leaves': 78, 'learning_rate': 0.041873542531905936, 'max_depth': 24, 'subsample': 0.5091497026860295, 'colsample_bytree': 0.5937663157166836, 'reg_alpha': 0.19702689460412548}. Best is trial 11 with value: 771973378.4269989.\n"
     ]
    },
    {
     "name": "stdout",
     "output_type": "stream",
     "text": [
      "[200]\tvalid_0's rmse: 28834\n",
      "Did not meet early stopping. Best iteration is:\n",
      "[200]\tvalid_0's rmse: 28834\n",
      "Training until validation scores don't improve for 100 rounds\n",
      "[100]\tvalid_0's rmse: 29659.9\n"
     ]
    },
    {
     "name": "stderr",
     "output_type": "stream",
     "text": [
      "[I 2024-02-28 10:19:22,948] Trial 15 finished with value: 843875120.718605 and parameters: {'num_leaves': 100, 'learning_rate': 0.06860825363577, 'max_depth': 20, 'subsample': 0.647700043628328, 'colsample_bytree': 0.700477984841022, 'reg_alpha': 0.6855046081289342}. Best is trial 11 with value: 771973378.4269989.\n"
     ]
    },
    {
     "name": "stdout",
     "output_type": "stream",
     "text": [
      "[200]\tvalid_0's rmse: 29115.8\n",
      "Did not meet early stopping. Best iteration is:\n",
      "[168]\tvalid_0's rmse: 29049.5\n",
      "Training until validation scores don't improve for 100 rounds\n",
      "[100]\tvalid_0's rmse: 30786.3\n"
     ]
    },
    {
     "name": "stderr",
     "output_type": "stream",
     "text": [
      "[I 2024-02-28 10:19:23,989] Trial 16 finished with value: 847616065.4564294 and parameters: {'num_leaves': 74, 'learning_rate': 0.041390079417628595, 'max_depth': 29, 'subsample': 0.5500937553998901, 'colsample_bytree': 0.8888558017534707, 'reg_alpha': 0.43241941160242753}. Best is trial 11 with value: 771973378.4269989.\n"
     ]
    },
    {
     "name": "stdout",
     "output_type": "stream",
     "text": [
      "[200]\tvalid_0's rmse: 29123\n",
      "Did not meet early stopping. Best iteration is:\n",
      "[197]\tvalid_0's rmse: 29113.8\n",
      "Training until validation scores don't improve for 100 rounds\n",
      "[100]\tvalid_0's rmse: 28863.9\n"
     ]
    },
    {
     "name": "stderr",
     "output_type": "stream",
     "text": [
      "[I 2024-02-28 10:19:25,077] Trial 17 finished with value: 772311096.8938339 and parameters: {'num_leaves': 90, 'learning_rate': 0.06922642647550137, 'max_depth': 42, 'subsample': 0.6427535423572592, 'colsample_bytree': 0.5055982439010099, 'reg_alpha': 0.1409308267618193}. Best is trial 11 with value: 771973378.4269989.\n"
     ]
    },
    {
     "name": "stdout",
     "output_type": "stream",
     "text": [
      "[200]\tvalid_0's rmse: 27820.3\n",
      "Did not meet early stopping. Best iteration is:\n",
      "[183]\tvalid_0's rmse: 27790.5\n",
      "Training until validation scores don't improve for 100 rounds\n",
      "[100]\tvalid_0's rmse: 28778.5\n"
     ]
    },
    {
     "name": "stderr",
     "output_type": "stream",
     "text": [
      "[I 2024-02-28 10:19:26,157] Trial 18 finished with value: 798405765.4154801 and parameters: {'num_leaves': 94, 'learning_rate': 0.07750822919345282, 'max_depth': 43, 'subsample': 0.6350288423956711, 'colsample_bytree': 0.5014316299972749, 'reg_alpha': 0.10805132268695096}. Best is trial 11 with value: 771973378.4269989.\n"
     ]
    },
    {
     "name": "stdout",
     "output_type": "stream",
     "text": [
      "[200]\tvalid_0's rmse: 28267.7\n",
      "Did not meet early stopping. Best iteration is:\n",
      "[175]\tvalid_0's rmse: 28256.1\n",
      "Training until validation scores don't improve for 100 rounds\n",
      "[100]\tvalid_0's rmse: 29180.4\n"
     ]
    },
    {
     "name": "stderr",
     "output_type": "stream",
     "text": [
      "[I 2024-02-28 10:19:27,235] Trial 19 finished with value: 795302387.4282105 and parameters: {'num_leaves': 90, 'learning_rate': 0.05170349709551212, 'max_depth': 40, 'subsample': 0.6565118598658769, 'colsample_bytree': 0.550665151656877, 'reg_alpha': 0.29786551834661723}. Best is trial 11 with value: 771973378.4269989.\n"
     ]
    },
    {
     "name": "stdout",
     "output_type": "stream",
     "text": [
      "[200]\tvalid_0's rmse: 28217.9\n",
      "Did not meet early stopping. Best iteration is:\n",
      "[196]\tvalid_0's rmse: 28201.1\n",
      "Training until validation scores don't improve for 100 rounds\n",
      "[100]\tvalid_0's rmse: 29143.6\n"
     ]
    },
    {
     "name": "stderr",
     "output_type": "stream",
     "text": [
      "[I 2024-02-28 10:19:28,384] Trial 20 finished with value: 816267281.4836991 and parameters: {'num_leaves': 72, 'learning_rate': 0.07686899595973098, 'max_depth': 43, 'subsample': 0.735390947979921, 'colsample_bytree': 0.6331445006802419, 'reg_alpha': 0.6438213784070337}. Best is trial 11 with value: 771973378.4269989.\n"
     ]
    },
    {
     "name": "stdout",
     "output_type": "stream",
     "text": [
      "[200]\tvalid_0's rmse: 28737.5\n",
      "Did not meet early stopping. Best iteration is:\n",
      "[147]\tvalid_0's rmse: 28570.4\n",
      "Training until validation scores don't improve for 100 rounds\n",
      "[100]\tvalid_0's rmse: 29352.7\n"
     ]
    },
    {
     "name": "stderr",
     "output_type": "stream",
     "text": [
      "[I 2024-02-28 10:19:29,518] Trial 21 finished with value: 806205007.3335181 and parameters: {'num_leaves': 85, 'learning_rate': 0.06302141244161001, 'max_depth': 26, 'subsample': 0.5342882118634961, 'colsample_bytree': 0.5994406643778878, 'reg_alpha': 0.21330324550393262}. Best is trial 11 with value: 771973378.4269989.\n"
     ]
    },
    {
     "name": "stdout",
     "output_type": "stream",
     "text": [
      "[200]\tvalid_0's rmse: 28406.6\n",
      "Did not meet early stopping. Best iteration is:\n",
      "[199]\tvalid_0's rmse: 28393.7\n",
      "Training until validation scores don't improve for 100 rounds\n",
      "[100]\tvalid_0's rmse: 29698.4\n"
     ]
    },
    {
     "name": "stderr",
     "output_type": "stream",
     "text": [
      "[I 2024-02-28 10:19:30,595] Trial 22 finished with value: 804664449.2058537 and parameters: {'num_leaves': 68, 'learning_rate': 0.04387816832368059, 'max_depth': 20, 'subsample': 0.5973849829742017, 'colsample_bytree': 0.5460436819180146, 'reg_alpha': 0.10375076761535407}. Best is trial 11 with value: 771973378.4269989.\n"
     ]
    },
    {
     "name": "stdout",
     "output_type": "stream",
     "text": [
      "[200]\tvalid_0's rmse: 28381.4\n",
      "Did not meet early stopping. Best iteration is:\n",
      "[194]\tvalid_0's rmse: 28366.6\n",
      "Training until validation scores don't improve for 100 rounds\n",
      "[100]\tvalid_0's rmse: 29210.7\n"
     ]
    },
    {
     "name": "stderr",
     "output_type": "stream",
     "text": [
      "[I 2024-02-28 10:19:31,707] Trial 23 finished with value: 792733438.2148958 and parameters: {'num_leaves': 87, 'learning_rate': 0.05890311376812794, 'max_depth': 28, 'subsample': 0.5031956290320817, 'colsample_bytree': 0.503729923243807, 'reg_alpha': 0.3793229478865642}. Best is trial 11 with value: 771973378.4269989.\n"
     ]
    },
    {
     "name": "stdout",
     "output_type": "stream",
     "text": [
      "[200]\tvalid_0's rmse: 28196.4\n",
      "Did not meet early stopping. Best iteration is:\n",
      "[184]\tvalid_0's rmse: 28155.5\n",
      "Training until validation scores don't improve for 100 rounds\n",
      "[100]\tvalid_0's rmse: 29408.8\n"
     ]
    },
    {
     "name": "stderr",
     "output_type": "stream",
     "text": [
      "[I 2024-02-28 10:19:32,708] Trial 24 finished with value: 817290902.4929302 and parameters: {'num_leaves': 79, 'learning_rate': 0.07221695189489445, 'max_depth': 19, 'subsample': 0.6194366737502321, 'colsample_bytree': 0.6118675813456883, 'reg_alpha': 0.24728533570739875}. Best is trial 11 with value: 771973378.4269989.\n"
     ]
    },
    {
     "name": "stdout",
     "output_type": "stream",
     "text": [
      "[200]\tvalid_0's rmse: 28756.6\n",
      "Did not meet early stopping. Best iteration is:\n",
      "[178]\tvalid_0's rmse: 28588.3\n",
      "Training until validation scores don't improve for 100 rounds\n",
      "[100]\tvalid_0's rmse: 28672.7\n"
     ]
    },
    {
     "name": "stderr",
     "output_type": "stream",
     "text": [
      "[I 2024-02-28 10:19:33,674] Trial 25 finished with value: 800954925.0539674 and parameters: {'num_leaves': 93, 'learning_rate': 0.0819827133070951, 'max_depth': 33, 'subsample': 0.5510164744247467, 'colsample_bytree': 0.7020843771180814, 'reg_alpha': 0.1408298691521338}. Best is trial 11 with value: 771973378.4269989.\n"
     ]
    },
    {
     "name": "stdout",
     "output_type": "stream",
     "text": [
      "[200]\tvalid_0's rmse: 28481.3\n",
      "Did not meet early stopping. Best iteration is:\n",
      "[147]\tvalid_0's rmse: 28301.1\n",
      "Training until validation scores don't improve for 100 rounds\n",
      "[100]\tvalid_0's rmse: 29233.4\n"
     ]
    },
    {
     "name": "stderr",
     "output_type": "stream",
     "text": [
      "[I 2024-02-28 10:19:34,773] Trial 26 finished with value: 786217747.4445821 and parameters: {'num_leaves': 60, 'learning_rate': 0.05267895543607294, 'max_depth': 30, 'subsample': 0.6907670542494438, 'colsample_bytree': 0.5465258547556022, 'reg_alpha': 0.01694552464613508}. Best is trial 11 with value: 771973378.4269989.\n"
     ]
    },
    {
     "name": "stdout",
     "output_type": "stream",
     "text": [
      "[200]\tvalid_0's rmse: 28143.3\n",
      "Did not meet early stopping. Best iteration is:\n",
      "[179]\tvalid_0's rmse: 28039.6\n",
      "Training until validation scores don't improve for 100 rounds\n",
      "[100]\tvalid_0's rmse: 29153.7\n"
     ]
    },
    {
     "name": "stderr",
     "output_type": "stream",
     "text": [
      "[I 2024-02-28 10:19:35,868] Trial 27 finished with value: 823286033.53513 and parameters: {'num_leaves': 72, 'learning_rate': 0.07032849549172968, 'max_depth': 23, 'subsample': 0.564939949256398, 'colsample_bytree': 0.690824705798907, 'reg_alpha': 0.17298957854085792}. Best is trial 11 with value: 771973378.4269989.\n"
     ]
    },
    {
     "name": "stdout",
     "output_type": "stream",
     "text": [
      "[200]\tvalid_0's rmse: 28729.3\n",
      "Did not meet early stopping. Best iteration is:\n",
      "[183]\tvalid_0's rmse: 28693\n",
      "Training until validation scores don't improve for 100 rounds\n",
      "[100]\tvalid_0's rmse: 31182.8\n"
     ]
    },
    {
     "name": "stderr",
     "output_type": "stream",
     "text": [
      "[I 2024-02-28 10:19:36,694] Trial 28 finished with value: 851400053.0071822 and parameters: {'num_leaves': 27, 'learning_rate': 0.03252525239219643, 'max_depth': 26, 'subsample': 0.6768798788897502, 'colsample_bytree': 0.5738259864750574, 'reg_alpha': 0.29215359108580685}. Best is trial 11 with value: 771973378.4269989.\n"
     ]
    },
    {
     "name": "stdout",
     "output_type": "stream",
     "text": [
      "[200]\tvalid_0's rmse: 29178.8\n",
      "Did not meet early stopping. Best iteration is:\n",
      "[200]\tvalid_0's rmse: 29178.8\n",
      "Training until validation scores don't improve for 100 rounds\n",
      "[100]\tvalid_0's rmse: 28445.1\n"
     ]
    },
    {
     "name": "stderr",
     "output_type": "stream",
     "text": [
      "[I 2024-02-28 10:19:37,795] Trial 29 finished with value: 797284079.2403646 and parameters: {'num_leaves': 84, 'learning_rate': 0.09974951301961636, 'max_depth': 41, 'subsample': 0.7849527378148703, 'colsample_bytree': 0.5821718262630846, 'reg_alpha': 0.11527643609943569}. Best is trial 11 with value: 771973378.4269989.\n"
     ]
    },
    {
     "name": "stdout",
     "output_type": "stream",
     "text": [
      "[200]\tvalid_0's rmse: 28348.6\n",
      "Did not meet early stopping. Best iteration is:\n",
      "[174]\tvalid_0's rmse: 28236.2\n",
      "Training until validation scores don't improve for 100 rounds\n",
      "[100]\tvalid_0's rmse: 29094.6\n"
     ]
    },
    {
     "name": "stderr",
     "output_type": "stream",
     "text": [
      "[I 2024-02-28 10:19:38,899] Trial 30 finished with value: 791451916.8984218 and parameters: {'num_leaves': 100, 'learning_rate': 0.06164063803500855, 'max_depth': 37, 'subsample': 0.5324689336899374, 'colsample_bytree': 0.5385577514297871, 'reg_alpha': 0.4296716865754482}. Best is trial 11 with value: 771973378.4269989.\n"
     ]
    },
    {
     "name": "stdout",
     "output_type": "stream",
     "text": [
      "[200]\tvalid_0's rmse: 28137.7\n",
      "Did not meet early stopping. Best iteration is:\n",
      "[199]\tvalid_0's rmse: 28132.8\n",
      "Training until validation scores don't improve for 100 rounds\n",
      "[100]\tvalid_0's rmse: 29236.8\n"
     ]
    },
    {
     "name": "stderr",
     "output_type": "stream",
     "text": [
      "[I 2024-02-28 10:19:40,179] Trial 31 finished with value: 791639521.571874 and parameters: {'num_leaves': 60, 'learning_rate': 0.051265813539540385, 'max_depth': 30, 'subsample': 0.7042476582269456, 'colsample_bytree': 0.5391848967583308, 'reg_alpha': 0.018426143979986657}. Best is trial 11 with value: 771973378.4269989.\n"
     ]
    },
    {
     "name": "stdout",
     "output_type": "stream",
     "text": [
      "[200]\tvalid_0's rmse: 28136.1\n",
      "Did not meet early stopping. Best iteration is:\n",
      "[200]\tvalid_0's rmse: 28136.1\n",
      "Training until validation scores don't improve for 100 rounds\n",
      "[100]\tvalid_0's rmse: 29266.9\n"
     ]
    },
    {
     "name": "stderr",
     "output_type": "stream",
     "text": [
      "[I 2024-02-28 10:19:41,282] Trial 32 finished with value: 787813373.6404856 and parameters: {'num_leaves': 41, 'learning_rate': 0.05625609506233777, 'max_depth': 35, 'subsample': 0.7685630528400547, 'colsample_bytree': 0.500646632133284, 'reg_alpha': 0.008230997040238608}. Best is trial 11 with value: 771973378.4269989.\n"
     ]
    },
    {
     "name": "stdout",
     "output_type": "stream",
     "text": [
      "[200]\tvalid_0's rmse: 28094.3\n",
      "Did not meet early stopping. Best iteration is:\n",
      "[197]\tvalid_0's rmse: 28068\n",
      "Training until validation scores don't improve for 100 rounds\n",
      "[100]\tvalid_0's rmse: 28702.2\n"
     ]
    },
    {
     "name": "stderr",
     "output_type": "stream",
     "text": [
      "[I 2024-02-28 10:19:42,418] Trial 33 finished with value: 793483580.464133 and parameters: {'num_leaves': 76, 'learning_rate': 0.08642383474380805, 'max_depth': 17, 'subsample': 0.6136568762910408, 'colsample_bytree': 0.5639792618718953, 'reg_alpha': 0.062317285306182024}. Best is trial 11 with value: 771973378.4269989.\n"
     ]
    },
    {
     "name": "stdout",
     "output_type": "stream",
     "text": [
      "[200]\tvalid_0's rmse: 28331.4\n",
      "Did not meet early stopping. Best iteration is:\n",
      "[157]\tvalid_0's rmse: 28168.8\n",
      "Training until validation scores don't improve for 100 rounds\n",
      "[100]\tvalid_0's rmse: 30085.7\n"
     ]
    },
    {
     "name": "stderr",
     "output_type": "stream",
     "text": [
      "[I 2024-02-28 10:19:43,558] Trial 34 finished with value: 818261229.6684785 and parameters: {'num_leaves': 58, 'learning_rate': 0.04613157544104643, 'max_depth': 30, 'subsample': 0.6707744594084097, 'colsample_bytree': 0.6134923868822043, 'reg_alpha': 0.17823573159276096}. Best is trial 11 with value: 771973378.4269989.\n"
     ]
    },
    {
     "name": "stdout",
     "output_type": "stream",
     "text": [
      "[200]\tvalid_0's rmse: 28605.3\n",
      "Did not meet early stopping. Best iteration is:\n",
      "[200]\tvalid_0's rmse: 28605.3\n",
      "Training until validation scores don't improve for 100 rounds\n",
      "[100]\tvalid_0's rmse: 30750\n"
     ]
    },
    {
     "name": "stderr",
     "output_type": "stream",
     "text": [
      "[I 2024-02-28 10:19:44,676] Trial 35 finished with value: 845628643.8281653 and parameters: {'num_leaves': 81, 'learning_rate': 0.034924300935403975, 'max_depth': 12, 'subsample': 0.5775420573189276, 'colsample_bytree': 0.5273486372985662, 'reg_alpha': 0.08630475635243443}. Best is trial 11 with value: 771973378.4269989.\n"
     ]
    },
    {
     "name": "stdout",
     "output_type": "stream",
     "text": [
      "[200]\tvalid_0's rmse: 29079.7\n",
      "Did not meet early stopping. Best iteration is:\n",
      "[200]\tvalid_0's rmse: 29079.7\n",
      "Training until validation scores don't improve for 100 rounds\n",
      "[100]\tvalid_0's rmse: 29262.8\n"
     ]
    },
    {
     "name": "stderr",
     "output_type": "stream",
     "text": [
      "[I 2024-02-28 10:19:45,771] Trial 36 finished with value: 806009140.1081982 and parameters: {'num_leaves': 50, 'learning_rate': 0.06630748484742745, 'max_depth': 32, 'subsample': 0.8316538322481923, 'colsample_bytree': 0.6253565834519307, 'reg_alpha': 0.21112524009725914}. Best is trial 11 with value: 771973378.4269989.\n"
     ]
    },
    {
     "name": "stdout",
     "output_type": "stream",
     "text": [
      "[200]\tvalid_0's rmse: 28390.3\n",
      "Did not meet early stopping. Best iteration is:\n",
      "[200]\tvalid_0's rmse: 28390.3\n",
      "Training until validation scores don't improve for 100 rounds\n",
      "[100]\tvalid_0's rmse: 29397.6\n"
     ]
    },
    {
     "name": "stderr",
     "output_type": "stream",
     "text": [
      "[I 2024-02-28 10:19:46,786] Trial 37 finished with value: 829067874.571027 and parameters: {'num_leaves': 69, 'learning_rate': 0.07252826107477299, 'max_depth': 25, 'subsample': 0.9437216189094653, 'colsample_bytree': 0.6690371107272878, 'reg_alpha': 0.35554090737245525}. Best is trial 11 with value: 771973378.4269989.\n"
     ]
    },
    {
     "name": "stdout",
     "output_type": "stream",
     "text": [
      "[200]\tvalid_0's rmse: 28863.3\n",
      "Did not meet early stopping. Best iteration is:\n",
      "[186]\tvalid_0's rmse: 28793.5\n",
      "Training until validation scores don't improve for 100 rounds\n",
      "[100]\tvalid_0's rmse: 29409\n"
     ]
    },
    {
     "name": "stderr",
     "output_type": "stream",
     "text": [
      "[I 2024-02-28 10:19:47,901] Trial 38 finished with value: 805721459.1476365 and parameters: {'num_leaves': 90, 'learning_rate': 0.05503342171967463, 'max_depth': 22, 'subsample': 0.7316691199517965, 'colsample_bytree': 0.5749485714143737, 'reg_alpha': 0.1342367597421077}. Best is trial 11 with value: 771973378.4269989.\n"
     ]
    },
    {
     "name": "stdout",
     "output_type": "stream",
     "text": [
      "[200]\tvalid_0's rmse: 28392.9\n",
      "Did not meet early stopping. Best iteration is:\n",
      "[199]\tvalid_0's rmse: 28385.2\n",
      "Training until validation scores don't improve for 100 rounds\n",
      "[100]\tvalid_0's rmse: 28585\n"
     ]
    },
    {
     "name": "stderr",
     "output_type": "stream",
     "text": [
      "[I 2024-02-28 10:19:48,706] Trial 39 finished with value: 792081548.0821642 and parameters: {'num_leaves': 26, 'learning_rate': 0.08314580272906641, 'max_depth': 46, 'subsample': 0.5816497747607008, 'colsample_bytree': 0.5297049346937389, 'reg_alpha': 0.5954538011129699}. Best is trial 11 with value: 771973378.4269989.\n"
     ]
    },
    {
     "name": "stdout",
     "output_type": "stream",
     "text": [
      "[200]\tvalid_0's rmse: 28214.5\n",
      "Did not meet early stopping. Best iteration is:\n",
      "[185]\tvalid_0's rmse: 28143.9\n",
      "Training until validation scores don't improve for 100 rounds\n",
      "[100]\tvalid_0's rmse: 30806.7\n"
     ]
    },
    {
     "name": "stderr",
     "output_type": "stream",
     "text": [
      "[I 2024-02-28 10:19:49,684] Trial 40 finished with value: 861569267.4525473 and parameters: {'num_leaves': 53, 'learning_rate': 0.037350205990256555, 'max_depth': 39, 'subsample': 0.532440403000953, 'colsample_bytree': 0.7856856163905419, 'reg_alpha': 0.26916434426880415}. Best is trial 11 with value: 771973378.4269989.\n"
     ]
    },
    {
     "name": "stdout",
     "output_type": "stream",
     "text": [
      "[200]\tvalid_0's rmse: 29352.5\n",
      "Did not meet early stopping. Best iteration is:\n",
      "[200]\tvalid_0's rmse: 29352.5\n",
      "Training until validation scores don't improve for 100 rounds\n",
      "[100]\tvalid_0's rmse: 29249.7\n"
     ]
    },
    {
     "name": "stderr",
     "output_type": "stream",
     "text": [
      "[I 2024-02-28 10:19:50,749] Trial 41 finished with value: 800660460.1092527 and parameters: {'num_leaves': 43, 'learning_rate': 0.05907461833073528, 'max_depth': 34, 'subsample': 0.763330162469799, 'colsample_bytree': 0.5114141966374834, 'reg_alpha': 0.025356598439426725}. Best is trial 11 with value: 771973378.4269989.\n"
     ]
    },
    {
     "name": "stdout",
     "output_type": "stream",
     "text": [
      "[200]\tvalid_0's rmse: 28319.1\n",
      "Did not meet early stopping. Best iteration is:\n",
      "[196]\tvalid_0's rmse: 28295.9\n",
      "Training until validation scores don't improve for 100 rounds\n",
      "[100]\tvalid_0's rmse: 29302.4\n"
     ]
    },
    {
     "name": "stderr",
     "output_type": "stream",
     "text": [
      "[I 2024-02-28 10:19:51,767] Trial 42 finished with value: 777358960.9252566 and parameters: {'num_leaves': 38, 'learning_rate': 0.04681450954035504, 'max_depth': 34, 'subsample': 0.8032828267077102, 'colsample_bytree': 0.500086419433231, 'reg_alpha': 0.001056119957623402}. Best is trial 11 with value: 771973378.4269989.\n"
     ]
    },
    {
     "name": "stdout",
     "output_type": "stream",
     "text": [
      "[200]\tvalid_0's rmse: 27886.3\n",
      "Did not meet early stopping. Best iteration is:\n",
      "[196]\tvalid_0's rmse: 27881.2\n",
      "Training until validation scores don't improve for 100 rounds\n",
      "[100]\tvalid_0's rmse: 29619.8\n"
     ]
    },
    {
     "name": "stderr",
     "output_type": "stream",
     "text": [
      "[I 2024-02-28 10:19:52,744] Trial 43 finished with value: 794451074.0417511 and parameters: {'num_leaves': 33, 'learning_rate': 0.04933254142862729, 'max_depth': 31, 'subsample': 0.8755177317500823, 'colsample_bytree': 0.5468614649551187, 'reg_alpha': 0.0498761038852818}. Best is trial 11 with value: 771973378.4269989.\n"
     ]
    },
    {
     "name": "stdout",
     "output_type": "stream",
     "text": [
      "[200]\tvalid_0's rmse: 28186\n",
      "Did not meet early stopping. Best iteration is:\n",
      "[200]\tvalid_0's rmse: 28186\n",
      "Training until validation scores don't improve for 100 rounds\n",
      "[100]\tvalid_0's rmse: 77891.3\n"
     ]
    },
    {
     "name": "stderr",
     "output_type": "stream",
     "text": [
      "[I 2024-02-28 10:19:53,771] Trial 44 finished with value: 4923468072.9050665 and parameters: {'num_leaves': 46, 'learning_rate': 0.0015403989623539865, 'max_depth': 27, 'subsample': 0.8119636851588734, 'colsample_bytree': 0.5218495550244794, 'reg_alpha': 0.1540644227423213}. Best is trial 11 with value: 771973378.4269989.\n"
     ]
    },
    {
     "name": "stdout",
     "output_type": "stream",
     "text": [
      "[200]\tvalid_0's rmse: 70167.4\n",
      "Did not meet early stopping. Best iteration is:\n",
      "[200]\tvalid_0's rmse: 70167.4\n",
      "Training until validation scores don't improve for 100 rounds\n",
      "[100]\tvalid_0's rmse: 33541.3\n"
     ]
    },
    {
     "name": "stderr",
     "output_type": "stream",
     "text": [
      "[I 2024-02-28 10:19:54,386] Trial 45 finished with value: 891050757.9373083 and parameters: {'num_leaves': 19, 'learning_rate': 0.02404247086357539, 'max_depth': 37, 'subsample': 0.7991747560333782, 'colsample_bytree': 0.5807061407906167, 'reg_alpha': 0.00182595835076782}. Best is trial 11 with value: 771973378.4269989.\n"
     ]
    },
    {
     "name": "stdout",
     "output_type": "stream",
     "text": [
      "[200]\tvalid_0's rmse: 29850.5\n",
      "Did not meet early stopping. Best iteration is:\n",
      "[200]\tvalid_0's rmse: 29850.5\n",
      "Training until validation scores don't improve for 100 rounds\n",
      "[100]\tvalid_0's rmse: 29946.6\n"
     ]
    },
    {
     "name": "stderr",
     "output_type": "stream",
     "text": [
      "[I 2024-02-28 10:19:55,509] Trial 46 finished with value: 828965691.5710727 and parameters: {'num_leaves': 63, 'learning_rate': 0.048882242043582096, 'max_depth': 28, 'subsample': 0.7023308370838355, 'colsample_bytree': 0.8844302319577306, 'reg_alpha': 0.9919564653632482}. Best is trial 11 with value: 771973378.4269989.\n"
     ]
    },
    {
     "name": "stdout",
     "output_type": "stream",
     "text": [
      "[200]\tvalid_0's rmse: 28854.8\n",
      "Did not meet early stopping. Best iteration is:\n",
      "[190]\tvalid_0's rmse: 28791.8\n",
      "Training until validation scores don't improve for 100 rounds\n",
      "[100]\tvalid_0's rmse: 28903.4\n"
     ]
    },
    {
     "name": "stderr",
     "output_type": "stream",
     "text": [
      "[I 2024-02-28 10:19:56,479] Trial 47 finished with value: 809132515.4506013 and parameters: {'num_leaves': 34, 'learning_rate': 0.07504933512034911, 'max_depth': 21, 'subsample': 0.9221997701943301, 'colsample_bytree': 0.5630308248811967, 'reg_alpha': 0.08487073488172658}. Best is trial 11 with value: 771973378.4269989.\n"
     ]
    },
    {
     "name": "stdout",
     "output_type": "stream",
     "text": [
      "[200]\tvalid_0's rmse: 28500.7\n",
      "Did not meet early stopping. Best iteration is:\n",
      "[174]\tvalid_0's rmse: 28445.3\n",
      "Training until validation scores don't improve for 100 rounds\n",
      "[100]\tvalid_0's rmse: 28766.1\n"
     ]
    },
    {
     "name": "stderr",
     "output_type": "stream",
     "text": [
      "[I 2024-02-28 10:19:57,652] Trial 48 finished with value: 781547740.8052438 and parameters: {'num_leaves': 82, 'learning_rate': 0.06676666551706628, 'max_depth': 18, 'subsample': 0.850095815889897, 'colsample_bytree': 0.519851715389062, 'reg_alpha': 0.07019331209911639}. Best is trial 11 with value: 771973378.4269989.\n"
     ]
    },
    {
     "name": "stdout",
     "output_type": "stream",
     "text": [
      "[200]\tvalid_0's rmse: 28032.8\n",
      "Did not meet early stopping. Best iteration is:\n",
      "[174]\tvalid_0's rmse: 27956.2\n",
      "Training until validation scores don't improve for 100 rounds\n",
      "[100]\tvalid_0's rmse: 28931\n"
     ]
    },
    {
     "name": "stderr",
     "output_type": "stream",
     "text": [
      "[I 2024-02-28 10:19:58,850] Trial 49 finished with value: 769351049.7405323 and parameters: {'num_leaves': 89, 'learning_rate': 0.06773472946983568, 'max_depth': 17, 'subsample': 0.8628196465147859, 'colsample_bytree': 0.5203086810370403, 'reg_alpha': 0.22478807553277377}. Best is trial 49 with value: 769351049.7405323.\n"
     ]
    },
    {
     "name": "stdout",
     "output_type": "stream",
     "text": [
      "[200]\tvalid_0's rmse: 27737.2\n",
      "Did not meet early stopping. Best iteration is:\n",
      "[200]\tvalid_0's rmse: 27737.2\n",
      "Training until validation scores don't improve for 100 rounds\n",
      "[100]\tvalid_0's rmse: 28975.8\n"
     ]
    },
    {
     "name": "stderr",
     "output_type": "stream",
     "text": [
      "[I 2024-02-28 10:19:59,833] Trial 50 finished with value: 782396951.1579566 and parameters: {'num_leaves': 88, 'learning_rate': 0.06693189099156892, 'max_depth': 14, 'subsample': 0.8477012073562608, 'colsample_bytree': 0.5204614263504367, 'reg_alpha': 0.8540202414790546}. Best is trial 49 with value: 769351049.7405323.\n"
     ]
    },
    {
     "name": "stdout",
     "output_type": "stream",
     "text": [
      "[200]\tvalid_0's rmse: 28001.8\n",
      "Did not meet early stopping. Best iteration is:\n",
      "[197]\tvalid_0's rmse: 27971.4\n",
      "Training until validation scores don't improve for 100 rounds\n",
      "[100]\tvalid_0's rmse: 29237.7\n"
     ]
    },
    {
     "name": "stderr",
     "output_type": "stream",
     "text": [
      "[I 2024-02-28 10:20:00,631] Trial 51 finished with value: 803344659.1981579 and parameters: {'num_leaves': 90, 'learning_rate': 0.06763961022025673, 'max_depth': 11, 'subsample': 0.8544509708224257, 'colsample_bytree': 0.520681998687113, 'reg_alpha': 0.7520871192152029}. Best is trial 49 with value: 769351049.7405323.\n"
     ]
    },
    {
     "name": "stdout",
     "output_type": "stream",
     "text": [
      "[200]\tvalid_0's rmse: 28367.1\n",
      "Did not meet early stopping. Best iteration is:\n",
      "[197]\tvalid_0's rmse: 28343.3\n",
      "Training until validation scores don't improve for 100 rounds\n",
      "[100]\tvalid_0's rmse: 29099.3\n"
     ]
    },
    {
     "name": "stderr",
     "output_type": "stream",
     "text": [
      "[I 2024-02-28 10:20:01,629] Trial 52 finished with value: 799561564.279339 and parameters: {'num_leaves': 88, 'learning_rate': 0.06082115804222753, 'max_depth': 15, 'subsample': 0.891514370987937, 'colsample_bytree': 0.5006994318363004, 'reg_alpha': 0.904069188426377}. Best is trial 49 with value: 769351049.7405323.\n"
     ]
    },
    {
     "name": "stdout",
     "output_type": "stream",
     "text": [
      "[200]\tvalid_0's rmse: 28356.9\n",
      "Did not meet early stopping. Best iteration is:\n",
      "[174]\tvalid_0's rmse: 28276.5\n",
      "Training until validation scores don't improve for 100 rounds\n"
     ]
    },
    {
     "name": "stderr",
     "output_type": "stream",
     "text": [
      "[I 2024-02-28 10:20:02,030] Trial 53 finished with value: 810520961.1591337 and parameters: {'num_leaves': 93, 'learning_rate': 0.07336128776575178, 'max_depth': 5, 'subsample': 0.85122107029802, 'colsample_bytree': 0.523326651746156, 'reg_alpha': 0.7961022992078185}. Best is trial 49 with value: 769351049.7405323.\n"
     ]
    },
    {
     "name": "stdout",
     "output_type": "stream",
     "text": [
      "[100]\tvalid_0's rmse: 29062.1\n",
      "[200]\tvalid_0's rmse: 28492.6\n",
      "Did not meet early stopping. Best iteration is:\n",
      "[184]\tvalid_0's rmse: 28469.6\n",
      "Training until validation scores don't improve for 100 rounds\n",
      "[100]\tvalid_0's rmse: 28774.9\n"
     ]
    },
    {
     "name": "stderr",
     "output_type": "stream",
     "text": [
      "[I 2024-02-28 10:20:03,114] Trial 54 finished with value: 799130675.4701781 and parameters: {'num_leaves': 96, 'learning_rate': 0.08204222002610365, 'max_depth': 17, 'subsample': 0.9118577841381904, 'colsample_bytree': 0.5589465884252213, 'reg_alpha': 0.5557471959467853}. Best is trial 49 with value: 769351049.7405323.\n"
     ]
    },
    {
     "name": "stdout",
     "output_type": "stream",
     "text": [
      "[200]\tvalid_0's rmse: 28367.9\n",
      "Did not meet early stopping. Best iteration is:\n",
      "[152]\tvalid_0's rmse: 28268.9\n",
      "Training until validation scores don't improve for 100 rounds\n",
      "[100]\tvalid_0's rmse: 29261\n"
     ]
    },
    {
     "name": "stderr",
     "output_type": "stream",
     "text": [
      "[I 2024-02-28 10:20:03,740] Trial 55 finished with value: 809345796.9878365 and parameters: {'num_leaves': 83, 'learning_rate': 0.06536460202063385, 'max_depth': 9, 'subsample': 0.9889767345429508, 'colsample_bytree': 0.6022432430393606, 'reg_alpha': 0.4094726999227902}. Best is trial 49 with value: 769351049.7405323.\n"
     ]
    },
    {
     "name": "stdout",
     "output_type": "stream",
     "text": [
      "[200]\tvalid_0's rmse: 28449\n",
      "Did not meet early stopping. Best iteration is:\n",
      "[200]\tvalid_0's rmse: 28449\n",
      "Training until validation scores don't improve for 100 rounds\n",
      "[100]\tvalid_0's rmse: 28457.5\n"
     ]
    },
    {
     "name": "stderr",
     "output_type": "stream",
     "text": [
      "[I 2024-02-28 10:20:04,762] Trial 56 finished with value: 786392362.2864454 and parameters: {'num_leaves': 77, 'learning_rate': 0.08891818652226907, 'max_depth': 18, 'subsample': 0.8393938075307966, 'colsample_bytree': 0.5198475286525513, 'reg_alpha': 0.23759587568054064}. Best is trial 49 with value: 769351049.7405323.\n"
     ]
    },
    {
     "name": "stdout",
     "output_type": "stream",
     "text": [
      "[200]\tvalid_0's rmse: 28167.1\n",
      "Did not meet early stopping. Best iteration is:\n",
      "[151]\tvalid_0's rmse: 28042.7\n",
      "Training until validation scores don't improve for 100 rounds\n",
      "[100]\tvalid_0's rmse: 29116.8\n"
     ]
    },
    {
     "name": "stderr",
     "output_type": "stream",
     "text": [
      "[I 2024-02-28 10:20:05,672] Trial 57 finished with value: 784051477.7637569 and parameters: {'num_leaves': 96, 'learning_rate': 0.06879574248906063, 'max_depth': 14, 'subsample': 0.8069284298786099, 'colsample_bytree': 0.540772069232355, 'reg_alpha': 0.33580630187089444}. Best is trial 49 with value: 769351049.7405323.\n"
     ]
    },
    {
     "name": "stdout",
     "output_type": "stream",
     "text": [
      "[200]\tvalid_0's rmse: 28067.1\n",
      "Did not meet early stopping. Best iteration is:\n",
      "[185]\tvalid_0's rmse: 28000.9\n",
      "Training until validation scores don't improve for 100 rounds\n",
      "[100]\tvalid_0's rmse: 28816.6\n"
     ]
    },
    {
     "name": "stderr",
     "output_type": "stream",
     "text": [
      "[I 2024-02-28 10:20:06,767] Trial 58 finished with value: 811391726.121553 and parameters: {'num_leaves': 86, 'learning_rate': 0.08029101610503377, 'max_depth': 49, 'subsample': 0.7923577551677803, 'colsample_bytree': 0.5015135340534499, 'reg_alpha': 0.8973905363534316}. Best is trial 49 with value: 769351049.7405323.\n"
     ]
    },
    {
     "name": "stdout",
     "output_type": "stream",
     "text": [
      "[200]\tvalid_0's rmse: 28589.8\n",
      "Did not meet early stopping. Best iteration is:\n",
      "[183]\tvalid_0's rmse: 28484.9\n",
      "Training until validation scores don't improve for 100 rounds\n",
      "[100]\tvalid_0's rmse: 29187.4\n"
     ]
    },
    {
     "name": "stderr",
     "output_type": "stream",
     "text": [
      "[I 2024-02-28 10:20:07,477] Trial 59 finished with value: 824176536.312299 and parameters: {'num_leaves': 82, 'learning_rate': 0.07776364888463261, 'max_depth': 11, 'subsample': 0.8732431204905585, 'colsample_bytree': 0.6415943889583479, 'reg_alpha': 0.07143098405523292}. Best is trial 49 with value: 769351049.7405323.\n"
     ]
    },
    {
     "name": "stdout",
     "output_type": "stream",
     "text": [
      "[200]\tvalid_0's rmse: 28863.4\n",
      "Did not meet early stopping. Best iteration is:\n",
      "[146]\tvalid_0's rmse: 28708.5\n",
      "Training until validation scores don't improve for 100 rounds\n",
      "[100]\tvalid_0's rmse: 29989.3\n"
     ]
    },
    {
     "name": "stderr",
     "output_type": "stream",
     "text": [
      "[I 2024-02-28 10:20:08,310] Trial 60 finished with value: 844695239.6989979 and parameters: {'num_leaves': 73, 'learning_rate': 0.06391505816023044, 'max_depth': 15, 'subsample': 0.9542043008390062, 'colsample_bytree': 0.9413646359971692, 'reg_alpha': 0.4986033003749588}. Best is trial 49 with value: 769351049.7405323.\n"
     ]
    },
    {
     "name": "stdout",
     "output_type": "stream",
     "text": [
      "[200]\tvalid_0's rmse: 29099.5\n",
      "Did not meet early stopping. Best iteration is:\n",
      "[195]\tvalid_0's rmse: 29063.6\n",
      "Training until validation scores don't improve for 100 rounds\n",
      "[100]\tvalid_0's rmse: 29068.4\n"
     ]
    },
    {
     "name": "stderr",
     "output_type": "stream",
     "text": [
      "[I 2024-02-28 10:20:09,258] Trial 61 finished with value: 808454984.9709823 and parameters: {'num_leaves': 96, 'learning_rate': 0.06954150637674136, 'max_depth': 14, 'subsample': 0.8174815772646438, 'colsample_bytree': 0.5370364214177105, 'reg_alpha': 0.34129575371794196}. Best is trial 49 with value: 769351049.7405323.\n"
     ]
    },
    {
     "name": "stdout",
     "output_type": "stream",
     "text": [
      "[200]\tvalid_0's rmse: 28477.7\n",
      "Did not meet early stopping. Best iteration is:\n",
      "[182]\tvalid_0's rmse: 28433.3\n",
      "Training until validation scores don't improve for 100 rounds\n",
      "[100]\tvalid_0's rmse: 28933.7\n"
     ]
    },
    {
     "name": "stderr",
     "output_type": "stream",
     "text": [
      "[I 2024-02-28 10:20:09,883] Trial 62 finished with value: 791554497.0354196 and parameters: {'num_leaves': 92, 'learning_rate': 0.07020340571964506, 'max_depth': 9, 'subsample': 0.8181957481774311, 'colsample_bytree': 0.5505652089524264, 'reg_alpha': 0.27384446496278025}. Best is trial 49 with value: 769351049.7405323.\n"
     ]
    },
    {
     "name": "stdout",
     "output_type": "stream",
     "text": [
      "[200]\tvalid_0's rmse: 28143.9\n",
      "Did not meet early stopping. Best iteration is:\n",
      "[157]\tvalid_0's rmse: 28134.6\n",
      "Training until validation scores don't improve for 100 rounds\n",
      "[100]\tvalid_0's rmse: 29318.7\n"
     ]
    },
    {
     "name": "stderr",
     "output_type": "stream",
     "text": [
      "[I 2024-02-28 10:20:10,774] Trial 63 finished with value: 784113716.64998 and parameters: {'num_leaves': 96, 'learning_rate': 0.05660619507524929, 'max_depth': 13, 'subsample': 0.7764233567922063, 'colsample_bytree': 0.5158215444618608, 'reg_alpha': 0.3224950788976748}. Best is trial 49 with value: 769351049.7405323.\n"
     ]
    },
    {
     "name": "stdout",
     "output_type": "stream",
     "text": [
      "[200]\tvalid_0's rmse: 28017.5\n",
      "Did not meet early stopping. Best iteration is:\n",
      "[199]\tvalid_0's rmse: 28002\n",
      "Training until validation scores don't improve for 100 rounds\n",
      "[100]\tvalid_0's rmse: 29164.2\n"
     ]
    },
    {
     "name": "stderr",
     "output_type": "stream",
     "text": [
      "[I 2024-02-28 10:20:11,846] Trial 64 finished with value: 785484357.9895185 and parameters: {'num_leaves': 86, 'learning_rate': 0.06061812882838813, 'max_depth': 20, 'subsample': 0.8469824635648266, 'colsample_bytree': 0.5611747346224752, 'reg_alpha': 0.21880737175028092}. Best is trial 49 with value: 769351049.7405323.\n"
     ]
    },
    {
     "name": "stdout",
     "output_type": "stream",
     "text": [
      "[200]\tvalid_0's rmse: 28054.9\n",
      "Did not meet early stopping. Best iteration is:\n",
      "[184]\tvalid_0's rmse: 28026.5\n",
      "Training until validation scores don't improve for 100 rounds\n",
      "[100]\tvalid_0's rmse: 28723\n"
     ]
    },
    {
     "name": "stderr",
     "output_type": "stream",
     "text": [
      "[I 2024-02-28 10:20:12,201] Trial 65 finished with value: 802399496.1920124 and parameters: {'num_leaves': 10, 'learning_rate': 0.07517456401895159, 'max_depth': 16, 'subsample': 0.8653988071795556, 'colsample_bytree': 0.5328282947617237, 'reg_alpha': 0.18280975748577957}. Best is trial 49 with value: 769351049.7405323.\n"
     ]
    },
    {
     "name": "stdout",
     "output_type": "stream",
     "text": [
      "[200]\tvalid_0's rmse: 28417.4\n",
      "Did not meet early stopping. Best iteration is:\n",
      "[195]\tvalid_0's rmse: 28326.7\n",
      "Training until validation scores don't improve for 100 rounds\n",
      "[100]\tvalid_0's rmse: 29135.1\n"
     ]
    },
    {
     "name": "stderr",
     "output_type": "stream",
     "text": [
      "[I 2024-02-28 10:20:13,322] Trial 66 finished with value: 799706239.911655 and parameters: {'num_leaves': 99, 'learning_rate': 0.06715093337097666, 'max_depth': 19, 'subsample': 0.7552592372911211, 'colsample_bytree': 0.594270267458036, 'reg_alpha': 0.4556767618526839}. Best is trial 49 with value: 769351049.7405323.\n"
     ]
    },
    {
     "name": "stdout",
     "output_type": "stream",
     "text": [
      "[200]\tvalid_0's rmse: 28279.1\n",
      "Did not meet early stopping. Best iteration is:\n",
      "[200]\tvalid_0's rmse: 28279.1\n",
      "Training until validation scores don't improve for 100 rounds\n",
      "[100]\tvalid_0's rmse: 29744.4\n"
     ]
    },
    {
     "name": "stderr",
     "output_type": "stream",
     "text": [
      "[I 2024-02-28 10:20:14,371] Trial 67 finished with value: 811813782.9554789 and parameters: {'num_leaves': 91, 'learning_rate': 0.05397638250456225, 'max_depth': 43, 'subsample': 0.9095404733365683, 'colsample_bytree': 0.7467813979547294, 'reg_alpha': 0.12479181863552899}. Best is trial 49 with value: 769351049.7405323.\n"
     ]
    },
    {
     "name": "stdout",
     "output_type": "stream",
     "text": [
      "[200]\tvalid_0's rmse: 28512.7\n",
      "Did not meet early stopping. Best iteration is:\n",
      "[195]\tvalid_0's rmse: 28492.3\n",
      "Training until validation scores don't improve for 100 rounds\n",
      "[100]\tvalid_0's rmse: 28736.6\n"
     ]
    },
    {
     "name": "stderr",
     "output_type": "stream",
     "text": [
      "[I 2024-02-28 10:20:15,494] Trial 68 finished with value: 758054272.4780308 and parameters: {'num_leaves': 88, 'learning_rate': 0.06363528050417736, 'max_depth': 22, 'subsample': 0.8065419072398183, 'colsample_bytree': 0.5114320359373338, 'reg_alpha': 0.3062389603310078}. Best is trial 68 with value: 758054272.4780308.\n"
     ]
    },
    {
     "name": "stdout",
     "output_type": "stream",
     "text": [
      "[200]\tvalid_0's rmse: 27532.8\n",
      "Did not meet early stopping. Best iteration is:\n",
      "[200]\tvalid_0's rmse: 27532.8\n",
      "Training until validation scores don't improve for 100 rounds\n",
      "[100]\tvalid_0's rmse: 28748.4\n"
     ]
    },
    {
     "name": "stderr",
     "output_type": "stream",
     "text": [
      "[I 2024-02-28 10:20:16,644] Trial 69 finished with value: 786385271.3395485 and parameters: {'num_leaves': 80, 'learning_rate': 0.06319966574662994, 'max_depth': 23, 'subsample': 0.8861761483344014, 'colsample_bytree': 0.5092789374001772, 'reg_alpha': 0.3901761001174492}. Best is trial 68 with value: 758054272.4780308.\n"
     ]
    },
    {
     "name": "stdout",
     "output_type": "stream",
     "text": [
      "[200]\tvalid_0's rmse: 28042.6\n",
      "Did not meet early stopping. Best iteration is:\n",
      "[200]\tvalid_0's rmse: 28042.6\n",
      "Training until validation scores don't improve for 100 rounds\n",
      "[100]\tvalid_0's rmse: 29640.4\n"
     ]
    },
    {
     "name": "stderr",
     "output_type": "stream",
     "text": [
      "[I 2024-02-28 10:20:17,637] Trial 70 finished with value: 821843238.2469859 and parameters: {'num_leaves': 88, 'learning_rate': 0.05764808221941061, 'max_depth': 21, 'subsample': 0.8341154600839251, 'colsample_bytree': 0.8376667760959207, 'reg_alpha': 0.16149954058210303}. Best is trial 68 with value: 758054272.4780308.\n"
     ]
    },
    {
     "name": "stdout",
     "output_type": "stream",
     "text": [
      "[200]\tvalid_0's rmse: 28696.9\n",
      "Did not meet early stopping. Best iteration is:\n",
      "[191]\tvalid_0's rmse: 28667.8\n",
      "Training until validation scores don't improve for 100 rounds\n",
      "[100]\tvalid_0's rmse: 28858\n"
     ]
    },
    {
     "name": "stderr",
     "output_type": "stream",
     "text": [
      "[I 2024-02-28 10:20:18,653] Trial 71 finished with value: 792943928.9679811 and parameters: {'num_leaves': 84, 'learning_rate': 0.0715427057700175, 'max_depth': 18, 'subsample': 0.7421895630907358, 'colsample_bytree': 0.5388310500676957, 'reg_alpha': 0.28841638740108166}. Best is trial 68 with value: 758054272.4780308.\n"
     ]
    },
    {
     "name": "stdout",
     "output_type": "stream",
     "text": [
      "[200]\tvalid_0's rmse: 28274.1\n",
      "Did not meet early stopping. Best iteration is:\n",
      "[149]\tvalid_0's rmse: 28159.3\n",
      "Training until validation scores don't improve for 100 rounds\n",
      "[100]\tvalid_0's rmse: 28912.1\n"
     ]
    },
    {
     "name": "stderr",
     "output_type": "stream",
     "text": [
      "[I 2024-02-28 10:20:19,758] Trial 72 finished with value: 799739176.2036581 and parameters: {'num_leaves': 98, 'learning_rate': 0.06752469658592128, 'max_depth': 24, 'subsample': 0.8105540210141227, 'colsample_bytree': 0.5706304455844292, 'reg_alpha': 0.3159296995346733}. Best is trial 68 with value: 758054272.4780308.\n"
     ]
    },
    {
     "name": "stdout",
     "output_type": "stream",
     "text": [
      "[200]\tvalid_0's rmse: 28368.5\n",
      "Did not meet early stopping. Best iteration is:\n",
      "[178]\tvalid_0's rmse: 28279.7\n",
      "Training until validation scores don't improve for 100 rounds\n",
      "[100]\tvalid_0's rmse: 28686.8\n"
     ]
    },
    {
     "name": "stderr",
     "output_type": "stream",
     "text": [
      "[I 2024-02-28 10:20:20,694] Trial 73 finished with value: 775778253.0801934 and parameters: {'num_leaves': 76, 'learning_rate': 0.07488143517421195, 'max_depth': 14, 'subsample': 0.7871697367355431, 'colsample_bytree': 0.5144575137201124, 'reg_alpha': 0.2294165501086997}. Best is trial 68 with value: 758054272.4780308.\n"
     ]
    },
    {
     "name": "stdout",
     "output_type": "stream",
     "text": [
      "[200]\tvalid_0's rmse: 27872.2\n",
      "Did not meet early stopping. Best iteration is:\n",
      "[182]\tvalid_0's rmse: 27852.8\n",
      "Training until validation scores don't improve for 100 rounds\n",
      "[100]\tvalid_0's rmse: 28898.6\n"
     ]
    },
    {
     "name": "stderr",
     "output_type": "stream",
     "text": [
      "[I 2024-02-28 10:20:21,687] Trial 74 finished with value: 818612660.0615215 and parameters: {'num_leaves': 78, 'learning_rate': 0.08596740709204662, 'max_depth': 16, 'subsample': 0.7806133150519623, 'colsample_bytree': 0.5179259998598231, 'reg_alpha': 0.23885046962783915}. Best is trial 68 with value: 758054272.4780308.\n"
     ]
    },
    {
     "name": "stdout",
     "output_type": "stream",
     "text": [
      "[200]\tvalid_0's rmse: 28914.2\n",
      "Did not meet early stopping. Best iteration is:\n",
      "[143]\tvalid_0's rmse: 28611.4\n",
      "Training until validation scores don't improve for 100 rounds\n",
      "[100]\tvalid_0's rmse: 29783.7\n"
     ]
    },
    {
     "name": "stderr",
     "output_type": "stream",
     "text": [
      "[I 2024-02-28 10:20:22,766] Trial 75 finished with value: 820919853.1041573 and parameters: {'num_leaves': 69, 'learning_rate': 0.04563007390808131, 'max_depth': 45, 'subsample': 0.8251413301736192, 'colsample_bytree': 0.5562137231344815, 'reg_alpha': 0.1109240430553623}. Best is trial 68 with value: 758054272.4780308.\n"
     ]
    },
    {
     "name": "stdout",
     "output_type": "stream",
     "text": [
      "[200]\tvalid_0's rmse: 28651.7\n",
      "Did not meet early stopping. Best iteration is:\n",
      "[200]\tvalid_0's rmse: 28651.7\n",
      "Training until validation scores don't improve for 100 rounds\n",
      "[100]\tvalid_0's rmse: 28744.6\n"
     ]
    },
    {
     "name": "stderr",
     "output_type": "stream",
     "text": [
      "[I 2024-02-28 10:20:23,853] Trial 76 finished with value: 780427770.9862547 and parameters: {'num_leaves': 76, 'learning_rate': 0.0748067778089798, 'max_depth': 22, 'subsample': 0.72261271125701, 'colsample_bytree': 0.5015551037023062, 'reg_alpha': 0.04714799071784914}. Best is trial 68 with value: 758054272.4780308.\n"
     ]
    },
    {
     "name": "stdout",
     "output_type": "stream",
     "text": [
      "[200]\tvalid_0's rmse: 27958.6\n",
      "Did not meet early stopping. Best iteration is:\n",
      "[196]\tvalid_0's rmse: 27936.1\n",
      "Training until validation scores don't improve for 100 rounds\n",
      "[100]\tvalid_0's rmse: 28493.2\n"
     ]
    },
    {
     "name": "stderr",
     "output_type": "stream",
     "text": [
      "[I 2024-02-28 10:20:24,937] Trial 77 finished with value: 772928208.2456354 and parameters: {'num_leaves': 68, 'learning_rate': 0.07500114503326842, 'max_depth': 21, 'subsample': 0.6387583859679898, 'colsample_bytree': 0.5006069818261257, 'reg_alpha': 0.0882035333263303}. Best is trial 68 with value: 758054272.4780308.\n"
     ]
    },
    {
     "name": "stdout",
     "output_type": "stream",
     "text": [
      "[200]\tvalid_0's rmse: 27915.5\n",
      "Did not meet early stopping. Best iteration is:\n",
      "[181]\tvalid_0's rmse: 27801.6\n",
      "Training until validation scores don't improve for 100 rounds\n",
      "[100]\tvalid_0's rmse: 28807.6\n"
     ]
    },
    {
     "name": "stderr",
     "output_type": "stream",
     "text": [
      "[I 2024-02-28 10:20:26,037] Trial 78 finished with value: 803753765.8300383 and parameters: {'num_leaves': 76, 'learning_rate': 0.07935632939856528, 'max_depth': 26, 'subsample': 0.6503916832223274, 'colsample_bytree': 0.5012256666134215, 'reg_alpha': 0.05166927138154838}. Best is trial 68 with value: 758054272.4780308.\n"
     ]
    },
    {
     "name": "stdout",
     "output_type": "stream",
     "text": [
      "[200]\tvalid_0's rmse: 28402.3\n",
      "Did not meet early stopping. Best iteration is:\n",
      "[176]\tvalid_0's rmse: 28350.6\n",
      "Training until validation scores don't improve for 100 rounds\n",
      "[100]\tvalid_0's rmse: 29011.7\n"
     ]
    },
    {
     "name": "stderr",
     "output_type": "stream",
     "text": [
      "[I 2024-02-28 10:20:27,206] Trial 79 finished with value: 810330060.2119857 and parameters: {'num_leaves': 71, 'learning_rate': 0.07528415028457723, 'max_depth': 22, 'subsample': 0.7160572175862052, 'colsample_bytree': 0.532060964503701, 'reg_alpha': 0.19685687202009355}. Best is trial 68 with value: 758054272.4780308.\n"
     ]
    },
    {
     "name": "stdout",
     "output_type": "stream",
     "text": [
      "[200]\tvalid_0's rmse: 28527.6\n",
      "Did not meet early stopping. Best iteration is:\n",
      "[194]\tvalid_0's rmse: 28466.3\n",
      "Training until validation scores don't improve for 100 rounds\n",
      "[100]\tvalid_0's rmse: 28737.6\n"
     ]
    },
    {
     "name": "stderr",
     "output_type": "stream",
     "text": [
      "[I 2024-02-28 10:20:28,441] Trial 80 finished with value: 808406612.0642394 and parameters: {'num_leaves': 65, 'learning_rate': 0.084515106387565, 'max_depth': 22, 'subsample': 0.6231806821594951, 'colsample_bytree': 0.551178499210905, 'reg_alpha': 0.1402286464190071}. Best is trial 68 with value: 758054272.4780308.\n"
     ]
    },
    {
     "name": "stdout",
     "output_type": "stream",
     "text": [
      "[200]\tvalid_0's rmse: 28543.2\n",
      "Did not meet early stopping. Best iteration is:\n",
      "[156]\tvalid_0's rmse: 28432.5\n",
      "Training until validation scores don't improve for 100 rounds\n",
      "[100]\tvalid_0's rmse: 28873.2\n"
     ]
    },
    {
     "name": "stderr",
     "output_type": "stream",
     "text": [
      "[I 2024-02-28 10:20:29,793] Trial 81 finished with value: 787567842.7627524 and parameters: {'num_leaves': 66, 'learning_rate': 0.07339890921858484, 'max_depth': 24, 'subsample': 0.7939893582664026, 'colsample_bytree': 0.5109930106178334, 'reg_alpha': 0.08964527862701141}. Best is trial 68 with value: 758054272.4780308.\n"
     ]
    },
    {
     "name": "stdout",
     "output_type": "stream",
     "text": [
      "[200]\tvalid_0's rmse: 28072.4\n",
      "Did not meet early stopping. Best iteration is:\n",
      "[198]\tvalid_0's rmse: 28063.6\n",
      "Training until validation scores don't improve for 100 rounds\n",
      "[100]\tvalid_0's rmse: 28929.9\n"
     ]
    },
    {
     "name": "stderr",
     "output_type": "stream",
     "text": [
      "[I 2024-02-28 10:20:30,976] Trial 82 finished with value: 793283858.6510009 and parameters: {'num_leaves': 75, 'learning_rate': 0.07727602503402782, 'max_depth': 19, 'subsample': 0.6628485382699554, 'colsample_bytree': 0.5310044920340865, 'reg_alpha': 0.046336605676117526}. Best is trial 68 with value: 758054272.4780308.\n"
     ]
    },
    {
     "name": "stdout",
     "output_type": "stream",
     "text": [
      "[200]\tvalid_0's rmse: 28229.3\n",
      "Did not meet early stopping. Best iteration is:\n",
      "[194]\tvalid_0's rmse: 28165.3\n",
      "Training until validation scores don't improve for 100 rounds\n",
      "[100]\tvalid_0's rmse: 29395.5\n"
     ]
    },
    {
     "name": "stderr",
     "output_type": "stream",
     "text": [
      "[I 2024-02-28 10:20:32,207] Trial 83 finished with value: 802859687.0226758 and parameters: {'num_leaves': 56, 'learning_rate': 0.07102168709278685, 'max_depth': 21, 'subsample': 0.6415268178217197, 'colsample_bytree': 0.5106581206388134, 'reg_alpha': 0.03248992627759314}. Best is trial 68 with value: 758054272.4780308.\n"
     ]
    },
    {
     "name": "stdout",
     "output_type": "stream",
     "text": [
      "[200]\tvalid_0's rmse: 28334.8\n",
      "Did not meet early stopping. Best iteration is:\n",
      "[200]\tvalid_0's rmse: 28334.8\n",
      "Training until validation scores don't improve for 100 rounds\n",
      "[100]\tvalid_0's rmse: 29079.5\n"
     ]
    },
    {
     "name": "stderr",
     "output_type": "stream",
     "text": [
      "[I 2024-02-28 10:20:33,296] Trial 84 finished with value: 802299138.5226251 and parameters: {'num_leaves': 71, 'learning_rate': 0.08028730357599113, 'max_depth': 17, 'subsample': 0.7254756878230708, 'colsample_bytree': 0.5127753720014595, 'reg_alpha': 0.10739785104581664}. Best is trial 68 with value: 758054272.4780308.\n"
     ]
    },
    {
     "name": "stdout",
     "output_type": "stream",
     "text": [
      "[200]\tvalid_0's rmse: 28335.1\n",
      "Did not meet early stopping. Best iteration is:\n",
      "[199]\tvalid_0's rmse: 28324.9\n",
      "Training until validation scores don't improve for 100 rounds\n",
      "[100]\tvalid_0's rmse: 28396.6\n"
     ]
    },
    {
     "name": "stderr",
     "output_type": "stream",
     "text": [
      "[I 2024-02-28 10:20:34,350] Trial 85 finished with value: 805156671.7268741 and parameters: {'num_leaves': 81, 'learning_rate': 0.09256419522987465, 'max_depth': 19, 'subsample': 0.7473278600438045, 'colsample_bytree': 0.5001658075441653, 'reg_alpha': 0.15929690020967324}. Best is trial 68 with value: 758054272.4780308.\n"
     ]
    },
    {
     "name": "stdout",
     "output_type": "stream",
     "text": [
      "[200]\tvalid_0's rmse: 28548\n",
      "Did not meet early stopping. Best iteration is:\n",
      "[104]\tvalid_0's rmse: 28375.3\n",
      "Training until validation scores don't improve for 100 rounds\n",
      "[100]\tvalid_0's rmse: 29074.8\n"
     ]
    },
    {
     "name": "stderr",
     "output_type": "stream",
     "text": [
      "[I 2024-02-28 10:20:35,434] Trial 86 finished with value: 801966116.9355547 and parameters: {'num_leaves': 80, 'learning_rate': 0.06512747076521204, 'max_depth': 25, 'subsample': 0.6075394557298518, 'colsample_bytree': 0.5271186987425289, 'reg_alpha': 0.22335378998403843}. Best is trial 68 with value: 758054272.4780308.\n"
     ]
    },
    {
     "name": "stdout",
     "output_type": "stream",
     "text": [
      "[200]\tvalid_0's rmse: 28332.8\n",
      "Did not meet early stopping. Best iteration is:\n",
      "[199]\tvalid_0's rmse: 28319\n",
      "Training until validation scores don't improve for 100 rounds\n",
      "[100]\tvalid_0's rmse: 29030\n"
     ]
    },
    {
     "name": "stderr",
     "output_type": "stream",
     "text": [
      "[I 2024-02-28 10:20:36,554] Trial 87 finished with value: 793873573.9685518 and parameters: {'num_leaves': 84, 'learning_rate': 0.07377012646490333, 'max_depth': 41, 'subsample': 0.6893103372615558, 'colsample_bytree': 0.5451588693392656, 'reg_alpha': 0.07616123903739777}. Best is trial 68 with value: 758054272.4780308.\n"
     ]
    },
    {
     "name": "stdout",
     "output_type": "stream",
     "text": [
      "[200]\tvalid_0's rmse: 28175.8\n",
      "Did not meet early stopping. Best iteration is:\n",
      "[200]\tvalid_0's rmse: 28175.8\n",
      "Training until validation scores don't improve for 100 rounds\n",
      "[100]\tvalid_0's rmse: 29035.5\n"
     ]
    },
    {
     "name": "stderr",
     "output_type": "stream",
     "text": [
      "[I 2024-02-28 10:20:37,636] Trial 88 finished with value: 783850845.7425092 and parameters: {'num_leaves': 78, 'learning_rate': 0.060839048197411164, 'max_depth': 27, 'subsample': 0.5232473586655223, 'colsample_bytree': 0.583034726057382, 'reg_alpha': 0.17724084260071205}. Best is trial 68 with value: 758054272.4780308.\n"
     ]
    },
    {
     "name": "stdout",
     "output_type": "stream",
     "text": [
      "[200]\tvalid_0's rmse: 28034.7\n",
      "Did not meet early stopping. Best iteration is:\n",
      "[196]\tvalid_0's rmse: 27997.3\n",
      "Training until validation scores don't improve for 100 rounds\n",
      "[100]\tvalid_0's rmse: 29164.7\n"
     ]
    },
    {
     "name": "stderr",
     "output_type": "stream",
     "text": [
      "[I 2024-02-28 10:20:38,726] Trial 89 finished with value: 801090519.9000838 and parameters: {'num_leaves': 62, 'learning_rate': 0.06324754544365825, 'max_depth': 23, 'subsample': 0.7636046359765091, 'colsample_bytree': 0.5677564159447905, 'reg_alpha': 0.0011399740301866884}. Best is trial 68 with value: 758054272.4780308.\n"
     ]
    },
    {
     "name": "stdout",
     "output_type": "stream",
     "text": [
      "[200]\tvalid_0's rmse: 28350\n",
      "Did not meet early stopping. Best iteration is:\n",
      "[179]\tvalid_0's rmse: 28303.5\n",
      "Training until validation scores don't improve for 100 rounds\n",
      "[100]\tvalid_0's rmse: 29183.8\n"
     ]
    },
    {
     "name": "stderr",
     "output_type": "stream",
     "text": [
      "[I 2024-02-28 10:20:39,800] Trial 90 finished with value: 792268408.833078 and parameters: {'num_leaves': 74, 'learning_rate': 0.058966288073644006, 'max_depth': 25, 'subsample': 0.5581214450151404, 'colsample_bytree': 0.5165066565479481, 'reg_alpha': 0.2579266271148614}. Best is trial 68 with value: 758054272.4780308.\n"
     ]
    },
    {
     "name": "stdout",
     "output_type": "stream",
     "text": [
      "[200]\tvalid_0's rmse: 28147.3\n",
      "Did not meet early stopping. Best iteration is:\n",
      "[200]\tvalid_0's rmse: 28147.3\n",
      "Training until validation scores don't improve for 100 rounds\n",
      "[100]\tvalid_0's rmse: 28837.9\n"
     ]
    },
    {
     "name": "stderr",
     "output_type": "stream",
     "text": [
      "[I 2024-02-28 10:20:40,668] Trial 91 finished with value: 792370877.2469577 and parameters: {'num_leaves': 88, 'learning_rate': 0.06606523041570721, 'max_depth': 12, 'subsample': 0.8567613717539844, 'colsample_bytree': 0.527293248521477, 'reg_alpha': 0.6777446955065657}. Best is trial 68 with value: 758054272.4780308.\n"
     ]
    },
    {
     "name": "stdout",
     "output_type": "stream",
     "text": [
      "[200]\tvalid_0's rmse: 28164.1\n",
      "Did not meet early stopping. Best iteration is:\n",
      "[157]\tvalid_0's rmse: 28149.1\n",
      "Training until validation scores don't improve for 100 rounds\n",
      "[100]\tvalid_0's rmse: 29930.7\n"
     ]
    },
    {
     "name": "stderr",
     "output_type": "stream",
     "text": [
      "[I 2024-02-28 10:20:41,685] Trial 92 finished with value: 813876424.6458174 and parameters: {'num_leaves': 89, 'learning_rate': 0.039852396508819846, 'max_depth': 15, 'subsample': 0.8380378401226636, 'colsample_bytree': 0.5218902297797489, 'reg_alpha': 0.13172458282173682}. Best is trial 68 with value: 758054272.4780308.\n"
     ]
    },
    {
     "name": "stdout",
     "output_type": "stream",
     "text": [
      "[200]\tvalid_0's rmse: 28528.5\n",
      "Did not meet early stopping. Best iteration is:\n",
      "[200]\tvalid_0's rmse: 28528.5\n",
      "Training until validation scores don't improve for 100 rounds\n",
      "[100]\tvalid_0's rmse: 29290.9\n"
     ]
    },
    {
     "name": "stderr",
     "output_type": "stream",
     "text": [
      "[I 2024-02-28 10:20:42,849] Trial 93 finished with value: 811322853.5664868 and parameters: {'num_leaves': 85, 'learning_rate': 0.06913165930856043, 'max_depth': 18, 'subsample': 0.5858239401471622, 'colsample_bytree': 0.5402412920052218, 'reg_alpha': 0.0945517985300437}. Best is trial 68 with value: 758054272.4780308.\n"
     ]
    },
    {
     "name": "stdout",
     "output_type": "stream",
     "text": [
      "[200]\tvalid_0's rmse: 28529.5\n",
      "Did not meet early stopping. Best iteration is:\n",
      "[195]\tvalid_0's rmse: 28483.7\n",
      "Training until validation scores don't improve for 100 rounds\n",
      "[100]\tvalid_0's rmse: 28833\n"
     ]
    },
    {
     "name": "stderr",
     "output_type": "stream",
     "text": [
      "[I 2024-02-28 10:20:44,043] Trial 94 finished with value: 780370194.8400775 and parameters: {'num_leaves': 82, 'learning_rate': 0.07164480643303262, 'max_depth': 21, 'subsample': 0.8030246236760149, 'colsample_bytree': 0.5100049549302624, 'reg_alpha': 0.19762840626206143}. Best is trial 68 with value: 758054272.4780308.\n"
     ]
    },
    {
     "name": "stdout",
     "output_type": "stream",
     "text": [
      "[200]\tvalid_0's rmse: 27935.1\n",
      "Did not meet early stopping. Best iteration is:\n",
      "[200]\tvalid_0's rmse: 27935.1\n",
      "Training until validation scores don't improve for 100 rounds\n",
      "[100]\tvalid_0's rmse: 28945.3\n"
     ]
    },
    {
     "name": "stderr",
     "output_type": "stream",
     "text": [
      "[I 2024-02-28 10:20:45,129] Trial 95 finished with value: 804332881.9535936 and parameters: {'num_leaves': 83, 'learning_rate': 0.07670793438418644, 'max_depth': 20, 'subsample': 0.7778516341696023, 'colsample_bytree': 0.5005711266189744, 'reg_alpha': 0.1914264158564169}. Best is trial 68 with value: 758054272.4780308.\n"
     ]
    },
    {
     "name": "stdout",
     "output_type": "stream",
     "text": [
      "[200]\tvalid_0's rmse: 28379.1\n",
      "Did not meet early stopping. Best iteration is:\n",
      "[199]\tvalid_0's rmse: 28360.8\n",
      "Training until validation scores don't improve for 100 rounds\n",
      "[100]\tvalid_0's rmse: 28680.9\n"
     ]
    },
    {
     "name": "stderr",
     "output_type": "stream",
     "text": [
      "[I 2024-02-28 10:20:46,213] Trial 96 finished with value: 788510861.7413731 and parameters: {'num_leaves': 68, 'learning_rate': 0.07205915475833752, 'max_depth': 50, 'subsample': 0.6297272652278463, 'colsample_bytree': 0.5113804879629468, 'reg_alpha': 0.06378951402962557}. Best is trial 68 with value: 758054272.4780308.\n"
     ]
    },
    {
     "name": "stdout",
     "output_type": "stream",
     "text": [
      "[200]\tvalid_0's rmse: 28095.1\n",
      "Did not meet early stopping. Best iteration is:\n",
      "[199]\tvalid_0's rmse: 28080.4\n",
      "Training until validation scores don't improve for 100 rounds\n",
      "[100]\tvalid_0's rmse: 28912.7\n"
     ]
    },
    {
     "name": "stderr",
     "output_type": "stream",
     "text": [
      "[I 2024-02-28 10:20:47,271] Trial 97 finished with value: 787375613.8070635 and parameters: {'num_leaves': 94, 'learning_rate': 0.07032158473719677, 'max_depth': 21, 'subsample': 0.8003543671581674, 'colsample_bytree': 0.5541029907623605, 'reg_alpha': 0.023850046172666495}. Best is trial 68 with value: 758054272.4780308.\n"
     ]
    },
    {
     "name": "stdout",
     "output_type": "stream",
     "text": [
      "[200]\tvalid_0's rmse: 28076.8\n",
      "Did not meet early stopping. Best iteration is:\n",
      "[199]\tvalid_0's rmse: 28060.2\n",
      "Training until validation scores don't improve for 100 rounds\n",
      "[100]\tvalid_0's rmse: 28697.9\n"
     ]
    },
    {
     "name": "stderr",
     "output_type": "stream",
     "text": [
      "[I 2024-02-28 10:20:48,376] Trial 98 finished with value: 783790883.9873595 and parameters: {'num_leaves': 79, 'learning_rate': 0.08315672851046965, 'max_depth': 22, 'subsample': 0.8279157441602212, 'colsample_bytree': 0.5301527456404485, 'reg_alpha': 0.30428994768328155}. Best is trial 68 with value: 758054272.4780308.\n"
     ]
    },
    {
     "name": "stdout",
     "output_type": "stream",
     "text": [
      "[200]\tvalid_0's rmse: 28110.6\n",
      "Did not meet early stopping. Best iteration is:\n",
      "[184]\tvalid_0's rmse: 27996.3\n",
      "Training until validation scores don't improve for 100 rounds\n",
      "[100]\tvalid_0's rmse: 29440.4\n"
     ]
    },
    {
     "name": "stderr",
     "output_type": "stream",
     "text": [
      "[I 2024-02-28 10:20:49,393] Trial 99 finished with value: 794470719.8723695 and parameters: {'num_leaves': 48, 'learning_rate': 0.047591546856534814, 'max_depth': 20, 'subsample': 0.7854209466213572, 'colsample_bytree': 0.5098181359698295, 'reg_alpha': 0.20839624595123035}. Best is trial 68 with value: 758054272.4780308.\n"
     ]
    },
    {
     "name": "stdout",
     "output_type": "stream",
     "text": [
      "[200]\tvalid_0's rmse: 28186.4\n",
      "Did not meet early stopping. Best iteration is:\n",
      "[200]\tvalid_0's rmse: 28186.4\n",
      "Number of finished trials: 100\n",
      "Best trial: {'num_leaves': 88, 'learning_rate': 0.06363528050417736, 'max_depth': 22, 'subsample': 0.8065419072398183, 'colsample_bytree': 0.5114320359373338, 'reg_alpha': 0.3062389603310078}\n"
     ]
    }
   ],
   "source": [
    "def objective(trial):\n",
    "    param = {\n",
    "        \"objective\": \"regression\",\n",
    "        \"metric\": \"rmse\",\n",
    "        \"num_leaves\": trial.suggest_int(\"num_leaves\", 10, 100),\n",
    "        \"learning_rate\": trial.suggest_float(\"learning_rate\", 0.001, 0.1),\n",
    "        \"max_depth\": trial.suggest_int(\"max_depth\", 5, 50),\n",
    "        \"subsample\": trial.suggest_float(\"subsample\", 0.5, 1),\n",
    "        \"colsample_bytree\": trial.suggest_float(\"colsample_bytree\", 0.5, 1),\n",
    "        \"reg_alpha\": trial.suggest_float(\"reg_alpha\", 0, 1),\n",
    "        \"verbose\": -1,\n",
    "        \"random_state\": 42  # Fixed seed for reproducibility\n",
    "    }\n",
    "\n",
    "    callbacks = [\n",
    "        lgb.early_stopping(stopping_rounds=100),\n",
    "        lgb.log_evaluation(period=100),\n",
    "    ]\n",
    "\n",
    "    lgb_model = lgb.train(\n",
    "        param,\n",
    "        lgb_train,\n",
    "        num_boost_round=200,\n",
    "        valid_sets=[lgb_val],\n",
    "        callbacks=callbacks,\n",
    "    )\n",
    "\n",
    "    preds = lgb_model.predict(val_df, num_iteration=lgb_model.best_iteration)\n",
    "    mse = mean_squared_error(val_target, preds)\n",
    "\n",
    "    return mse\n",
    "\n",
    "# Fixed seed for Optuna\n",
    "study = optuna.create_study(direction=\"minimize\", sampler=optuna.samplers.TPESampler(seed=42))\n",
    "study.optimize(objective, n_trials=100)\n",
    "\n",
    "print(\"Number of finished trials:\", len(study.trials))\n",
    "print(\"Best trial:\", study.best_trial.params)"
   ]
  },
  {
   "cell_type": "markdown",
   "metadata": {},
   "source": [
    "### Optimized Train and Test"
   ]
  },
  {
   "cell_type": "code",
   "execution_count": 45,
   "metadata": {},
   "outputs": [
    {
     "name": "stdout",
     "output_type": "stream",
     "text": [
      "[LightGBM] [Info] Auto-choosing row-wise multi-threading, the overhead of testing was 0.001652 seconds.\n",
      "You can set `force_row_wise=true` to remove the overhead.\n",
      "And if memory is not enough, you can set `force_col_wise=true`.\n",
      "[LightGBM] [Info] Total Bins 3186\n",
      "[LightGBM] [Info] Number of data points in the train set: 1133, number of used features: 65\n",
      "[LightGBM] [Info] Start training from score 183227.541041\n",
      "[LightGBM] [Warning] No further splits with positive gain, best gain: -inf\n",
      "[LightGBM] [Warning] No further splits with positive gain, best gain: -inf\n",
      "[LightGBM] [Warning] No further splits with positive gain, best gain: -inf\n",
      "[LightGBM] [Warning] No further splits with positive gain, best gain: -inf\n",
      "[LightGBM] [Warning] No further splits with positive gain, best gain: -inf\n",
      "[LightGBM] [Warning] No further splits with positive gain, best gain: -inf\n",
      "[LightGBM] [Warning] No further splits with positive gain, best gain: -inf\n",
      "[LightGBM] [Warning] No further splits with positive gain, best gain: -inf\n",
      "[LightGBM] [Warning] No further splits with positive gain, best gain: -inf\n",
      "[LightGBM] [Warning] No further splits with positive gain, best gain: -inf\n",
      "[LightGBM] [Warning] No further splits with positive gain, best gain: -inf\n",
      "[LightGBM] [Warning] No further splits with positive gain, best gain: -inf\n",
      "[LightGBM] [Warning] No further splits with positive gain, best gain: -inf\n",
      "[LightGBM] [Warning] No further splits with positive gain, best gain: -inf\n",
      "[LightGBM] [Warning] No further splits with positive gain, best gain: -inf\n",
      "[LightGBM] [Warning] No further splits with positive gain, best gain: -inf\n",
      "[LightGBM] [Warning] No further splits with positive gain, best gain: -inf\n",
      "[LightGBM] [Warning] No further splits with positive gain, best gain: -inf\n",
      "[LightGBM] [Warning] No further splits with positive gain, best gain: -inf\n",
      "[LightGBM] [Warning] No further splits with positive gain, best gain: -inf\n",
      "[LightGBM] [Warning] No further splits with positive gain, best gain: -inf\n",
      "[LightGBM] [Warning] No further splits with positive gain, best gain: -inf\n",
      "[LightGBM] [Warning] No further splits with positive gain, best gain: -inf\n",
      "[LightGBM] [Warning] No further splits with positive gain, best gain: -inf\n",
      "[LightGBM] [Warning] No further splits with positive gain, best gain: -inf\n",
      "[LightGBM] [Warning] No further splits with positive gain, best gain: -inf\n",
      "[LightGBM] [Warning] No further splits with positive gain, best gain: -inf\n",
      "[LightGBM] [Warning] No further splits with positive gain, best gain: -inf\n",
      "[LightGBM] [Warning] No further splits with positive gain, best gain: -inf\n",
      "[LightGBM] [Warning] No further splits with positive gain, best gain: -inf\n",
      "[LightGBM] [Warning] No further splits with positive gain, best gain: -inf\n",
      "[LightGBM] [Warning] No further splits with positive gain, best gain: -inf\n",
      "[LightGBM] [Warning] No further splits with positive gain, best gain: -inf\n",
      "[LightGBM] [Warning] No further splits with positive gain, best gain: -inf\n",
      "[LightGBM] [Warning] No further splits with positive gain, best gain: -inf\n",
      "[LightGBM] [Warning] No further splits with positive gain, best gain: -inf\n",
      "[LightGBM] [Warning] No further splits with positive gain, best gain: -inf\n",
      "[LightGBM] [Warning] No further splits with positive gain, best gain: -inf\n",
      "[LightGBM] [Warning] No further splits with positive gain, best gain: -inf\n",
      "[LightGBM] [Warning] No further splits with positive gain, best gain: -inf\n",
      "[LightGBM] [Warning] No further splits with positive gain, best gain: -inf\n",
      "[LightGBM] [Warning] No further splits with positive gain, best gain: -inf\n",
      "[LightGBM] [Warning] No further splits with positive gain, best gain: -inf\n",
      "[LightGBM] [Warning] No further splits with positive gain, best gain: -inf\n",
      "[LightGBM] [Warning] No further splits with positive gain, best gain: -inf\n",
      "[LightGBM] [Warning] No further splits with positive gain, best gain: -inf\n",
      "[LightGBM] [Warning] No further splits with positive gain, best gain: -inf\n",
      "[LightGBM] [Warning] No further splits with positive gain, best gain: -inf\n",
      "[LightGBM] [Warning] No further splits with positive gain, best gain: -inf\n",
      "[LightGBM] [Warning] No further splits with positive gain, best gain: -inf\n",
      "[LightGBM] [Warning] No further splits with positive gain, best gain: -inf\n",
      "[LightGBM] [Warning] No further splits with positive gain, best gain: -inf\n",
      "[LightGBM] [Warning] No further splits with positive gain, best gain: -inf\n",
      "[LightGBM] [Warning] No further splits with positive gain, best gain: -inf\n",
      "[LightGBM] [Warning] No further splits with positive gain, best gain: -inf\n",
      "[LightGBM] [Warning] No further splits with positive gain, best gain: -inf\n",
      "[LightGBM] [Warning] No further splits with positive gain, best gain: -inf\n",
      "[LightGBM] [Warning] No further splits with positive gain, best gain: -inf\n",
      "[LightGBM] [Warning] No further splits with positive gain, best gain: -inf\n",
      "[LightGBM] [Warning] No further splits with positive gain, best gain: -inf\n",
      "[LightGBM] [Warning] No further splits with positive gain, best gain: -inf\n",
      "[LightGBM] [Warning] No further splits with positive gain, best gain: -inf\n",
      "[LightGBM] [Warning] No further splits with positive gain, best gain: -inf\n",
      "[LightGBM] [Warning] No further splits with positive gain, best gain: -inf\n",
      "[LightGBM] [Warning] No further splits with positive gain, best gain: -inf\n",
      "[LightGBM] [Warning] No further splits with positive gain, best gain: -inf\n",
      "[LightGBM] [Warning] No further splits with positive gain, best gain: -inf\n",
      "[LightGBM] [Warning] No further splits with positive gain, best gain: -inf\n",
      "[LightGBM] [Warning] No further splits with positive gain, best gain: -inf\n",
      "[LightGBM] [Warning] No further splits with positive gain, best gain: -inf\n",
      "[LightGBM] [Warning] No further splits with positive gain, best gain: -inf\n",
      "[LightGBM] [Warning] No further splits with positive gain, best gain: -inf\n",
      "[LightGBM] [Warning] No further splits with positive gain, best gain: -inf\n",
      "[LightGBM] [Warning] No further splits with positive gain, best gain: -inf\n",
      "[LightGBM] [Warning] No further splits with positive gain, best gain: -inf\n",
      "[LightGBM] [Warning] No further splits with positive gain, best gain: -inf\n",
      "[LightGBM] [Warning] No further splits with positive gain, best gain: -inf\n",
      "[LightGBM] [Warning] No further splits with positive gain, best gain: -inf\n",
      "[LightGBM] [Warning] No further splits with positive gain, best gain: -inf\n",
      "[LightGBM] [Warning] No further splits with positive gain, best gain: -inf\n",
      "[LightGBM] [Warning] No further splits with positive gain, best gain: -inf\n",
      "[LightGBM] [Warning] No further splits with positive gain, best gain: -inf\n",
      "[LightGBM] [Warning] No further splits with positive gain, best gain: -inf\n",
      "[LightGBM] [Warning] No further splits with positive gain, best gain: -inf\n",
      "[LightGBM] [Warning] No further splits with positive gain, best gain: -inf\n",
      "[LightGBM] [Warning] No further splits with positive gain, best gain: -inf\n",
      "[LightGBM] [Warning] No further splits with positive gain, best gain: -inf\n",
      "[LightGBM] [Warning] No further splits with positive gain, best gain: -inf\n",
      "[LightGBM] [Warning] No further splits with positive gain, best gain: -inf\n",
      "[LightGBM] [Warning] No further splits with positive gain, best gain: -inf\n",
      "[LightGBM] [Warning] No further splits with positive gain, best gain: -inf\n",
      "[LightGBM] [Warning] No further splits with positive gain, best gain: -inf\n",
      "[LightGBM] [Warning] No further splits with positive gain, best gain: -inf\n",
      "[LightGBM] [Warning] No further splits with positive gain, best gain: -inf\n",
      "[LightGBM] [Warning] No further splits with positive gain, best gain: -inf\n",
      "[LightGBM] [Warning] No further splits with positive gain, best gain: -inf\n",
      "[LightGBM] [Warning] No further splits with positive gain, best gain: -inf\n",
      "[LightGBM] [Warning] No further splits with positive gain, best gain: -inf\n",
      "[LightGBM] [Warning] No further splits with positive gain, best gain: -inf\n",
      "[LightGBM] [Warning] No further splits with positive gain, best gain: -inf\n",
      "\n",
      "TRAIN\n",
      "\n",
      "MAE: 6540\n",
      "RMSE: 13865\n",
      "R2 Score: 0.97\n",
      "\n",
      "TEST\n",
      "\n",
      "MAE: 17083\n",
      "RMSE: 29272\n",
      "R2 Score: 0.89\n"
     ]
    },
    {
     "data": {
      "text/plain": [
       "array([139166.42246817, 347736.61106408, 114915.3520539 , 170144.51208403,\n",
       "       316504.01091306,  79946.02301736, 245522.26675071, 148153.11108676,\n",
       "        80149.03401769, 138233.53798825, 149672.25208803, 129179.68058895,\n",
       "       120991.87118518, 207849.88032294, 183197.86472351, 135303.51243153,\n",
       "       206933.47923981, 128421.27374486, 115920.38614509, 228790.70342003,\n",
       "       167167.22974403, 228689.00618647, 189370.78658908, 126870.62769147,\n",
       "       215129.7597746 , 168919.21257011, 201796.5091313 , 121649.85898993,\n",
       "       177381.95981468, 197263.76201845, 118052.31880009, 273299.24463954,\n",
       "       291414.05572798, 116598.54312672, 293160.60566667, 153756.93835674,\n",
       "       134044.64204721, 213975.3685845 , 339438.01038433, 129400.73058052,\n",
       "       232009.69479913, 131507.47095669, 377184.43631179, 129662.04597583,\n",
       "       126954.85746024, 118813.15913587, 123370.92449575, 433585.10528084,\n",
       "       143637.43959593, 122456.645584  , 199852.0543424 , 111528.05986496,\n",
       "       390463.25994084, 147343.73197341, 264790.97941599, 202839.54831417,\n",
       "       157844.31450021, 150310.43254496,  74170.60262232, 146968.89733494,\n",
       "       311546.16739429, 302171.8913064 , 295948.00465285, 226306.77306815,\n",
       "       107786.34750856, 356983.40542203, 119057.31600005, 161935.83206553,\n",
       "       134753.65945919, 114746.33981348, 474188.55632023, 182790.59717028,\n",
       "       330852.89806413, 298285.58852496, 137420.74607973, 121866.38038319,\n",
       "       105380.35138337,  88155.73572049, 112148.36070817,  96304.71661541,\n",
       "       156117.43650243, 129620.09751469, 279688.72468113, 222372.95488818,\n",
       "       145824.9748415 , 187984.03404132, 141320.6480762 , 151182.40977496,\n",
       "       125748.51906377, 282090.12060986, 117108.51866553, 179680.75473809,\n",
       "       171494.10160873, 171819.93171523, 222750.13142257, 248073.56573372,\n",
       "       175848.73177437, 210523.90421302, 233688.29976469, 137689.66603065,\n",
       "       203589.46213157, 159394.63595048, 150167.22756214, 284314.12433674,\n",
       "       144060.02266345, 194034.21939226,  70306.80734423, 126439.51670012,\n",
       "       139207.00033442, 138393.43014901, 212088.20729258, 117722.66369765,\n",
       "       107560.17922596, 118356.2520384 , 129755.53457384, 140390.24966109,\n",
       "       177244.62941448, 184186.61494002, 189753.74977764, 133619.41624594,\n",
       "       238292.74019365, 105492.59200714, 145779.13764786, 179468.02515555,\n",
       "       194646.70660126, 384394.50831329, 200686.39209414, 117764.05936145,\n",
       "        78928.99009721, 354166.66548592, 387748.63184859, 135328.87278394,\n",
       "       238365.03951657, 514292.26903051, 389745.05564847, 132656.67609407,\n",
       "       182325.61550323, 151011.80714808, 153067.94941036, 122932.620133  ,\n",
       "       234465.16873501, 228360.53461666, 131180.70700267,  66410.44258361,\n",
       "       127238.39652274, 145487.27053536, 140738.92558214,  90484.46761124,\n",
       "       132222.01549731, 141137.6328839 , 149784.2370753 ,  83620.86501149,\n",
       "       145851.60282045, 216971.41343576, 139995.53087428, 352641.6460884 ,\n",
       "       154171.83187376, 111608.20372238, 101958.74538845, 221484.11246865,\n",
       "       361435.75542067, 477733.05821605, 260828.9339646 , 393480.8609426 ,\n",
       "        90505.21212488, 109935.95541666, 159814.63124709, 361656.04647666,\n",
       "       130187.93722465, 229792.83699149, 125168.92301421, 171151.09144439,\n",
       "       172941.74710157, 101505.33255749, 142570.21910851, 134234.99825964,\n",
       "       285126.69162188, 145045.533947  , 290235.17754732, 223607.65154806,\n",
       "       211301.9930029 ,  94050.89414048, 122306.02618608, 102031.15807552,\n",
       "       148775.85014217, 149802.42478446, 190683.28467059, 180159.71516546,\n",
       "       222982.95888891,  94852.26370045, 217076.46646958, 137894.83350568,\n",
       "       238583.17689548, 205819.31429537, 130092.71744549, 364702.6172959 ,\n",
       "       198509.44537463, 137503.36582949, 232829.81054709, 143752.66946596,\n",
       "       148256.3354065 , 120024.52276483, 243794.90087458, 144678.7651619 ,\n",
       "       131525.73537187, 161516.76473104, 228508.29852102, 294740.84783748,\n",
       "       190116.75525028, 141664.76358721, 137345.68845478, 139364.93334263,\n",
       "       241797.79487984, 244437.53937137, 102310.84232798, 247157.13967692,\n",
       "       139924.41816231,  95521.69735112, 111154.86869457, 176823.5037112 ,\n",
       "       100395.25558271, 184660.15977353, 122214.23874558, 144337.29696862,\n",
       "       244453.76874764, 138485.07515215, 210376.46542754, 148734.16047551,\n",
       "       257002.31022819, 125640.79988265, 107416.62302653, 275243.80318705,\n",
       "       202658.87779573, 450275.74290885, 192935.48788172, 115210.34686999,\n",
       "       151831.56825547, 179233.49028717, 147759.12507532,  98780.82979742,\n",
       "       186007.60980045, 176609.63294432, 138538.72583431,  87188.94249894,\n",
       "       151605.90116984, 144388.97566453, 112490.82555904, 120618.13458069,\n",
       "       176982.98246583, 283989.13659584, 356159.68389002, 177722.62404161,\n",
       "       134683.37820121, 252373.69791224, 320826.49364931, 233771.5968227 ,\n",
       "       162123.53948971, 141500.64063376, 124383.05291006, 174726.38279375,\n",
       "       193871.82167873, 247924.1315016 ,  94864.30609547, 143003.52490828,\n",
       "       160565.97030938, 321060.18162141, 240768.32217244, 158676.40117299,\n",
       "       100540.74922458, 203548.17665757, 110209.49164435, 355191.57860653,\n",
       "       181286.4581779 , 226632.79571035, 115132.10803487, 265692.47702326,\n",
       "       181217.27123866, 123743.98156587, 116776.44179014])"
      ]
     },
     "execution_count": 45,
     "metadata": {},
     "output_type": "execute_result"
    }
   ],
   "source": [
    "optimized_lgb = lgb.LGBMRegressor(**study.best_params)\n",
    "optimized_lgb.fit(train_df, train_target)"
   ]
  },
  {
   "cell_type": "code",
   "execution_count": 46,
   "metadata": {},
   "outputs": [
    {
     "name": "stdout",
     "output_type": "stream",
     "text": [
      "\n",
      "TRAIN\n",
      "\n",
      "MAE: 6540\n",
      "RMSE: 13865\n",
      "R2 Score: 0.97\n",
      "\n",
      "TEST\n",
      "\n",
      "MAE: 17083\n",
      "RMSE: 29272\n",
      "R2 Score: 0.89\n"
     ]
    },
    {
     "data": {
      "text/plain": [
       "array([139166.42246817, 347736.61106408, 114915.3520539 , 170144.51208403,\n",
       "       316504.01091306,  79946.02301736, 245522.26675071, 148153.11108676,\n",
       "        80149.03401769, 138233.53798825, 149672.25208803, 129179.68058895,\n",
       "       120991.87118518, 207849.88032294, 183197.86472351, 135303.51243153,\n",
       "       206933.47923981, 128421.27374486, 115920.38614509, 228790.70342003,\n",
       "       167167.22974403, 228689.00618647, 189370.78658908, 126870.62769147,\n",
       "       215129.7597746 , 168919.21257011, 201796.5091313 , 121649.85898993,\n",
       "       177381.95981468, 197263.76201845, 118052.31880009, 273299.24463954,\n",
       "       291414.05572798, 116598.54312672, 293160.60566667, 153756.93835674,\n",
       "       134044.64204721, 213975.3685845 , 339438.01038433, 129400.73058052,\n",
       "       232009.69479913, 131507.47095669, 377184.43631179, 129662.04597583,\n",
       "       126954.85746024, 118813.15913587, 123370.92449575, 433585.10528084,\n",
       "       143637.43959593, 122456.645584  , 199852.0543424 , 111528.05986496,\n",
       "       390463.25994084, 147343.73197341, 264790.97941599, 202839.54831417,\n",
       "       157844.31450021, 150310.43254496,  74170.60262232, 146968.89733494,\n",
       "       311546.16739429, 302171.8913064 , 295948.00465285, 226306.77306815,\n",
       "       107786.34750856, 356983.40542203, 119057.31600005, 161935.83206553,\n",
       "       134753.65945919, 114746.33981348, 474188.55632023, 182790.59717028,\n",
       "       330852.89806413, 298285.58852496, 137420.74607973, 121866.38038319,\n",
       "       105380.35138337,  88155.73572049, 112148.36070817,  96304.71661541,\n",
       "       156117.43650243, 129620.09751469, 279688.72468113, 222372.95488818,\n",
       "       145824.9748415 , 187984.03404132, 141320.6480762 , 151182.40977496,\n",
       "       125748.51906377, 282090.12060986, 117108.51866553, 179680.75473809,\n",
       "       171494.10160873, 171819.93171523, 222750.13142257, 248073.56573372,\n",
       "       175848.73177437, 210523.90421302, 233688.29976469, 137689.66603065,\n",
       "       203589.46213157, 159394.63595048, 150167.22756214, 284314.12433674,\n",
       "       144060.02266345, 194034.21939226,  70306.80734423, 126439.51670012,\n",
       "       139207.00033442, 138393.43014901, 212088.20729258, 117722.66369765,\n",
       "       107560.17922596, 118356.2520384 , 129755.53457384, 140390.24966109,\n",
       "       177244.62941448, 184186.61494002, 189753.74977764, 133619.41624594,\n",
       "       238292.74019365, 105492.59200714, 145779.13764786, 179468.02515555,\n",
       "       194646.70660126, 384394.50831329, 200686.39209414, 117764.05936145,\n",
       "        78928.99009721, 354166.66548592, 387748.63184859, 135328.87278394,\n",
       "       238365.03951657, 514292.26903051, 389745.05564847, 132656.67609407,\n",
       "       182325.61550323, 151011.80714808, 153067.94941036, 122932.620133  ,\n",
       "       234465.16873501, 228360.53461666, 131180.70700267,  66410.44258361,\n",
       "       127238.39652274, 145487.27053536, 140738.92558214,  90484.46761124,\n",
       "       132222.01549731, 141137.6328839 , 149784.2370753 ,  83620.86501149,\n",
       "       145851.60282045, 216971.41343576, 139995.53087428, 352641.6460884 ,\n",
       "       154171.83187376, 111608.20372238, 101958.74538845, 221484.11246865,\n",
       "       361435.75542067, 477733.05821605, 260828.9339646 , 393480.8609426 ,\n",
       "        90505.21212488, 109935.95541666, 159814.63124709, 361656.04647666,\n",
       "       130187.93722465, 229792.83699149, 125168.92301421, 171151.09144439,\n",
       "       172941.74710157, 101505.33255749, 142570.21910851, 134234.99825964,\n",
       "       285126.69162188, 145045.533947  , 290235.17754732, 223607.65154806,\n",
       "       211301.9930029 ,  94050.89414048, 122306.02618608, 102031.15807552,\n",
       "       148775.85014217, 149802.42478446, 190683.28467059, 180159.71516546,\n",
       "       222982.95888891,  94852.26370045, 217076.46646958, 137894.83350568,\n",
       "       238583.17689548, 205819.31429537, 130092.71744549, 364702.6172959 ,\n",
       "       198509.44537463, 137503.36582949, 232829.81054709, 143752.66946596,\n",
       "       148256.3354065 , 120024.52276483, 243794.90087458, 144678.7651619 ,\n",
       "       131525.73537187, 161516.76473104, 228508.29852102, 294740.84783748,\n",
       "       190116.75525028, 141664.76358721, 137345.68845478, 139364.93334263,\n",
       "       241797.79487984, 244437.53937137, 102310.84232798, 247157.13967692,\n",
       "       139924.41816231,  95521.69735112, 111154.86869457, 176823.5037112 ,\n",
       "       100395.25558271, 184660.15977353, 122214.23874558, 144337.29696862,\n",
       "       244453.76874764, 138485.07515215, 210376.46542754, 148734.16047551,\n",
       "       257002.31022819, 125640.79988265, 107416.62302653, 275243.80318705,\n",
       "       202658.87779573, 450275.74290885, 192935.48788172, 115210.34686999,\n",
       "       151831.56825547, 179233.49028717, 147759.12507532,  98780.82979742,\n",
       "       186007.60980045, 176609.63294432, 138538.72583431,  87188.94249894,\n",
       "       151605.90116984, 144388.97566453, 112490.82555904, 120618.13458069,\n",
       "       176982.98246583, 283989.13659584, 356159.68389002, 177722.62404161,\n",
       "       134683.37820121, 252373.69791224, 320826.49364931, 233771.5968227 ,\n",
       "       162123.53948971, 141500.64063376, 124383.05291006, 174726.38279375,\n",
       "       193871.82167873, 247924.1315016 ,  94864.30609547, 143003.52490828,\n",
       "       160565.97030938, 321060.18162141, 240768.32217244, 158676.40117299,\n",
       "       100540.74922458, 203548.17665757, 110209.49164435, 355191.57860653,\n",
       "       181286.4581779 , 226632.79571035, 115132.10803487, 265692.47702326,\n",
       "       181217.27123866, 123743.98156587, 116776.44179014])"
      ]
     },
     "execution_count": 46,
     "metadata": {},
     "output_type": "execute_result"
    }
   ],
   "source": [
    "print(\"\\nTRAIN\\n\")\n",
    "evaluate_model(optimized_lgb, train_df, train_target)\n",
    "\n",
    "print(\"\\nTEST\\n\")\n",
    "evaluate_model(optimized_lgb, val_df, val_target)"
   ]
  },
  {
   "cell_type": "markdown",
   "metadata": {},
   "source": [
    "## Neural Network\n"
   ]
  },
  {
   "cell_type": "code",
   "execution_count": 34,
   "metadata": {},
   "outputs": [
    {
     "data": {
      "text/plain": [
       "(1133, 169)"
      ]
     },
     "execution_count": 34,
     "metadata": {},
     "output_type": "execute_result"
    }
   ],
   "source": [
    "merged_train_df.shape"
   ]
  },
  {
   "cell_type": "code",
   "execution_count": 35,
   "metadata": {},
   "outputs": [],
   "source": [
    "model_nn = Sequential()\n",
    "model_nn.add(Dense(128, activation=\"relu\", input_shape=(merged_train_df.shape[1],)))\n",
    "model_nn.add(Dense(128, activation=\"relu\"))\n",
    "model_nn.add(Dense(64, activation=\"relu\"))\n",
    "model_nn.add(Dense(32, activation=\"relu\"))\n",
    "model_nn.add(Dense(1))\n",
    "\n",
    "model_nn.compile(optimizer=\"adam\", loss=\"mean_squared_error\")"
   ]
  },
  {
   "cell_type": "code",
   "execution_count": 36,
   "metadata": {},
   "outputs": [
    {
     "name": "stdout",
     "output_type": "stream",
     "text": [
      "Epoch 1/200\n",
      "36/36 [==============================] - 0s 4ms/step - loss: 39530434560.0000 - val_loss: 39712419840.0000\n",
      "Epoch 2/200\n",
      "36/36 [==============================] - 0s 1ms/step - loss: 38969151488.0000 - val_loss: 37731561472.0000\n",
      "Epoch 3/200\n",
      "36/36 [==============================] - 0s 1ms/step - loss: 31651983360.0000 - val_loss: 21540124672.0000\n",
      "Epoch 4/200\n",
      "36/36 [==============================] - 0s 1ms/step - loss: 9828552704.0000 - val_loss: 5627014144.0000\n",
      "Epoch 5/200\n",
      "36/36 [==============================] - 0s 1ms/step - loss: 3695248640.0000 - val_loss: 3968696320.0000\n",
      "Epoch 6/200\n",
      "36/36 [==============================] - 0s 1ms/step - loss: 2706115072.0000 - val_loss: 3102324736.0000\n",
      "Epoch 7/200\n",
      "36/36 [==============================] - 0s 1ms/step - loss: 2123055232.0000 - val_loss: 2500145664.0000\n",
      "Epoch 8/200\n",
      "36/36 [==============================] - 0s 1ms/step - loss: 1752779520.0000 - val_loss: 2099150464.0000\n",
      "Epoch 9/200\n",
      "36/36 [==============================] - 0s 1ms/step - loss: 1510999936.0000 - val_loss: 1849940864.0000\n",
      "Epoch 10/200\n",
      "36/36 [==============================] - 0s 1ms/step - loss: 1381362816.0000 - val_loss: 1616190208.0000\n",
      "Epoch 11/200\n",
      "36/36 [==============================] - 0s 1ms/step - loss: 1271038336.0000 - val_loss: 1581096448.0000\n",
      "Epoch 12/200\n",
      "36/36 [==============================] - 0s 1ms/step - loss: 1210761728.0000 - val_loss: 1448628480.0000\n",
      "Epoch 13/200\n",
      "36/36 [==============================] - 0s 1ms/step - loss: 1163604224.0000 - val_loss: 1368701696.0000\n",
      "Epoch 14/200\n",
      "36/36 [==============================] - 0s 1ms/step - loss: 1123822720.0000 - val_loss: 1371872896.0000\n",
      "Epoch 15/200\n",
      "36/36 [==============================] - 0s 1ms/step - loss: 1087863296.0000 - val_loss: 1322623872.0000\n",
      "Epoch 16/200\n",
      "36/36 [==============================] - 0s 1ms/step - loss: 1071856384.0000 - val_loss: 1277097472.0000\n",
      "Epoch 17/200\n",
      "36/36 [==============================] - 0s 1ms/step - loss: 1035692672.0000 - val_loss: 1242512640.0000\n",
      "Epoch 18/200\n",
      "36/36 [==============================] - 0s 1ms/step - loss: 1042613184.0000 - val_loss: 1233711104.0000\n",
      "Epoch 19/200\n",
      "36/36 [==============================] - 0s 1ms/step - loss: 1009806464.0000 - val_loss: 1216072448.0000\n",
      "Epoch 20/200\n",
      "36/36 [==============================] - 0s 1ms/step - loss: 992406272.0000 - val_loss: 1206197376.0000\n",
      "Epoch 21/200\n",
      "36/36 [==============================] - 0s 1ms/step - loss: 973694336.0000 - val_loss: 1190988032.0000\n",
      "Epoch 22/200\n",
      "36/36 [==============================] - 0s 1ms/step - loss: 966725952.0000 - val_loss: 1181299840.0000\n",
      "Epoch 23/200\n",
      "36/36 [==============================] - 0s 1ms/step - loss: 944663872.0000 - val_loss: 1188064384.0000\n",
      "Epoch 24/200\n",
      "36/36 [==============================] - 0s 1ms/step - loss: 930770816.0000 - val_loss: 1168011776.0000\n",
      "Epoch 25/200\n",
      "36/36 [==============================] - 0s 1ms/step - loss: 933569792.0000 - val_loss: 1132656512.0000\n",
      "Epoch 26/200\n",
      "36/36 [==============================] - 0s 1ms/step - loss: 929991424.0000 - val_loss: 1144760832.0000\n",
      "Epoch 27/200\n",
      "36/36 [==============================] - 0s 1ms/step - loss: 898235264.0000 - val_loss: 1121559296.0000\n",
      "Epoch 28/200\n",
      "36/36 [==============================] - 0s 1ms/step - loss: 913388480.0000 - val_loss: 1141728512.0000\n",
      "Epoch 29/200\n",
      "36/36 [==============================] - 0s 1ms/step - loss: 883956160.0000 - val_loss: 1125034880.0000\n",
      "Epoch 30/200\n",
      "36/36 [==============================] - 0s 1ms/step - loss: 865224384.0000 - val_loss: 1099258624.0000\n",
      "Epoch 31/200\n",
      "36/36 [==============================] - 0s 1ms/step - loss: 869673984.0000 - val_loss: 1087841792.0000\n",
      "Epoch 32/200\n",
      "36/36 [==============================] - 0s 1ms/step - loss: 867084096.0000 - val_loss: 1085254528.0000\n",
      "Epoch 33/200\n",
      "36/36 [==============================] - 0s 1ms/step - loss: 847585792.0000 - val_loss: 1098317824.0000\n",
      "Epoch 34/200\n",
      "36/36 [==============================] - 0s 1ms/step - loss: 833225024.0000 - val_loss: 1078627328.0000\n",
      "Epoch 35/200\n",
      "36/36 [==============================] - 0s 1ms/step - loss: 836614976.0000 - val_loss: 1059272448.0000\n",
      "Epoch 36/200\n",
      "36/36 [==============================] - 0s 1ms/step - loss: 819462144.0000 - val_loss: 1074769664.0000\n",
      "Epoch 37/200\n",
      "36/36 [==============================] - 0s 1ms/step - loss: 817535616.0000 - val_loss: 1097272064.0000\n",
      "Epoch 38/200\n",
      "36/36 [==============================] - 0s 1ms/step - loss: 825022656.0000 - val_loss: 1105148032.0000\n",
      "Epoch 39/200\n",
      "36/36 [==============================] - 0s 1ms/step - loss: 806272128.0000 - val_loss: 1107260288.0000\n",
      "Epoch 40/200\n",
      "36/36 [==============================] - 0s 1ms/step - loss: 788566208.0000 - val_loss: 1039590528.0000\n",
      "Epoch 41/200\n",
      "36/36 [==============================] - 0s 1ms/step - loss: 779986496.0000 - val_loss: 1087611776.0000\n",
      "Epoch 42/200\n",
      "36/36 [==============================] - 0s 1ms/step - loss: 764497408.0000 - val_loss: 1032892928.0000\n",
      "Epoch 43/200\n",
      "36/36 [==============================] - 0s 1ms/step - loss: 765751680.0000 - val_loss: 1074031744.0000\n",
      "Epoch 44/200\n",
      "36/36 [==============================] - 0s 1ms/step - loss: 773022016.0000 - val_loss: 1070060160.0000\n",
      "Epoch 45/200\n",
      "36/36 [==============================] - 0s 1ms/step - loss: 750871936.0000 - val_loss: 1002723328.0000\n",
      "Epoch 46/200\n",
      "36/36 [==============================] - 0s 1ms/step - loss: 748746176.0000 - val_loss: 997567616.0000\n",
      "Epoch 47/200\n",
      "36/36 [==============================] - 0s 1ms/step - loss: 751721856.0000 - val_loss: 1006165760.0000\n",
      "Epoch 48/200\n",
      "36/36 [==============================] - 0s 1ms/step - loss: 763676416.0000 - val_loss: 1014757056.0000\n",
      "Epoch 49/200\n",
      "36/36 [==============================] - 0s 1ms/step - loss: 729801344.0000 - val_loss: 999822272.0000\n",
      "Epoch 50/200\n",
      "36/36 [==============================] - 0s 1ms/step - loss: 724175552.0000 - val_loss: 990210112.0000\n",
      "Epoch 51/200\n",
      "36/36 [==============================] - 0s 1ms/step - loss: 727896512.0000 - val_loss: 1026406656.0000\n",
      "Epoch 52/200\n",
      "36/36 [==============================] - 0s 1ms/step - loss: 725234560.0000 - val_loss: 1046874048.0000\n",
      "Epoch 53/200\n",
      "36/36 [==============================] - 0s 1ms/step - loss: 719599424.0000 - val_loss: 1022885504.0000\n",
      "Epoch 54/200\n",
      "36/36 [==============================] - 0s 1ms/step - loss: 698321792.0000 - val_loss: 1038644736.0000\n",
      "Epoch 55/200\n",
      "36/36 [==============================] - 0s 1ms/step - loss: 701313600.0000 - val_loss: 1031774464.0000\n",
      "Epoch 56/200\n",
      "36/36 [==============================] - 0s 1ms/step - loss: 688089280.0000 - val_loss: 1003169792.0000\n",
      "Epoch 57/200\n",
      "36/36 [==============================] - 0s 1ms/step - loss: 680369408.0000 - val_loss: 1017886720.0000\n",
      "Epoch 58/200\n",
      "36/36 [==============================] - 0s 1ms/step - loss: 679814656.0000 - val_loss: 998466560.0000\n",
      "Epoch 59/200\n",
      "36/36 [==============================] - 0s 1ms/step - loss: 671648640.0000 - val_loss: 992731136.0000\n",
      "Epoch 60/200\n",
      "36/36 [==============================] - 0s 1ms/step - loss: 672708352.0000 - val_loss: 1009851712.0000\n",
      "Epoch 61/200\n",
      "36/36 [==============================] - 0s 1ms/step - loss: 668380480.0000 - val_loss: 973787840.0000\n",
      "Epoch 62/200\n",
      "36/36 [==============================] - 0s 1ms/step - loss: 676885824.0000 - val_loss: 1016230720.0000\n",
      "Epoch 63/200\n",
      "36/36 [==============================] - 0s 1ms/step - loss: 654012608.0000 - val_loss: 1030386368.0000\n",
      "Epoch 64/200\n",
      "36/36 [==============================] - 0s 1ms/step - loss: 654122624.0000 - val_loss: 971047168.0000\n",
      "Epoch 65/200\n",
      "36/36 [==============================] - 0s 1ms/step - loss: 657370816.0000 - val_loss: 970808896.0000\n",
      "Epoch 66/200\n",
      "36/36 [==============================] - 0s 1ms/step - loss: 656835648.0000 - val_loss: 1000025216.0000\n",
      "Epoch 67/200\n",
      "36/36 [==============================] - 0s 1ms/step - loss: 641673024.0000 - val_loss: 969772352.0000\n",
      "Epoch 68/200\n",
      "36/36 [==============================] - 0s 1ms/step - loss: 639406272.0000 - val_loss: 1045786048.0000\n",
      "Epoch 69/200\n",
      "36/36 [==============================] - 0s 1ms/step - loss: 631522496.0000 - val_loss: 969224064.0000\n",
      "Epoch 70/200\n",
      "36/36 [==============================] - 0s 1ms/step - loss: 626576576.0000 - val_loss: 1003007808.0000\n",
      "Epoch 71/200\n",
      "36/36 [==============================] - 0s 1ms/step - loss: 622448192.0000 - val_loss: 958382976.0000\n",
      "Epoch 72/200\n",
      "36/36 [==============================] - 0s 1ms/step - loss: 616262848.0000 - val_loss: 1015460928.0000\n",
      "Epoch 73/200\n",
      "36/36 [==============================] - 0s 1ms/step - loss: 626395200.0000 - val_loss: 1054836544.0000\n",
      "Epoch 74/200\n",
      "36/36 [==============================] - 0s 1ms/step - loss: 617294144.0000 - val_loss: 962649472.0000\n",
      "Epoch 75/200\n",
      "36/36 [==============================] - 0s 1ms/step - loss: 603776832.0000 - val_loss: 1023404160.0000\n",
      "Epoch 76/200\n",
      "36/36 [==============================] - 0s 1ms/step - loss: 604443648.0000 - val_loss: 980792192.0000\n",
      "Epoch 77/200\n",
      "36/36 [==============================] - 0s 1ms/step - loss: 602340416.0000 - val_loss: 1085238912.0000\n",
      "Epoch 78/200\n",
      "36/36 [==============================] - 0s 1ms/step - loss: 603454272.0000 - val_loss: 992335168.0000\n",
      "Epoch 79/200\n",
      "36/36 [==============================] - 0s 1ms/step - loss: 591541056.0000 - val_loss: 997742976.0000\n",
      "Epoch 80/200\n",
      "36/36 [==============================] - 0s 1ms/step - loss: 589394816.0000 - val_loss: 991657024.0000\n",
      "Epoch 81/200\n",
      "36/36 [==============================] - 0s 1ms/step - loss: 601530432.0000 - val_loss: 962928192.0000\n",
      "Epoch 82/200\n",
      "36/36 [==============================] - 0s 1ms/step - loss: 598366208.0000 - val_loss: 1019189120.0000\n",
      "Epoch 83/200\n",
      "36/36 [==============================] - 0s 1ms/step - loss: 591726336.0000 - val_loss: 977541376.0000\n",
      "Epoch 84/200\n",
      "36/36 [==============================] - 0s 1ms/step - loss: 581489536.0000 - val_loss: 1035465728.0000\n",
      "Epoch 85/200\n",
      "36/36 [==============================] - 0s 1ms/step - loss: 578056256.0000 - val_loss: 975555968.0000\n",
      "Epoch 86/200\n",
      "36/36 [==============================] - 0s 2ms/step - loss: 585854336.0000 - val_loss: 980159168.0000\n",
      "Epoch 87/200\n",
      "36/36 [==============================] - 0s 2ms/step - loss: 566791296.0000 - val_loss: 994308672.0000\n",
      "Epoch 88/200\n",
      "36/36 [==============================] - 0s 1ms/step - loss: 567025984.0000 - val_loss: 1017189440.0000\n",
      "Epoch 89/200\n",
      "36/36 [==============================] - 0s 1ms/step - loss: 560542912.0000 - val_loss: 987443840.0000\n",
      "Epoch 90/200\n",
      "36/36 [==============================] - 0s 1ms/step - loss: 562431104.0000 - val_loss: 952019328.0000\n",
      "Epoch 91/200\n",
      "36/36 [==============================] - 0s 1ms/step - loss: 563784896.0000 - val_loss: 1011113728.0000\n",
      "Epoch 92/200\n",
      "36/36 [==============================] - 0s 1ms/step - loss: 553450304.0000 - val_loss: 1015392320.0000\n",
      "Epoch 93/200\n",
      "36/36 [==============================] - 0s 1ms/step - loss: 546882432.0000 - val_loss: 983552832.0000\n",
      "Epoch 94/200\n",
      "36/36 [==============================] - 0s 1ms/step - loss: 546970176.0000 - val_loss: 1003642624.0000\n",
      "Epoch 95/200\n",
      "36/36 [==============================] - 0s 1ms/step - loss: 551794048.0000 - val_loss: 1034338688.0000\n",
      "Epoch 96/200\n",
      "36/36 [==============================] - 0s 1ms/step - loss: 540760512.0000 - val_loss: 1002357632.0000\n",
      "Epoch 97/200\n",
      "36/36 [==============================] - 0s 1ms/step - loss: 536886272.0000 - val_loss: 1144764800.0000\n",
      "Epoch 98/200\n",
      "36/36 [==============================] - 0s 1ms/step - loss: 544652480.0000 - val_loss: 972148160.0000\n",
      "Epoch 99/200\n",
      "36/36 [==============================] - 0s 1ms/step - loss: 535519456.0000 - val_loss: 990467392.0000\n",
      "Epoch 100/200\n",
      "36/36 [==============================] - 0s 1ms/step - loss: 525322240.0000 - val_loss: 979584064.0000\n",
      "Epoch 101/200\n",
      "36/36 [==============================] - 0s 1ms/step - loss: 519254464.0000 - val_loss: 1023248128.0000\n",
      "Epoch 102/200\n",
      "36/36 [==============================] - 0s 1ms/step - loss: 525336416.0000 - val_loss: 970257472.0000\n",
      "Epoch 103/200\n",
      "36/36 [==============================] - 0s 1ms/step - loss: 519775392.0000 - val_loss: 1030560512.0000\n",
      "Epoch 104/200\n",
      "36/36 [==============================] - 0s 1ms/step - loss: 509615904.0000 - val_loss: 1076265088.0000\n",
      "Epoch 105/200\n",
      "36/36 [==============================] - 0s 1ms/step - loss: 516212032.0000 - val_loss: 994657280.0000\n",
      "Epoch 106/200\n",
      "36/36 [==============================] - 0s 1ms/step - loss: 508046816.0000 - val_loss: 973666752.0000\n",
      "Epoch 107/200\n",
      "36/36 [==============================] - 0s 1ms/step - loss: 498314272.0000 - val_loss: 962021760.0000\n",
      "Epoch 108/200\n",
      "36/36 [==============================] - 0s 1ms/step - loss: 528478368.0000 - val_loss: 1012053888.0000\n",
      "Epoch 109/200\n",
      "36/36 [==============================] - 0s 1ms/step - loss: 504245888.0000 - val_loss: 1100835968.0000\n",
      "Epoch 110/200\n",
      "36/36 [==============================] - 0s 1ms/step - loss: 496622144.0000 - val_loss: 991263360.0000\n",
      "Epoch 111/200\n",
      "36/36 [==============================] - 0s 1ms/step - loss: 491314784.0000 - val_loss: 965974912.0000\n",
      "Epoch 112/200\n",
      "36/36 [==============================] - 0s 1ms/step - loss: 494666592.0000 - val_loss: 1005526976.0000\n",
      "Epoch 113/200\n",
      "36/36 [==============================] - 0s 1ms/step - loss: 477643968.0000 - val_loss: 1010116800.0000\n",
      "Epoch 114/200\n",
      "36/36 [==============================] - 0s 1ms/step - loss: 479973248.0000 - val_loss: 1000725696.0000\n",
      "Epoch 115/200\n",
      "36/36 [==============================] - 0s 1ms/step - loss: 477444064.0000 - val_loss: 983415424.0000\n",
      "Epoch 116/200\n",
      "36/36 [==============================] - 0s 1ms/step - loss: 467141248.0000 - val_loss: 988935424.0000\n",
      "Epoch 117/200\n",
      "36/36 [==============================] - 0s 1ms/step - loss: 477827744.0000 - val_loss: 984241152.0000\n",
      "Epoch 118/200\n",
      "36/36 [==============================] - 0s 1ms/step - loss: 464061120.0000 - val_loss: 986577280.0000\n",
      "Epoch 119/200\n",
      "36/36 [==============================] - 0s 1ms/step - loss: 474663040.0000 - val_loss: 1042381056.0000\n",
      "Epoch 120/200\n",
      "36/36 [==============================] - 0s 1ms/step - loss: 476780640.0000 - val_loss: 1013459776.0000\n",
      "Epoch 121/200\n",
      "36/36 [==============================] - 0s 1ms/step - loss: 462225664.0000 - val_loss: 1031183360.0000\n",
      "Epoch 122/200\n",
      "36/36 [==============================] - 0s 1ms/step - loss: 456446336.0000 - val_loss: 1047446144.0000\n",
      "Epoch 123/200\n",
      "36/36 [==============================] - 0s 1ms/step - loss: 466143936.0000 - val_loss: 990345408.0000\n",
      "Epoch 124/200\n",
      "36/36 [==============================] - 0s 1ms/step - loss: 450373504.0000 - val_loss: 1063582592.0000\n",
      "Epoch 125/200\n",
      "36/36 [==============================] - 0s 1ms/step - loss: 444482240.0000 - val_loss: 1021064832.0000\n",
      "Epoch 126/200\n",
      "36/36 [==============================] - 0s 1ms/step - loss: 439734400.0000 - val_loss: 1059055744.0000\n",
      "Epoch 127/200\n",
      "36/36 [==============================] - 0s 1ms/step - loss: 447916928.0000 - val_loss: 998470912.0000\n",
      "Epoch 128/200\n",
      "36/36 [==============================] - 0s 1ms/step - loss: 430586784.0000 - val_loss: 1018745152.0000\n",
      "Epoch 129/200\n",
      "36/36 [==============================] - 0s 1ms/step - loss: 431561920.0000 - val_loss: 1010954240.0000\n",
      "Epoch 130/200\n",
      "36/36 [==============================] - 0s 1ms/step - loss: 423628800.0000 - val_loss: 997966592.0000\n",
      "Epoch 131/200\n",
      "36/36 [==============================] - 0s 1ms/step - loss: 428868096.0000 - val_loss: 1031064832.0000\n",
      "Epoch 132/200\n",
      "36/36 [==============================] - 0s 1ms/step - loss: 427730944.0000 - val_loss: 980033216.0000\n",
      "Epoch 133/200\n",
      "36/36 [==============================] - 0s 1ms/step - loss: 419523872.0000 - val_loss: 1023184768.0000\n",
      "Epoch 134/200\n",
      "36/36 [==============================] - 0s 1ms/step - loss: 410288800.0000 - val_loss: 1027185408.0000\n",
      "Epoch 135/200\n",
      "36/36 [==============================] - 0s 1ms/step - loss: 420317728.0000 - val_loss: 1001319936.0000\n",
      "Epoch 136/200\n",
      "36/36 [==============================] - 0s 1ms/step - loss: 406021120.0000 - val_loss: 997633152.0000\n",
      "Epoch 137/200\n",
      "36/36 [==============================] - 0s 1ms/step - loss: 406707264.0000 - val_loss: 1124813696.0000\n",
      "Epoch 138/200\n",
      "36/36 [==============================] - 0s 1ms/step - loss: 406669312.0000 - val_loss: 1002905728.0000\n",
      "Epoch 139/200\n",
      "36/36 [==============================] - 0s 1ms/step - loss: 408779520.0000 - val_loss: 1022804032.0000\n",
      "Epoch 140/200\n",
      "36/36 [==============================] - 0s 1ms/step - loss: 393671904.0000 - val_loss: 1064061312.0000\n",
      "Epoch 141/200\n",
      "36/36 [==============================] - 0s 1ms/step - loss: 401315616.0000 - val_loss: 996109632.0000\n",
      "Epoch 142/200\n",
      "36/36 [==============================] - 0s 1ms/step - loss: 388248704.0000 - val_loss: 1044155712.0000\n",
      "Epoch 143/200\n",
      "36/36 [==============================] - 0s 1ms/step - loss: 385790720.0000 - val_loss: 1050506752.0000\n",
      "Epoch 144/200\n",
      "36/36 [==============================] - 0s 1ms/step - loss: 385253920.0000 - val_loss: 1054018304.0000\n",
      "Epoch 145/200\n",
      "36/36 [==============================] - 0s 1ms/step - loss: 387249024.0000 - val_loss: 1023552384.0000\n",
      "Epoch 146/200\n",
      "36/36 [==============================] - 0s 1ms/step - loss: 382744064.0000 - val_loss: 1029048384.0000\n",
      "Epoch 147/200\n",
      "36/36 [==============================] - 0s 1ms/step - loss: 374005856.0000 - val_loss: 1053326912.0000\n",
      "Epoch 148/200\n",
      "36/36 [==============================] - 0s 1ms/step - loss: 368608192.0000 - val_loss: 1038543232.0000\n",
      "Epoch 149/200\n",
      "36/36 [==============================] - 0s 1ms/step - loss: 369142848.0000 - val_loss: 1006615488.0000\n",
      "Epoch 150/200\n",
      "36/36 [==============================] - 0s 1ms/step - loss: 364484352.0000 - val_loss: 1083944448.0000\n",
      "Epoch 151/200\n",
      "36/36 [==============================] - 0s 1ms/step - loss: 367201792.0000 - val_loss: 1009358912.0000\n",
      "Epoch 152/200\n",
      "36/36 [==============================] - 0s 1ms/step - loss: 363255360.0000 - val_loss: 1044539648.0000\n",
      "Epoch 153/200\n",
      "36/36 [==============================] - 0s 1ms/step - loss: 361066144.0000 - val_loss: 1059302208.0000\n",
      "Epoch 154/200\n",
      "36/36 [==============================] - 0s 1ms/step - loss: 357942080.0000 - val_loss: 1012058112.0000\n",
      "Epoch 155/200\n",
      "36/36 [==============================] - 0s 1ms/step - loss: 362150528.0000 - val_loss: 1069786624.0000\n",
      "Epoch 156/200\n",
      "36/36 [==============================] - 0s 1ms/step - loss: 348646784.0000 - val_loss: 1007611776.0000\n",
      "Epoch 157/200\n",
      "36/36 [==============================] - 0s 1ms/step - loss: 357098720.0000 - val_loss: 1055553024.0000\n",
      "Epoch 158/200\n",
      "36/36 [==============================] - 0s 1ms/step - loss: 347346464.0000 - val_loss: 1075174144.0000\n",
      "Epoch 159/200\n",
      "36/36 [==============================] - 0s 1ms/step - loss: 343652992.0000 - val_loss: 1106476288.0000\n",
      "Epoch 160/200\n",
      "36/36 [==============================] - 0s 1ms/step - loss: 338713536.0000 - val_loss: 1037880832.0000\n",
      "Epoch 161/200\n",
      "36/36 [==============================] - 0s 1ms/step - loss: 332215072.0000 - val_loss: 1012244992.0000\n",
      "Epoch 162/200\n",
      "36/36 [==============================] - 0s 1ms/step - loss: 331516416.0000 - val_loss: 1015468928.0000\n",
      "Epoch 163/200\n",
      "36/36 [==============================] - 0s 1ms/step - loss: 331498144.0000 - val_loss: 1041205760.0000\n",
      "Epoch 164/200\n",
      "36/36 [==============================] - 0s 1ms/step - loss: 332005216.0000 - val_loss: 988272896.0000\n",
      "Epoch 165/200\n",
      "36/36 [==============================] - 0s 1ms/step - loss: 325321696.0000 - val_loss: 1094118528.0000\n",
      "Epoch 166/200\n",
      "36/36 [==============================] - 0s 1ms/step - loss: 338332384.0000 - val_loss: 1001158848.0000\n",
      "Epoch 167/200\n",
      "36/36 [==============================] - 0s 1ms/step - loss: 322200800.0000 - val_loss: 1029326272.0000\n",
      "Epoch 168/200\n",
      "36/36 [==============================] - 0s 1ms/step - loss: 318492704.0000 - val_loss: 1061425408.0000\n",
      "Epoch 169/200\n",
      "36/36 [==============================] - 0s 1ms/step - loss: 322753824.0000 - val_loss: 1048214848.0000\n",
      "Epoch 170/200\n",
      "36/36 [==============================] - 0s 1ms/step - loss: 315238560.0000 - val_loss: 1000009600.0000\n",
      "Epoch 171/200\n",
      "36/36 [==============================] - 0s 1ms/step - loss: 313358496.0000 - val_loss: 1105252608.0000\n",
      "Epoch 172/200\n",
      "36/36 [==============================] - 0s 1ms/step - loss: 310152768.0000 - val_loss: 1039381120.0000\n",
      "Epoch 173/200\n",
      "36/36 [==============================] - 0s 1ms/step - loss: 307392960.0000 - val_loss: 1044128576.0000\n",
      "Epoch 174/200\n",
      "36/36 [==============================] - 0s 1ms/step - loss: 304362432.0000 - val_loss: 1062302848.0000\n",
      "Epoch 175/200\n",
      "36/36 [==============================] - 0s 1ms/step - loss: 298316064.0000 - val_loss: 1041414848.0000\n",
      "Epoch 176/200\n",
      "36/36 [==============================] - 0s 1ms/step - loss: 298342976.0000 - val_loss: 1030174272.0000\n",
      "Epoch 177/200\n",
      "36/36 [==============================] - 0s 1ms/step - loss: 295317952.0000 - val_loss: 1005251072.0000\n",
      "Epoch 178/200\n",
      "36/36 [==============================] - 0s 1ms/step - loss: 294693856.0000 - val_loss: 1065505920.0000\n",
      "Epoch 179/200\n",
      "36/36 [==============================] - 0s 1ms/step - loss: 289958048.0000 - val_loss: 1039669824.0000\n",
      "Epoch 180/200\n",
      "36/36 [==============================] - 0s 1ms/step - loss: 282714688.0000 - val_loss: 1002193920.0000\n",
      "Epoch 181/200\n",
      "36/36 [==============================] - 0s 1ms/step - loss: 284968832.0000 - val_loss: 1040987776.0000\n",
      "Epoch 182/200\n",
      "36/36 [==============================] - 0s 1ms/step - loss: 289262496.0000 - val_loss: 1020983808.0000\n",
      "Epoch 183/200\n",
      "36/36 [==============================] - 0s 1ms/step - loss: 288826944.0000 - val_loss: 1027809984.0000\n",
      "Epoch 184/200\n",
      "36/36 [==============================] - 0s 1ms/step - loss: 278802080.0000 - val_loss: 1039678272.0000\n",
      "Epoch 185/200\n",
      "36/36 [==============================] - 0s 1ms/step - loss: 278063520.0000 - val_loss: 1009499072.0000\n",
      "Epoch 186/200\n",
      "36/36 [==============================] - 0s 1ms/step - loss: 285900736.0000 - val_loss: 1052617536.0000\n",
      "Epoch 187/200\n",
      "36/36 [==============================] - 0s 1ms/step - loss: 270050944.0000 - val_loss: 1093963776.0000\n",
      "Epoch 188/200\n",
      "36/36 [==============================] - 0s 1ms/step - loss: 276473088.0000 - val_loss: 1115535360.0000\n",
      "Epoch 189/200\n",
      "36/36 [==============================] - 0s 1ms/step - loss: 274114912.0000 - val_loss: 1089378560.0000\n",
      "Epoch 190/200\n",
      "36/36 [==============================] - 0s 2ms/step - loss: 264045296.0000 - val_loss: 1042964480.0000\n",
      "Epoch 191/200\n",
      "36/36 [==============================] - 0s 1ms/step - loss: 262221216.0000 - val_loss: 1042118208.0000\n",
      "Epoch 192/200\n",
      "36/36 [==============================] - 0s 1ms/step - loss: 265075712.0000 - val_loss: 1002511936.0000\n",
      "Epoch 193/200\n",
      "36/36 [==============================] - 0s 1ms/step - loss: 260146016.0000 - val_loss: 1070266560.0000\n",
      "Epoch 194/200\n",
      "36/36 [==============================] - 0s 1ms/step - loss: 260316112.0000 - val_loss: 1023551680.0000\n",
      "Epoch 195/200\n",
      "36/36 [==============================] - 0s 1ms/step - loss: 256531936.0000 - val_loss: 1014264512.0000\n",
      "Epoch 196/200\n",
      "36/36 [==============================] - 0s 1ms/step - loss: 251431120.0000 - val_loss: 1070782016.0000\n",
      "Epoch 197/200\n",
      "36/36 [==============================] - 0s 1ms/step - loss: 253288400.0000 - val_loss: 1086621184.0000\n",
      "Epoch 198/200\n",
      "36/36 [==============================] - 0s 1ms/step - loss: 254471888.0000 - val_loss: 1059241344.0000\n",
      "Epoch 199/200\n",
      "36/36 [==============================] - 0s 1ms/step - loss: 245636528.0000 - val_loss: 1058628352.0000\n",
      "Epoch 200/200\n",
      "36/36 [==============================] - 0s 1ms/step - loss: 247880784.0000 - val_loss: 1098846464.0000\n"
     ]
    },
    {
     "data": {
      "text/plain": [
       "<keras.src.callbacks.History at 0x2d62bb890>"
      ]
     },
     "execution_count": 36,
     "metadata": {},
     "output_type": "execute_result"
    }
   ],
   "source": [
    "model_nn.fit(\n",
    "    merged_train_df,\n",
    "    train_target,\n",
    "    validation_data=(merged_val_df, val_target),\n",
    "    epochs=200,\n",
    "    batch_size=32,\n",
    ")"
   ]
  },
  {
   "cell_type": "code",
   "execution_count": 37,
   "metadata": {},
   "outputs": [
    {
     "name": "stdout",
     "output_type": "stream",
     "text": [
      "36/36 [==============================] - 0s 539us/step\n",
      "MAE: 10516\n",
      "RMSE: 15479\n",
      "R2 Score: 0.96\n",
      "36/36 [==============================] - 0s 497us/step\n"
     ]
    },
    {
     "data": {
      "image/png": "[encoded data removed]",
      "text/plain": [
       "<Figure size 640x480 with 1 Axes>"
      ]
     },
     "metadata": {},
     "output_type": "display_data"
    }
   ],
   "source": [
    "evaluate_model(model_nn, merged_train_df, train_target)\n",
    "plot_actual_vs_predicted(train_target, model_nn.predict(merged_train_df))"
   ]
  },
  {
   "cell_type": "code",
   "execution_count": 38,
   "metadata": {},
   "outputs": [
    {
     "name": "stdout",
     "output_type": "stream",
     "text": [
      "1/9 [==>...........................] - ETA: 0s"
     ]
    },
    {
     "name": "stdout",
     "output_type": "stream",
     "text": [
      "9/9 [==============================] - 0s 3ms/step\n",
      "MAE: 21296\n",
      "RMSE: 33149\n",
      "R2 Score: 0.85\n",
      "9/9 [==============================] - 0s 2ms/step\n"
     ]
    },
    {
     "data": {
      "image/png": "[encoded data removed]",
      "text/plain": [
       "<Figure size 640x480 with 1 Axes>"
      ]
     },
     "metadata": {},
     "output_type": "display_data"
    }
   ],
   "source": [
    "evaluate_model(model_nn, merged_val_df, val_target)\n",
    "plot_actual_vs_predicted(val_target, model_nn.predict(merged_val_df))"
   ]
  },
  {
   "cell_type": "markdown",
   "metadata": {},
   "source": [
    "### Optimize the Hyperparameters"
   ]
  },
  {
   "cell_type": "code",
   "execution_count": 47,
   "metadata": {},
   "outputs": [
    {
     "name": "stderr",
     "output_type": "stream",
     "text": [
      "[I 2024-02-28 10:39:22,736] A new study created in memory with name: no-name-10eef8ad-b062-4d33-bda1-8827d5043b97\n",
      "[W 2024-02-28 10:39:23,067] Trial 0 failed with parameters: {'n_layers': 1, 'n_units_l0': 8, 'activation_l0': 'relu', 'optimizer': 'sgd', 'batch_size': 128, 'epochs': 4} because of the following error: The value nan is not acceptable.\n",
      "[W 2024-02-28 10:39:23,067] Trial 0 failed with value nan.\n",
      "[I 2024-02-28 10:39:23,926] Trial 1 finished with value: 7753484800.0 and parameters: {'n_layers': 2, 'n_units_l0': 4, 'activation_l0': 'tanh', 'optimizer': 'sgd', 'n_units_l1': 53, 'activation_l1': 'tanh', 'batch_size': 32, 'epochs': 17}. Best is trial 1 with value: 7753484800.0.\n",
      "[I 2024-02-28 10:39:24,610] Trial 2 finished with value: 39768829952.0 and parameters: {'n_layers': 2, 'n_units_l0': 31, 'activation_l0': 'relu', 'optimizer': 'adam', 'n_units_l1': 28, 'activation_l1': 'tanh', 'batch_size': 64, 'epochs': 14}. Best is trial 1 with value: 7753484800.0.\n",
      "[I 2024-02-28 10:39:25,243] Trial 3 finished with value: 39771496448.0 and parameters: {'n_layers': 3, 'n_units_l0': 18, 'activation_l0': 'tanh', 'optimizer': 'adam', 'n_units_l1': 13, 'activation_l1': 'tanh', 'n_units_l2': 11, 'activation_l2': 'tanh', 'batch_size': 128, 'epochs': 15}. Best is trial 1 with value: 7753484800.0.\n",
      "[I 2024-02-28 10:39:26,715] Trial 4 finished with value: 34414977024.0 and parameters: {'n_layers': 2, 'n_units_l0': 109, 'activation_l0': 'sigmoid', 'optimizer': 'adam', 'n_units_l1': 100, 'activation_l1': 'relu', 'batch_size': 16, 'epochs': 17}. Best is trial 1 with value: 7753484800.0.\n",
      "[I 2024-02-28 10:39:27,472] Trial 5 finished with value: 39769649152.0 and parameters: {'n_layers': 3, 'n_units_l0': 59, 'activation_l0': 'relu', 'optimizer': 'rmsprop', 'n_units_l1': 5, 'activation_l1': 'tanh', 'n_units_l2': 33, 'activation_l2': 'sigmoid', 'batch_size': 16, 'epochs': 6}. Best is trial 1 with value: 7753484800.0.\n",
      "[I 2024-02-28 10:39:28,144] Trial 6 finished with value: 7543351296.0 and parameters: {'n_layers': 3, 'n_units_l0': 125, 'activation_l0': 'tanh', 'optimizer': 'sgd', 'n_units_l1': 58, 'activation_l1': 'relu', 'n_units_l2': 7, 'activation_l2': 'sigmoid', 'batch_size': 64, 'epochs': 15}. Best is trial 6 with value: 7543351296.0.\n",
      "[I 2024-02-28 10:39:29,055] Trial 7 finished with value: 7556873728.0 and parameters: {'n_layers': 3, 'n_units_l0': 14, 'activation_l0': 'sigmoid', 'optimizer': 'sgd', 'n_units_l1': 27, 'activation_l1': 'relu', 'n_units_l2': 84, 'activation_l2': 'sigmoid', 'batch_size': 32, 'epochs': 20}. Best is trial 6 with value: 7543351296.0.\n",
      "[I 2024-02-28 10:39:29,704] Trial 8 finished with value: 39773044736.0 and parameters: {'n_layers': 2, 'n_units_l0': 8, 'activation_l0': 'tanh', 'optimizer': 'rmsprop', 'n_units_l1': 13, 'activation_l1': 'sigmoid', 'batch_size': 128, 'epochs': 17}. Best is trial 6 with value: 7543351296.0.\n",
      "[I 2024-02-28 10:39:30,593] Trial 9 finished with value: 7560829952.0 and parameters: {'n_layers': 2, 'n_units_l0': 41, 'activation_l0': 'tanh', 'optimizer': 'sgd', 'n_units_l1': 17, 'activation_l1': 'sigmoid', 'batch_size': 16, 'epochs': 13}. Best is trial 6 with value: 7543351296.0.\n",
      "[I 2024-02-28 10:39:31,566] Trial 10 finished with value: 35921313792.0 and parameters: {'n_layers': 2, 'n_units_l0': 12, 'activation_l0': 'relu', 'optimizer': 'adam', 'n_units_l1': 87, 'activation_l1': 'relu', 'batch_size': 32, 'epochs': 13}. Best is trial 6 with value: 7543351296.0.\n",
      "[I 2024-02-28 10:39:31,831] Trial 11 finished with value: 14792978432.0 and parameters: {'n_layers': 1, 'n_units_l0': 128, 'activation_l0': 'tanh', 'optimizer': 'sgd', 'batch_size': 64, 'epochs': 1}. Best is trial 6 with value: 7543351296.0.\n",
      "[I 2024-02-28 10:39:32,742] Trial 12 finished with value: 7642800640.0 and parameters: {'n_layers': 3, 'n_units_l0': 7, 'activation_l0': 'sigmoid', 'optimizer': 'sgd', 'n_units_l1': 35, 'activation_l1': 'relu', 'n_units_l2': 107, 'activation_l2': 'sigmoid', 'batch_size': 32, 'epochs': 20}. Best is trial 6 with value: 7543351296.0.\n",
      "[I 2024-02-28 10:39:33,479] Trial 13 finished with value: 1036454789120.0 and parameters: {'n_layers': 3, 'n_units_l0': 20, 'activation_l0': 'sigmoid', 'optimizer': 'sgd', 'n_units_l1': 52, 'activation_l1': 'relu', 'n_units_l2': 4, 'activation_l2': 'relu', 'batch_size': 64, 'epochs': 20}. Best is trial 6 with value: 7543351296.0.\n",
      "[I 2024-02-28 10:39:34,094] Trial 14 finished with value: 10286845952.0 and parameters: {'n_layers': 3, 'n_units_l0': 62, 'activation_l0': 'sigmoid', 'optimizer': 'sgd', 'n_units_l1': 7, 'activation_l1': 'relu', 'n_units_l2': 125, 'activation_l2': 'sigmoid', 'batch_size': 32, 'epochs': 10}. Best is trial 6 with value: 7543351296.0.\n",
      "[I 2024-02-28 10:39:34,531] Trial 15 finished with value: 7546545152.0 and parameters: {'n_layers': 1, 'n_units_l0': 14, 'activation_l0': 'sigmoid', 'optimizer': 'sgd', 'batch_size': 64, 'epochs': 9}. Best is trial 6 with value: 7543351296.0.\n",
      "[I 2024-02-28 10:39:34,972] Trial 16 finished with value: 2685613056.0 and parameters: {'n_layers': 1, 'n_units_l0': 27, 'activation_l0': 'tanh', 'optimizer': 'sgd', 'batch_size': 64, 'epochs': 9}. Best is trial 16 with value: 2685613056.0.\n",
      "[I 2024-02-28 10:39:35,417] Trial 17 finished with value: 39766605824.0 and parameters: {'n_layers': 1, 'n_units_l0': 78, 'activation_l0': 'tanh', 'optimizer': 'rmsprop', 'batch_size': 64, 'epochs': 6}. Best is trial 16 with value: 2685613056.0.\n",
      "[I 2024-02-28 10:39:35,794] Trial 18 finished with value: 3274339072.0 and parameters: {'n_layers': 1, 'n_units_l0': 32, 'activation_l0': 'tanh', 'optimizer': 'sgd', 'batch_size': 64, 'epochs': 6}. Best is trial 16 with value: 2685613056.0.\n",
      "[I 2024-02-28 10:39:36,168] Trial 19 finished with value: 3559585280.0 and parameters: {'n_layers': 1, 'n_units_l0': 26, 'activation_l0': 'tanh', 'optimizer': 'sgd', 'batch_size': 64, 'epochs': 6}. Best is trial 16 with value: 2685613056.0.\n",
      "[I 2024-02-28 10:39:36,561] Trial 20 finished with value: 39770374144.0 and parameters: {'n_layers': 1, 'n_units_l0': 38, 'activation_l0': 'tanh', 'optimizer': 'rmsprop', 'batch_size': 64, 'epochs': 4}. Best is trial 16 with value: 2685613056.0.\n",
      "[I 2024-02-28 10:39:36,970] Trial 21 finished with value: 2825030144.0 and parameters: {'n_layers': 1, 'n_units_l0': 49, 'activation_l0': 'tanh', 'optimizer': 'sgd', 'batch_size': 128, 'epochs': 9}. Best is trial 16 with value: 2685613056.0.\n",
      "[I 2024-02-28 10:39:37,359] Trial 22 finished with value: 2595582976.0 and parameters: {'n_layers': 1, 'n_units_l0': 43, 'activation_l0': 'tanh', 'optimizer': 'sgd', 'batch_size': 128, 'epochs': 8}. Best is trial 22 with value: 2595582976.0.\n",
      "[I 2024-02-28 10:39:37,762] Trial 23 finished with value: 3079575808.0 and parameters: {'n_layers': 1, 'n_units_l0': 49, 'activation_l0': 'tanh', 'optimizer': 'sgd', 'batch_size': 128, 'epochs': 9}. Best is trial 22 with value: 2595582976.0.\n",
      "[I 2024-02-28 10:39:38,358] Trial 24 finished with value: 2507554560.0 and parameters: {'n_layers': 1, 'n_units_l0': 78, 'activation_l0': 'tanh', 'optimizer': 'sgd', 'batch_size': 128, 'epochs': 8}. Best is trial 24 with value: 2507554560.0.\n",
      "[I 2024-02-28 10:39:38,806] Trial 25 finished with value: 2344707584.0 and parameters: {'n_layers': 1, 'n_units_l0': 77, 'activation_l0': 'tanh', 'optimizer': 'sgd', 'batch_size': 128, 'epochs': 11}. Best is trial 25 with value: 2344707584.0.\n",
      "[W 2024-02-28 10:39:39,129] Trial 26 failed with parameters: {'n_layers': 1, 'n_units_l0': 87, 'activation_l0': 'relu', 'optimizer': 'sgd', 'batch_size': 128, 'epochs': 4} because of the following error: The value nan is not acceptable.\n",
      "[W 2024-02-28 10:39:39,129] Trial 26 failed with value nan.\n",
      "[W 2024-02-28 10:39:39,578] Trial 27 failed with parameters: {'n_layers': 1, 'n_units_l0': 84, 'activation_l0': 'relu', 'optimizer': 'sgd', 'batch_size': 128, 'epochs': 11} because of the following error: The value nan is not acceptable.\n",
      "[W 2024-02-28 10:39:39,578] Trial 27 failed with value nan.\n",
      "[W 2024-02-28 10:39:40,027] Trial 28 failed with parameters: {'n_layers': 1, 'n_units_l0': 85, 'activation_l0': 'relu', 'optimizer': 'sgd', 'batch_size': 128, 'epochs': 11} because of the following error: The value nan is not acceptable.\n",
      "[W 2024-02-28 10:39:40,028] Trial 28 failed with value nan.\n",
      "[W 2024-02-28 10:39:40,482] Trial 29 failed with parameters: {'n_layers': 1, 'n_units_l0': 88, 'activation_l0': 'relu', 'optimizer': 'sgd', 'batch_size': 128, 'epochs': 11} because of the following error: The value nan is not acceptable.\n",
      "[W 2024-02-28 10:39:40,483] Trial 29 failed with value nan.\n",
      "[W 2024-02-28 10:39:40,935] Trial 30 failed with parameters: {'n_layers': 1, 'n_units_l0': 86, 'activation_l0': 'relu', 'optimizer': 'sgd', 'batch_size': 128, 'epochs': 11} because of the following error: The value nan is not acceptable.\n",
      "[W 2024-02-28 10:39:40,935] Trial 30 failed with value nan.\n",
      "[W 2024-02-28 10:39:41,380] Trial 31 failed with parameters: {'n_layers': 1, 'n_units_l0': 79, 'activation_l0': 'relu', 'optimizer': 'sgd', 'batch_size': 128, 'epochs': 11} because of the following error: The value nan is not acceptable.\n",
      "[W 2024-02-28 10:39:41,381] Trial 31 failed with value nan.\n",
      "[W 2024-02-28 10:39:41,699] Trial 32 failed with parameters: {'n_layers': 1, 'n_units_l0': 82, 'activation_l0': 'relu', 'optimizer': 'sgd', 'batch_size': 128, 'epochs': 4} because of the following error: The value nan is not acceptable.\n",
      "[W 2024-02-28 10:39:41,699] Trial 32 failed with value nan.\n",
      "[W 2024-02-28 10:39:42,138] Trial 33 failed with parameters: {'n_layers': 1, 'n_units_l0': 87, 'activation_l0': 'relu', 'optimizer': 'sgd', 'batch_size': 128, 'epochs': 11} because of the following error: The value nan is not acceptable.\n",
      "[W 2024-02-28 10:39:42,138] Trial 33 failed with value nan.\n",
      "[W 2024-02-28 10:39:42,583] Trial 34 failed with parameters: {'n_layers': 1, 'n_units_l0': 88, 'activation_l0': 'relu', 'optimizer': 'sgd', 'batch_size': 128, 'epochs': 11} because of the following error: The value nan is not acceptable.\n",
      "[W 2024-02-28 10:39:42,583] Trial 34 failed with value nan.\n",
      "[W 2024-02-28 10:39:43,029] Trial 35 failed with parameters: {'n_layers': 1, 'n_units_l0': 86, 'activation_l0': 'relu', 'optimizer': 'sgd', 'batch_size': 128, 'epochs': 11} because of the following error: The value nan is not acceptable.\n",
      "[W 2024-02-28 10:39:43,030] Trial 35 failed with value nan.\n",
      "[W 2024-02-28 10:39:43,470] Trial 36 failed with parameters: {'n_layers': 1, 'n_units_l0': 84, 'activation_l0': 'relu', 'optimizer': 'sgd', 'batch_size': 128, 'epochs': 11} because of the following error: The value nan is not acceptable.\n",
      "[W 2024-02-28 10:39:43,471] Trial 36 failed with value nan.\n",
      "[W 2024-02-28 10:39:43,913] Trial 37 failed with parameters: {'n_layers': 1, 'n_units_l0': 86, 'activation_l0': 'relu', 'optimizer': 'sgd', 'batch_size': 128, 'epochs': 11} because of the following error: The value nan is not acceptable.\n",
      "[W 2024-02-28 10:39:43,913] Trial 37 failed with value nan.\n",
      "[W 2024-02-28 10:39:44,355] Trial 38 failed with parameters: {'n_layers': 1, 'n_units_l0': 82, 'activation_l0': 'relu', 'optimizer': 'sgd', 'batch_size': 128, 'epochs': 11} because of the following error: The value nan is not acceptable.\n",
      "[W 2024-02-28 10:39:44,356] Trial 38 failed with value nan.\n",
      "[W 2024-02-28 10:39:44,801] Trial 39 failed with parameters: {'n_layers': 1, 'n_units_l0': 82, 'activation_l0': 'relu', 'optimizer': 'sgd', 'batch_size': 128, 'epochs': 11} because of the following error: The value nan is not acceptable.\n",
      "[W 2024-02-28 10:39:44,801] Trial 39 failed with value nan.\n",
      "[W 2024-02-28 10:39:45,246] Trial 40 failed with parameters: {'n_layers': 1, 'n_units_l0': 83, 'activation_l0': 'relu', 'optimizer': 'sgd', 'batch_size': 128, 'epochs': 11} because of the following error: The value nan is not acceptable.\n",
      "[W 2024-02-28 10:39:45,247] Trial 40 failed with value nan.\n",
      "[W 2024-02-28 10:39:45,924] Trial 41 failed with parameters: {'n_layers': 1, 'n_units_l0': 78, 'activation_l0': 'relu', 'optimizer': 'sgd', 'batch_size': 128, 'epochs': 11} because of the following error: The value nan is not acceptable.\n",
      "[W 2024-02-28 10:39:45,924] Trial 41 failed with value nan.\n",
      "[W 2024-02-28 10:39:46,378] Trial 42 failed with parameters: {'n_layers': 1, 'n_units_l0': 85, 'activation_l0': 'relu', 'optimizer': 'sgd', 'batch_size': 128, 'epochs': 11} because of the following error: The value nan is not acceptable.\n",
      "[W 2024-02-28 10:39:46,378] Trial 42 failed with value nan.\n",
      "[W 2024-02-28 10:39:46,826] Trial 43 failed with parameters: {'n_layers': 1, 'n_units_l0': 86, 'activation_l0': 'relu', 'optimizer': 'sgd', 'batch_size': 128, 'epochs': 11} because of the following error: The value nan is not acceptable.\n",
      "[W 2024-02-28 10:39:46,827] Trial 43 failed with value nan.\n",
      "[W 2024-02-28 10:39:47,270] Trial 44 failed with parameters: {'n_layers': 1, 'n_units_l0': 88, 'activation_l0': 'relu', 'optimizer': 'sgd', 'batch_size': 128, 'epochs': 11} because of the following error: The value nan is not acceptable.\n",
      "[W 2024-02-28 10:39:47,270] Trial 44 failed with value nan.\n",
      "[W 2024-02-28 10:39:47,713] Trial 45 failed with parameters: {'n_layers': 1, 'n_units_l0': 84, 'activation_l0': 'relu', 'optimizer': 'sgd', 'batch_size': 128, 'epochs': 11} because of the following error: The value nan is not acceptable.\n",
      "[W 2024-02-28 10:39:47,714] Trial 45 failed with value nan.\n",
      "[W 2024-02-28 10:39:48,179] Trial 46 failed with parameters: {'n_layers': 1, 'n_units_l0': 89, 'activation_l0': 'relu', 'optimizer': 'sgd', 'batch_size': 128, 'epochs': 12} because of the following error: The value nan is not acceptable.\n",
      "[W 2024-02-28 10:39:48,179] Trial 46 failed with value nan.\n",
      "[W 2024-02-28 10:39:48,619] Trial 47 failed with parameters: {'n_layers': 1, 'n_units_l0': 83, 'activation_l0': 'relu', 'optimizer': 'sgd', 'batch_size': 128, 'epochs': 11} because of the following error: The value nan is not acceptable.\n",
      "[W 2024-02-28 10:39:48,620] Trial 47 failed with value nan.\n",
      "[W 2024-02-28 10:39:49,060] Trial 48 failed with parameters: {'n_layers': 1, 'n_units_l0': 84, 'activation_l0': 'relu', 'optimizer': 'sgd', 'batch_size': 128, 'epochs': 11} because of the following error: The value nan is not acceptable.\n",
      "[W 2024-02-28 10:39:49,060] Trial 48 failed with value nan.\n",
      "[W 2024-02-28 10:39:49,505] Trial 49 failed with parameters: {'n_layers': 1, 'n_units_l0': 84, 'activation_l0': 'relu', 'optimizer': 'sgd', 'batch_size': 128, 'epochs': 11} because of the following error: The value nan is not acceptable.\n",
      "[W 2024-02-28 10:39:49,505] Trial 49 failed with value nan.\n",
      "[W 2024-02-28 10:39:49,973] Trial 50 failed with parameters: {'n_layers': 1, 'n_units_l0': 84, 'activation_l0': 'relu', 'optimizer': 'sgd', 'batch_size': 128, 'epochs': 12} because of the following error: The value nan is not acceptable.\n",
      "[W 2024-02-28 10:39:49,974] Trial 50 failed with value nan.\n",
      "[W 2024-02-28 10:39:50,412] Trial 51 failed with parameters: {'n_layers': 1, 'n_units_l0': 78, 'activation_l0': 'relu', 'optimizer': 'sgd', 'batch_size': 128, 'epochs': 11} because of the following error: The value nan is not acceptable.\n",
      "[W 2024-02-28 10:39:50,413] Trial 51 failed with value nan.\n",
      "[W 2024-02-28 10:39:50,852] Trial 52 failed with parameters: {'n_layers': 1, 'n_units_l0': 88, 'activation_l0': 'relu', 'optimizer': 'sgd', 'batch_size': 128, 'epochs': 11} because of the following error: The value nan is not acceptable.\n",
      "[W 2024-02-28 10:39:50,852] Trial 52 failed with value nan.\n",
      "[W 2024-02-28 10:39:51,309] Trial 53 failed with parameters: {'n_layers': 1, 'n_units_l0': 84, 'activation_l0': 'relu', 'optimizer': 'sgd', 'batch_size': 128, 'epochs': 12} because of the following error: The value nan is not acceptable.\n",
      "[W 2024-02-28 10:39:51,309] Trial 53 failed with value nan.\n",
      "[W 2024-02-28 10:39:51,748] Trial 54 failed with parameters: {'n_layers': 1, 'n_units_l0': 80, 'activation_l0': 'relu', 'optimizer': 'sgd', 'batch_size': 128, 'epochs': 11} because of the following error: The value nan is not acceptable.\n",
      "[W 2024-02-28 10:39:51,748] Trial 54 failed with value nan.\n",
      "[W 2024-02-28 10:39:52,201] Trial 55 failed with parameters: {'n_layers': 1, 'n_units_l0': 96, 'activation_l0': 'relu', 'optimizer': 'sgd', 'batch_size': 128, 'epochs': 11} because of the following error: The value nan is not acceptable.\n",
      "[W 2024-02-28 10:39:52,202] Trial 55 failed with value nan.\n",
      "[W 2024-02-28 10:39:52,661] Trial 56 failed with parameters: {'n_layers': 1, 'n_units_l0': 95, 'activation_l0': 'relu', 'optimizer': 'sgd', 'batch_size': 128, 'epochs': 12} because of the following error: The value nan is not acceptable.\n",
      "[W 2024-02-28 10:39:52,661] Trial 56 failed with value nan.\n",
      "[W 2024-02-28 10:39:53,096] Trial 57 failed with parameters: {'n_layers': 1, 'n_units_l0': 84, 'activation_l0': 'relu', 'optimizer': 'sgd', 'batch_size': 128, 'epochs': 11} because of the following error: The value nan is not acceptable.\n",
      "[W 2024-02-28 10:39:53,096] Trial 57 failed with value nan.\n",
      "[W 2024-02-28 10:39:53,549] Trial 58 failed with parameters: {'n_layers': 1, 'n_units_l0': 78, 'activation_l0': 'relu', 'optimizer': 'sgd', 'batch_size': 128, 'epochs': 12} because of the following error: The value nan is not acceptable.\n",
      "[W 2024-02-28 10:39:53,549] Trial 58 failed with value nan.\n",
      "[W 2024-02-28 10:39:54,115] Trial 59 failed with parameters: {'n_layers': 1, 'n_units_l0': 78, 'activation_l0': 'relu', 'optimizer': 'sgd', 'batch_size': 128, 'epochs': 4} because of the following error: The value nan is not acceptable.\n",
      "[W 2024-02-28 10:39:54,116] Trial 59 failed with value nan.\n",
      "[W 2024-02-28 10:39:54,573] Trial 60 failed with parameters: {'n_layers': 1, 'n_units_l0': 89, 'activation_l0': 'relu', 'optimizer': 'sgd', 'batch_size': 128, 'epochs': 11} because of the following error: The value nan is not acceptable.\n",
      "[W 2024-02-28 10:39:54,574] Trial 60 failed with value nan.\n",
      "[W 2024-02-28 10:39:55,026] Trial 61 failed with parameters: {'n_layers': 1, 'n_units_l0': 89, 'activation_l0': 'relu', 'optimizer': 'sgd', 'batch_size': 128, 'epochs': 11} because of the following error: The value nan is not acceptable.\n",
      "[W 2024-02-28 10:39:55,026] Trial 61 failed with value nan.\n",
      "[W 2024-02-28 10:39:55,473] Trial 62 failed with parameters: {'n_layers': 1, 'n_units_l0': 88, 'activation_l0': 'relu', 'optimizer': 'sgd', 'batch_size': 128, 'epochs': 11} because of the following error: The value nan is not acceptable.\n",
      "[W 2024-02-28 10:39:55,473] Trial 62 failed with value nan.\n",
      "[W 2024-02-28 10:39:55,921] Trial 63 failed with parameters: {'n_layers': 1, 'n_units_l0': 76, 'activation_l0': 'relu', 'optimizer': 'sgd', 'batch_size': 128, 'epochs': 11} because of the following error: The value nan is not acceptable.\n",
      "[W 2024-02-28 10:39:55,921] Trial 63 failed with value nan.\n",
      "[W 2024-02-28 10:39:56,366] Trial 64 failed with parameters: {'n_layers': 1, 'n_units_l0': 85, 'activation_l0': 'relu', 'optimizer': 'sgd', 'batch_size': 128, 'epochs': 11} because of the following error: The value nan is not acceptable.\n",
      "[W 2024-02-28 10:39:56,366] Trial 64 failed with value nan.\n",
      "[W 2024-02-28 10:39:56,809] Trial 65 failed with parameters: {'n_layers': 1, 'n_units_l0': 81, 'activation_l0': 'relu', 'optimizer': 'sgd', 'batch_size': 128, 'epochs': 11} because of the following error: The value nan is not acceptable.\n",
      "[W 2024-02-28 10:39:56,809] Trial 65 failed with value nan.\n",
      "[W 2024-02-28 10:39:57,273] Trial 66 failed with parameters: {'n_layers': 1, 'n_units_l0': 74, 'activation_l0': 'relu', 'optimizer': 'sgd', 'batch_size': 128, 'epochs': 12} because of the following error: The value nan is not acceptable.\n",
      "[W 2024-02-28 10:39:57,274] Trial 66 failed with value nan.\n",
      "[W 2024-02-28 10:39:57,722] Trial 67 failed with parameters: {'n_layers': 1, 'n_units_l0': 92, 'activation_l0': 'relu', 'optimizer': 'sgd', 'batch_size': 128, 'epochs': 11} because of the following error: The value nan is not acceptable.\n",
      "[W 2024-02-28 10:39:57,723] Trial 67 failed with value nan.\n",
      "[W 2024-02-28 10:39:58,163] Trial 68 failed with parameters: {'n_layers': 1, 'n_units_l0': 87, 'activation_l0': 'relu', 'optimizer': 'sgd', 'batch_size': 128, 'epochs': 11} because of the following error: The value nan is not acceptable.\n",
      "[W 2024-02-28 10:39:58,163] Trial 68 failed with value nan.\n",
      "[W 2024-02-28 10:39:58,604] Trial 69 failed with parameters: {'n_layers': 1, 'n_units_l0': 80, 'activation_l0': 'relu', 'optimizer': 'sgd', 'batch_size': 128, 'epochs': 11} because of the following error: The value nan is not acceptable.\n",
      "[W 2024-02-28 10:39:58,605] Trial 69 failed with value nan.\n",
      "[W 2024-02-28 10:39:59,048] Trial 70 failed with parameters: {'n_layers': 1, 'n_units_l0': 91, 'activation_l0': 'relu', 'optimizer': 'sgd', 'batch_size': 128, 'epochs': 11} because of the following error: The value nan is not acceptable.\n",
      "[W 2024-02-28 10:39:59,048] Trial 70 failed with value nan.\n",
      "[W 2024-02-28 10:39:59,488] Trial 71 failed with parameters: {'n_layers': 1, 'n_units_l0': 81, 'activation_l0': 'relu', 'optimizer': 'sgd', 'batch_size': 128, 'epochs': 11} because of the following error: The value nan is not acceptable.\n",
      "[W 2024-02-28 10:39:59,488] Trial 71 failed with value nan.\n",
      "[W 2024-02-28 10:39:59,928] Trial 72 failed with parameters: {'n_layers': 1, 'n_units_l0': 86, 'activation_l0': 'relu', 'optimizer': 'sgd', 'batch_size': 128, 'epochs': 11} because of the following error: The value nan is not acceptable.\n",
      "[W 2024-02-28 10:39:59,928] Trial 72 failed with value nan.\n",
      "[W 2024-02-28 10:40:00,364] Trial 73 failed with parameters: {'n_layers': 1, 'n_units_l0': 84, 'activation_l0': 'relu', 'optimizer': 'sgd', 'batch_size': 128, 'epochs': 11} because of the following error: The value nan is not acceptable.\n",
      "[W 2024-02-28 10:40:00,365] Trial 73 failed with value nan.\n",
      "[W 2024-02-28 10:40:00,801] Trial 74 failed with parameters: {'n_layers': 1, 'n_units_l0': 85, 'activation_l0': 'relu', 'optimizer': 'sgd', 'batch_size': 128, 'epochs': 11} because of the following error: The value nan is not acceptable.\n",
      "[W 2024-02-28 10:40:00,802] Trial 74 failed with value nan.\n",
      "[W 2024-02-28 10:40:01,243] Trial 75 failed with parameters: {'n_layers': 1, 'n_units_l0': 82, 'activation_l0': 'relu', 'optimizer': 'sgd', 'batch_size': 128, 'epochs': 11} because of the following error: The value nan is not acceptable.\n",
      "[W 2024-02-28 10:40:01,243] Trial 75 failed with value nan.\n",
      "[W 2024-02-28 10:40:01,681] Trial 76 failed with parameters: {'n_layers': 1, 'n_units_l0': 77, 'activation_l0': 'relu', 'optimizer': 'sgd', 'batch_size': 128, 'epochs': 11} because of the following error: The value nan is not acceptable.\n",
      "[W 2024-02-28 10:40:01,681] Trial 76 failed with value nan.\n",
      "[W 2024-02-28 10:40:02,123] Trial 77 failed with parameters: {'n_layers': 1, 'n_units_l0': 83, 'activation_l0': 'relu', 'optimizer': 'sgd', 'batch_size': 128, 'epochs': 11} because of the following error: The value nan is not acceptable.\n",
      "[W 2024-02-28 10:40:02,123] Trial 77 failed with value nan.\n",
      "[W 2024-02-28 10:40:02,840] Trial 78 failed with parameters: {'n_layers': 1, 'n_units_l0': 88, 'activation_l0': 'relu', 'optimizer': 'sgd', 'batch_size': 128, 'epochs': 11} because of the following error: The value nan is not acceptable.\n",
      "[W 2024-02-28 10:40:02,840] Trial 78 failed with value nan.\n",
      "[W 2024-02-28 10:40:03,296] Trial 79 failed with parameters: {'n_layers': 1, 'n_units_l0': 85, 'activation_l0': 'relu', 'optimizer': 'sgd', 'batch_size': 128, 'epochs': 11} because of the following error: The value nan is not acceptable.\n",
      "[W 2024-02-28 10:40:03,296] Trial 79 failed with value nan.\n",
      "[W 2024-02-28 10:40:03,757] Trial 80 failed with parameters: {'n_layers': 1, 'n_units_l0': 89, 'activation_l0': 'relu', 'optimizer': 'sgd', 'batch_size': 128, 'epochs': 11} because of the following error: The value nan is not acceptable.\n",
      "[W 2024-02-28 10:40:03,757] Trial 80 failed with value nan.\n",
      "[W 2024-02-28 10:40:04,201] Trial 81 failed with parameters: {'n_layers': 1, 'n_units_l0': 85, 'activation_l0': 'relu', 'optimizer': 'sgd', 'batch_size': 128, 'epochs': 11} because of the following error: The value nan is not acceptable.\n",
      "[W 2024-02-28 10:40:04,201] Trial 81 failed with value nan.\n",
      "[W 2024-02-28 10:40:04,643] Trial 82 failed with parameters: {'n_layers': 1, 'n_units_l0': 82, 'activation_l0': 'relu', 'optimizer': 'sgd', 'batch_size': 128, 'epochs': 11} because of the following error: The value nan is not acceptable.\n",
      "[W 2024-02-28 10:40:04,643] Trial 82 failed with value nan.\n",
      "[W 2024-02-28 10:40:05,121] Trial 83 failed with parameters: {'n_layers': 1, 'n_units_l0': 80, 'activation_l0': 'relu', 'optimizer': 'sgd', 'batch_size': 128, 'epochs': 11} because of the following error: The value nan is not acceptable.\n",
      "[W 2024-02-28 10:40:05,121] Trial 83 failed with value nan.\n",
      "[W 2024-02-28 10:40:05,582] Trial 84 failed with parameters: {'n_layers': 1, 'n_units_l0': 85, 'activation_l0': 'relu', 'optimizer': 'sgd', 'batch_size': 128, 'epochs': 12} because of the following error: The value nan is not acceptable.\n",
      "[W 2024-02-28 10:40:05,583] Trial 84 failed with value nan.\n",
      "[W 2024-02-28 10:40:06,029] Trial 85 failed with parameters: {'n_layers': 1, 'n_units_l0': 83, 'activation_l0': 'relu', 'optimizer': 'sgd', 'batch_size': 128, 'epochs': 11} because of the following error: The value nan is not acceptable.\n",
      "[W 2024-02-28 10:40:06,029] Trial 85 failed with value nan.\n",
      "[W 2024-02-28 10:40:06,472] Trial 86 failed with parameters: {'n_layers': 1, 'n_units_l0': 80, 'activation_l0': 'relu', 'optimizer': 'sgd', 'batch_size': 128, 'epochs': 11} because of the following error: The value nan is not acceptable.\n",
      "[W 2024-02-28 10:40:06,472] Trial 86 failed with value nan.\n",
      "[W 2024-02-28 10:40:06,913] Trial 87 failed with parameters: {'n_layers': 1, 'n_units_l0': 86, 'activation_l0': 'relu', 'optimizer': 'sgd', 'batch_size': 128, 'epochs': 11} because of the following error: The value nan is not acceptable.\n",
      "[W 2024-02-28 10:40:06,913] Trial 87 failed with value nan.\n",
      "[W 2024-02-28 10:40:07,360] Trial 88 failed with parameters: {'n_layers': 1, 'n_units_l0': 85, 'activation_l0': 'relu', 'optimizer': 'sgd', 'batch_size': 128, 'epochs': 11} because of the following error: The value nan is not acceptable.\n",
      "[W 2024-02-28 10:40:07,361] Trial 88 failed with value nan.\n",
      "[W 2024-02-28 10:40:07,799] Trial 89 failed with parameters: {'n_layers': 1, 'n_units_l0': 86, 'activation_l0': 'relu', 'optimizer': 'sgd', 'batch_size': 128, 'epochs': 11} because of the following error: The value nan is not acceptable.\n",
      "[W 2024-02-28 10:40:07,799] Trial 89 failed with value nan.\n",
      "[W 2024-02-28 10:40:08,241] Trial 90 failed with parameters: {'n_layers': 1, 'n_units_l0': 86, 'activation_l0': 'relu', 'optimizer': 'sgd', 'batch_size': 128, 'epochs': 11} because of the following error: The value nan is not acceptable.\n",
      "[W 2024-02-28 10:40:08,241] Trial 90 failed with value nan.\n",
      "[W 2024-02-28 10:40:08,698] Trial 91 failed with parameters: {'n_layers': 1, 'n_units_l0': 82, 'activation_l0': 'relu', 'optimizer': 'sgd', 'batch_size': 128, 'epochs': 12} because of the following error: The value nan is not acceptable.\n",
      "[W 2024-02-28 10:40:08,698] Trial 91 failed with value nan.\n",
      "[W 2024-02-28 10:40:09,145] Trial 92 failed with parameters: {'n_layers': 1, 'n_units_l0': 85, 'activation_l0': 'relu', 'optimizer': 'sgd', 'batch_size': 128, 'epochs': 11} because of the following error: The value nan is not acceptable.\n",
      "[W 2024-02-28 10:40:09,145] Trial 92 failed with value nan.\n",
      "[W 2024-02-28 10:40:09,588] Trial 93 failed with parameters: {'n_layers': 1, 'n_units_l0': 81, 'activation_l0': 'relu', 'optimizer': 'sgd', 'batch_size': 128, 'epochs': 11} because of the following error: The value nan is not acceptable.\n",
      "[W 2024-02-28 10:40:09,588] Trial 93 failed with value nan.\n",
      "[W 2024-02-28 10:40:10,030] Trial 94 failed with parameters: {'n_layers': 1, 'n_units_l0': 86, 'activation_l0': 'relu', 'optimizer': 'sgd', 'batch_size': 128, 'epochs': 11} because of the following error: The value nan is not acceptable.\n",
      "[W 2024-02-28 10:40:10,030] Trial 94 failed with value nan.\n",
      "[W 2024-02-28 10:40:10,497] Trial 95 failed with parameters: {'n_layers': 1, 'n_units_l0': 92, 'activation_l0': 'relu', 'optimizer': 'sgd', 'batch_size': 128, 'epochs': 12} because of the following error: The value nan is not acceptable.\n",
      "[W 2024-02-28 10:40:10,498] Trial 95 failed with value nan.\n",
      "[W 2024-02-28 10:40:10,935] Trial 96 failed with parameters: {'n_layers': 1, 'n_units_l0': 88, 'activation_l0': 'relu', 'optimizer': 'sgd', 'batch_size': 128, 'epochs': 11} because of the following error: The value nan is not acceptable.\n",
      "[W 2024-02-28 10:40:10,935] Trial 96 failed with value nan.\n",
      "[W 2024-02-28 10:40:11,373] Trial 97 failed with parameters: {'n_layers': 1, 'n_units_l0': 78, 'activation_l0': 'relu', 'optimizer': 'sgd', 'batch_size': 128, 'epochs': 11} because of the following error: The value nan is not acceptable.\n",
      "[W 2024-02-28 10:40:11,373] Trial 97 failed with value nan.\n",
      "[W 2024-02-28 10:40:12,116] Trial 98 failed with parameters: {'n_layers': 1, 'n_units_l0': 93, 'activation_l0': 'relu', 'optimizer': 'sgd', 'batch_size': 128, 'epochs': 11} because of the following error: The value nan is not acceptable.\n",
      "[W 2024-02-28 10:40:12,117] Trial 98 failed with value nan.\n",
      "[W 2024-02-28 10:40:12,574] Trial 99 failed with parameters: {'n_layers': 1, 'n_units_l0': 88, 'activation_l0': 'relu', 'optimizer': 'sgd', 'batch_size': 128, 'epochs': 11} because of the following error: The value nan is not acceptable.\n",
      "[W 2024-02-28 10:40:12,574] Trial 99 failed with value nan.\n"
     ]
    },
    {
     "name": "stdout",
     "output_type": "stream",
     "text": [
      "Best parameters: {'n_layers': 1, 'n_units_l0': 77, 'activation_l0': 'tanh', 'optimizer': 'sgd', 'batch_size': 128, 'epochs': 11}\n"
     ]
    }
   ],
   "source": [
    "def create_model_from_params(params):\n",
    "\n",
    "    initializer = GlorotUniform(seed=42)\n",
    "\n",
    "    model = Sequential()\n",
    "    model.add(\n",
    "        Dense(\n",
    "            params[\"n_units_l0\"],\n",
    "            activation=params[\"activation_l0\"],\n",
    "            kernel_initializer=initializer,\n",
    "            input_shape=(merged_train_df.shape[1],),\n",
    "        )\n",
    "    )\n",
    "\n",
    "    # Hidden layers\n",
    "    for i in range(1, params[\"n_layers\"]):\n",
    "        model.add(\n",
    "            Dense(\n",
    "                params[f\"n_units_l{i}\"],\n",
    "                activation=params[f\"activation_l{i}\"],\n",
    "                kernel_initializer=initializer,\n",
    "            )\n",
    "        )\n",
    "\n",
    "    model.add(Dense(1, kernel_initializer=initializer))\n",
    "    model.compile(optimizer=params[\"optimizer\"], loss=\"mean_squared_error\")\n",
    "\n",
    "    return model\n",
    "\n",
    "\n",
    "def create_model(trial):\n",
    "    # Define the hyperparameters\n",
    "    params = {\n",
    "        \"n_layers\": trial.suggest_int(\"n_layers\", 1, 3),\n",
    "        \"n_units_l0\": trial.suggest_int(\"n_units_l0\", 4, 128, log=True),\n",
    "        \"activation_l0\": trial.suggest_categorical(\n",
    "            \"activation_l0\", [\"relu\", \"tanh\", \"sigmoid\"]\n",
    "        ),\n",
    "        \"optimizer\": trial.suggest_categorical(\"optimizer\", [\"adam\", \"sgd\", \"rmsprop\"]),\n",
    "    }\n",
    "\n",
    "    # Adding parameters for additional layers\n",
    "    for i in range(1, params[\"n_layers\"]):\n",
    "        params[f\"n_units_l{i}\"] = trial.suggest_int(f\"n_units_l{i}\", 4, 128, log=True)\n",
    "        params[f\"activation_l{i}\"] = trial.suggest_categorical(\n",
    "            f\"activation_l{i}\", [\"relu\", \"tanh\", \"sigmoid\"]\n",
    "        )\n",
    "\n",
    "    return create_model_from_params(params)\n",
    "\n",
    "\n",
    "def objective(trial):\n",
    "    model = create_model(trial)\n",
    "\n",
    "    # Adjust the batch size and epochs as necessary\n",
    "    batch_size = trial.suggest_categorical(\"batch_size\", [16, 32, 64, 128])\n",
    "    epochs = trial.suggest_int(\"epochs\", 1, 20)\n",
    "\n",
    "    history = model.fit(\n",
    "        merged_train_df,\n",
    "        train_target,\n",
    "        validation_data=(merged_val_df, val_target),\n",
    "        epochs=epochs,\n",
    "        batch_size=batch_size,\n",
    "        verbose=0,\n",
    "    )\n",
    "\n",
    "    val_loss = history.history[\"val_loss\"][-1]\n",
    "    return val_loss\n",
    "\n",
    "\n",
    "study = optuna.create_study(direction=\"minimize\")\n",
    "study.optimize(objective, n_trials=100)\n",
    "\n",
    "best_params = study.best_params\n",
    "print(\"Best parameters:\", best_params)"
   ]
  },
  {
   "cell_type": "code",
   "execution_count": 48,
   "metadata": {},
   "outputs": [
    {
     "name": "stderr",
     "output_type": "stream",
     "text": [
      "[I 2024-02-28 10:40:59,898] A new study created in memory with name: no-name-28813ca5-5221-4840-9c64-aa90e8068a3f\n",
      "[I 2024-02-28 10:41:00,412] Trial 0 finished with value: 39742312448.0 and parameters: {'n_layers': 3, 'n_units_l0': 94, 'activation_l0': 'sigmoid', 'optimizer': 'adam', 'n_units_l1': 51, 'activation_l1': 'sigmoid', 'n_units_l2': 73, 'activation_l2': 'relu', 'batch_size': 16, 'epochs': 2}. Best is trial 0 with value: 39742312448.0.\n",
      "[I 2024-02-28 10:41:00,867] Trial 1 finished with value: 7435213312.0 and parameters: {'n_layers': 1, 'n_units_l0': 21, 'activation_l0': 'sigmoid', 'optimizer': 'sgd', 'batch_size': 128, 'epochs': 10}. Best is trial 1 with value: 7435213312.0.\n",
      "[I 2024-02-28 10:41:01,334] Trial 2 finished with value: 7567450112.0 and parameters: {'n_layers': 3, 'n_units_l0': 4, 'activation_l0': 'tanh', 'optimizer': 'sgd', 'n_units_l1': 7, 'activation_l1': 'relu', 'n_units_l2': 28, 'activation_l2': 'sigmoid', 'batch_size': 128, 'epochs': 9}. Best is trial 1 with value: 7435213312.0.\n",
      "[I 2024-02-28 10:41:01,799] Trial 3 finished with value: 39765168128.0 and parameters: {'n_layers': 2, 'n_units_l0': 31, 'activation_l0': 'relu', 'optimizer': 'adam', 'n_units_l1': 82, 'activation_l1': 'tanh', 'batch_size': 32, 'epochs': 4}. Best is trial 1 with value: 7435213312.0.\n",
      "[I 2024-02-28 10:41:02,583] Trial 4 finished with value: 39772442624.0 and parameters: {'n_layers': 3, 'n_units_l0': 6, 'activation_l0': 'relu', 'optimizer': 'adam', 'n_units_l1': 4, 'activation_l1': 'tanh', 'n_units_l2': 11, 'activation_l2': 'sigmoid', 'batch_size': 32, 'epochs': 11}. Best is trial 1 with value: 7435213312.0.\n",
      "[W 2024-02-28 10:41:03,273] Trial 5 failed with parameters: {'n_layers': 3, 'n_units_l0': 68, 'activation_l0': 'sigmoid', 'optimizer': 'sgd', 'n_units_l1': 7, 'activation_l1': 'tanh', 'n_units_l2': 58, 'activation_l2': 'relu', 'batch_size': 16, 'epochs': 8} because of the following error: The value nan is not acceptable.\n",
      "[W 2024-02-28 10:41:03,273] Trial 5 failed with value nan.\n",
      "[I 2024-02-28 10:41:03,611] Trial 6 finished with value: 7506832384.0 and parameters: {'n_layers': 1, 'n_units_l0': 6, 'activation_l0': 'sigmoid', 'optimizer': 'sgd', 'batch_size': 16, 'epochs': 2}. Best is trial 1 with value: 7435213312.0.\n",
      "[I 2024-02-28 10:41:04,240] Trial 7 finished with value: 7465230336.0 and parameters: {'n_layers': 3, 'n_units_l0': 12, 'activation_l0': 'tanh', 'optimizer': 'sgd', 'n_units_l1': 5, 'activation_l1': 'tanh', 'n_units_l2': 20, 'activation_l2': 'sigmoid', 'batch_size': 32, 'epochs': 11}. Best is trial 1 with value: 7435213312.0.\n",
      "[I 2024-02-28 10:41:04,628] Trial 8 finished with value: 393130835968.0 and parameters: {'n_layers': 3, 'n_units_l0': 28, 'activation_l0': 'relu', 'optimizer': 'sgd', 'n_units_l1': 124, 'activation_l1': 'sigmoid', 'n_units_l2': 8, 'activation_l2': 'relu', 'batch_size': 32, 'epochs': 3}. Best is trial 1 with value: 7435213312.0.\n",
      "[I 2024-02-28 10:41:05,054] Trial 9 finished with value: 39773622272.0 and parameters: {'n_layers': 2, 'n_units_l0': 6, 'activation_l0': 'relu', 'optimizer': 'adam', 'n_units_l1': 6, 'activation_l1': 'sigmoid', 'batch_size': 128, 'epochs': 7}. Best is trial 1 with value: 7435213312.0.\n",
      "[I 2024-02-28 10:41:05,548] Trial 10 finished with value: 2256604672.0 and parameters: {'n_layers': 1, 'n_units_l0': 99, 'activation_l0': 'tanh', 'optimizer': 'sgd', 'batch_size': 128, 'epochs': 13}. Best is trial 10 with value: 2256604672.0.\n",
      "[I 2024-02-28 10:41:06,329] Trial 11 finished with value: 39754383360.0 and parameters: {'n_layers': 1, 'n_units_l0': 126, 'activation_l0': 'tanh', 'optimizer': 'rmsprop', 'batch_size': 64, 'epochs': 17}. Best is trial 10 with value: 2256604672.0.\n",
      "[I 2024-02-28 10:41:06,856] Trial 12 finished with value: 7523174400.0 and parameters: {'n_layers': 1, 'n_units_l0': 56, 'activation_l0': 'sigmoid', 'optimizer': 'sgd', 'batch_size': 128, 'epochs': 16}. Best is trial 10 with value: 2256604672.0.\n",
      "[I 2024-02-28 10:41:07,406] Trial 13 finished with value: 39772749824.0 and parameters: {'n_layers': 1, 'n_units_l0': 16, 'activation_l0': 'sigmoid', 'optimizer': 'rmsprop', 'batch_size': 128, 'epochs': 14}. Best is trial 10 with value: 2256604672.0.\n",
      "[W 2024-02-28 10:41:08,033] Trial 14 failed with parameters: {'n_layers': 2, 'n_units_l0': 55, 'activation_l0': 'tanh', 'optimizer': 'sgd', 'n_units_l1': 21, 'activation_l1': 'relu', 'batch_size': 128, 'epochs': 20} because of the following error: The value nan is not acceptable.\n",
      "[W 2024-02-28 10:41:08,034] Trial 14 failed with value nan.\n",
      "[W 2024-02-28 10:41:09,000] Trial 15 failed with parameters: {'n_layers': 2, 'n_units_l0': 48, 'activation_l0': 'tanh', 'optimizer': 'sgd', 'n_units_l1': 19, 'activation_l1': 'relu', 'batch_size': 128, 'epochs': 20} because of the following error: The value nan is not acceptable.\n",
      "[W 2024-02-28 10:41:09,000] Trial 15 failed with value nan.\n",
      "[W 2024-02-28 10:41:09,652] Trial 16 failed with parameters: {'n_layers': 2, 'n_units_l0': 48, 'activation_l0': 'tanh', 'optimizer': 'sgd', 'n_units_l1': 19, 'activation_l1': 'relu', 'batch_size': 128, 'epochs': 20} because of the following error: The value nan is not acceptable.\n",
      "[W 2024-02-28 10:41:09,652] Trial 16 failed with value nan.\n",
      "[W 2024-02-28 10:41:10,219] Trial 17 failed with parameters: {'n_layers': 2, 'n_units_l0': 43, 'activation_l0': 'tanh', 'optimizer': 'sgd', 'n_units_l1': 17, 'activation_l1': 'relu', 'batch_size': 128, 'epochs': 14} because of the following error: The value nan is not acceptable.\n",
      "[W 2024-02-28 10:41:10,220] Trial 17 failed with value nan.\n",
      "[W 2024-02-28 10:41:10,757] Trial 18 failed with parameters: {'n_layers': 2, 'n_units_l0': 52, 'activation_l0': 'tanh', 'optimizer': 'sgd', 'n_units_l1': 22, 'activation_l1': 'relu', 'batch_size': 128, 'epochs': 14} because of the following error: The value nan is not acceptable.\n",
      "[W 2024-02-28 10:41:10,757] Trial 18 failed with value nan.\n",
      "[W 2024-02-28 10:41:11,394] Trial 19 failed with parameters: {'n_layers': 2, 'n_units_l0': 49, 'activation_l0': 'tanh', 'optimizer': 'sgd', 'n_units_l1': 24, 'activation_l1': 'relu', 'batch_size': 128, 'epochs': 20} because of the following error: The value nan is not acceptable.\n",
      "[W 2024-02-28 10:41:11,395] Trial 19 failed with value nan.\n",
      "[W 2024-02-28 10:41:12,028] Trial 20 failed with parameters: {'n_layers': 2, 'n_units_l0': 49, 'activation_l0': 'tanh', 'optimizer': 'sgd', 'n_units_l1': 18, 'activation_l1': 'relu', 'batch_size': 128, 'epochs': 20} because of the following error: The value nan is not acceptable.\n",
      "[W 2024-02-28 10:41:12,028] Trial 20 failed with value nan.\n",
      "[W 2024-02-28 10:41:12,659] Trial 21 failed with parameters: {'n_layers': 2, 'n_units_l0': 53, 'activation_l0': 'tanh', 'optimizer': 'sgd', 'n_units_l1': 19, 'activation_l1': 'relu', 'batch_size': 128, 'epochs': 20} because of the following error: The value nan is not acceptable.\n",
      "[W 2024-02-28 10:41:12,659] Trial 21 failed with value nan.\n",
      "[W 2024-02-28 10:41:13,176] Trial 22 failed with parameters: {'n_layers': 2, 'n_units_l0': 45, 'activation_l0': 'tanh', 'optimizer': 'sgd', 'n_units_l1': 20, 'activation_l1': 'relu', 'batch_size': 128, 'epochs': 14} because of the following error: The value nan is not acceptable.\n",
      "[W 2024-02-28 10:41:13,176] Trial 22 failed with value nan.\n",
      "[W 2024-02-28 10:41:13,800] Trial 23 failed with parameters: {'n_layers': 2, 'n_units_l0': 51, 'activation_l0': 'tanh', 'optimizer': 'sgd', 'n_units_l1': 21, 'activation_l1': 'relu', 'batch_size': 128, 'epochs': 20} because of the following error: The value nan is not acceptable.\n",
      "[W 2024-02-28 10:41:13,800] Trial 23 failed with value nan.\n",
      "[W 2024-02-28 10:41:14,441] Trial 24 failed with parameters: {'n_layers': 2, 'n_units_l0': 51, 'activation_l0': 'tanh', 'optimizer': 'sgd', 'n_units_l1': 20, 'activation_l1': 'relu', 'batch_size': 128, 'epochs': 20} because of the following error: The value nan is not acceptable.\n",
      "[W 2024-02-28 10:41:14,442] Trial 24 failed with value nan.\n",
      "[W 2024-02-28 10:41:15,068] Trial 25 failed with parameters: {'n_layers': 2, 'n_units_l0': 54, 'activation_l0': 'tanh', 'optimizer': 'sgd', 'n_units_l1': 21, 'activation_l1': 'relu', 'batch_size': 128, 'epochs': 20} because of the following error: The value nan is not acceptable.\n",
      "[W 2024-02-28 10:41:15,068] Trial 25 failed with value nan.\n",
      "[W 2024-02-28 10:41:15,688] Trial 26 failed with parameters: {'n_layers': 2, 'n_units_l0': 48, 'activation_l0': 'tanh', 'optimizer': 'sgd', 'n_units_l1': 19, 'activation_l1': 'relu', 'batch_size': 128, 'epochs': 20} because of the following error: The value nan is not acceptable.\n",
      "[W 2024-02-28 10:41:15,688] Trial 26 failed with value nan.\n",
      "[W 2024-02-28 10:41:16,322] Trial 27 failed with parameters: {'n_layers': 2, 'n_units_l0': 55, 'activation_l0': 'tanh', 'optimizer': 'sgd', 'n_units_l1': 19, 'activation_l1': 'relu', 'batch_size': 128, 'epochs': 20} because of the following error: The value nan is not acceptable.\n",
      "[W 2024-02-28 10:41:16,323] Trial 27 failed with value nan.\n",
      "[W 2024-02-28 10:41:16,844] Trial 28 failed with parameters: {'n_layers': 2, 'n_units_l0': 47, 'activation_l0': 'tanh', 'optimizer': 'sgd', 'n_units_l1': 19, 'activation_l1': 'relu', 'batch_size': 128, 'epochs': 14} because of the following error: The value nan is not acceptable.\n",
      "[W 2024-02-28 10:41:16,844] Trial 28 failed with value nan.\n",
      "[W 2024-02-28 10:41:17,362] Trial 29 failed with parameters: {'n_layers': 2, 'n_units_l0': 49, 'activation_l0': 'tanh', 'optimizer': 'sgd', 'n_units_l1': 18, 'activation_l1': 'relu', 'batch_size': 128, 'epochs': 14} because of the following error: The value nan is not acceptable.\n",
      "[W 2024-02-28 10:41:17,362] Trial 29 failed with value nan.\n",
      "[W 2024-02-28 10:41:17,885] Trial 30 failed with parameters: {'n_layers': 2, 'n_units_l0': 53, 'activation_l0': 'tanh', 'optimizer': 'sgd', 'n_units_l1': 17, 'activation_l1': 'relu', 'batch_size': 128, 'epochs': 14} because of the following error: The value nan is not acceptable.\n",
      "[W 2024-02-28 10:41:17,885] Trial 30 failed with value nan.\n",
      "[W 2024-02-28 10:41:18,514] Trial 31 failed with parameters: {'n_layers': 2, 'n_units_l0': 51, 'activation_l0': 'tanh', 'optimizer': 'sgd', 'n_units_l1': 18, 'activation_l1': 'relu', 'batch_size': 128, 'epochs': 20} because of the following error: The value nan is not acceptable.\n",
      "[W 2024-02-28 10:41:18,515] Trial 31 failed with value nan.\n",
      "[W 2024-02-28 10:41:19,143] Trial 32 failed with parameters: {'n_layers': 2, 'n_units_l0': 53, 'activation_l0': 'tanh', 'optimizer': 'sgd', 'n_units_l1': 20, 'activation_l1': 'relu', 'batch_size': 128, 'epochs': 20} because of the following error: The value nan is not acceptable.\n",
      "[W 2024-02-28 10:41:19,143] Trial 32 failed with value nan.\n",
      "[W 2024-02-28 10:41:20,123] Trial 33 failed with parameters: {'n_layers': 2, 'n_units_l0': 52, 'activation_l0': 'tanh', 'optimizer': 'sgd', 'n_units_l1': 21, 'activation_l1': 'relu', 'batch_size': 128, 'epochs': 20} because of the following error: The value nan is not acceptable.\n",
      "[W 2024-02-28 10:41:20,123] Trial 33 failed with value nan.\n",
      "[W 2024-02-28 10:41:20,658] Trial 34 failed with parameters: {'n_layers': 2, 'n_units_l0': 51, 'activation_l0': 'tanh', 'optimizer': 'sgd', 'n_units_l1': 20, 'activation_l1': 'relu', 'batch_size': 128, 'epochs': 14} because of the following error: The value nan is not acceptable.\n",
      "[W 2024-02-28 10:41:20,658] Trial 34 failed with value nan.\n",
      "[W 2024-02-28 10:41:21,171] Trial 35 failed with parameters: {'n_layers': 2, 'n_units_l0': 50, 'activation_l0': 'tanh', 'optimizer': 'sgd', 'n_units_l1': 19, 'activation_l1': 'relu', 'batch_size': 128, 'epochs': 13} because of the following error: The value nan is not acceptable.\n",
      "[W 2024-02-28 10:41:21,171] Trial 35 failed with value nan.\n",
      "[W 2024-02-28 10:41:21,803] Trial 36 failed with parameters: {'n_layers': 2, 'n_units_l0': 43, 'activation_l0': 'tanh', 'optimizer': 'sgd', 'n_units_l1': 19, 'activation_l1': 'relu', 'batch_size': 128, 'epochs': 20} because of the following error: The value nan is not acceptable.\n",
      "[W 2024-02-28 10:41:21,803] Trial 36 failed with value nan.\n",
      "[W 2024-02-28 10:41:22,445] Trial 37 failed with parameters: {'n_layers': 2, 'n_units_l0': 49, 'activation_l0': 'tanh', 'optimizer': 'sgd', 'n_units_l1': 19, 'activation_l1': 'relu', 'batch_size': 128, 'epochs': 20} because of the following error: The value nan is not acceptable.\n",
      "[W 2024-02-28 10:41:22,446] Trial 37 failed with value nan.\n",
      "[W 2024-02-28 10:41:22,975] Trial 38 failed with parameters: {'n_layers': 2, 'n_units_l0': 46, 'activation_l0': 'tanh', 'optimizer': 'sgd', 'n_units_l1': 19, 'activation_l1': 'relu', 'batch_size': 128, 'epochs': 14} because of the following error: The value nan is not acceptable.\n",
      "[W 2024-02-28 10:41:22,976] Trial 38 failed with value nan.\n",
      "[W 2024-02-28 10:41:23,500] Trial 39 failed with parameters: {'n_layers': 2, 'n_units_l0': 51, 'activation_l0': 'tanh', 'optimizer': 'sgd', 'n_units_l1': 17, 'activation_l1': 'relu', 'batch_size': 128, 'epochs': 14} because of the following error: The value nan is not acceptable.\n",
      "[W 2024-02-28 10:41:23,501] Trial 39 failed with value nan.\n",
      "[W 2024-02-28 10:41:24,132] Trial 40 failed with parameters: {'n_layers': 2, 'n_units_l0': 56, 'activation_l0': 'tanh', 'optimizer': 'sgd', 'n_units_l1': 20, 'activation_l1': 'relu', 'batch_size': 128, 'epochs': 20} because of the following error: The value nan is not acceptable.\n",
      "[W 2024-02-28 10:41:24,132] Trial 40 failed with value nan.\n",
      "[W 2024-02-28 10:41:24,653] Trial 41 failed with parameters: {'n_layers': 2, 'n_units_l0': 44, 'activation_l0': 'tanh', 'optimizer': 'sgd', 'n_units_l1': 18, 'activation_l1': 'relu', 'batch_size': 128, 'epochs': 14} because of the following error: The value nan is not acceptable.\n",
      "[W 2024-02-28 10:41:24,654] Trial 41 failed with value nan.\n",
      "[W 2024-02-28 10:41:25,186] Trial 42 failed with parameters: {'n_layers': 2, 'n_units_l0': 60, 'activation_l0': 'tanh', 'optimizer': 'sgd', 'n_units_l1': 17, 'activation_l1': 'relu', 'batch_size': 128, 'epochs': 14} because of the following error: The value nan is not acceptable.\n",
      "[W 2024-02-28 10:41:25,186] Trial 42 failed with value nan.\n",
      "[W 2024-02-28 10:41:25,814] Trial 43 failed with parameters: {'n_layers': 2, 'n_units_l0': 49, 'activation_l0': 'tanh', 'optimizer': 'sgd', 'n_units_l1': 19, 'activation_l1': 'relu', 'batch_size': 128, 'epochs': 20} because of the following error: The value nan is not acceptable.\n",
      "[W 2024-02-28 10:41:25,814] Trial 43 failed with value nan.\n",
      "[W 2024-02-28 10:41:26,339] Trial 44 failed with parameters: {'n_layers': 2, 'n_units_l0': 51, 'activation_l0': 'tanh', 'optimizer': 'sgd', 'n_units_l1': 19, 'activation_l1': 'relu', 'batch_size': 128, 'epochs': 14} because of the following error: The value nan is not acceptable.\n",
      "[W 2024-02-28 10:41:26,339] Trial 44 failed with value nan.\n",
      "[W 2024-02-28 10:41:26,855] Trial 45 failed with parameters: {'n_layers': 2, 'n_units_l0': 47, 'activation_l0': 'tanh', 'optimizer': 'sgd', 'n_units_l1': 19, 'activation_l1': 'relu', 'batch_size': 128, 'epochs': 14} because of the following error: The value nan is not acceptable.\n",
      "[W 2024-02-28 10:41:26,855] Trial 45 failed with value nan.\n",
      "[W 2024-02-28 10:41:27,481] Trial 46 failed with parameters: {'n_layers': 2, 'n_units_l0': 51, 'activation_l0': 'tanh', 'optimizer': 'sgd', 'n_units_l1': 26, 'activation_l1': 'relu', 'batch_size': 128, 'epochs': 20} because of the following error: The value nan is not acceptable.\n",
      "[W 2024-02-28 10:41:27,481] Trial 46 failed with value nan.\n",
      "[W 2024-02-28 10:41:28,105] Trial 47 failed with parameters: {'n_layers': 2, 'n_units_l0': 51, 'activation_l0': 'tanh', 'optimizer': 'sgd', 'n_units_l1': 20, 'activation_l1': 'relu', 'batch_size': 128, 'epochs': 20} because of the following error: The value nan is not acceptable.\n",
      "[W 2024-02-28 10:41:28,106] Trial 47 failed with value nan.\n",
      "[W 2024-02-28 10:41:28,774] Trial 48 failed with parameters: {'n_layers': 2, 'n_units_l0': 51, 'activation_l0': 'tanh', 'optimizer': 'sgd', 'n_units_l1': 22, 'activation_l1': 'relu', 'batch_size': 128, 'epochs': 20} because of the following error: The value nan is not acceptable.\n",
      "[W 2024-02-28 10:41:28,774] Trial 48 failed with value nan.\n",
      "[W 2024-02-28 10:41:29,403] Trial 49 failed with parameters: {'n_layers': 2, 'n_units_l0': 48, 'activation_l0': 'tanh', 'optimizer': 'sgd', 'n_units_l1': 22, 'activation_l1': 'relu', 'batch_size': 128, 'epochs': 20} because of the following error: The value nan is not acceptable.\n",
      "[W 2024-02-28 10:41:29,403] Trial 49 failed with value nan.\n",
      "[W 2024-02-28 10:41:30,042] Trial 50 failed with parameters: {'n_layers': 2, 'n_units_l0': 48, 'activation_l0': 'tanh', 'optimizer': 'sgd', 'n_units_l1': 19, 'activation_l1': 'relu', 'batch_size': 128, 'epochs': 20} because of the following error: The value nan is not acceptable.\n",
      "[W 2024-02-28 10:41:30,042] Trial 50 failed with value nan.\n",
      "[W 2024-02-28 10:41:30,563] Trial 51 failed with parameters: {'n_layers': 2, 'n_units_l0': 64, 'activation_l0': 'tanh', 'optimizer': 'sgd', 'n_units_l1': 20, 'activation_l1': 'relu', 'batch_size': 128, 'epochs': 14} because of the following error: The value nan is not acceptable.\n",
      "[W 2024-02-28 10:41:30,564] Trial 51 failed with value nan.\n",
      "[W 2024-02-28 10:41:31,437] Trial 52 failed with parameters: {'n_layers': 2, 'n_units_l0': 45, 'activation_l0': 'tanh', 'optimizer': 'sgd', 'n_units_l1': 18, 'activation_l1': 'relu', 'batch_size': 128, 'epochs': 14} because of the following error: The value nan is not acceptable.\n",
      "[W 2024-02-28 10:41:31,438] Trial 52 failed with value nan.\n",
      "[W 2024-02-28 10:41:32,137] Trial 53 failed with parameters: {'n_layers': 2, 'n_units_l0': 54, 'activation_l0': 'tanh', 'optimizer': 'sgd', 'n_units_l1': 21, 'activation_l1': 'relu', 'batch_size': 128, 'epochs': 20} because of the following error: The value nan is not acceptable.\n",
      "[W 2024-02-28 10:41:32,138] Trial 53 failed with value nan.\n",
      "[W 2024-02-28 10:41:32,868] Trial 54 failed with parameters: {'n_layers': 2, 'n_units_l0': 53, 'activation_l0': 'tanh', 'optimizer': 'sgd', 'n_units_l1': 18, 'activation_l1': 'relu', 'batch_size': 128, 'epochs': 20} because of the following error: The value nan is not acceptable.\n",
      "[W 2024-02-28 10:41:32,868] Trial 54 failed with value nan.\n",
      "[W 2024-02-28 10:41:33,545] Trial 55 failed with parameters: {'n_layers': 2, 'n_units_l0': 54, 'activation_l0': 'tanh', 'optimizer': 'sgd', 'n_units_l1': 20, 'activation_l1': 'relu', 'batch_size': 128, 'epochs': 20} because of the following error: The value nan is not acceptable.\n",
      "[W 2024-02-28 10:41:33,546] Trial 55 failed with value nan.\n",
      "[W 2024-02-28 10:41:34,204] Trial 56 failed with parameters: {'n_layers': 2, 'n_units_l0': 53, 'activation_l0': 'tanh', 'optimizer': 'sgd', 'n_units_l1': 18, 'activation_l1': 'relu', 'batch_size': 128, 'epochs': 20} because of the following error: The value nan is not acceptable.\n",
      "[W 2024-02-28 10:41:34,205] Trial 56 failed with value nan.\n",
      "[W 2024-02-28 10:41:34,858] Trial 57 failed with parameters: {'n_layers': 2, 'n_units_l0': 48, 'activation_l0': 'tanh', 'optimizer': 'sgd', 'n_units_l1': 19, 'activation_l1': 'relu', 'batch_size': 128, 'epochs': 20} because of the following error: The value nan is not acceptable.\n",
      "[W 2024-02-28 10:41:34,859] Trial 57 failed with value nan.\n",
      "[W 2024-02-28 10:41:35,496] Trial 58 failed with parameters: {'n_layers': 2, 'n_units_l0': 51, 'activation_l0': 'tanh', 'optimizer': 'sgd', 'n_units_l1': 20, 'activation_l1': 'relu', 'batch_size': 128, 'epochs': 20} because of the following error: The value nan is not acceptable.\n",
      "[W 2024-02-28 10:41:35,496] Trial 58 failed with value nan.\n",
      "[W 2024-02-28 10:41:36,128] Trial 59 failed with parameters: {'n_layers': 2, 'n_units_l0': 47, 'activation_l0': 'tanh', 'optimizer': 'sgd', 'n_units_l1': 18, 'activation_l1': 'relu', 'batch_size': 128, 'epochs': 20} because of the following error: The value nan is not acceptable.\n",
      "[W 2024-02-28 10:41:36,128] Trial 59 failed with value nan.\n",
      "[W 2024-02-28 10:41:36,770] Trial 60 failed with parameters: {'n_layers': 2, 'n_units_l0': 50, 'activation_l0': 'tanh', 'optimizer': 'sgd', 'n_units_l1': 19, 'activation_l1': 'relu', 'batch_size': 128, 'epochs': 20} because of the following error: The value nan is not acceptable.\n",
      "[W 2024-02-28 10:41:36,771] Trial 60 failed with value nan.\n",
      "[W 2024-02-28 10:41:37,408] Trial 61 failed with parameters: {'n_layers': 2, 'n_units_l0': 51, 'activation_l0': 'tanh', 'optimizer': 'sgd', 'n_units_l1': 21, 'activation_l1': 'relu', 'batch_size': 128, 'epochs': 20} because of the following error: The value nan is not acceptable.\n",
      "[W 2024-02-28 10:41:37,408] Trial 61 failed with value nan.\n",
      "[W 2024-02-28 10:41:37,928] Trial 62 failed with parameters: {'n_layers': 2, 'n_units_l0': 46, 'activation_l0': 'tanh', 'optimizer': 'sgd', 'n_units_l1': 20, 'activation_l1': 'relu', 'batch_size': 128, 'epochs': 14} because of the following error: The value nan is not acceptable.\n",
      "[W 2024-02-28 10:41:37,928] Trial 62 failed with value nan.\n",
      "[W 2024-02-28 10:41:38,558] Trial 63 failed with parameters: {'n_layers': 2, 'n_units_l0': 46, 'activation_l0': 'tanh', 'optimizer': 'sgd', 'n_units_l1': 21, 'activation_l1': 'relu', 'batch_size': 128, 'epochs': 20} because of the following error: The value nan is not acceptable.\n",
      "[W 2024-02-28 10:41:38,559] Trial 63 failed with value nan.\n",
      "[W 2024-02-28 10:41:39,196] Trial 64 failed with parameters: {'n_layers': 2, 'n_units_l0': 55, 'activation_l0': 'tanh', 'optimizer': 'sgd', 'n_units_l1': 18, 'activation_l1': 'relu', 'batch_size': 128, 'epochs': 20} because of the following error: The value nan is not acceptable.\n",
      "[W 2024-02-28 10:41:39,196] Trial 64 failed with value nan.\n",
      "[W 2024-02-28 10:41:39,828] Trial 65 failed with parameters: {'n_layers': 2, 'n_units_l0': 56, 'activation_l0': 'tanh', 'optimizer': 'sgd', 'n_units_l1': 25, 'activation_l1': 'relu', 'batch_size': 128, 'epochs': 20} because of the following error: The value nan is not acceptable.\n",
      "[W 2024-02-28 10:41:39,828] Trial 65 failed with value nan.\n",
      "[W 2024-02-28 10:41:40,460] Trial 66 failed with parameters: {'n_layers': 2, 'n_units_l0': 45, 'activation_l0': 'tanh', 'optimizer': 'sgd', 'n_units_l1': 18, 'activation_l1': 'relu', 'batch_size': 128, 'epochs': 20} because of the following error: The value nan is not acceptable.\n",
      "[W 2024-02-28 10:41:40,460] Trial 66 failed with value nan.\n",
      "[W 2024-02-28 10:41:41,092] Trial 67 failed with parameters: {'n_layers': 2, 'n_units_l0': 43, 'activation_l0': 'tanh', 'optimizer': 'sgd', 'n_units_l1': 16, 'activation_l1': 'relu', 'batch_size': 128, 'epochs': 20} because of the following error: The value nan is not acceptable.\n",
      "[W 2024-02-28 10:41:41,092] Trial 67 failed with value nan.\n",
      "[W 2024-02-28 10:41:41,611] Trial 68 failed with parameters: {'n_layers': 2, 'n_units_l0': 46, 'activation_l0': 'tanh', 'optimizer': 'sgd', 'n_units_l1': 19, 'activation_l1': 'relu', 'batch_size': 128, 'epochs': 14} because of the following error: The value nan is not acceptable.\n",
      "[W 2024-02-28 10:41:41,612] Trial 68 failed with value nan.\n",
      "[W 2024-02-28 10:41:42,236] Trial 69 failed with parameters: {'n_layers': 2, 'n_units_l0': 52, 'activation_l0': 'tanh', 'optimizer': 'sgd', 'n_units_l1': 20, 'activation_l1': 'relu', 'batch_size': 128, 'epochs': 20} because of the following error: The value nan is not acceptable.\n",
      "[W 2024-02-28 10:41:42,237] Trial 69 failed with value nan.\n",
      "[W 2024-02-28 10:41:42,759] Trial 70 failed with parameters: {'n_layers': 2, 'n_units_l0': 53, 'activation_l0': 'tanh', 'optimizer': 'sgd', 'n_units_l1': 19, 'activation_l1': 'relu', 'batch_size': 128, 'epochs': 14} because of the following error: The value nan is not acceptable.\n",
      "[W 2024-02-28 10:41:42,759] Trial 70 failed with value nan.\n",
      "[W 2024-02-28 10:41:43,278] Trial 71 failed with parameters: {'n_layers': 2, 'n_units_l0': 51, 'activation_l0': 'tanh', 'optimizer': 'sgd', 'n_units_l1': 18, 'activation_l1': 'relu', 'batch_size': 128, 'epochs': 14} because of the following error: The value nan is not acceptable.\n",
      "[W 2024-02-28 10:41:43,278] Trial 71 failed with value nan.\n",
      "[W 2024-02-28 10:41:43,794] Trial 72 failed with parameters: {'n_layers': 2, 'n_units_l0': 51, 'activation_l0': 'tanh', 'optimizer': 'sgd', 'n_units_l1': 20, 'activation_l1': 'relu', 'batch_size': 128, 'epochs': 14} because of the following error: The value nan is not acceptable.\n",
      "[W 2024-02-28 10:41:43,795] Trial 72 failed with value nan.\n",
      "[W 2024-02-28 10:41:44,814] Trial 73 failed with parameters: {'n_layers': 2, 'n_units_l0': 49, 'activation_l0': 'tanh', 'optimizer': 'sgd', 'n_units_l1': 21, 'activation_l1': 'relu', 'batch_size': 128, 'epochs': 20} because of the following error: The value nan is not acceptable.\n",
      "[W 2024-02-28 10:41:44,814] Trial 73 failed with value nan.\n",
      "[W 2024-02-28 10:41:45,369] Trial 74 failed with parameters: {'n_layers': 2, 'n_units_l0': 47, 'activation_l0': 'tanh', 'optimizer': 'sgd', 'n_units_l1': 20, 'activation_l1': 'relu', 'batch_size': 128, 'epochs': 14} because of the following error: The value nan is not acceptable.\n",
      "[W 2024-02-28 10:41:45,369] Trial 74 failed with value nan.\n",
      "[W 2024-02-28 10:41:46,021] Trial 75 failed with parameters: {'n_layers': 2, 'n_units_l0': 47, 'activation_l0': 'tanh', 'optimizer': 'sgd', 'n_units_l1': 20, 'activation_l1': 'relu', 'batch_size': 128, 'epochs': 20} because of the following error: The value nan is not acceptable.\n",
      "[W 2024-02-28 10:41:46,021] Trial 75 failed with value nan.\n",
      "[W 2024-02-28 10:41:46,660] Trial 76 failed with parameters: {'n_layers': 2, 'n_units_l0': 57, 'activation_l0': 'tanh', 'optimizer': 'sgd', 'n_units_l1': 18, 'activation_l1': 'relu', 'batch_size': 128, 'epochs': 20} because of the following error: The value nan is not acceptable.\n",
      "[W 2024-02-28 10:41:46,661] Trial 76 failed with value nan.\n",
      "[W 2024-02-28 10:41:47,190] Trial 77 failed with parameters: {'n_layers': 2, 'n_units_l0': 52, 'activation_l0': 'tanh', 'optimizer': 'sgd', 'n_units_l1': 19, 'activation_l1': 'relu', 'batch_size': 128, 'epochs': 14} because of the following error: The value nan is not acceptable.\n",
      "[W 2024-02-28 10:41:47,191] Trial 77 failed with value nan.\n",
      "[W 2024-02-28 10:41:47,726] Trial 78 failed with parameters: {'n_layers': 2, 'n_units_l0': 52, 'activation_l0': 'tanh', 'optimizer': 'sgd', 'n_units_l1': 18, 'activation_l1': 'relu', 'batch_size': 128, 'epochs': 14} because of the following error: The value nan is not acceptable.\n",
      "[W 2024-02-28 10:41:47,726] Trial 78 failed with value nan.\n",
      "[W 2024-02-28 10:41:48,255] Trial 79 failed with parameters: {'n_layers': 2, 'n_units_l0': 55, 'activation_l0': 'tanh', 'optimizer': 'sgd', 'n_units_l1': 19, 'activation_l1': 'relu', 'batch_size': 128, 'epochs': 14} because of the following error: The value nan is not acceptable.\n",
      "[W 2024-02-28 10:41:48,256] Trial 79 failed with value nan.\n",
      "[W 2024-02-28 10:41:48,904] Trial 80 failed with parameters: {'n_layers': 2, 'n_units_l0': 57, 'activation_l0': 'tanh', 'optimizer': 'sgd', 'n_units_l1': 20, 'activation_l1': 'relu', 'batch_size': 128, 'epochs': 20} because of the following error: The value nan is not acceptable.\n",
      "[W 2024-02-28 10:41:48,904] Trial 80 failed with value nan.\n",
      "[W 2024-02-28 10:41:49,428] Trial 81 failed with parameters: {'n_layers': 2, 'n_units_l0': 50, 'activation_l0': 'tanh', 'optimizer': 'sgd', 'n_units_l1': 19, 'activation_l1': 'relu', 'batch_size': 128, 'epochs': 14} because of the following error: The value nan is not acceptable.\n",
      "[W 2024-02-28 10:41:49,428] Trial 81 failed with value nan.\n",
      "[W 2024-02-28 10:41:49,949] Trial 82 failed with parameters: {'n_layers': 2, 'n_units_l0': 52, 'activation_l0': 'tanh', 'optimizer': 'sgd', 'n_units_l1': 20, 'activation_l1': 'relu', 'batch_size': 128, 'epochs': 14} because of the following error: The value nan is not acceptable.\n",
      "[W 2024-02-28 10:41:49,950] Trial 82 failed with value nan.\n",
      "[W 2024-02-28 10:41:50,588] Trial 83 failed with parameters: {'n_layers': 2, 'n_units_l0': 46, 'activation_l0': 'tanh', 'optimizer': 'sgd', 'n_units_l1': 21, 'activation_l1': 'relu', 'batch_size': 128, 'epochs': 20} because of the following error: The value nan is not acceptable.\n",
      "[W 2024-02-28 10:41:50,588] Trial 83 failed with value nan.\n",
      "[W 2024-02-28 10:41:51,202] Trial 84 failed with parameters: {'n_layers': 2, 'n_units_l0': 51, 'activation_l0': 'tanh', 'optimizer': 'sgd', 'n_units_l1': 20, 'activation_l1': 'relu', 'batch_size': 128, 'epochs': 19} because of the following error: The value nan is not acceptable.\n",
      "[W 2024-02-28 10:41:51,202] Trial 84 failed with value nan.\n",
      "[W 2024-02-28 10:41:51,826] Trial 85 failed with parameters: {'n_layers': 2, 'n_units_l0': 44, 'activation_l0': 'tanh', 'optimizer': 'sgd', 'n_units_l1': 18, 'activation_l1': 'relu', 'batch_size': 128, 'epochs': 20} because of the following error: The value nan is not acceptable.\n",
      "[W 2024-02-28 10:41:51,827] Trial 85 failed with value nan.\n",
      "[W 2024-02-28 10:41:52,454] Trial 86 failed with parameters: {'n_layers': 2, 'n_units_l0': 50, 'activation_l0': 'tanh', 'optimizer': 'sgd', 'n_units_l1': 19, 'activation_l1': 'relu', 'batch_size': 128, 'epochs': 20} because of the following error: The value nan is not acceptable.\n",
      "[W 2024-02-28 10:41:52,454] Trial 86 failed with value nan.\n",
      "[W 2024-02-28 10:41:52,973] Trial 87 failed with parameters: {'n_layers': 2, 'n_units_l0': 47, 'activation_l0': 'tanh', 'optimizer': 'sgd', 'n_units_l1': 18, 'activation_l1': 'relu', 'batch_size': 128, 'epochs': 14} because of the following error: The value nan is not acceptable.\n",
      "[W 2024-02-28 10:41:52,974] Trial 87 failed with value nan.\n",
      "[W 2024-02-28 10:41:53,496] Trial 88 failed with parameters: {'n_layers': 2, 'n_units_l0': 55, 'activation_l0': 'tanh', 'optimizer': 'sgd', 'n_units_l1': 23, 'activation_l1': 'relu', 'batch_size': 128, 'epochs': 14} because of the following error: The value nan is not acceptable.\n",
      "[W 2024-02-28 10:41:53,497] Trial 88 failed with value nan.\n",
      "[W 2024-02-28 10:41:54,125] Trial 89 failed with parameters: {'n_layers': 2, 'n_units_l0': 65, 'activation_l0': 'tanh', 'optimizer': 'sgd', 'n_units_l1': 20, 'activation_l1': 'relu', 'batch_size': 128, 'epochs': 20} because of the following error: The value nan is not acceptable.\n",
      "[W 2024-02-28 10:41:54,125] Trial 89 failed with value nan.\n",
      "[W 2024-02-28 10:41:54,739] Trial 90 failed with parameters: {'n_layers': 2, 'n_units_l0': 53, 'activation_l0': 'tanh', 'optimizer': 'sgd', 'n_units_l1': 21, 'activation_l1': 'relu', 'batch_size': 128, 'epochs': 19} because of the following error: The value nan is not acceptable.\n",
      "[W 2024-02-28 10:41:54,739] Trial 90 failed with value nan.\n",
      "[W 2024-02-28 10:41:55,264] Trial 91 failed with parameters: {'n_layers': 2, 'n_units_l0': 46, 'activation_l0': 'tanh', 'optimizer': 'sgd', 'n_units_l1': 23, 'activation_l1': 'relu', 'batch_size': 128, 'epochs': 14} because of the following error: The value nan is not acceptable.\n",
      "[W 2024-02-28 10:41:55,265] Trial 91 failed with value nan.\n",
      "[W 2024-02-28 10:41:55,783] Trial 92 failed with parameters: {'n_layers': 2, 'n_units_l0': 51, 'activation_l0': 'tanh', 'optimizer': 'sgd', 'n_units_l1': 18, 'activation_l1': 'relu', 'batch_size': 128, 'epochs': 14} because of the following error: The value nan is not acceptable.\n",
      "[W 2024-02-28 10:41:55,783] Trial 92 failed with value nan.\n",
      "[W 2024-02-28 10:41:56,408] Trial 93 failed with parameters: {'n_layers': 2, 'n_units_l0': 52, 'activation_l0': 'tanh', 'optimizer': 'sgd', 'n_units_l1': 18, 'activation_l1': 'relu', 'batch_size': 128, 'epochs': 20} because of the following error: The value nan is not acceptable.\n",
      "[W 2024-02-28 10:41:56,409] Trial 93 failed with value nan.\n",
      "[W 2024-02-28 10:41:57,309] Trial 94 failed with parameters: {'n_layers': 2, 'n_units_l0': 47, 'activation_l0': 'tanh', 'optimizer': 'sgd', 'n_units_l1': 19, 'activation_l1': 'relu', 'batch_size': 128, 'epochs': 13} because of the following error: The value nan is not acceptable.\n",
      "[W 2024-02-28 10:41:57,310] Trial 94 failed with value nan.\n",
      "[W 2024-02-28 10:41:57,850] Trial 95 failed with parameters: {'n_layers': 2, 'n_units_l0': 55, 'activation_l0': 'tanh', 'optimizer': 'sgd', 'n_units_l1': 17, 'activation_l1': 'relu', 'batch_size': 128, 'epochs': 14} because of the following error: The value nan is not acceptable.\n",
      "[W 2024-02-28 10:41:57,850] Trial 95 failed with value nan.\n",
      "[W 2024-02-28 10:41:58,499] Trial 96 failed with parameters: {'n_layers': 2, 'n_units_l0': 51, 'activation_l0': 'tanh', 'optimizer': 'sgd', 'n_units_l1': 16, 'activation_l1': 'relu', 'batch_size': 128, 'epochs': 20} because of the following error: The value nan is not acceptable.\n",
      "[W 2024-02-28 10:41:58,499] Trial 96 failed with value nan.\n",
      "[W 2024-02-28 10:41:59,030] Trial 97 failed with parameters: {'n_layers': 2, 'n_units_l0': 56, 'activation_l0': 'tanh', 'optimizer': 'sgd', 'n_units_l1': 23, 'activation_l1': 'relu', 'batch_size': 128, 'epochs': 14} because of the following error: The value nan is not acceptable.\n",
      "[W 2024-02-28 10:41:59,030] Trial 97 failed with value nan.\n",
      "[W 2024-02-28 10:41:59,660] Trial 98 failed with parameters: {'n_layers': 2, 'n_units_l0': 49, 'activation_l0': 'tanh', 'optimizer': 'sgd', 'n_units_l1': 19, 'activation_l1': 'relu', 'batch_size': 128, 'epochs': 20} because of the following error: The value nan is not acceptable.\n",
      "[W 2024-02-28 10:41:59,661] Trial 98 failed with value nan.\n",
      "[W 2024-02-28 10:42:00,256] Trial 99 failed with parameters: {'n_layers': 2, 'n_units_l0': 49, 'activation_l0': 'tanh', 'optimizer': 'sgd', 'n_units_l1': 18, 'activation_l1': 'relu', 'batch_size': 128, 'epochs': 14} because of the following error: The value nan is not acceptable.\n",
      "[W 2024-02-28 10:42:00,256] Trial 99 failed with value nan.\n"
     ]
    },
    {
     "name": "stdout",
     "output_type": "stream",
     "text": [
      "Best parameters: {'n_layers': 1, 'n_units_l0': 99, 'activation_l0': 'tanh', 'optimizer': 'sgd', 'batch_size': 128, 'epochs': 13}\n"
     ]
    }
   ],
   "source": [
    "study = optuna.create_study(direction=\"minimize\")\n",
    "study.optimize(objective, n_trials=100)\n",
    "\n",
    "best_params = study.best_params\n",
    "print(\"Best parameters:\", best_params)"
   ]
  },
  {
   "cell_type": "markdown",
   "metadata": {},
   "source": [
    "### Optimized Train and Test"
   ]
  },
  {
   "cell_type": "code",
   "execution_count": null,
   "metadata": {},
   "outputs": [
    {
     "name": "stdout",
     "output_type": "stream",
     "text": [
      "Epoch 1/100\n",
      "71/71 [==============================] - 0s 2ms/step - loss: 92359901184.0000 - val_loss: 3888783360.0000\n",
      "Epoch 2/100\n",
      "71/71 [==============================] - 0s 793us/step - loss: 5677414400.0000 - val_loss: 11022309376.0000\n",
      "Epoch 3/100\n",
      "71/71 [==============================] - 0s 771us/step - loss: 6424136192.0000 - val_loss: 3798994944.0000\n",
      "Epoch 4/100\n",
      "71/71 [==============================] - 0s 718us/step - loss: 8488721408.0000 - val_loss: 19532736512.0000\n",
      "Epoch 5/100\n",
      "71/71 [==============================] - 0s 698us/step - loss: 10552415232.0000 - val_loss: 2923966208.0000\n",
      "Epoch 6/100\n",
      "71/71 [==============================] - 0s 710us/step - loss: 1966066560.0000 - val_loss: 3062437632.0000\n",
      "Epoch 7/100\n",
      "71/71 [==============================] - 0s 858us/step - loss: 1737097344.0000 - val_loss: 1947554048.0000\n",
      "Epoch 8/100\n",
      "71/71 [==============================] - 0s 819us/step - loss: 1571244672.0000 - val_loss: 1779013120.0000\n",
      "Epoch 9/100\n",
      "71/71 [==============================] - 0s 848us/step - loss: 1537926400.0000 - val_loss: 1736829952.0000\n",
      "Epoch 10/100\n",
      "71/71 [==============================] - 0s 778us/step - loss: 1450933888.0000 - val_loss: 1617816448.0000\n",
      "Epoch 11/100\n",
      "71/71 [==============================] - 0s 832us/step - loss: 1374484480.0000 - val_loss: 1921689216.0000\n",
      "Epoch 12/100\n",
      "71/71 [==============================] - 0s 726us/step - loss: 1361553920.0000 - val_loss: 1753815424.0000\n",
      "Epoch 13/100\n",
      "71/71 [==============================] - 0s 734us/step - loss: 1370607232.0000 - val_loss: 1728426240.0000\n",
      "Epoch 14/100\n",
      "71/71 [==============================] - 0s 734us/step - loss: 1360315904.0000 - val_loss: 1720812288.0000\n",
      "Epoch 15/100\n",
      "71/71 [==============================] - 0s 724us/step - loss: 1338623488.0000 - val_loss: 2123810816.0000\n",
      "Epoch 16/100\n",
      "71/71 [==============================] - 0s 725us/step - loss: 1309866496.0000 - val_loss: 1561682304.0000\n",
      "Epoch 17/100\n",
      "71/71 [==============================] - 0s 709us/step - loss: 1381996032.0000 - val_loss: 1863090176.0000\n",
      "Epoch 18/100\n",
      "71/71 [==============================] - 0s 716us/step - loss: 1278055040.0000 - val_loss: 2384531968.0000\n",
      "Epoch 19/100\n",
      "71/71 [==============================] - 0s 699us/step - loss: 1449283456.0000 - val_loss: 1632623872.0000\n",
      "Epoch 20/100\n",
      "71/71 [==============================] - 0s 701us/step - loss: 1357271808.0000 - val_loss: 3243873536.0000\n",
      "Epoch 21/100\n",
      "71/71 [==============================] - 0s 693us/step - loss: 1478934784.0000 - val_loss: 2475517696.0000\n",
      "Epoch 22/100\n",
      "71/71 [==============================] - 0s 718us/step - loss: 1369635456.0000 - val_loss: 1483092096.0000\n",
      "Epoch 23/100\n",
      "71/71 [==============================] - 0s 707us/step - loss: 1361435648.0000 - val_loss: 1452827776.0000\n",
      "Epoch 24/100\n",
      "71/71 [==============================] - 0s 706us/step - loss: 1413644032.0000 - val_loss: 1536348544.0000\n",
      "Epoch 25/100\n",
      "71/71 [==============================] - 0s 705us/step - loss: 1334176256.0000 - val_loss: 1782120064.0000\n",
      "Epoch 26/100\n",
      "71/71 [==============================] - 0s 783us/step - loss: 1297742720.0000 - val_loss: 1540890880.0000\n",
      "Epoch 27/100\n",
      "71/71 [==============================] - 0s 817us/step - loss: 1425929088.0000 - val_loss: 1742874752.0000\n",
      "Epoch 28/100\n",
      "71/71 [==============================] - 0s 838us/step - loss: 1381184512.0000 - val_loss: 1690420352.0000\n",
      "Epoch 29/100\n",
      "71/71 [==============================] - 0s 788us/step - loss: 1467449600.0000 - val_loss: 1673834240.0000\n",
      "Epoch 30/100\n",
      "71/71 [==============================] - 0s 873us/step - loss: 1509994624.0000 - val_loss: 1605389440.0000\n",
      "Epoch 31/100\n",
      "71/71 [==============================] - 0s 860us/step - loss: 1423311488.0000 - val_loss: 1598099840.0000\n",
      "Epoch 32/100\n",
      "71/71 [==============================] - 0s 860us/step - loss: 1405744384.0000 - val_loss: 2087756800.0000\n",
      "Epoch 33/100\n",
      "71/71 [==============================] - 0s 1ms/step - loss: 1434724352.0000 - val_loss: 1567874304.0000\n",
      "Epoch 34/100\n",
      "71/71 [==============================] - 0s 850us/step - loss: 1639225088.0000 - val_loss: 1644899456.0000\n",
      "Epoch 35/100\n",
      "71/71 [==============================] - 0s 861us/step - loss: 1717627520.0000 - val_loss: 2037228416.0000\n",
      "Epoch 36/100\n",
      "71/71 [==============================] - 0s 776us/step - loss: 1417669760.0000 - val_loss: 2234971136.0000\n",
      "Epoch 37/100\n",
      "71/71 [==============================] - 0s 841us/step - loss: 1328310528.0000 - val_loss: 1540784896.0000\n",
      "Epoch 38/100\n",
      "71/71 [==============================] - 0s 842us/step - loss: 1380128256.0000 - val_loss: 1612264960.0000\n",
      "Epoch 39/100\n",
      "71/71 [==============================] - 0s 852us/step - loss: 1476033408.0000 - val_loss: 1738077568.0000\n",
      "Epoch 40/100\n",
      "71/71 [==============================] - 0s 818us/step - loss: 1661065472.0000 - val_loss: 1798116992.0000\n",
      "Epoch 41/100\n",
      "71/71 [==============================] - 0s 775us/step - loss: 1408130560.0000 - val_loss: 2674734080.0000\n",
      "Epoch 42/100\n",
      "71/71 [==============================] - 0s 772us/step - loss: 1495838976.0000 - val_loss: 2001262464.0000\n",
      "Epoch 43/100\n",
      "71/71 [==============================] - 0s 790us/step - loss: 1520184704.0000 - val_loss: 1732690944.0000\n",
      "Epoch 44/100\n",
      "71/71 [==============================] - 0s 745us/step - loss: 1273252608.0000 - val_loss: 2146059648.0000\n",
      "Epoch 45/100\n",
      "71/71 [==============================] - 0s 729us/step - loss: 1237299840.0000 - val_loss: 3114854400.0000\n",
      "Epoch 46/100\n",
      "71/71 [==============================] - 0s 726us/step - loss: 1325581696.0000 - val_loss: 2091419136.0000\n",
      "Epoch 47/100\n",
      "71/71 [==============================] - 0s 729us/step - loss: 1234563200.0000 - val_loss: 1896551424.0000\n",
      "Epoch 48/100\n",
      "71/71 [==============================] - 0s 749us/step - loss: 1408733440.0000 - val_loss: 1986436096.0000\n",
      "Epoch 49/100\n",
      "71/71 [==============================] - 0s 803us/step - loss: 1506839296.0000 - val_loss: 2185319680.0000\n",
      "Epoch 50/100\n",
      "71/71 [==============================] - 0s 768us/step - loss: 1585403264.0000 - val_loss: 2024628352.0000\n",
      "Epoch 51/100\n",
      "71/71 [==============================] - 0s 780us/step - loss: 1763696384.0000 - val_loss: 1917496832.0000\n",
      "Epoch 52/100\n",
      "71/71 [==============================] - 0s 773us/step - loss: 1249579136.0000 - val_loss: 1979380736.0000\n",
      "Epoch 53/100\n",
      "71/71 [==============================] - 0s 733us/step - loss: 1934703232.0000 - val_loss: 1884796160.0000\n",
      "Epoch 54/100\n",
      "71/71 [==============================] - 0s 739us/step - loss: 1491408768.0000 - val_loss: 2401461248.0000\n",
      "Epoch 55/100\n",
      "71/71 [==============================] - 0s 708us/step - loss: 1436578816.0000 - val_loss: 1833848832.0000\n",
      "Epoch 56/100\n",
      "71/71 [==============================] - 0s 688us/step - loss: 1820864000.0000 - val_loss: 2502465536.0000\n",
      "Epoch 57/100\n",
      "71/71 [==============================] - 0s 711us/step - loss: 1683986560.0000 - val_loss: 3333840128.0000\n",
      "Epoch 58/100\n",
      "71/71 [==============================] - 0s 710us/step - loss: 1492840960.0000 - val_loss: 1557199360.0000\n",
      "Epoch 59/100\n",
      "71/71 [==============================] - 0s 718us/step - loss: 1416591488.0000 - val_loss: 2900569600.0000\n",
      "Epoch 60/100\n",
      "71/71 [==============================] - 0s 702us/step - loss: 1709496960.0000 - val_loss: 1793058176.0000\n",
      "Epoch 61/100\n",
      "71/71 [==============================] - 0s 699us/step - loss: 1648722176.0000 - val_loss: 1691216128.0000\n",
      "Epoch 62/100\n",
      "71/71 [==============================] - 0s 691us/step - loss: 1758433280.0000 - val_loss: 2446543616.0000\n",
      "Epoch 63/100\n",
      "71/71 [==============================] - 0s 714us/step - loss: 1410239232.0000 - val_loss: 2299850240.0000\n",
      "Epoch 64/100\n",
      "71/71 [==============================] - 0s 697us/step - loss: 1366519936.0000 - val_loss: 1679097472.0000\n",
      "Epoch 65/100\n",
      "71/71 [==============================] - 0s 703us/step - loss: 1501803392.0000 - val_loss: 1869922816.0000\n",
      "Epoch 66/100\n",
      "71/71 [==============================] - 0s 690us/step - loss: 1412030464.0000 - val_loss: 1902585600.0000\n",
      "Epoch 67/100\n",
      "71/71 [==============================] - 0s 706us/step - loss: 1306588544.0000 - val_loss: 1807343872.0000\n",
      "Epoch 68/100\n",
      "71/71 [==============================] - 0s 700us/step - loss: 1205058944.0000 - val_loss: 1699214208.0000\n",
      "Epoch 69/100\n",
      "71/71 [==============================] - 0s 705us/step - loss: 1543435904.0000 - val_loss: 2850012160.0000\n",
      "Epoch 70/100\n",
      "71/71 [==============================] - 0s 694us/step - loss: 2233347840.0000 - val_loss: 1449012096.0000\n",
      "Epoch 71/100\n",
      "71/71 [==============================] - 0s 702us/step - loss: 5817336320.0000 - val_loss: 6477130752.0000\n",
      "Epoch 72/100\n",
      "71/71 [==============================] - 0s 692us/step - loss: 4269179648.0000 - val_loss: 1583348480.0000\n",
      "Epoch 73/100\n",
      "71/71 [==============================] - 0s 699us/step - loss: 2491028224.0000 - val_loss: 1661836928.0000\n",
      "Epoch 74/100\n",
      "71/71 [==============================] - 0s 697us/step - loss: 1316226432.0000 - val_loss: 3473054208.0000\n",
      "Epoch 75/100\n",
      "71/71 [==============================] - 0s 705us/step - loss: 1741176832.0000 - val_loss: 5032301568.0000\n",
      "Epoch 76/100\n",
      "71/71 [==============================] - 0s 706us/step - loss: 2707450112.0000 - val_loss: 6456854016.0000\n",
      "Epoch 77/100\n",
      "71/71 [==============================] - 0s 726us/step - loss: 3851099648.0000 - val_loss: 2061304064.0000\n",
      "Epoch 78/100\n",
      "71/71 [==============================] - 0s 710us/step - loss: 2900902144.0000 - val_loss: 3527595008.0000\n",
      "Epoch 79/100\n",
      "71/71 [==============================] - 0s 696us/step - loss: 3103388672.0000 - val_loss: 4132291328.0000\n",
      "Epoch 80/100\n",
      "71/71 [==============================] - 0s 679us/step - loss: 1451678336.0000 - val_loss: 2188239872.0000\n",
      "Epoch 81/100\n",
      "71/71 [==============================] - 0s 707us/step - loss: 2035227904.0000 - val_loss: 1875925632.0000\n",
      "Epoch 82/100\n",
      "71/71 [==============================] - 0s 774us/step - loss: 1605851392.0000 - val_loss: 2479222016.0000\n",
      "Epoch 83/100\n",
      "71/71 [==============================] - 0s 717us/step - loss: 1353763840.0000 - val_loss: 1986167424.0000\n",
      "Epoch 84/100\n",
      "71/71 [==============================] - 0s 707us/step - loss: 1214153088.0000 - val_loss: 3400434176.0000\n",
      "Epoch 85/100\n",
      "71/71 [==============================] - 0s 691us/step - loss: 1697784576.0000 - val_loss: 2102881792.0000\n",
      "Epoch 86/100\n",
      "71/71 [==============================] - 0s 704us/step - loss: 1486060160.0000 - val_loss: 1809767808.0000\n",
      "Epoch 87/100\n",
      "71/71 [==============================] - 0s 711us/step - loss: 1200122240.0000 - val_loss: 1834955904.0000\n",
      "Epoch 88/100\n",
      "71/71 [==============================] - 0s 709us/step - loss: 1974259456.0000 - val_loss: 1909096832.0000\n",
      "Epoch 89/100\n",
      "71/71 [==============================] - 0s 716us/step - loss: 1419888128.0000 - val_loss: 2105691648.0000\n",
      "Epoch 90/100\n",
      "71/71 [==============================] - 0s 697us/step - loss: 1486781056.0000 - val_loss: 3355758336.0000\n",
      "Epoch 91/100\n",
      "71/71 [==============================] - 0s 713us/step - loss: 2067933056.0000 - val_loss: 4052381696.0000\n",
      "Epoch 92/100\n",
      "71/71 [==============================] - 0s 697us/step - loss: 1686758528.0000 - val_loss: 1695978624.0000\n",
      "Epoch 93/100\n",
      "71/71 [==============================] - 0s 685us/step - loss: 1418766976.0000 - val_loss: 2149429504.0000\n",
      "Epoch 94/100\n",
      "71/71 [==============================] - 0s 698us/step - loss: 1094062208.0000 - val_loss: 3498943744.0000\n",
      "Epoch 95/100\n",
      "71/71 [==============================] - 0s 690us/step - loss: 1759864704.0000 - val_loss: 2127231616.0000\n",
      "Epoch 96/100\n",
      "71/71 [==============================] - 0s 708us/step - loss: 1277860352.0000 - val_loss: 2216584448.0000\n",
      "Epoch 97/100\n",
      "71/71 [==============================] - 0s 706us/step - loss: 1256110848.0000 - val_loss: 1855640064.0000\n",
      "Epoch 98/100\n",
      "71/71 [==============================] - 0s 699us/step - loss: 1505533184.0000 - val_loss: 1898534656.0000\n",
      "Epoch 99/100\n",
      "71/71 [==============================] - 0s 709us/step - loss: 1025247168.0000 - val_loss: 1713811584.0000\n",
      "Epoch 100/100\n",
      "71/71 [==============================] - 0s 701us/step - loss: 1324417792.0000 - val_loss: 1733953280.0000\n",
      "36/36 [==============================] - 0s 465us/step\n",
      "MAE: 22031\n",
      "RMSE: 30296\n",
      "R2 Score: 0.85\n"
     ]
    },
    {
     "data": {
      "text/plain": [
       "array([[124737.94 ],\n",
       "       [157628.16 ],\n",
       "       [ 64819.477],\n",
       "       ...,\n",
       "       [100829.125],\n",
       "       [157628.16 ],\n",
       "       [247173.31 ]], dtype=float32)"
      ]
     },
     "execution_count": 122,
     "metadata": {},
     "output_type": "execute_result"
    }
   ],
   "source": [
    "model_nn = create_model_from_params(study.best_params)\n",
    "model_nn.fit(\n",
    "    merged_train_df,\n",
    "    train_target,\n",
    "    validation_data=(merged_val_df, val_target),\n",
    "    epochs=100,\n",
    "    batch_size=16,\n",
    ")"
   ]
  },
  {
   "cell_type": "code",
   "execution_count": 50,
   "metadata": {},
   "outputs": [
    {
     "name": "stdout",
     "output_type": "stream",
     "text": [
      "\n",
      "TRAIN\n",
      "\n",
      "36/36 [==============================] - 0s 552us/step\n",
      "MAE: 10516\n",
      "RMSE: 15479\n",
      "R2 Score: 0.96\n",
      "\\TEST\n",
      "\n",
      "9/9 [==============================] - 0s 519us/step\n",
      "MAE: 21296\n",
      "RMSE: 33149\n",
      "R2 Score: 0.85\n"
     ]
    },
    {
     "data": {
      "text/plain": [
       "array([[163894.92 ],\n",
       "       [335641.03 ],\n",
       "       [ 99121.14 ],\n",
       "       [182920.52 ],\n",
       "       [399252.25 ],\n",
       "       [ 84733.82 ],\n",
       "       [247934.36 ],\n",
       "       [160393.42 ],\n",
       "       [ 82863.664],\n",
       "       [151262.11 ],\n",
       "       [151605.28 ],\n",
       "       [131493.14 ],\n",
       "       [128728.16 ],\n",
       "       [228914.89 ],\n",
       "       [179784.11 ],\n",
       "       [142850.2  ],\n",
       "       [198923.45 ],\n",
       "       [140831.95 ],\n",
       "       [108851.93 ],\n",
       "       [225024.92 ],\n",
       "       [168216.28 ],\n",
       "       [218154.77 ],\n",
       "       [180162.44 ],\n",
       "       [141433.2  ],\n",
       "       [214233.36 ],\n",
       "       [158497.77 ],\n",
       "       [195490.64 ],\n",
       "       [115994.27 ],\n",
       "       [183119.39 ],\n",
       "       [207588.77 ],\n",
       "       [130407.484],\n",
       "       [283631.2  ],\n",
       "       [219942.42 ],\n",
       "       [124883.086],\n",
       "       [265103.22 ],\n",
       "       [154771.98 ],\n",
       "       [151556.73 ],\n",
       "       [220471.39 ],\n",
       "       [371774.25 ],\n",
       "       [154488.84 ],\n",
       "       [242906.55 ],\n",
       "       [126341.05 ],\n",
       "       [365641.3  ],\n",
       "       [136223.81 ],\n",
       "       [146963.8  ],\n",
       "       [118177.02 ],\n",
       "       [145196.36 ],\n",
       "       [409917.9  ],\n",
       "       [152092.27 ],\n",
       "       [135718.17 ],\n",
       "       [248662.11 ],\n",
       "       [109545.71 ],\n",
       "       [405265.28 ],\n",
       "       [204613.36 ],\n",
       "       [232500.05 ],\n",
       "       [213015.55 ],\n",
       "       [169999.39 ],\n",
       "       [131200.33 ],\n",
       "       [ 99929.195],\n",
       "       [163490.7  ],\n",
       "       [322868.53 ],\n",
       "       [248414.8  ],\n",
       "       [332240.3  ],\n",
       "       [170222.8  ],\n",
       "       [111431.24 ],\n",
       "       [335880.72 ],\n",
       "       [142857.45 ],\n",
       "       [181978.52 ],\n",
       "       [124412.984],\n",
       "       [123768.695],\n",
       "       [496888.53 ],\n",
       "       [220252.42 ],\n",
       "       [294864.8  ],\n",
       "       [453145.56 ],\n",
       "       [152376.3  ],\n",
       "       [112888.39 ],\n",
       "       [117634.32 ],\n",
       "       [ 59609.426],\n",
       "       [111686.04 ],\n",
       "       [110571.65 ],\n",
       "       [164045.02 ],\n",
       "       [136356.66 ],\n",
       "       [298381.9  ],\n",
       "       [221017.66 ],\n",
       "       [155868.14 ],\n",
       "       [201489.14 ],\n",
       "       [131418.19 ],\n",
       "       [166978.12 ],\n",
       "       [162446.62 ],\n",
       "       [278502.22 ],\n",
       "       [120776.85 ],\n",
       "       [193673.66 ],\n",
       "       [296964.03 ],\n",
       "       [174017.33 ],\n",
       "       [209659.95 ],\n",
       "       [282848.75 ],\n",
       "       [144604.52 ],\n",
       "       [220358.52 ],\n",
       "       [241145.19 ],\n",
       "       [173675.42 ],\n",
       "       [174887.61 ],\n",
       "       [172342.97 ],\n",
       "       [156352.36 ],\n",
       "       [310246.44 ],\n",
       "       [161830.22 ],\n",
       "       [206943.2  ],\n",
       "       [ 58959.777],\n",
       "       [137229.75 ],\n",
       "       [158432.64 ],\n",
       "       [158427.92 ],\n",
       "       [209803.67 ],\n",
       "       [122504.71 ],\n",
       "       [114779.5  ],\n",
       "       [132532.81 ],\n",
       "       [142445.3  ],\n",
       "       [155023.9  ],\n",
       "       [178025.69 ],\n",
       "       [185863.52 ],\n",
       "       [196167.8  ],\n",
       "       [135500.39 ],\n",
       "       [235732.33 ],\n",
       "       [ 91896.63 ],\n",
       "       [161678.1  ],\n",
       "       [205270.55 ],\n",
       "       [200041.25 ],\n",
       "       [405251.9  ],\n",
       "       [199008.81 ],\n",
       "       [124435.336],\n",
       "       [ 50484.457],\n",
       "       [383883.72 ],\n",
       "       [348307.94 ],\n",
       "       [130894.24 ],\n",
       "       [233295.81 ],\n",
       "       [643625.3  ],\n",
       "       [338214.72 ],\n",
       "       [137049.45 ],\n",
       "       [178431.3  ],\n",
       "       [168372.53 ],\n",
       "       [120892.91 ],\n",
       "       [144256.3  ],\n",
       "       [245398.22 ],\n",
       "       [197486.95 ],\n",
       "       [141142.3  ],\n",
       "       [ 76364.37 ],\n",
       "       [136965.2  ],\n",
       "       [152710.77 ],\n",
       "       [163528.7  ],\n",
       "       [ 93550.695],\n",
       "       [141831.58 ],\n",
       "       [156419.27 ],\n",
       "       [132994.92 ],\n",
       "       [106222.586],\n",
       "       [141047.97 ],\n",
       "       [217383.86 ],\n",
       "       [127026.766],\n",
       "       [322921.25 ],\n",
       "       [149325.56 ],\n",
       "       [119932.4  ],\n",
       "       [135028.44 ],\n",
       "       [238577.3  ],\n",
       "       [334590.3  ],\n",
       "       [502413.47 ],\n",
       "       [236475.67 ],\n",
       "       [402565.78 ],\n",
       "       [109361.516],\n",
       "       [137765.6  ],\n",
       "       [142153.53 ],\n",
       "       [291089.47 ],\n",
       "       [127686.22 ],\n",
       "       [211053.95 ],\n",
       "       [137004.58 ],\n",
       "       [173622.97 ],\n",
       "       [201053.7  ],\n",
       "       [115121.13 ],\n",
       "       [135494.36 ],\n",
       "       [155208.78 ],\n",
       "       [255481.27 ],\n",
       "       [101860.836],\n",
       "       [276034.53 ],\n",
       "       [215518.8  ],\n",
       "       [203872.23 ],\n",
       "       [102650.48 ],\n",
       "       [123840.25 ],\n",
       "       [112690.82 ],\n",
       "       [157321.89 ],\n",
       "       [116317.484],\n",
       "       [205115.52 ],\n",
       "       [163806.8  ],\n",
       "       [191344.94 ],\n",
       "       [ 72742.68 ],\n",
       "       [210223.31 ],\n",
       "       [153078.64 ],\n",
       "       [289921.4  ],\n",
       "       [203178.8  ],\n",
       "       [120431.766],\n",
       "       [303184.16 ],\n",
       "       [207799.02 ],\n",
       "       [140102.2  ],\n",
       "       [233999.67 ],\n",
       "       [139344.2  ],\n",
       "       [143349.84 ],\n",
       "       [130294.49 ],\n",
       "       [208036.98 ],\n",
       "       [159889.05 ],\n",
       "       [145844.84 ],\n",
       "       [178787.08 ],\n",
       "       [224249.53 ],\n",
       "       [264405.03 ],\n",
       "       [196716.22 ],\n",
       "       [148054.4  ],\n",
       "       [164314.22 ],\n",
       "       [140664.83 ],\n",
       "       [231628.97 ],\n",
       "       [192415.67 ],\n",
       "       [102974.445],\n",
       "       [239516.33 ],\n",
       "       [146301.62 ],\n",
       "       [ 86866.48 ],\n",
       "       [122536.086],\n",
       "       [167479.2  ],\n",
       "       [ 91259.23 ],\n",
       "       [187307.03 ],\n",
       "       [115548.35 ],\n",
       "       [133906.72 ],\n",
       "       [226411.98 ],\n",
       "       [176059.81 ],\n",
       "       [208274.11 ],\n",
       "       [165116.33 ],\n",
       "       [226547.27 ],\n",
       "       [125756.445],\n",
       "       [123103.086],\n",
       "       [296668.38 ],\n",
       "       [322239.22 ],\n",
       "       [607113.4  ],\n",
       "       [195115.42 ],\n",
       "       [132881.81 ],\n",
       "       [158121.61 ],\n",
       "       [184216.95 ],\n",
       "       [129862.1  ],\n",
       "       [ 98097.27 ],\n",
       "       [170209.11 ],\n",
       "       [177806.3  ],\n",
       "       [147377.48 ],\n",
       "       [101029.51 ],\n",
       "       [155859.27 ],\n",
       "       [151144.05 ],\n",
       "       [104064.836],\n",
       "       [129274.06 ],\n",
       "       [186290.34 ],\n",
       "       [248824.98 ],\n",
       "       [327158.4  ],\n",
       "       [182803.86 ],\n",
       "       [134698.8  ],\n",
       "       [215133.17 ],\n",
       "       [341051.4  ],\n",
       "       [222458.64 ],\n",
       "       [172781.   ],\n",
       "       [153151.86 ],\n",
       "       [122114.15 ],\n",
       "       [191557.45 ],\n",
       "       [275972.1  ],\n",
       "       [237875.53 ],\n",
       "       [ 87919.125],\n",
       "       [149473.92 ],\n",
       "       [136692.14 ],\n",
       "       [319663.72 ],\n",
       "       [280874.03 ],\n",
       "       [135755.55 ],\n",
       "       [ 90106.18 ],\n",
       "       [200706.27 ],\n",
       "       [116777.61 ],\n",
       "       [334841.56 ],\n",
       "       [163807.48 ],\n",
       "       [213274.66 ],\n",
       "       [125576.336],\n",
       "       [273362.2  ],\n",
       "       [180095.77 ],\n",
       "       [120464.34 ],\n",
       "       [129745.945]], dtype=float32)"
      ]
     },
     "execution_count": 50,
     "metadata": {},
     "output_type": "execute_result"
    }
   ],
   "source": [
    "print(\"\\nTRAIN\\n\")\n",
    "evaluate_model(model_nn, merged_train_df, train_target)\n",
    "print(\"\\TEST\\n\")\n",
    "evaluate_model(model_nn, merged_val_df, val_target)"
   ]
  }
 ],
 "metadata": {
  "kernelspec": {
   "display_name": "data_science",
   "language": "python",
   "name": "python3"
  },
  "language_info": {
   "codemirror_mode": {
    "name": "ipython",
    "version": 3
   },
   "file_extension": ".py",
   "mimetype": "text/x-python",
   "name": "python",
   "nbconvert_exporter": "python",
   "pygments_lexer": "ipython3",
   "version": "3.11.2"
  }
 },
 "nbformat": 4,
 "nbformat_minor": 2
}
